{
 "cells": [
  {
   "cell_type": "markdown",
   "metadata": {},
   "source": [
    "<br>\n",
    "<br>\n",
    "## Beleg\n",
    "# Mathematik III\n",
    "\n",
    "Name: **Serhii Hamotskyi**<br>\n",
    "Matrikelnummer: **21995**<br>\n",
    "Studiengang: **BAIN5**<br> \n",
    "E-Mail: **shamotskyi@gmail.com**<br>\n",
    "\n",
    "Datum: **07/02/2018**\n",
    "<br>\n",
    "<br>\n",
    "<br>\n",
    "<br>"
   ]
  },
  {
   "cell_type": "markdown",
   "metadata": {},
   "source": [
    "# 1. Lineare Gleichungssysteme\n",
    "\n",
    "Sympy: http://docs.sympy.org/latest/modules/solvers/solveset.html#sympy.solvers.solveset.linsolve "
   ]
  },
  {
   "cell_type": "markdown",
   "metadata": {},
   "source": [
    "Die Definition von eines Lineare Gleichungsyssteme ist:\n",
    "$$ A\\vec{x}=\\vec{b} $$\n",
    "$A$ ist der Koeffizientenmatrix, $\\vec{x}$ ist der Vektor der Unbekannte $x_1 ... x_n$, und $\\vec{b}$ ist der Lösungsvektor.\n",
    "$\\vec{x}$ ist gesucht."
   ]
  },
  {
   "cell_type": "code",
   "execution_count": 79,
   "metadata": {
    "collapsed": true
   },
   "outputs": [],
   "source": [
    "from sympy import *\n",
    "init_printing()\n",
    "r,x,y,z=symbols(\"r x y z\")"
   ]
  },
  {
   "cell_type": "markdown",
   "metadata": {},
   "source": [
    "### 1.1 Lineare Glechungssysteme mit Parameter"
   ]
  },
  {
   "cell_type": "code",
   "execution_count": 80,
   "metadata": {
    "collapsed": true
   },
   "outputs": [],
   "source": [
    "A = Matrix([[5, -1, -3], [3, -2, 2], [2, 1, -4]]);\n",
    "b = Matrix([10, 15, -3]);"
   ]
  },
  {
   "cell_type": "code",
   "execution_count": 81,
   "metadata": {},
   "outputs": [
    {
     "data": {
      "image/png": "[encoded data removed]",
      "text/latex": [
       "$$\\left[\\begin{matrix}5 & -1 & -3\\\\3 & -2 & 2\\\\2 & 1 & -4\\end{matrix}\\right]$$"
      ],
      "text/plain": [
       "⎡5  -1  -3⎤\n",
       "⎢         ⎥\n",
       "⎢3  -2  2 ⎥\n",
       "⎢         ⎥\n",
       "⎣2  1   -4⎦"
      ]
     },
     "execution_count": 81,
     "metadata": {},
     "output_type": "execute_result"
    }
   ],
   "source": [
    "A"
   ]
  },
  {
   "cell_type": "code",
   "execution_count": 82,
   "metadata": {},
   "outputs": [
    {
     "data": {
      "image/png": "[encoded data removed]",
      "text/latex": [
       "$$\\left[\\begin{matrix}10\\\\15\\\\-3\\end{matrix}\\right]$$"
      ],
      "text/plain": [
       "⎡10⎤\n",
       "⎢  ⎥\n",
       "⎢15⎥\n",
       "⎢  ⎥\n",
       "⎣-3⎦"
      ]
     },
     "execution_count": 82,
     "metadata": {},
     "output_type": "execute_result"
    }
   ],
   "source": [
    "b"
   ]
  },
  {
   "cell_type": "code",
   "execution_count": 83,
   "metadata": {},
   "outputs": [
    {
     "data": {
      "image/png": "[encoded data removed]",
      "text/latex": [
       "$$\\left\\{\\left ( 3, \\quad -1, \\quad 2\\right )\\right\\}$$"
      ],
      "text/plain": [
       "{(3, -1, 2)}"
      ]
     },
     "execution_count": 83,
     "metadata": {},
     "output_type": "execute_result"
    }
   ],
   "source": [
    "r = linsolve((A,b))\n",
    "r"
   ]
  },
  {
   "cell_type": "markdown",
   "metadata": {},
   "source": [
    "Überprüfen wir den Gleichung:"
   ]
  },
  {
   "cell_type": "code",
   "execution_count": 84,
   "metadata": {},
   "outputs": [
    {
     "data": {
      "image/png": "[encoded data removed]",
      "text/latex": [
       "$$\\left[\\begin{matrix}10\\\\15\\\\-3\\end{matrix}\\right]$$"
      ],
      "text/plain": [
       "⎡10⎤\n",
       "⎢  ⎥\n",
       "⎢15⎥\n",
       "⎢  ⎥\n",
       "⎣-3⎦"
      ]
     },
     "execution_count": 84,
     "metadata": {},
     "output_type": "execute_result"
    }
   ],
   "source": [
    "rr=Matrix(list(r)[0])\n",
    "A*rr"
   ]
  },
  {
   "cell_type": "code",
   "execution_count": 85,
   "metadata": {},
   "outputs": [
    {
     "data": {
      "text/plain": [
       "True"
      ]
     },
     "execution_count": 85,
     "metadata": {},
     "output_type": "execute_result"
    }
   ],
   "source": [
    "A*rr==b"
   ]
  },
  {
   "cell_type": "markdown",
   "metadata": {},
   "source": [
    "### 1.2 Stromstärken berechnung"
   ]
  },
  {
   "cell_type": "markdown",
   "metadata": {},
   "source": [
    "Kirchhoffische Regeln:\n",
    "\n",
    "#### I. Knotenregel\n",
    "> In einem Knotenpunkt eines elektrischen Netzwerkes ist die Summe der zufließenden Ströme gleich der Summe der abfließenden Ströme. \n",
    "$$\\sum^n_{k=1}I_k=0$$\n",
    "\n",
    "#### II. Der Maschenregel\n",
    "> Maschenregel: In jedem geschlossenem Stromkreis ist die Summe der Quellenspannungen gleich der Summe aller Spannungsabfälle oder die Summe aller Spannungen ist Null.\n",
    "$$\\sum^n_{k=1}U_k=0$$"
   ]
  },
  {
   "cell_type": "markdown",
   "metadata": {},
   "source": [
    "<img src=\"ss.png\" width=\"400\" alt=\"Quellв\">\n",
    "<small>(Quelle: http://electroandi.ru)</small>\n",
    "\n",
    "**Gegeben**:\n",
    "$$\n",
    "R_1=130\\Omega; \n",
    "R_2=100\\Omega;\n",
    "R_3=150\\Omega;\n",
    "R_4=200\\Omega;\n",
    "R_5=80\\Omega; \\\\\n",
    "E_1=30V;\n",
    "E_2=60V;\n",
    "E_3=80V;\\\\\n",
    "E_4=100V;\n",
    "$$\n",
    "**Gesucht**:\n",
    "$$\n",
    "I_1,I_2,I_3,I_4,I_5;\n",
    "$$\n",
    "\n"
   ]
  },
  {
   "cell_type": "markdown",
   "metadata": {},
   "source": [
    "#### 1. Knoten\n",
    "Drei Knoten insgesamt, deshalb $n-1=2$ Gleichungen; Abfließende Ströme als negativ, zufließende als positiv.\n",
    "\n",
    "$ I_3-I_1-I_4=0;$\n",
    "\n",
    "$ I_5+I_1-I_2=0;$\n",
    "\n",
    "#### 2. Maschen\n",
    "\n",
    "I. $ R_1I_1+R_3I_3-R_5I_5=E_1+E_2;$\n",
    "\n",
    "II. $ R_2I_2+R_5I_5=E_2$\n",
    "\n",
    "III. $ R_3I_3+R_4I_4=E_3+E_4;$"
   ]
  },
  {
   "cell_type": "code",
   "execution_count": 86,
   "metadata": {
    "collapsed": true
   },
   "outputs": [],
   "source": [
    "i1, i2, i3, i4, i5=symbols(\"i1, i2, i3, i4, i5\");\n",
    "\n",
    "r1=130; r2=100; r3 = 150; r4 = 200; r5 = 80;\n",
    "e1=30; e2=60; e3=80;  e4=100;\n",
    "\n",
    "#i5=0.206"
   ]
  },
  {
   "cell_type": "code",
   "execution_count": 87,
   "metadata": {
    "collapsed": true
   },
   "outputs": [],
   "source": [
    "A = Matrix([[-1,0,1,-1,0], \n",
    "            [1,-1,0,0,1],\n",
    "            [r1,0,r3,0,-r5],\n",
    "            [0,r2,0,0,r5],\n",
    "            [0,0,r3,r4,0]\n",
    "           ]);\n",
    "b = Matrix([0,0,e1+e3,e2,e3+e4]);"
   ]
  },
  {
   "cell_type": "code",
   "execution_count": 88,
   "metadata": {},
   "outputs": [
    {
     "data": {
      "image/png": "[encoded data removed]",
      "text/latex": [
       "$$\\left[\\begin{matrix}-1 & 0 & 1 & -1 & 0\\\\1 & -1 & 0 & 0 & 1\\\\130 & 0 & 150 & 0 & -80\\\\0 & 100 & 0 & 0 & 80\\\\0 & 0 & 150 & 200 & 0\\end{matrix}\\right]$$"
      ],
      "text/plain": [
       "⎡-1    0    1   -1    0 ⎤\n",
       "⎢                       ⎥\n",
       "⎢ 1   -1    0    0    1 ⎥\n",
       "⎢                       ⎥\n",
       "⎢130   0   150   0   -80⎥\n",
       "⎢                       ⎥\n",
       "⎢ 0   100   0    0   80 ⎥\n",
       "⎢                       ⎥\n",
       "⎣ 0    0   150  200   0 ⎦"
      ]
     },
     "execution_count": 88,
     "metadata": {},
     "output_type": "execute_result"
    }
   ],
   "source": [
    "A"
   ]
  },
  {
   "cell_type": "code",
   "execution_count": 89,
   "metadata": {},
   "outputs": [
    {
     "data": {
      "image/png": "[encoded data removed]",
      "text/latex": [
       "$$\\left[\\begin{matrix}0\\\\0\\\\110\\\\60\\\\180\\end{matrix}\\right]$$"
      ],
      "text/plain": [
       "⎡ 0 ⎤\n",
       "⎢   ⎥\n",
       "⎢ 0 ⎥\n",
       "⎢   ⎥\n",
       "⎢110⎥\n",
       "⎢   ⎥\n",
       "⎢60 ⎥\n",
       "⎢   ⎥\n",
       "⎣180⎦"
      ]
     },
     "execution_count": 89,
     "metadata": {},
     "output_type": "execute_result"
    }
   ],
   "source": [
    "b"
   ]
  },
  {
   "cell_type": "code",
   "execution_count": 90,
   "metadata": {},
   "outputs": [
    {
     "data": {
      "image/png": "[encoded data removed]",
      "text/latex": [
       "$$\\left\\{\\left ( \\frac{375}{1639}, \\quad \\frac{713}{1639}, \\quad \\frac{5286}{8195}, \\quad \\frac{3411}{8195}, \\quad \\frac{338}{1639}\\right )\\right\\}$$"
      ],
      "text/plain": [
       "⎧⎛375   713   5286  3411  338 ⎞⎫\n",
       "⎨⎜────, ────, ────, ────, ────⎟⎬\n",
       "⎩⎝1639  1639  8195  8195  1639⎠⎭"
      ]
     },
     "execution_count": 90,
     "metadata": {},
     "output_type": "execute_result"
    }
   ],
   "source": [
    "res=linsolve((A,b),i1,i2,i3,i4,e4)\n",
    "res\n"
   ]
  },
  {
   "cell_type": "markdown",
   "metadata": {},
   "source": [
    "Überprüfung:"
   ]
  },
  {
   "cell_type": "code",
   "execution_count": 91,
   "metadata": {},
   "outputs": [
    {
     "data": {
      "text/plain": [
       "True"
      ]
     },
     "execution_count": 91,
     "metadata": {},
     "output_type": "execute_result"
    }
   ],
   "source": [
    "A*Matrix(list(res)[0])==b"
   ]
  },
  {
   "cell_type": "markdown",
   "metadata": {},
   "source": [
    "## 2. Nichtlineare Gleichungssysteme mit Anwendungen\n",
    "\n",
    "### 2.1 Beispiel von der anwendung von <code>nonlinsolve()</code>"
   ]
  },
  {
   "cell_type": "code",
   "execution_count": 92,
   "metadata": {
    "collapsed": true
   },
   "outputs": [],
   "source": [
    "from sympy import *\n",
    "init_printing()\n",
    "x,y=symbols(\"x y\")"
   ]
  },
  {
   "cell_type": "code",
   "execution_count": 93,
   "metadata": {},
   "outputs": [
    {
     "data": {
      "image/png": "[encoded data removed]",
      "text/latex": [
       "$$\\left [ x y - 1, \\quad 4 x^{2} + y^{2} - 5\\right ]$$"
      ],
      "text/plain": [
       "⎡            2    2    ⎤\n",
       "⎣x⋅y - 1, 4⋅x  + y  - 5⎦"
      ]
     },
     "execution_count": 93,
     "metadata": {},
     "output_type": "execute_result"
    }
   ],
   "source": [
    "system=[x*y-1,4*x**2+y**2-5];\n",
    "ssymbols=[x,y]\n",
    "\n",
    "system"
   ]
  },
  {
   "cell_type": "code",
   "execution_count": 94,
   "metadata": {},
   "outputs": [
    {
     "data": {
      "image/png": "[encoded data removed]",
      "text/latex": [
       "$$\\left\\{\\left ( -1, \\quad -1\\right ), \\left ( - \\frac{1}{2}, \\quad -2\\right ), \\left ( \\frac{1}{2}, \\quad 2\\right ), \\left ( 1, \\quad 1\\right )\\right\\}$$"
      ],
      "text/plain": [
       "{(-1, -1), (-1/2, -2), (1/2, 2), (1, 1)}"
      ]
     },
     "execution_count": 94,
     "metadata": {},
     "output_type": "execute_result"
    }
   ],
   "source": [
    "r=nonlinsolve(system,ssymbols)\n",
    "r"
   ]
  },
  {
   "cell_type": "markdown",
   "metadata": {},
   "source": [
    "Überprüfung:"
   ]
  },
  {
   "cell_type": "code",
   "execution_count": 95,
   "metadata": {},
   "outputs": [
    {
     "data": {
      "text/plain": [
       "True"
      ]
     },
     "execution_count": 95,
     "metadata": {},
     "output_type": "execute_result"
    }
   ],
   "source": [
    "(system[1].subs(x,list(r)[0][0]).subs(y,list(r)[0][1])==0)&(system[0].subs(x,list(r)[0][0]).subs(y,list(r)[0][1])==0)"
   ]
  },
  {
   "cell_type": "markdown",
   "metadata": {
    "collapsed": true
   },
   "source": [
    "### 2.2 Rohrleitungssysteme"
   ]
  },
  {
   "cell_type": "markdown",
   "metadata": {},
   "source": [
    "<img src=\"2.png\">\n",
    "\n",
    "**Gegeben:**\n",
    "$$ \n",
    "l_1=250m;\n",
    "l_2=150m;\n",
    "l_3=200m;\\\\\n",
    "d=0.08m;\\lambda=0.022;\n",
    "$$\n",
    "**Gesucht:**\n",
    "$$Q_1,Q_2,Q_3$$"
   ]
  },
  {
   "cell_type": "code",
   "execution_count": 96,
   "metadata": {
    "collapsed": true
   },
   "outputs": [],
   "source": [
    "l1=250;l2=150;l3=200;\n",
    "dm=0.08;l=0.022;"
   ]
  },
  {
   "cell_type": "markdown",
   "metadata": {},
   "source": [
    "#### 2.2.1 Knotengleichungen\n",
    "Ohne Konversion zum Sekunden:\n",
    "\n",
    "$$\\sum_{\\textrm{i: hinein}}Q_i= \\sum_{\\textrm{i: aus}}Q_i \\implies$$\n",
    "\n",
    "I.$Q_1+Q_3=140 $\n",
    "\n",
    "II.$Q_1=40+Q_2 $\n",
    "\n",
    "III.$Q_2+Q_3=100 $\n",
    "\n",
    "#### 2.2.2 Machengleichung mit fixiertes Lambda:\n",
    "$\\lambda=0.022;$\n",
    "\n",
    "$a_1=\\lambda\\frac{l_1}{d^5}$\n",
    "$a_2=\\lambda\\frac{l_2}{d^5}$\n",
    "$a_3=\\lambda\\frac{l_3}{d^5}$\n",
    "\n",
    "$$\\sum \\Delta p_i=0\\implies \\sum \\pm a_iQ_i|Q_i|=0 \\implies\\\\\n",
    "a_1Q_1|Q_1|+a_2Q_2|Q_2|-a_3Q_3|Q_3|=0\n",
    "$$\n",
    "\n"
   ]
  },
  {
   "cell_type": "code",
   "execution_count": 97,
   "metadata": {
    "collapsed": true
   },
   "outputs": [],
   "source": [
    "a1=l*l1/dm**5;\n",
    "a2=l*l2/dm**5;\n",
    "a3=l*l3/dm**5;"
   ]
  },
  {
   "cell_type": "code",
   "execution_count": 98,
   "metadata": {
    "collapsed": true
   },
   "outputs": [],
   "source": [
    "q1,q2,q3,la1,la2,la3=symbols(\"q1 q2 q3 la1 la2 la3\",real=True)\n",
    "ssymbols=[q1,q2,q3]"
   ]
  },
  {
   "cell_type": "code",
   "execution_count": 99,
   "metadata": {
    "collapsed": true
   },
   "outputs": [],
   "source": [
    "ss=[q1+q3-140/3600,\n",
    "   q3+q2-100/3600,\n",
    "   a1*(q1)*Abs(q1)+a2*q2*Abs(q2)-a3*q3*Abs(q3)]"
   ]
  },
  {
   "cell_type": "code",
   "execution_count": 100,
   "metadata": {},
   "outputs": [
    {
     "data": {
      "image/png": "[encoded data removed]",
      "text/latex": [
       "$$\\left[\\begin{matrix}0.0179562477682583\\\\0.00684513665714717\\\\0.0209326411206306\\end{matrix}\\right]$$"
      ],
      "text/plain": [
       "⎡0.0179562477682583 ⎤\n",
       "⎢                   ⎥\n",
       "⎢0.00684513665714717⎥\n",
       "⎢                   ⎥\n",
       "⎣0.0209326411206306 ⎦"
      ]
     },
     "execution_count": 100,
     "metadata": {},
     "output_type": "execute_result"
    }
   ],
   "source": [
    "res=nsolve(ss,ssymbols,[1,1,1])\n",
    "res"
   ]
  },
  {
   "cell_type": "markdown",
   "metadata": {},
   "source": [
    "Überprüfen wir diese Werte:"
   ]
  },
  {
   "cell_type": "code",
   "execution_count": 101,
   "metadata": {},
   "outputs": [
    {
     "data": {
      "image/png": "[encoded data removed]",
      "text/latex": [
       "$$\\left [ 0, \\quad 0, \\quad -1.13686837721616 \\cdot 10^{-13}\\right ]$$"
      ],
      "text/plain": [
       "[0, 0, -1.13686837721616e-13]"
      ]
     },
     "execution_count": 101,
     "metadata": {},
     "output_type": "execute_result"
    }
   ],
   "source": [
    "check=[];\n",
    "for eq in ss:\n",
    "    eq=eq.subs(q1,res[0])\n",
    "    eq=eq.subs(q2,res[1])\n",
    "    eq=eq.subs(q3,res[2])\n",
    "    check.append(eq)\n",
    "check"
   ]
  },
  {
   "cell_type": "markdown",
   "metadata": {},
   "source": [
    "#### 2.2.3 Maschengleichungen mit impliziertes Lambda"
   ]
  },
  {
   "cell_type": "code",
   "execution_count": 102,
   "metadata": {
    "collapsed": true
   },
   "outputs": [],
   "source": [
    "from sympy import *\n",
    "q1,q2,q3,la1,la2,la3=symbols(\"q1 q2 q3 la1 la2 la3\",real=True)\n",
    "\n",
    "l1=250;l2=150;l3=200;\n",
    "dm=0.08;\n",
    "v=10**(-6);\n",
    "k=0.00005;\n",
    "\n",
    "a1=la1*l1/dm**5;\n",
    "a2=la2*l2/dm**5;\n",
    "a3=la3*l3/dm**5;\n",
    "\n",
    "k1=q1+q3-140/3600;\n",
    "k2=q3+q2-100/3600;\n",
    "m=a1*(q1)*Abs(q1)+a2*q2*Abs(q2)-a3*q3*Abs(q3);\n",
    "\n",
    "Re1=(4*Abs(q1))/(pi*dm*v);\n",
    "\n",
    "ins1=(\n",
    "    (2.51/\n",
    "     (Re1*sqrt(la1))\n",
    "    ) +\n",
    "    k/(3.71*dm)\n",
    ")\n",
    "    \n",
    "zg1 = (1/sqrt(la1))+2*log(ins1,10);\n",
    "\n",
    "zg2=zg1.subs(la1,la2);\n",
    "zg2=zg2.subs(q1,q2);\n",
    "\n",
    "zg3=zg1.subs(la1,la3);\n",
    "zg3=zg3.subs(q1,q3);"
   ]
  },
  {
   "cell_type": "code",
   "execution_count": 103,
   "metadata": {
    "collapsed": true
   },
   "outputs": [],
   "source": [
    "symbols=[q1,q2,q3,la1,la2,la3]\n",
    "eqs=[k1,k2,m,zg1,zg2,zg3]\n",
    "values=[0.01,0.001,0.01,0.022,0.022,0.022] # die wir haben oben geschätzt"
   ]
  },
  {
   "cell_type": "code",
   "execution_count": 104,
   "metadata": {},
   "outputs": [
    {
     "data": {
      "image/png": "[encoded data removed]",
      "text/latex": [
       "$$\\left[\\begin{matrix}0.0178804487556545\\\\0.00676933764454342\\\\0.0210084401332344\\\\0.0189364069611807\\\\0.0206358202870051\\\\0.0187534480558924\\end{matrix}\\right]$$"
      ],
      "text/plain": [
       "⎡0.0178804487556545 ⎤\n",
       "⎢                   ⎥\n",
       "⎢0.00676933764454342⎥\n",
       "⎢                   ⎥\n",
       "⎢0.0210084401332344 ⎥\n",
       "⎢                   ⎥\n",
       "⎢0.0189364069611807 ⎥\n",
       "⎢                   ⎥\n",
       "⎢0.0206358202870051 ⎥\n",
       "⎢                   ⎥\n",
       "⎣0.0187534480558924 ⎦"
      ]
     },
     "execution_count": 104,
     "metadata": {},
     "output_type": "execute_result"
    }
   ],
   "source": [
    "rn=nsolve(eqs,symbols,values)\n",
    "rn"
   ]
  },
  {
   "cell_type": "markdown",
   "metadata": {},
   "source": [
    "Überprüfung:"
   ]
  },
  {
   "cell_type": "code",
   "execution_count": 105,
   "metadata": {},
   "outputs": [
    {
     "data": {
      "image/png": "[encoded data removed]",
      "text/latex": [
       "$$\\left [ 0, \\quad 0, \\quad 1.70530256582424 \\cdot 10^{-13}, \\quad -4.12364821232593 \\cdot 10^{-16}, \\quad -1.79262091246633 \\cdot 10^{-16}, \\quad 2.89383561782627 \\cdot 10^{-16}\\right ]$$"
      ],
      "text/plain": [
       "[0, 0, 1.70530256582424e-13, -4.12364821232593e-16, -1.79262091246633e-16, 2.8\n",
       "9383561782627e-16]"
      ]
     },
     "execution_count": 105,
     "metadata": {},
     "output_type": "execute_result"
    }
   ],
   "source": [
    "ch=[]\n",
    "for eq in eqs:\n",
    "    eq=eq.subs(q1,rn[0])\n",
    "    eq=eq.subs(q2,rn[1])\n",
    "    eq=eq.subs(q3,rn[2])\n",
    "    eq=eq.subs(la1,rn[3])\n",
    "    eq=eq.subs(la2,rn[4])\n",
    "    eq=eq.subs(la3,rn[5])\n",
    "    eq=eq.evalf()\n",
    "    \n",
    "    ch.append(eq)\n",
    "ch\n"
   ]
  },
  {
   "cell_type": "markdown",
   "metadata": {},
   "source": [
    "## 3. Newton-Interpolation und Spline-Interpolation"
   ]
  },
  {
   "cell_type": "markdown",
   "metadata": {},
   "source": [
    "**Interpolation** ist der Verfahren, das zu diskreten Daten eine Funktion findet, die diese Daten abbildet. Wird genützt, z.B., wenn nur einige Punkten eines Funktion bekannt sind, oder um ein Funktion zu finden, der irgendwelche physicalische Prozesse (die nur durch Messpunkten bekannt sind) darstellt.\n",
    "\n",
    "**Polynomial interpolation** ist ein Verfahren, wobei die Punkten werden mit einem Polynom interpoliert.\n",
    "\n",
    "**Spline interpolation** ist das gleiche, aber mit Hilfe von Splines (Polynome zwischen Knoten, die miteinander harmonisch verbunden sind)"
   ]
  },
  {
   "cell_type": "markdown",
   "metadata": {},
   "source": [
    "### Polynomial interpolation"
   ]
  },
  {
   "cell_type": "code",
   "execution_count": 106,
   "metadata": {
    "collapsed": true
   },
   "outputs": [],
   "source": [
    "from sympy import *\n",
    "init_printing()\n",
    "x,y=symbols(\"x y\")"
   ]
  },
  {
   "cell_type": "code",
   "execution_count": 107,
   "metadata": {},
   "outputs": [
    {
     "data": {
      "image/png": "[encoded data removed]",
      "text/latex": [
       "$$\\left [ \\left ( 1, \\quad 2\\right ), \\quad \\left ( 22, \\quad 9\\right ), \\quad \\left ( 23, \\quad 98\\right )\\right ]$$"
      ],
      "text/plain": [
       "[(1, 2), (22, 9), (23, 98)]"
      ]
     },
     "execution_count": 107,
     "metadata": {},
     "output_type": "execute_result"
    }
   ],
   "source": [
    "points=[(1,2),(22,9),(23,98)];\n",
    "points"
   ]
  },
  {
   "cell_type": "code",
   "execution_count": 108,
   "metadata": {},
   "outputs": [
    {
     "data": {
      "image/png": "[encoded data removed]",
      "text/latex": [
       "$$\\frac{133 x^{2}}{33} - \\frac{1016 x}{11} + \\frac{271}{3}$$"
      ],
      "text/plain": [
       "     2               \n",
       "133⋅x    1016⋅x   271\n",
       "────── - ────── + ───\n",
       "  33       11      3 "
      ]
     },
     "execution_count": 108,
     "metadata": {},
     "output_type": "execute_result"
    }
   ],
   "source": [
    "pol = interpolate(points,x)\n",
    "pol"
   ]
  },
  {
   "cell_type": "code",
   "execution_count": 109,
   "metadata": {},
   "outputs": [
    {
     "data": {
      "image/png": "[encoded data removed]",
      "text/plain": [
       "<matplotlib.figure.Figure at 0x7fae8c8b4748>"
      ]
     },
     "metadata": {},
     "output_type": "display_data"
    }
   ],
   "source": [
    "import matplotlib.pyplot as p\n",
    "import numpy as n\n",
    "\n",
    "t1=n.arange(0.0,30.0,0.1)\n",
    "t2=[]\n",
    "for i in t1:\n",
    "    t2.append(pol.subs(x,i))\n",
    "\n",
    "p.plot(t1,t2)\n",
    "p.plot(*zip(*points),'ro')\n",
    "p.show()"
   ]
  },
  {
   "cell_type": "markdown",
   "metadata": {},
   "source": [
    "### Spline interpolation"
   ]
  },
  {
   "cell_type": "code",
   "execution_count": 110,
   "metadata": {
    "collapsed": true
   },
   "outputs": [],
   "source": [
    "DataPointsDomain = [0,1,2,3,4,5]\n",
    "DataPointsRange =  [3,6,5,7,9,1]\n",
    "x = symbols('x')\n",
    "s = interpolating_spline(3, x, DataPointsDomain, DataPointsRange)"
   ]
  },
  {
   "cell_type": "code",
   "execution_count": 111,
   "metadata": {},
   "outputs": [
    {
     "data": {
      "image/png": "[encoded data removed]",
      "text/latex": [
       "$$\\begin{cases} \\frac{23 x^{3}}{15} - \\frac{33 x^{2}}{5} + \\frac{121 x}{15} + 3 & \\text{for}\\: x \\geq 0 \\wedge x \\leq 2 \\\\- \\frac{2 x^{3}}{3} + \\frac{33 x^{2}}{5} - \\frac{55 x}{3} + \\frac{103}{5} & \\text{for}\\: x \\geq 2 \\wedge x \\leq 3 \\\\- \\frac{28 x^{3}}{15} + \\frac{87 x^{2}}{5} - \\frac{761 x}{15} + 53 & \\text{for}\\: x \\geq 3 \\wedge x \\leq 5 \\end{cases}$$"
      ],
      "text/plain": [
       "⎧     3       2                                 \n",
       "⎪ 23⋅x    33⋅x    121⋅x                         \n",
       "⎪ ───── - ───── + ───── + 3    for x ≥ 0 ∧ x ≤ 2\n",
       "⎪   15      5       15                          \n",
       "⎪                                               \n",
       "⎪     3       2                                 \n",
       "⎪  2⋅x    33⋅x    55⋅x   103                    \n",
       "⎨- ──── + ───── - ──── + ───   for x ≥ 2 ∧ x ≤ 3\n",
       "⎪   3       5      3      5                     \n",
       "⎪                                               \n",
       "⎪      3       2                                \n",
       "⎪  28⋅x    87⋅x    761⋅x                        \n",
       "⎪- ───── + ───── - ───── + 53  for x ≥ 3 ∧ x ≤ 5\n",
       "⎪    15      5       15                         \n",
       "⎩                                               "
      ]
     },
     "execution_count": 111,
     "metadata": {},
     "output_type": "execute_result"
    }
   ],
   "source": [
    "s"
   ]
  },
  {
   "cell_type": "code",
   "execution_count": 112,
   "metadata": {},
   "outputs": [
    {
     "data": {
      "image/png": "[encoded data removed]",
      "text/latex": [
       "$$2.56919999999997$$"
      ],
      "text/plain": [
       "2.56919999999997"
      ]
     },
     "execution_count": 112,
     "metadata": {},
     "output_type": "execute_result"
    }
   ],
   "source": [
    "laIp=lambdify(x,s);\n",
    "xx = n.arange(0., 5, 0.05)\n",
    "y = []\n",
    "for i in range(len(xx)):\n",
    "   y.append(laIp(xx[i]));\n",
    "s.subs(x,4.9)"
   ]
  },
  {
   "cell_type": "code",
   "execution_count": 113,
   "metadata": {},
   "outputs": [
    {
     "data": {
      "image/png": "[encoded data removed]",
      "text/plain": [
       "<matplotlib.figure.Figure at 0x7fae8c5677b8>"
      ]
     },
     "metadata": {},
     "output_type": "display_data"
    }
   ],
   "source": [
    "p.plot(DataPointsDomain,DataPointsRange, 'ro');\n",
    "p.plot(xx,y,c='grey', marker='.', ms=1)\n",
    "p.show()"
   ]
  },
  {
   "cell_type": "markdown",
   "metadata": {},
   "source": [
    "### 4. Standortproblem\n"
   ]
  },
  {
   "cell_type": "code",
   "execution_count": 114,
   "metadata": {
    "collapsed": true
   },
   "outputs": [],
   "source": [
    "import numpy as n\n",
    "from random import random\n",
    "from random import randint\n",
    "import math\n",
    "from math import sqrt\n",
    "from matplotlib import pyplot as p\n",
    "from matplotlib import colors,style\n"
   ]
  },
  {
   "cell_type": "markdown",
   "metadata": {},
   "source": [
    "### 4.1 Unfallorte\n",
    "Generieren die Unfallorte, jeder mit zufällige:\n",
    "* $x,y$ Koordinaten\n",
    "* $w$ - Unfallwahrscheinlichkeit\n",
    "* Hubschrauberstandort -- jetzt, keine"
   ]
  },
  {
   "cell_type": "code",
   "execution_count": 115,
   "metadata": {
    "collapsed": true
   },
   "outputs": [],
   "source": [
    "nOfPoints=400;\n",
    "nOfAP=4;"
   ]
  },
  {
   "cell_type": "code",
   "execution_count": 116,
   "metadata": {},
   "outputs": [
    {
     "data": {
      "text/plain": [
       "<matplotlib.collections.PathCollection at 0x7fae67b884e0>"
      ]
     },
     "execution_count": 116,
     "metadata": {},
     "output_type": "execute_result"
    }
   ],
   "source": [
    "# X,Y und UnfallWahrscheinlichkeit,current_airport\n",
    "points=[]\n",
    "for i in range(nOfPoints):\n",
    "    points.append([randint(0,100),randint(0,100),randint(0,100),nOfAP+1])\n",
    "norm=colors.Normalize(vmin=0, vmax=nOfAP);\n",
    "p.gray()\n",
    "x,y,w,a=zip(*points);\n",
    "p.grid();\n",
    "p.scatter(x,y,w,norm(a),marker='o',linewidth='1',edgecolor='black')"
   ]
  },
  {
   "cell_type": "markdown",
   "metadata": {},
   "source": [
    "Hier, die Größe ist die Unfallwahrscheinlichkeit:"
   ]
  },
  {
   "cell_type": "code",
   "execution_count": 117,
   "metadata": {
    "scrolled": true
   },
   "outputs": [
    {
     "data": {
      "image/png": "[encoded data removed]",
      "text/plain": [
       "<matplotlib.figure.Figure at 0x7fae67b88c18>"
      ]
     },
     "metadata": {},
     "output_type": "display_data"
    }
   ],
   "source": [
    "# https://matplotlib.org/users/colormaps.html more about colorschemes and normalization\n",
    "p.show()"
   ]
  },
  {
   "cell_type": "markdown",
   "metadata": {
    "collapsed": true
   },
   "source": [
    "### 4.2 Hubschauberstandorte\n",
    "Zufällig zugeordnet"
   ]
  },
  {
   "cell_type": "code",
   "execution_count": 118,
   "metadata": {},
   "outputs": [
    {
     "data": {
      "text/plain": [
       "<matplotlib.collections.PathCollection at 0x7fae6621fe80>"
      ]
     },
     "execution_count": 118,
     "metadata": {},
     "output_type": "execute_result"
    }
   ],
   "source": [
    "aps=[]\n",
    "for i in range(nOfAP):\n",
    "    currPoint=randint(0,nOfPoints-1); \n",
    "    aps.append([points[currPoint][0],points[currPoint][1]]);\n",
    "x,y,w,a=zip(*points);\n",
    "xa,ya=zip(*aps);\n",
    "p.grid();\n",
    "p.scatter(x,y,w,norm(a),marker='o',linewidth='1',edgecolor='black')\n",
    "p.scatter(xa,ya,c='yellow',marker='*',s=200,linewidth='1',edgecolor='black',alpha=0.9)"
   ]
  },
  {
   "cell_type": "code",
   "execution_count": 119,
   "metadata": {},
   "outputs": [
    {
     "data": {
      "image/png": "[encoded data removed]",
      "text/plain": [
       "<matplotlib.figure.Figure at 0x7fae67b2acc0>"
      ]
     },
     "metadata": {},
     "output_type": "display_data"
    }
   ],
   "source": [
    "p.show()"
   ]
  },
  {
   "cell_type": "markdown",
   "metadata": {},
   "source": [
    "### 4.3 Funktionen, die werden gebraucht"
   ]
  },
  {
   "cell_type": "code",
   "execution_count": 120,
   "metadata": {
    "collapsed": true
   },
   "outputs": [],
   "source": [
    "# Distance between X and Y\n",
    "def dist(x,y):\n",
    "    res=sqrt(pow((x[1]-y[1]),2) + pow((x[0]-y[0]),2))\n",
    "    rr=float(res)\n",
    "    return rr;\n",
    "\n",
    "# Tell the points the closest airport to them:\n",
    "def PtoA(points,aps):\n",
    "    # For each point, look to which of the airports its the closes, and assign it to it\n",
    "    for i in range(len(points)):\n",
    "    #    print(i, \": Iterating point \", i, \" with coords \", points[i][0],points[i][1])\n",
    "        # max distance = 100\n",
    "        m=1000;\n",
    "        for j in range(len(aps)):\n",
    "    #        print(\"  \",j,\": Iterating airport\",j,\" with coords \", aps[j][0],aps[j][1])\n",
    "            d=dist(points[i],aps[j]);\n",
    "    #        print(\"  Distance between them is \",d)\n",
    "            if d<m:\n",
    "    #            print(\"      current m is:\",m);\n",
    "    #            print(\"      current d is:\",d);\n",
    "    #            print(\">>      d<m\");\n",
    "                m=d;\n",
    "                # We set the closest airport in the array\n",
    "                points[i][3]=j;\n",
    "    return(points);\n",
    "\n",
    "# Center of mass of points given by array of x,y,w\n",
    "def cm(x,y,w):\n",
    "    cmysum,cmxsum=0,0;\n",
    "    weightsum=sum(w)\n",
    "    \n",
    "    for i in range(len(x)):\n",
    "        cmxsum+=x[i]*w[i]\n",
    "        cmysum+=y[i]*w[i]\n",
    "    cmy=cmysum/weightsum;\n",
    "    cmx=cmxsum/weightsum;\n",
    "    return(cmx,cmy)\n",
    "\n",
    "#Which points belong to which airports to separate array\n",
    "def AtoP(points,aps):\n",
    "#apoints=[[]]*nOfAP;\n",
    "    apoints=[]\n",
    "    for i in range(len(aps)):\n",
    "        apoints.append([]);\n",
    "\n",
    "    for i in range(len(points)):\n",
    "        apoints[points[i][3]].append(points[i]);\n",
    "    return(apoints);\n",
    "\n",
    "def calculate_cmasses(apoints):\n",
    "    cmasses=[];\n",
    "    for a in apoints:\n",
    "        if a:\n",
    "            x,y,w,a=zip(*a);\n",
    "            cmx,cmy=cm(x,y,w);\n",
    "            cmasses.append([cmx,cmy]);\n",
    "    return cmasses"
   ]
  },
  {
   "cell_type": "markdown",
   "metadata": {},
   "source": [
    "### 4.4 Clusters\n",
    "Jedes Punkt wird einem Hubschrauberstandort zugeordnet und passend gefärbt:"
   ]
  },
  {
   "cell_type": "code",
   "execution_count": 121,
   "metadata": {},
   "outputs": [
    {
     "data": {
      "image/png": "[encoded data removed]",
      "text/plain": [
       "<matplotlib.figure.Figure at 0x7fae67d41b70>"
      ]
     },
     "metadata": {},
     "output_type": "display_data"
    }
   ],
   "source": [
    "points=PtoA(points,aps);\n",
    "\n",
    "x,y,w,a=zip(*points);\n",
    "xa,ya=zip(*aps);\n",
    "p.grid();\n",
    "p.scatter(x,y,w,norm(a),marker='o',linewidth='1',edgecolor='black',cmap='Blues')\n",
    "p.scatter(xa,ya,c='yellow',marker='*',s=200,linewidth='1',edgecolor='black',alpha=1)\n",
    "p.show()"
   ]
  },
  {
   "cell_type": "markdown",
   "metadata": {},
   "source": [
    "### 4.5 Zentroide\n",
    "Wir finden die Zentroide von jedes Cluster."
   ]
  },
  {
   "cell_type": "code",
   "execution_count": 122,
   "metadata": {},
   "outputs": [
    {
     "data": {
      "text/plain": [
       "<matplotlib.collections.PathCollection at 0x7fae66157a90>"
      ]
     },
     "execution_count": 122,
     "metadata": {},
     "output_type": "execute_result"
    }
   ],
   "source": [
    "apoints=AtoP(points,aps);\n",
    "cmasses=calculate_cmasses(apoints);\n",
    "\n",
    "# Plot all points and all airports\n",
    "cmx,cmy=zip(*cmasses);\n",
    "xa,ya=zip(*aps);\n",
    "x,y,w,a=zip(*points);\n",
    "norm=colors.Normalize(vmin=0., vmax=float(nOfAP*2));\n",
    "p.grid();\n",
    "p.scatter(x,y,w,norm(a),marker='o',linewidth='1',edgecolor='black',cmap='Blues')\n",
    "p.scatter(xa,ya,c='yellow',marker='*',s=200,linewidth='1',edgecolor='black',alpha=1)\n",
    "p.scatter(cmx,cmy,c='xkcd:hot pink',marker='H',s=100,linewidth='1',edgecolor='black')"
   ]
  },
  {
   "cell_type": "markdown",
   "metadata": {},
   "source": [
    "**Hubschrauberstandorte:** Gelbe Sternen\n",
    "**Zentroide:** Rosa Vielecken"
   ]
  },
  {
   "cell_type": "code",
   "execution_count": 123,
   "metadata": {},
   "outputs": [
    {
     "data": {
      "image/png": "[encoded data removed]",
      "text/plain": [
       "<matplotlib.figure.Figure at 0x7fae67b813c8>"
      ]
     },
     "metadata": {},
     "output_type": "display_data"
    }
   ],
   "source": [
    "p.show()"
   ]
  },
  {
   "cell_type": "markdown",
   "metadata": {},
   "source": [
    "### 4.6 Optimierung\n",
    "Jedes iteration, wir verlegen den Hubschauber in der Zentroide und schätzen die neue Zetroide, bis zum Iteration, wo es  keine Bewegung gibt."
   ]
  },
  {
   "cell_type": "code",
   "execution_count": 124,
   "metadata": {
    "collapsed": true
   },
   "outputs": [],
   "source": [
    "universe=[];\n",
    "eps=0;\n",
    "while eps==0:\n",
    "    # Add the beginning\n",
    "    universe.append([[x,y,w,a],[cmx,cmy],[xa,ya]]);\n",
    "    bew=0;\n",
    "    # Airport in Centroid for all centroids\n",
    "    for i in range(len(cmasses)):\n",
    "        if (aps[i][0]!=cmasses[i][0]):\n",
    "            #print(\">\",aps[i][0],cmasses[i][0]);\n",
    "            aps[i][0]=cmasses[i][0];\n",
    "            bew=1;\n",
    "        if (aps[i][1]!=cmasses[i][1]):\n",
    "            aps[i][1]=cmasses[i][1];\n",
    "            bew=1;\n",
    "    # If there was no movement, it's over\n",
    "    if bew==0:\n",
    "        eps=1;\n",
    "    # We update to which airport belong the points, based on the new position of the airports\n",
    "    points=PtoA(points,aps);\n",
    "    apoints=AtoP(points,aps);\n",
    "    cmasses=calculate_cmasses(apoints);\n",
    "    \n",
    "    cmx,cmy=zip(*cmasses);\n",
    "    x,y,w,a=zip(*points);\n",
    "    xa,ya=zip(*aps)"
   ]
  },
  {
   "cell_type": "markdown",
   "metadata": {},
   "source": [
    "### 4.7 Resultaten"
   ]
  },
  {
   "cell_type": "code",
   "execution_count": 125,
   "metadata": {},
   "outputs": [
    {
     "data": {
      "image/png": "[encoded data removed]",
      "text/plain": [
       "<matplotlib.figure.Figure at 0x7fae67bc24e0>"
      ]
     },
     "metadata": {},
     "output_type": "display_data"
    }
   ],
   "source": [
    "# Plot all points and all airports\n",
    "cmx,cmy=zip(*cmasses);\n",
    "x,y,w,a=zip(*points);\n",
    "xa,ya=zip(*aps);\n",
    "\n",
    "norm=colors.Normalize(vmin=0., vmax=float(nOfAP*2));\n",
    "\n",
    "p.grid();\n",
    "p.scatter(x,y,w,norm(a),marker='o',cmap='Blues',linewidth='1',edgecolor='black')\n",
    "p.scatter(cmx,cmy,c='xkcd:hot pink',marker='H',s=100,linewidth='1',edgecolor='black')\n",
    "p.scatter(xa,ya,c='yellow',marker='*',s=200,linewidth='1',edgecolor='black',alpha=0.7)\n",
    "p.show()\n",
    "#universe"
   ]
  },
  {
   "cell_type": "markdown",
   "metadata": {},
   "source": [
    "### 4.8 Visualisation der Schritte"
   ]
  },
  {
   "cell_type": "code",
   "execution_count": 126,
   "metadata": {},
   "outputs": [
    {
     "name": "stdout",
     "output_type": "stream",
     "text": [
      "Out of 15 , we're at 0"
     ]
    },
    {
     "data": {
      "image/png": "[encoded data removed]",
      "text/plain": [
       "<matplotlib.figure.Figure at 0x7fae66111cf8>"
      ]
     },
     "metadata": {},
     "output_type": "display_data"
    },
    {
     "name": "stdout",
     "output_type": "stream",
     "text": [
      "Out of 15 , we're at 0Out of 15 , we're at 0Out of 15 , we're at 1Out of 15 , we're at 2Out of 15 , we're at 3Out of 15 , we're at 4Out of 15 , we're at 5Out of 15 , we're at 6Out of 15 , we're at 7Out of 15 , we're at 8Out of 15 , we're at 9Out of 15 , we're at 10Out of 15 , we're at 11Out of 15 , we're at 12Out of 15 , we're at 13Out of 15 , we're at 14"
     ]
    },
    {
     "data": {
      "text/html": [
       "<video width=\"576\" height=\"576\" controls autoplay loop>\n",
       "  <source type=\"video/mp4\" src=\"data:video/mp4;base64,AAAAHGZ0eXBNNFYgAAACAGlzb21pc28yYXZjMQAAAAhmcmVlAAD7b21kYXQAAAKtBgX//6ncRem9\n",
       "5tlIt5Ys2CDZI+7veDI2NCAtIGNvcmUgMTUyIHIyODU0IGU5YTU5MDMgLSBILjI2NC9NUEVHLTQg\n",
       "QVZDIGNvZGVjIC0gQ29weWxlZnQgMjAwMy0yMDE3IC0gaHR0cDovL3d3dy52aWRlb2xhbi5vcmcv\n",
       "eDI2NC5odG1sIC0gb3B0aW9uczogY2FiYWM9MSByZWY9MyBkZWJsb2NrPTE6MDowIGFuYWx5c2U9\n",
       "MHgzOjB4MTEzIG1lPWhleCBzdWJtZT03IHBzeT0xIHBzeV9yZD0xLjAwOjAuMDAgbWl4ZWRfcmVm\n",
       "PTEgbWVfcmFuZ2U9MTYgY2hyb21hX21lPTEgdHJlbGxpcz0xIDh4OGRjdD0xIGNxbT0wIGRlYWR6\n",
       "b25lPTIxLDExIGZhc3RfcHNraXA9MSBjaHJvbWFfcXBfb2Zmc2V0PS0yIHRocmVhZHM9NiBsb29r\n",
       "YWhlYWRfdGhyZWFkcz0xIHNsaWNlZF90aHJlYWRzPTAgbnI9MCBkZWNpbWF0ZT0xIGludGVybGFj\n",
       "ZWQ9MCBibHVyYXlfY29tcGF0PTAgY29uc3RyYWluZWRfaW50cmE9MCBiZnJhbWVzPTMgYl9weXJh\n",
       "bWlkPTIgYl9hZGFwdD0xIGJfYmlhcz0wIGRpcmVjdD0xIHdlaWdodGI9MSBvcGVuX2dvcD0wIHdl\n",
       "aWdodHA9MiBrZXlpbnQ9MjUwIGtleWludF9taW49MiBzY2VuZWN1dD00MCBpbnRyYV9yZWZyZXNo\n",
       "PTAgcmNfbG9va2FoZWFkPTQwIHJjPWNyZiBtYnRyZWU9MSBjcmY9MjMuMCBxY29tcD0wLjYwIHFw\n",
       "bWluPTAgcXBtYXg9NjkgcXBzdGVwPTQgaXBfcmF0aW89MS40MCBhcT0xOjEuMDAAgAAAnwRliIQA\n",
       "F//+99S3zLLtU2+2C6j3op4mX0N1JQGblsTtOoAAAAMAAAMABBemSeywS24gSzAAAD1gBAQqbv/N\n",
       "UNXT5gCK19jKQnUTMeGyOQMFtRZlWP0mXdhk09THXCgMf/KycGy6gZaL4UP3Ot8fk2X8ITq1HT0q\n",
       "mVVwiUO1vU7zCwyeNIJ7OqPyl+9jI31fhNmN6wrxKIA1sGn1WVAfj4Cr9GxvQIxKtBiErhmXKwNh\n",
       "5fA1tUqcdyYl8XPElguqgC74ap2t/JEbEWfybcL9XKxbG/t6V22QrH0lpiXsPducZgHTJjpopj6A\n",
       "thndBuDinlrSO9lbx3zJxSG3wKwiubaRO9kJcNLbV1L1HOPg5nBYySZGro2hUblANFIAZMqNNAf1\n",
       "PyN8akV++w38RrxaLB5docXrA/q2lsSUZJRxVQM/SPo/ShHEOFFlgLqWlh1e0pk/ZumWMDV3VYok\n",
       "xC0vIdlBQHNP63G9ZQVGFxZRQ//I6GZtwKZjSI6ibt3ih7IYVZ3vAUcuqYaIV3fAkzAL7OxhAcDc\n",
       "b9WD5vvjgfNSNVA0WpJR7xoVw10XG9Ckdz7mM+g2eEN/oBaSb8LRcPk/v7+53oz0FUGiM+UR1Jp+\n",
       "6j7o1Xi/E7dWyIKyNaWocgpoUaHlgaMsYd0C8v3elejxiUPvapauVKAznPIU3a+9erL3XbQ7OkAt\n",
       "VplmhaC4EH0oBWNwpAEkqS2cr/MI41SdwNoz1OBt0/humJmNSOO/4ynuTwlV0kekMNgzsSOfdeGb\n",
       "nu/x1EbpZVHY5F/zTS/DjuXDK9abmseM3V2J0xkms3QbCZuoFCNerpoxEA6YSp3Zpx/zj8HgJPFW\n",
       "CktuPjazxwwxMbk+E08igF+ik6SFPJ5lTVjd2GcYLK8PM2rpnMiIUHpSINO0MZWs5/5ngiOUOSmA\n",
       "ub+K7T4b2MngbZmsUmOkhLvXu3gT4bj4YjuRymE2yx562/mBNWlr1Gw/q2KlimzU11/Ozb1Fpg/2\n",
       "pdt1DABYXZCdRK2PurqK9/AUBFB863sPGUXtRD9WqmD/JQoYoPvwtEz1X/wGAE2phuHvbggR4sfc\n",
       "I88vFSGA2MHP30RBoUTVHNb1LhKrYqOCoNvWKU+CD/rZ/URrtKI2J1iaQDQvuQuDiv4b1bgG+ts4\n",
       "Jzy/qAfFuhKp29NvwqeB8rFXz7bQZM4EWqrd0wPOJ9nPYCeRC26Gdy5NN99CkSGJw4OBpuzMjH+k\n",
       "maq22eswpFkckDNgxH9n757X+wwwt7YgesJ/lbo7lcOUHbXsKvER6IXRonE286meUSKXiXAVCBCs\n",
       "8haLRdR+pKuJIr1uyZlb0QRafNpDda71qiAqb+S6s6t4Qv62ZCtmNmNESjTDVOZWvbVWicxbGYpv\n",
       "DA5M2n/Nz6O/EtRQJJTUPXpZ5P0vMvb2lHlMCxjCm0vQ+eBnVHHTVhFGRhQS+iar5+R1gI2itKcu\n",
       "PR8FPfjBM2RfHWR5MmVI8BUnwq/QSCVpmJRFWC2rax4mj8LDFpFywUnaY3Kvl42EXa1xVWMwokD1\n",
       "Pl15ypvpSHXd18qKxLRAh49cSF8aR/nwjoqhcQBvV+NZs3IKrDGoQPxQAWyj2vO0hiq3k6g04ue9\n",
       "cqqAS+wMiGaE+e+PX/iz22hPdr7MIv8MnMkqTllSlQH0lZYRVR9uykGj8Pm3DB8rAqnBFzmn96yu\n",
       "nbAFyQ3Ikl6m8aIyp73ACGH5ZVmJ8VthUeF4XNtg0c2Sm+gm6qtW5mzn42EOIAYqk3/T/xdV67Mh\n",
       "qatK452/U1dYYrkGAHVnZ1fh92ldkyU3wPl99cqSpnZt8MekHEye3iN4pFfZbKg5mc6ZP4+Ifp94\n",
       "vb8dNTCKbum/X850C/sSjGCcnd8t+16j4NIC0VG4EyXcs64v/yj5kzcyROTfi3htGxu6hOxDMDEJ\n",
       "7PwloEozHTzFD+oHYTgxfaI1i2mXG4Gi1bjq8I1QXNo6dfucPyeHumCY+xz5Oeepv1QB9eEgRrhE\n",
       "gZ6NoTpNhXptwWBLhkJ3QghmRWtNLkYbXjPHalLnyCr4xf5Lwd8y4QG5+fiGUCRn9jYH6wtrKGX3\n",
       "LH2NBUWfr/ozkYUjYDObFnGlKYKZVCFyYMtu6crl63h1EiCwH+p7J7oXPsWcLRPENF9v/s+qg69q\n",
       "ovUFODsSwYxJ4OgkJL0t10e+w5mVKBQqoICUBoxYjcL0aqVM0+U8AI3QsD+baxj9HRoY7GgkrLxy\n",
       "QWLJlStrYoCidnWg9BlcD2g/7MEe3KwbxpLVsSsGDh8vF9dxfQWmSu/OY9RRZJ4O7/KUEDC/2+nG\n",
       "oNvIWv+DZgDVKgVj32Vsun2RYk+z+BZAAGUpRaXj+cC68FPKOkFnu7cDkAXjKTUV5jolZSOJE3vR\n",
       "qGM14pJamu7pFzScC88x8iW0eBqfiiQmnPbUhGtJx8wgBOv6BTsqHER44pMUYHr4nUPdFGoYhsjc\n",
       "yezwR4yYQH9kdsqnUtgMnGpgJ+MTJS8PTzXBhUbKtsFPZizpYd7xjmh+/g2c+r/cD2cKnS/JXcje\n",
       "KLVsa4SMaNmO4b9fYhMglXLZkZMZzFdWXTh6KtaGi9mwDOI/+yDz+NLbOt+hnWgl05oOOuH3caGf\n",
       "enyrkufRvopXe7v80Zpyxz1iRlpKfeQ7XXQSMt3ASBCecbH+xpRcb/UsKARpMMn1TvrHGzzdkX9H\n",
       "4nNMW5cAdr7BPuPqZ/r5CfCH/Zk6gHiAAmBgGLwp6OV3Q16C3+NB0VOnp2aCa0/QXeAD0O141sGg\n",
       "a6GNALlmWjiwgeVwHY2A8xwK1m59MJ0TyS7sYqC+P0TJZ0cyS8ATKkSdhe+kKMX/xGn0PSFuW0Mi\n",
       "bAtjqvTGMbgo/6xGzB6CjPfWWUiMT8puImPQ/jrK879x/eKVHK4c7aV7EpjoDixDclvcMp3uKjR0\n",
       "bjW7lRcF64er3qlql+xUMVY+pmEXhArxkATBo7S1C5EQURytu8yMG+mk+ogSCCoCG5mmMohu/XkX\n",
       "3A0ETpVCtowY5C+azDjJhrljB1G6KgwVP6fqhn5DoMnYbuUVmXhEZmHYLDK5MokvgpugmuJLn35S\n",
       "QRYyQb5Q9qiVkB84qfpYUxTkXoYaEhZ3PWWsNLShRBBo6PCvcq9tZG5tYUNJ+H9u0ImObvfQOm9N\n",
       "H1Ehl8gy6KjwSYMrCM/9MAnCLfibLWh57YtoQBCrguqKAK6FtM8V58TYWLsfjgfj1dDhBf018vYq\n",
       "QrjL3xJeo1555/Rbym5A4xb9i2fLp6E1pvC8Tzw6BBUszW/YadaC6+KuPnaVRl30QSJCP6rNb/gt\n",
       "WUA8/RVJ6w0aJp05Dct3y2TV6hb2LBzwVO8+nbj/1fEm1ENFSMVUeviABAlqOnHGjk9TwnZacKqT\n",
       "oqE0VN3C1ey4LNTptG3ygKLLuwp857lzd+eZ8S01tQNcNIAlOF5nWD2e+XnQAD37Z02Zqke/Y3sY\n",
       "IA8PJGIRiwh7l+cne42u+sCpya0tO/0PjkTqljOS12g7l9x+KCaUrkUidqBSvdOOAY6v7O2JX9NX\n",
       "VPCJST13DdgjQJHiFi7CiYEvVTqiF6hATFWygEGePRSNK2PQhB8wEQ823ihtYjt2fsyMvbcL+At9\n",
       "0mQsPM5prvNyhVMVHqzHm5poXeilz/2LS0Czgjobu7vKc+mR0l9XbmJuS7X638YUaDLYLRybZCXT\n",
       "vZNlXp84sbIwbT8+lgMNgWUqqSEvN4Rf4dPCP6zTou/WqhE15Nedb7f/8IT/woakefMz/i4B5DJQ\n",
       "r/NKK93AhVpKhocBFbgAysKWLnysEgzEP1It1pFrub5V5+uFq9uTHF2RfiPQF0CXwMi1f2EFK/LO\n",
       "Lsro5EMz9NKPkzSKYWi0zmyqSUTGnHnacgcra09U9Kbp7E5TxtsiLL4div8PcO5QaX9ohVTGDL0r\n",
       "Xhk+GSSU4HDU5YEsfbDbgMCLIw30h3ynNo4bp5TPOkbc32MfINcuWtAkJByMBR/NLVlzTLRAYAXp\n",
       "ePFp4XFgN70PXI5KiuOA4fncYD8OSs3c884UWm2LXoZ7tv23CrvocMFmr3zkZlL2Vdq1f0PM/o8/\n",
       "MHE2Msy6MqcpL1cdED/tu/6NN63VWkrFzNrY5WoLGX0UKHIR2Ib6fPyTShniNYi5fg+wI4uE/1Et\n",
       "ih97u1M6Y1ZhwO8iYlrxKZIdA8vkMgR3vsSWlhEI/8hfG1V8S9xxa0AuuNsOojlQ9CKo57/zctgy\n",
       "w2xSQVq17enMPiqr/RVGKg8P9gKEmDLKKRmd8UUmjF6szpS9F1W86C3paPZ4c1MLadGTepQQmvCk\n",
       "czbhwH6x3CYN7apAgrAFvtlw0u4dYu1e1KYIA+8armoFlKjWjrjG38aeU6B1vM6VR+Ta/A2e7drj\n",
       "9gULFCpM5FIf3N3fLSeiUASAn3Bcep6DGD2/fJ/lmihQM4U7unO0BCxM4PxOV4SA7Rv1bOiroCDF\n",
       "4ztIqI06cw/nNZVHgYmq427eVMJNdl/KnX1XU8LiElJa8L6pc+RyOd13ujd7Wu1pCMxEQKJNEv57\n",
       "9yH1WQ9787DN1EPRPrKwSUnX/b6Ez5AYmaO0Nlt59qsOml94eJ0PTvb2/sKa+XdR+MMhR7hk6kJQ\n",
       "aKyM3/UNZSMJl4/BkmTxR//gMIKPZ/O4KOqG8SWeCBGGtYmuJLFhtofJO0P3KAHQ1EnIMLJKWId8\n",
       "reL0ApjTRM1HqcQ3/K5ciNHHlHc57Ivp6JTAx5Zr5IxlCC/yGm7XwnTbghe8N47h6A9iiakiKau7\n",
       "k6AoddFToTVlWtqQfohOgjVqy46yfU0u+ArvJ8HhHqcn76MHPRRKv+UAKvbPSMWiZZERftJrnKXZ\n",
       "LTmRsWi/EBYSwnLXaYn9p+PO2Y0v26G9vWMkcmHoUfjAB4mWjQde8/UeSHAS86sX0PhnqLCOfVcz\n",
       "+jWfb/tqtX2FGfsoCNd/h3RlZgmwaAuFyJFXVPnKP9JXzex6H/03tlU23qCEpQqAyLRgxYusPP2P\n",
       "7+btaqddb7YEd0MykQ37ilBNsoQxwh9IKjparc4aGAZiqGzs6cHZyoLIomWwD3GKobnY79zTka49\n",
       "w7/5HKYVS5vZcTngSMQ6S4R9fxCqW5aYYNvAiJupMelqz1tCV8VFllKI6exfTJG8nHSdjTAC9NiR\n",
       "bn4pxFw6EAmjAcWbRMdys+OZNW8c5H+1Zi8olw8llscjOV3dXj4zgLxhzuR+QDK/osO7BQGvgDYh\n",
       "kScgbPQ3vUFVXyD/Yr3HBeBtBkgmF9CCMEm/U0W8tcCCamTFcHFfDsmTRYKxgAZJ4BeBBeGmlf1r\n",
       "3oKwcd/DmHuckRp1lz5+Pm2gXzanxTZD7vgg7GpQFGLS6lwmnVbexsyQDASOgsARMS1JpFDNoFKl\n",
       "Bw5xSW/psBfiIGLKvuJjTLQopYKtLV3fKBQxnZNvzhyaAHu50dSMry/O1lrDVUzNNwa6DhUFAHah\n",
       "LqzEnW+eDl4DF59lhJtMS01wKsnJIs4IFiv5fi8HdnTTBIIpoUZ2WWpvU3Qugm2iD2Mi+fS9Gv/8\n",
       "Pvn/opsm12qy/9SItQmAC7iaXQusdnh9iqJSMj2CnFtmJjbBf3laHk9TigZ/hrwGrBhHc7fWx8sd\n",
       "ueam/Gm8eg65YhJiWT7RBAi8YY6QhvFnIo4DnjA+IL7rAL/WdyekcfdJmNoF/hvS/ULHVuutzozb\n",
       "XTzkzIbeAc8kCY3mv+8QRy2zGSEwy77wmNeK71hf/x6HwMcfuNhzPy8wir5cJ0SEVsoBiqo+Hwuf\n",
       "AjtYobX7R/b2EAog92XqyuASLvsYIZcA1IorjiSKMAANDByjZWqGbo198eMuFjDqo9P+xnfoQm8W\n",
       "QKO3P0TrkYE2e+3oS4K3Ci26cdUOJTlZjIC5y2Sadfjxk1oTVgykwrzzXyyGjPJiMZcVF0K46jqb\n",
       "dhWF6zw6OeZTcOjc11PMgcFhpy3/r5JTDEIT9Od5A0j6Q4AO+SgfRXIwbBehYVqYcRhxejPsnsFb\n",
       "AnJHKMG/pDWua06VWFQuNHXJbSLHb21eAoukFA9l6EnmYvEvsznG9bX+FPOilVQKZcPs6ln4M27n\n",
       "npJ9N0Xglm6NzSDGbZEopxsUB249Cvm5FWfRFHmtiMHftLV4J8YcqucJNUEsXu8/1Y1gVq6uj/Ks\n",
       "l873T6YQ0/DaMZeqakA3iIvd+cyj9+BPh+FJeupZ1jreKbL1bGZ5LghGOT+VGHD5Faa9o9SKnaAu\n",
       "ww4y70rSSlsBKReNDi7Km/kjzH7xRuD30l+MXCWF7bZ7rwBJ4SmaKiGSDu0Zbv5OllX8BsltFGnY\n",
       "gIB/nTmsHJD/0NZBnSWLxw92cWMqHvgQeplfxuQa3OjbOyS/47XyZ+f63un2TBP2Hzzq9zAhnsj1\n",
       "ev0E4d4NRUXvnhLeisyUBDgTEp/s2HzcSnwXP1NL/8jIicRWyvKZ4ods+ofj3SuetCK0SINfeDRO\n",
       "6E00aoZaOpPe50O2Z4GC1je/nBGz9ApP/jFIfPOQ32fsTH4EcqWrQS6SvGDfOKC3paMc8d/4FYXh\n",
       "6pvDBhG+haQHYGoEJQ3XIyVY1kMy+MiAvpLZ+xUXiWIdjFGkovcHDIHt7GWlx5+Ll7qTMexhgDX3\n",
       "XEBNJNRGVmElA1m4yW/Xtcroau51HZcqXoDSRUp42DPtUpKGBa2uZ66KppHqzYWzfTn5QTpS9tU+\n",
       "vEUu+23RL36GoEgnR4zi0u3KjreWuxdq9sHmjz7zVx99vPIJ/J+BP8wcykz3UJhjdlbXO7SJF6gD\n",
       "72OY0kIxbvLK4BcxeFYD5a7LyPNn/0KTOMsNHuXfGsFvkY6mrKYqtPUFx8uQKVKWFlp2nK5UpJEA\n",
       "DHhXndm1yrdIt/2OYN6314FXmSWZAVIC3GVsLyBEw398nJOelAUWQNkF+cZyPjCPHLXDIYfo8ij4\n",
       "UBnCWuQc7py1uiHk8eDMaa3L9oK+eKfj1FxTHB1a70fxuDmoCmUj+Qys91EE0hd+pTASO87miiU7\n",
       "aZzQSpmkC37xGdi92ThQhb1uahySd7A3eMsS/yKZJKTqHVBkL20oeMFvSiBZlTK0HW71iAc1VObE\n",
       "hvaApSQNGluADg2EF2rDmerC9035apTLkQx1NXFqFIIQLeNzzxfHmrZRm/GlsD61/NgPZ8GCVGAJ\n",
       "mFptypEBcrvlsJBJyu+3xYaJ4jou/baJnn0akOjzHvj+r4q7VAOrXIQbxrd49VCWk9G6/h3owfK1\n",
       "JimNpqL2Zv8gkf0ULRABoIKHbAwypVkpn4GZ0gERkXtmxa7u3DLTaUga8xFhv3uwX8kDfH6ACdpo\n",
       "ro4gXQA6Bm53jsE9AUZT8g5UfhERdZliDMAGz8J5CISCTp+sWHJ3eyzPNNL0HSgOUgrbENkq7hcV\n",
       "Oy1XEu2C3Npvu6j34HdeZ0SEboqAruUfVoPlsvrEi4Q7MTh6WV5NqTJCavoUP6pDAJ+SI+0Pi08S\n",
       "FIGjKwFMVq/0mnsG1PJr3ZRpZZZ/atF4YiE167HMnNrVSJWSnYnZLsRIN/cU5aOae8Asit+4TpnJ\n",
       "/3bXEkKQBvY+5bkjgoRWylKDxFmQ82ldhQf6EG1fJ3+Ueo7cERFBmd+qkV/Yp1UiXmRCzysaerY6\n",
       "gghqmQOHzPmy96eTklF9/SdqrXKjuRqv1/Rn/cPnRgaOyYJqwebfcdiuET4QAK0K7wYG4YojOYv+\n",
       "Sp6w85l0KPzaFzgn+elCh+KcRBrbwZR1URJx6ZzqY+WF2VAQtkTifVt+JQCT7CdjHLgv635VLwh/\n",
       "sgFC4kbcwd3+famUyoDC5EompDpQ9PxM373DLvs7ZoUFV6iFrTw6hiNlCa5MmMVsuJPYrCiop8IH\n",
       "mbGq8bCeqycPmC/mz7p+srjsVshx5N91jQjUaykjKXMY+eou8U7N8/oXU1ULiXfIzeSZN8iuhtej\n",
       "2r+BfRBH/hUYPITdppLjy9XNQvP5hM+arl3REUe+mZsljjaSkR6QO9LzM+aEKv8qQdSdUr7lEOEZ\n",
       "IXWS4ELS/pPh3+B+wxCwap5wNS50xfIy9uWqdgUiLUWRGcN/npOIwMXxhHHOb2pntJt4j3oORzv4\n",
       "BSfHGf3r48eMabbvD1xi5zG0WkvexqDWx1jJ0z9qpBsCsyDeUVLafYQUu9epJQAF3m1teh2uMJE0\n",
       "eIlYIECiNCOwLPX+qxX+8Otj0mpJraQ620GNxlBuQQTK0qFRlengsHWRRYH+04Jn2bsdTLTYsNRR\n",
       "vnIJIUC1t//dqzL/5NisivlibqMYyKnJpEw01FSNM8Abd+Pxf/cTTeZs9VnKBKFyEw5pAt3N9rke\n",
       "D/8h0KQDLgxGgOtlS1acpvF46r/qikn4WeFkcqr///QniWH6cYLytdyHwqJ0BfNBudq9f3KrGL1c\n",
       "4rEKMhqfqdlXKXKDQBnICmXNZP+cyMI7qT1lcSP9VZHIz+vgOFD2wALOvj14ZP8hUgOJ56WCRAE2\n",
       "n8rvKjSdT45MCgeEmjZCDqmaO7fiHY2fFTlp5Oc4YXcDh/wTI+8jv0PFuF3oOATPEdNdzBLPDSaG\n",
       "LIgsvFJZ+NLH3A0up8LTQYgSzR+v8n5mnoIZyKJ8G86OBYoh+/huJSC41o6fMpT2cOraO76hMrw8\n",
       "53c2p7hTtCyHcVrONYgxegNg83frAeF2jrMSJajowQ0OfLColHqxoTQ8sryxNuX0cIP6EhBonNpD\n",
       "kdSEK01JMt6NsIaw+JvT9bQLUkiYslY+ugMPPWrlcf3M0U9I/Y51IJdz7evPB1ZZF729g5RASd6X\n",
       "W8k85fFf3b2Z5pQf/HzvxQ3BqOjJQKi8QDi/FwAQF9+IngQMGwdnTUwghNrD+Yt02avvbIKuLmDX\n",
       "IUQ0nTIkQKZXVQqx4RkgeazlmFo7tZm9WzM+kYD5+g7OmqxDfJ+zyXEMD4VNdbCSkWleZTqotT5c\n",
       "b7oJ1Iv5RcSb5nqCCg6vh7Zc6bUasRwfpRcngNn0UjG2SIJP75oYAYeHA/ZZQV+zCIbPoqoVnd3Q\n",
       "8NjsBEyaV7zbdIF9tQ4P7I2pXF/umau8fRNbIXxrn6xmtXBG59atXhbKiSzmIHrjOdgyVtyo2cdF\n",
       "lsE1dCkvl5cVDd5SeuIg68qjnjtkX0aBG7+ibQ0zaXVYc+tO9DKYg1dl4JHMsW+TF3+VVKD5h2yF\n",
       "+nfnFizDCm6oUzYyGObb8g4Lkzo+aAbz57fI874uzVY7XYRDZ4TAZA9d6ZqNDXxdjSjuk7UAdPgR\n",
       "HH7oENrPzeGMnFbWiCvyAHGTM8sitx9LPr/1H3Nl4a005lV0OtOO7FtzDfOr5LhmNMTOIYaElejI\n",
       "oBcK5Dc2x03LYPMLTTfJgbom4jTccle0gO41KcTd33iV2VMcOy8c3ry7Hx7Iyx4uqk0ypeThJy2k\n",
       "Air/kja8vrWwhQ/69+NVmH2Cwt14qLvCbcMQsLatB7akjl4EGH9zdCmdtm9xsrK+QsWlqqRWnP2B\n",
       "44GQlwdNj/83xozYbrQ7OhXX0CkNJ0RTfthEAns7ab+oFgVyWXawdHIgkvpbgV0qjGwnj3CbeXAm\n",
       "kS5qNmvk7PB4sG62a6RyxB/bBhF8e9gVzYdcrqxztK42JH2QaZwoAJkPVHaQFnlnhm05wpTa9p2a\n",
       "20XsapZBF2HNOZkVnU36Cef1YwWN4SxZ87s7+oprNwodRi/6E9qANqS4SMvofA1w4pOsdUYqKWhN\n",
       "NAfiGZpEGJ2suHUrnWHOEKjOSwbuOO/HsgaM42dtlJXwv2ONpbom9IjLycpeGwebHagDI3fh7jC7\n",
       "hqXaypKLD6wsmV4z1RtmI34kJma0yWqruPupZlmEDRzw/D/7vXGYZJyX/Dv7VuY58O0q1BeLK+/N\n",
       "d2m0UrQue02Nj6xCag40Dk6la+uhlwImTdYcPAI1sidWVKpxbqr219IX1yqHBXbGrb10NOGk+jwK\n",
       "QMfA03V1SMmlIUonvYE4jDB+PL5YMm8bAEk5Q+G1khJsmPsSQy63rMldvMb38ZgCWJ0C0uYnaoua\n",
       "YOT5W0+h4jsOcUJC7XidLN4rT/17dDO04LPTB4dNx+fPqlNgZ8Z6m7prSTEJ071greuOkIg2rU2P\n",
       "UCSQgP18tK7H11Hi4DqIdh7b4yBmyJs855O9kAaebyNxOPvCmpqIL0qitqPW3NQWz0RXD/0Xv3ww\n",
       "Ni1lTrHhbArNaGyV4ylKY7k5Ty5ouQtjYxPt/yjQnw77BmSf/eUlGaMJLZzRE0hFZkfV4M3cP2Qt\n",
       "GR5XsEPwiwHXAho8uT/q1mmS8PAVBMS/UxTYAgvdKAIolIrryaseRoWvg52G/zodYKMA0WcS4T4D\n",
       "ylGIcqzPisrf/Ei+jO9NQMDswaLCAAP9+q++IypnuOn0VwEUSqQ+raA5+ot4FN5Fc9m8BObBGFNo\n",
       "A+Jq4ljQwAwr51N8MjMrPZsHgi/v7kiUAy6v2/dUqIYMvZ//7ZsE6N1mYxm9iE/3zOqU0KIxo3T0\n",
       "bk2r7dEgXS4CdRihbnDM9ydcjanFeBgiLadAxmNJ3eMuG6Zj+cDKKBgpDozs789uMmbsacW4y9qL\n",
       "Y1wRqn08cpyu7HhGOfCukRl6FkjRGKaqJuYlOuUeo5V4XZbAG0i/QoFFF7hmcDi4wYHbcA1rfc/f\n",
       "sGAodg/tJ2XWQucxbp3J68+77AxTlNb1xJALYLtGiifHNRajZl+UvRjZEOo2/C7CLKklrCJwWycx\n",
       "UTA1UaFSIN1SY/YgkyR2kXh3R2uQSOswExRLzBLl3AKLn3NPL/JQmOm491StCrYNmWkN3rRyeZzC\n",
       "NjP/h+M8UKpXslu15nXIGd0m564PaH5ZpW1c2pzJgmfn+A1M0a0RHH2942CKfkAzCTd5vvA74JbG\n",
       "/rPk2lpAUI3Zo1+6LBB/a84h8wwGp7ZHLp1XVnKE70Q3Mu5aOC9cboqKoKcIUXRG41j3p9FlUC80\n",
       "TZM3CQ4xwg4d1aHCEJF/LJuAkNlHV3uN53GWubppK0N8dc5URH5qCqrPXf2bYLMC613aL4W2bdJ7\n",
       "fL7ZPP1NGzhIz/HGCAxnxhDxboiy07nzp4j4t9XxwpTDK6g2t4ChLYaC6+jinR75k7REVcb8DazC\n",
       "2fsRbdt/PQ6uHWV3zl/HgGrNYTxnWg5Cujfj8Ald7WuOYBp8oxpH+Y937jaXuUCI/nPK+GBGydFY\n",
       "NNVYY3lylvkpVBdgkaP3ZTDTmEb8ryXM2ExYs2hevQD7SIlBAH1O38h4PxkqKjoTMubgdWcOaxg4\n",
       "lncF8PSmwt18uH/8HyFhfV//nuCfJtyFU5GWZW1pf46mM/86Xn8koSL+vZRg5lbdLCZQqw3JrA08\n",
       "MWrau4vJhJUM5COM9t9bV/uMUTAcEYZDoZNrYZ5zT4ZvptrrJksCyIyqrE5emp1ecaRJy9CwoAWT\n",
       "nwTiE1vguPbDrsr9Wf3xelUh+WC0EFc+lk2UIJq2iHq9qvyRTs6JcHN2VBtWxI/jV3nt5oYL6Iqd\n",
       "aQMCbH5GNCsLMxeiknovTYFHNUY/QPmO+lbFzy11ftlCpOEJf+rlHv3i8K2QRCnLn+ZGOCbcUVch\n",
       "ZbKluPHbhgWlHHgtAvzijkS4XYaJXRsZwmJ9X0LfzBAfvZov/d7/8PFimkxgLcLI2HKnhOBMNJ7c\n",
       "39WDRPrcSCwyk9bvbeShCeDRrf9yNhPox4BQoiPr0xqrhe5v/xMixTfrtsC7905ZYPHSbDfBD/to\n",
       "mwmvhLYxMs4/PhX03Ppdwy0RpDuZpivMBMXredJD1ztEtxTtOUD4VunOAIjVZ9dD19FglSpSb4Hk\n",
       "8aUpz8tb5tSM/YWNOccbfG1+j5EoEErMDme45iyXdLI5f62NSwZe9zc9HF4Zw8mC9eC1xeYtMDiw\n",
       "jm7Fd/t/itqSJUFIruL8DNBXlR2Xovl6PGzJiTxRmH2eY15tAbzDKPyLFEG69tcAHDwzWTA4DRr5\n",
       "9qKsxUvG68VR94SnUw+I9tZmu2ADFwvXk6s+rpsx4A7CfgmWSTeymklMg84Iy1RnxVs9Ovgpz23z\n",
       "RK3N+lBYdJ10cyal6VFmU0pf0q2ymWNLdMyR+mz86Mmq2M8J+ZyAm9I1gNQorZYKsRFiRQK/nl5A\n",
       "nBwP04QAAKpxCHURBN8dSuTk+fwAXwlF3iGxR5t0+omOMM7DYjYrIga+5Rqs0UDGSqFYyEd8jjoo\n",
       "XVtuvEotZ9JIjQLs6Q7dBFn5sa57OJ91JE2QreFr28DjjNurgNmybKIDQeQ/xky/BR+DYaapS8yL\n",
       "nHjXzv17Yfud2/RwRaAZHgcUmFYyq1vRlYQsm1cg2Kdiv4M5E4ger0gpghTp7QdZ4SSTlwNIR3si\n",
       "Kl3ZeSxQGXU4y66NKZJrKQQCJN+6oEw9Ppq6xq9CYO3HZmwM90DxyEpGc550AfM0iXEVwV9JGk6t\n",
       "vpGlRQclXp2rkDJvyN1P7x5NCbMwL0BtQK3tvriMOqTAja8tXCWLgnDa/sIJxdIqW6YCLUOptLJT\n",
       "QAADp3b1A1BPgKpXdgxeirkKXm3WXEHLJwWqKBdS1+CoNaooqKg2i973I7eWTmGpdoEZm4LlPBUh\n",
       "+VD+JCEQ2GW3eji+PrdwMzFohng4OpASUfhqpIpB21ujQX/Z773PCU8mFnZLL3Eyg8wgkWwycz32\n",
       "58f5cUrVWcmR+ZQJJdcWDJs+Of9ew1rjskFvwKPGpCjNTlVyOSqZOoq62yknK6VEF0JQQe5BRL/9\n",
       "2+q/6TH5PDdV38uOupeBxd3NxCI0ekWDOlNkSWuBGfDwWjxe981sRcaxDqD2kwc5ycNyWkwefj5T\n",
       "VSIkJzcrWDJDdXfrhikfAMR+mcXgLshy9P8NHmL0sQTt09jQXPNLDLDyJ88s/7LUqRJjeuBaPjgm\n",
       "zk67iSJb+aSYOfm7LlcR0KFR9oSR84MKEWWZED5N+RXy61n/xcOnA9kLIFUHFTQcq5S8x0NyvCXX\n",
       "KcYeyvoZs7oMYFl6NeqUZGZS+rQP9PBowd+wi0Ee53WKWFz+1Sa2BNGIs9Kleq6JQU6g5tBA1pIv\n",
       "IWTNIiJnIGMCH30qDN2qxgJJM0WNfeB5oXw9JASbxZpPglAWLWaVSpEWsZ+Q4arSXD7joQo9c2U/\n",
       "kncjy241S1MmKpAA5T8dHviv8XoEpiHuHRp8ia2uXdHX3AzLFsS2u0PLuj61uiw4MA9cFKzoHPRJ\n",
       "05AwrnOx1c+8H7DC7xuSN6j1huTul3yy3nm+OkroP+7TDdat/Cv2NezIGpH+awC/GMO6t9zlAlnb\n",
       "x3odkWwKBqPuN9CNqxnhzMk/vsYugysMO8Aq7dtZPOw/jrHLIUN0A/O7H99RkU5cwuQQWYCWf+TD\n",
       "u3lDLTC6ZhaEJoP96DI8k5LnozvVkLXG+rnY2hL8ukDwoBXWdwC+MMJhz5nD5m8Lg0TIU2kery8y\n",
       "SQccMRdkze9GsdcFRpx93lIX5nX2FYwzAQTVwf16Rm0YaqbpEVpy30G0lLqX2AUpcouY1uSpGk9a\n",
       "tKGGhWwqoiaWjnVIT31NEqNpvDhdtpwR8siI3+qbV+E2WAoYH3L9QDHJI6Gzv6MfWS2TSErr6M2z\n",
       "6DJpONS+MiA773b9qmjVxZD/f/erWdZu84a2K0sTLYmK/Ssm0a4qBVeDLwsDFB781RF/vET1KMaH\n",
       "xFRkso7pvlNS+Gv4Ze6FstGcxnwHHn7FhvTp+Vy5pd+iLlg+QfU/QNX5psNfLSsVQ9N3mMyta0X4\n",
       "3C+8095DqoUur8ZVCuOzgzJEnFwCM4G2H2VNN8Ph4rPXDXGFQKWTMOyX0jfhPsGymPHY0Odp285T\n",
       "O1nDEf+ZI4RnfNp54KzZ9jOf8Sy0HIALwRqVGDtjKE86H3HaiqJQXTxj1RIkXScCiwQAmS2DahvR\n",
       "lvgK6Z2vBmTkRL0TjvUMftK8GnNlKhP4u0FRJdnuIv/oOGBh/MzcEbQ46BJpdR+zDkA7BNk1F1jO\n",
       "ls7XEtIjxWnJdarenx6uR1gmFkDO8dgf+SvkblVxn5RohqSkS3+jC20EFw0GI6w5SwpWkoy2/Hec\n",
       "bS//6kacMhXIy9Z+CftnvkRyQdguQnKFsBTD6W26IM/IkemjBqzFRFlFdmCVDB8Ksuwvt4xCR8Gl\n",
       "KUHZSiJP1MrPGCtb7ffEzX2UKSqGsULaRP1+Kzwmp/9kUNLSTbq1b1YetmGB/MoBMwXUPm6mmvGy\n",
       "jyWvLvSxoYJ1gEosMEyHFbbjLKihrBIkQLhT7oS5JffYJT14Di1MQEp21qtGjWlXCVs1xdG2lzCP\n",
       "SU7sPfZmNreXYHTMOJd0FjhFkKGGFyRv+5yPpkDnRQ7IyuLaCzUwyaGdODuLx/zw6L030iwvSKje\n",
       "PozYETD7+b5Je9cYEnKUGz5Xl8HE8LXogntrSLudwY9AeLI7YuEiR8IpMVtMR+7Y7/eO2MPfA28h\n",
       "pPq687b7YrIpyrGRTCcV9cLAA1w2Wdetr4JVpcDoXuvcrpxry6cEE10xfA6hE3AkxK1/KFAluiNn\n",
       "x2ZRW7uCwcghdrpKlSjXUO8fDTNh3YocI3H2tQNhf0P7uCALi69T4BjJxHZIaMcLkEG6P7X8LiaG\n",
       "BhDNWlOjuL09bJ6SYcfpJU0KYdnW7J6tkYPvTjuUPg3r/sXtTAO9b0yA1eTNv6hp2+CVnyLpuhVt\n",
       "lw5/7LMA9F/es+3hfSmTIfJsvOCCTixsi/1l8qBgfrv24LjRBMJ1E1w1TR7+B4q7cXkw537/rJX8\n",
       "ewQfy1SNCx7e1sNuCN/wPpPaxQuD3L5kCD47qP66zUcM30FH3Cr690nQ5WrGWdklQajz+yNxC+vd\n",
       "K0Cg9XodZTp5rbIfNS0hGiUDW1UZuORb7MN0uYaZYSBeckWqqjKliDYrlGVpWgeeo2IqRU677wnE\n",
       "L31IklDEuWQJVaeOMiOPMqMcpTtJi9sV/5BsA+aJuoyLn+v5NbaJCdPRIIVf/Hy22eMh0bJyXtRF\n",
       "JjXIRAr4nbwV+bRDuXc6/LvkVPzHvbpMYIxqrwfPGzRkZcT9SvlydRYl8Uyll4UbkBOQ4seHYRKi\n",
       "jEL2Qwy38OaxCbfNoVD3nxzzjO4uy7VdEgEH/XCAhZW3aWbnAI4AAAMD9iLvOaJPqDWEQW/4cWAC\n",
       "INHeMwefRl8eWIHF7hdbs3p7/FvZjCcZCFiTqltZgXnpLqiiy1f7X7yC6dTKs62XvdS4B/SXLecx\n",
       "C46cEGtjTvToG3lOMjNcVSeqsBZwBj9cob9fKDqiMQiZ83/N2/ZbHZjg9PSKu+qlQcSMw0w79ik3\n",
       "SbNN11lhEWYQ4IUtIefm26g098wVnFWDPxS9X4wX2IBcIkYuhlI/+K5iBdNCDg+yOSiyyODSj6ll\n",
       "OyiNqJX0MKMK2xfBUUW1vOuVYKejv4TXoiH6O10ZD93iYwU6yBXz+1eBIdzOsyvQLo6cSSxR0BJM\n",
       "zrua0vcKChefgs/i3/Qgb6O2agClqDU7mwQOgJan79d/sg/uI2F16LLPziyxa6V4syrqyDM4Wcit\n",
       "ptWrMQ86QHf1J/m8qEIKtBFHOOjX8Qhsi5aOpP+tftHglKeFo2oEb1vlNdTG9bXgkZDwzpcBKchQ\n",
       "Lwa726jzHrjJaN2FLPfLkCYGy1XQ5iWcvuo7njcj+1Fner9JVNpOGbgy8S1tqf76PiJsVQhQlWWt\n",
       "W9MYjcwCm9K6XR84m9zGPadAvvcMpMwC2wxzwTdB/vsEnxkYPL4eh67xQXLcdnjg9KD3JxbA7/Q1\n",
       "YA7AdP5ufVSmGQF7u+jP4n/fJaaI2hyW14Qp+CZ5FZd9O0Q+3132VcrNqbKRsxYluvpBbpDwvqFv\n",
       "imRjAuTgYFza8MJlcUbIS5/1qVsk4h2eCmvP2tgDZEgCopmmqYb3bkxEqhJHXkvebcEHdS0cGvvs\n",
       "C2FjSC+exp6+y1BTApvynyUbxamIRWYTDuBQoFrFJ99yBi2QdwdCcWUa9oP67geIIzTd+TzhSO7K\n",
       "YCn8FgikEhbTstvULBVWHX7mfC3DuHIWmdqrn+YMWUkP6lArCPgKWtUOZmiH3IZOczxNKpERTMHY\n",
       "PdAOrju/tGBz8z8CRMgn1uZo3U6Acdtlv034JBgXWLK2IiUXtYeAAEKEN+t+z9P6/jb2icqByaMf\n",
       "MPgkTu6mQLO/GgG1K6HmSP0KI80KmwF8F9EQteJO5FLf2ynbKtxp597H1zDeK1+mUAR6TDa8EAvY\n",
       "Itkumkx3aF8MQ9T455P/vfNJp2P4qnPGmOOZ+iFnFc5QxMWR+E0GRHyJeXnFLrDJzu/WSCsrnJtK\n",
       "JbRbJhGGsn0ny8pcMc5y9xI7cNkcEYctz+N1k0INKhJComnswH/IvxiwOo/rlIBI3+OJv0KsEO70\n",
       "S1GkRz3TiUsxe0+7rXigUtjg9ejeTow6kHVnM0hyZ4oOu+5rzAnkEVX04Pm+7modcHn6siqEmc5t\n",
       "3+ZIom4h0oW0Kq8RXaqte2pJZeWvjDVZGFwSFl9z6+8+zun+wuASTOa60Cco4gwPZaoCWDickBQD\n",
       "twrlIAzzf1wt4VM0GQBecBUq4b+WnTLxkaK141O7QMNaaUQDjZeMaitGMOZG7R9hpECs27aasWSc\n",
       "VzgV6NNyMPQJCav5soUNkDXbizdS+fJfkjZ3BvMlI5a1jMf0dorEILSGuSgwLEVwedRmD6WVH3+P\n",
       "OTd7J2Zmo8XQHH5zj+pCARvZ9kiOiK5266BTpoaQFdWQSn85jbG6cYwZzGJ7h0qEa040cjlVUmF3\n",
       "3p2McsWJN7NtLQ8CzIuUZgzveh/1Jl3ZPPRn/njprIps3vZ8gACTOqhV2q9eFjoaFwDfFG4z84la\n",
       "rfWRkjPBnRo/3rSpC11Q1NAMuDaPzVn88HJbarYf/isLx7vtyn1aOpN8MVjRjd/AW6cm+WPJ7JC+\n",
       "K43z/dsa+r7e6OpiPvL8t6DgNgOSfyO7P0tZQmZF0fNcSGhFcoUPeb36d6KygCp+CiXp37VIbL+8\n",
       "jLUuX5OkATghNoHXIFKIqso/8Ki/g0Il1hd40XjLatBfvKDOyM+AN27vetbBXb0ScZKHlp6iS0Rr\n",
       "pHdeGkTvXXhUFYP69LroT8N5ykHm0RExX1RYmZLld5TTWTKQnkfslrxHsCVRVI3IfMfuQrURL9FR\n",
       "8fLS9SxTndsLx/ON1yN+wkZmy47ndQG/H9OV09/PQmwbdgijFdslJOifiLogI+B0oMTFh08hQBJJ\n",
       "GnMsUKF2VaPHSzfz4VeHlCKj9Uqwo3efno37FbJOgJUZUsiinpxpg8CFFZUAXbcNm7lotGIT7y5N\n",
       "u+lfw/9c7bsBY6wapDVkSjpMykMyLfOwm+Llp+97pL9VIyrOhEF1G0ynG3pG56lK6U+0fOKgC8cj\n",
       "fiY9Xxlz8+7ib1mCh6ZFQG9yy0o5QbcLzCD4JN8WNio1+ecOkZD1seHTWRyne3duwnktic9vLiMD\n",
       "G6Wbqk66AcZs8bUF1w+x5PFmrqAE3N1GUtG8Gf7yaahSkC1JrcaYq+3ZBt1BNhBNY+m+X+YOzfZB\n",
       "3zZglOTcIAaUgWZsHCq934SDH3cM8tTYkxarFP9dNGmNV/w9vK2ynU2As/XIWkScg7uMrkyRQLLo\n",
       "BcoQi3OUCKTjRHyymDf+mqF+uebEGgltfMENjoQQY9XkAdLvsx7D1N4AuuSBxNBYy8/+XWkKUrPK\n",
       "DDZepTR3V8UMrgg8QH+sNOHpkRL5YukzIVVrp3CsRhAKIfx0z0S27JZLdZO0qqwURWmB2OXD0Td5\n",
       "FYroBmT03IGp2dPIJWKT2mCyb8WGpDnyRZ03xvS1IbzYtOXCB9u02s0swpddM2JESzd/Z5xoI2By\n",
       "ob9Bh6Ui1KsaNauNScJsXzqTEVYZuNu4ouBRAKo8Iib0sxwrv28GzS85JHXU8sHk9pRRWYmQSh1N\n",
       "lvDz86j7pXgulfVAlHCgdMZHh3FJmqLW8VMF9DQDA52//lHrC6wfk/kmhgtdzha4to8stzjKt2ee\n",
       "73KleBp/vLa25NHJzFA7XEiu9qyeOd44eh2T2s5rNnUjicgEI7WQ0/4yAhKf1tTZKZSqRQcz+N00\n",
       "Idk5pt9vApbLw0ggl3R648XLICB6XhhOZ+x2I1fAkAncxb6bg8r3WZlEP5O/wwiB2GudoLZgi9eT\n",
       "wV0l6j+0txg0ZMX9c6q6etVGN3Tkcmqugwk04wrgFLn/0UDq2gDJ4QwJzwKFPqz7MTk62u6gC7Gj\n",
       "OWdz0kmDPUo0ohON7Mp+0Z7Vr6TjvN97KbBNfnhyXloCn8tbAQF433PIjKrWDema5KWuNkxXsGEQ\n",
       "o3/+J9RMnuc/1wrePwmNtIusT8cep+eOzdn04xmfFB94LbapLOuirsrmY49RumiLMVbjm0/3NFwV\n",
       "4Nq0k8S8WfYa5nbbLfCjdU90z2ZYV4Pq19g1cea5ywlbTdjOue2ua6pl/QWNsCXzV5P///XY/nNN\n",
       "7tzzBrJBHgMqAZKvJUCihWs+8NtpsZlfLpnHwGAL5H8warRxNFgtIkq6qpg9VnUVx81QkQqO9ot/\n",
       "d/rQc++xSO7JFmCTCx7YxyGqDdIKAYsCF3EzvcB0eWVeQ0cHDk4oLncUUWoEk2eXra9iFL7N6G8e\n",
       "JiHVIwJME81iOLZ8+/EKEJLBalmf/1goKTmMShlug1ZNYxkgOsn391s7vj+IOfwOQQLBC8M5YuuT\n",
       "aS+q8nhfMCpgz0gv/3P+1meC0Rg4c7FuG/5PQSXYqhg4nvSHieDflGcyGwiAEp6w1HF63vbcRECh\n",
       "qnKe+43DwmECS+yu4RsIabjv9WAZh3SSXU+bz4+lQax8XwAiAXU/17gLw9b2t+0KpaRjsiMMeNJ5\n",
       "G72ehWtRqPBNtU5u+K8EhHP5qcxizwl2ENs2hBgqfSIvgVtM9xeYp6qgAu4/eG6mWMm1JfyuCsfq\n",
       "pZpZ5XHE/N73r8dQvA46o4DbtA16CMbBBpsFj0WIIhICxu5wcx4xORLOY9DVOiSeTn6mKVjHdaSB\n",
       "b93BEVx+2ZSOl9ZFbYWYRBFfLGXAqMHGNVRCDwsG9ksD8/b0WjxK3ASjBSEyDiN60Z7wM7mCet89\n",
       "F7jWdbpOJKEPDHdIRDdaNDx69E8ks8a39+aGII3YJP8lqZidHK2fHdQYL/NwsHpeMzNysqIp2ppM\n",
       "htQRNlTmfWpSSAvKsbEW8hoEOK0vStNOA8lJtqxCFLi8IPjQ1+EgEuKacEgC159cG/8lNxn7VEVH\n",
       "jSoTgZVscZfb4UvQ+7GsfntX8am9PlJfqpV6n8VuXg+YjeU8inLta13HNP5baMmBlYGHLcaaf38m\n",
       "Jyd6ZOmv8U4zVLfWzCzP4jyEBfhfAphj9mKKhVlaG5sEahkGHIEd5kTjj2JpruXZce4Mfdf0G6xp\n",
       "A6A5CftnriLj0BYT3TqgZFDXMIvV6nna97mW32IpyMnY/dE2C97l+WtPM5jTJafi2ynYNeQmmjwX\n",
       "d09FUk4Gn2kH+LbkN0LIiCwWv4htHVM/lxB3kzPyosgeLIAleXQ2ehB822selPcZZbvIIvabaDm2\n",
       "HhJ+R3V4WwzNtqUqxQf39sCuapRtiihLaVU8ZnZj1t5lowJeUezjNXYU3/0gHXs3QOAGTTMvDsx9\n",
       "USBVRtXuGMU7OLIIKyJZKTW23KSOjGHy1Evn+rsjkakSh6fyn0c9ukhwY9nhsi5cnyzm+sG7m/gm\n",
       "/0AOELhZYdz4+sB4tOUNfYM1IItoMjxoT9J+Q+IVN6ONI3E1s49twdnQGJMbCEXdqqrI3A4OL5rW\n",
       "tMgQ406KjYTKvTVodNw08l3h5TDaZVqb8DNPQ8SdSzWEtyfvWBy/yApPMJgMw+Rk4YSCA+ej5o9E\n",
       "ko4doxlcAwHK/2RBpf6VmpJzSI1+32mvycqNDPxKpNo5ZrKQA2ugxjOeK9uUmo1I111BhVg8ggJG\n",
       "MpWt9r3TYYQ8NM98eryZnPfiyxQxSR6y4pjyokw4EzOtuGlH/bSui7r/yCFjeNW0T3YfvVAFeVhA\n",
       "0G5zp8J3j1Tr3i6aEI1cFlRsFSPQz8B+T4Ze78WtBxWhTR3kK+4LGfVRLiK1DSTJfDHFxbjwmaJu\n",
       "H3p1ZGmZSQ08SAIOmyQXL/hVFd0WTQc57wUigK7cBtzUxkHBk+6dYxUppbWjDZxWYY1BzZBUIM9A\n",
       "ORVitTcfuhUt+ylgfgUkq6TkOwwSA8NU9Voc6gh0WHpB+aLaNV94qZvC+0T3sAnIFdsAfVJve6pc\n",
       "da5KQgWDU5dTJhBPPTkIhv8vmj3Utx0cJOzpTiLSM3Ox7ydMAaMZ4i9HbQz99OdgwGDOd537yma6\n",
       "mvjhEKnGliM90s/fCK8VIpQNYrD2YmdF7GgZG/A8YdbV/lLMWEfGji0s6r6C+i5i/ZgTOZ4i/e8L\n",
       "iCSdmhohH7ShLcFkxj20faEhmnOVePHILtUfVMjzpkYxEQvs6lc3qqVk5dt2XiU/TJnyJGQBBI86\n",
       "/7fv+s6V2qQkYSVkWj4YLYw5bY+jgP2iNtb39r811H9DO4+sjWdIVIZhbC7knD6QTird3WqMUvI8\n",
       "Fsh+/L7XKKx/fTP1kY1h6ncE167HtBof5b9zXE2PA7S0YnptNGxoLjAnGFNBQkHQfWqkqdAjsIYX\n",
       "t7pJ+kSnw7oOjtcHVroxR/9AU26AIUZPg/eBFkLZgrQKbx6xY38VdcMUrs95dDlq2cvngxBwHLSa\n",
       "5Mk1W6Qx21DB49QJyBr3ydOdU6f3yCCCGwuFVJqLeWUVL0haYyj/mjFzbpRKfuS7vfPwaVO5aWkW\n",
       "inF8KjQNKHt3jhd412CRYXxYdAsQXe3AkkmsROfGuma5LuNw2Qy4IZk0YfkpcHSlA2d3MwKQEtrp\n",
       "mRJtS3jfIXS4DISWBbvMUykJ7CG7UX/twCGX/KCkz2EpYLgSe5gQ4C0qXCycU7MUZWy8cN0rgNtk\n",
       "IlM0jxQBaeZ301S26twgDq2LkYPqA5qJ6dL7MPFLjDnBiYKsUDrg8aLk6OUQHSJVZWg65SbosRIi\n",
       "9mE7Czu0o1wtv4yjiRoEpQmDdBaUop8puqPef2CCKA0aH+YtCD+RdRsAP+QEbeIjQFZlB7HcIn3l\n",
       "mlOcYXvGtftc/lpCY/nGRYM/Pi8gAjocw/e4l/XVRxPKM292ZJuE1kxYlS2VZEpHvc9v3anM2nGq\n",
       "9MJzIEJp3gCP6c/28/nR/zCdMi59sN+0+atAu6U2SEtKwI0ERVBSMqZbnccrOzwUwm7KnNI5T+QD\n",
       "HEIbsEDcr6PuzK31+AkLtnt+jziHJyzi0MlHlj7O/jHi3vLTpVOnmrFjSB7pb4YB5COiXKqRA9JK\n",
       "q0sH02GewZLlD3MiniI92V+BTWgND4dv3Ph3fNdC2VrBTXLHtxR0eJzCSDM603qjoOluuGD1KM//\n",
       "oqFpExIJ76ZdecG56rzu5XaPws9F76kTVBhuDKN78TaPI1qEWR5CpgYxS4wdiwpiB7HTfou8UGL6\n",
       "Vs9t1OfviV+rVrti43y8z/81afqiMi+TjWvkrSSdTX1x7Q4hwjglu9lbMQozb6cUzRkSJkn154E9\n",
       "VTz4eDAwa6zNiOnwF1JXdvuOt39KXr/ky+Ti0d/Ir+a3++IkgNV5VmvAkvVRyptCYfkIEsHcoysv\n",
       "zzztKGsMHus/XKfvvGywC/UiAUsg5BWurZvJngZ41YdVyQAroaVoTMLAb7ucftVsowywG1uHCcIa\n",
       "j2wcVfz0b/fY9sEIxPrOmAipszV2l85mMyHAToPJPCrEAqsoPDSabXGsFNTDIovDqeRt7TLaMicj\n",
       "d6rE/eaIP/n0pxovsC+e+nL82x4jQN8Szb5CxMT52VU65U83yWPCjjfGvzE/cBEFbnOqwtWG3uJa\n",
       "Y25c3FDVsoq04OI43dUDe4/AmWbQANEI0VOnK5GP0k/6W5pTHhv886ZZI7OT/Yy2BnnB8thlmLDN\n",
       "XZ5J8Fl6TN1AAiOoWN+3bXB5pUfXyhBKFM0i3FEASF/l1+980Ze4ImqXDvSrrDXDp1S/s21lbdE5\n",
       "gFsLkRvPwA1Lab/w2SbW4b1AicsIRA6MiwwSH8KnWVw3fgSbnPB/rQV+AHO7x9BoZzmrGk90PpGS\n",
       "99ll+YN9jMeyTRenxCDaqwDkekev/i8uLvwiPvyLI4FwZ8uYn0Jyu4rGNiJM7qx/QBCNikMfonWr\n",
       "9JNbZom2BxItieg7Qu1JRgX1SpG8fABTNR/oHuBQRNY4tpfg5MnNfiOTeQghtIoD5amzF8BPNqkt\n",
       "nmi/D+uuvyrFVN+U4AbZRV8Xt4XyeFpPpkWnUFDAeouWXQhWn0pp8a9ApRPyUj4UfSOVQEzS8Du8\n",
       "TNum72WHLlE8BSzYgqUvMOnAuhLH2ofUbBPLhBgED0ivxKVt0fpM5rzhEfMavnuusIMVw3gyGKvW\n",
       "gLUa18hLmOvgbevkIL6//zGX2/ZUERLFrnFty8DcAhmVGZO58bycGdZXf9uUDkkg9Xj5W0Ykqu5G\n",
       "XKBHXWXhx812KwpvpQCXIZvhDSmBiNjdnS8/M5dwK95P6GiDoiATMmejk9ro3ou7YjDucXjZufIo\n",
       "zziiYeARKGBp4bIvpiulDYxIWRcJ7BdtteeP/E04Xw1xdazQ52w/ow7c3MXJjGaq/PX9WkesK87r\n",
       "QuOAjZqyFkzvTEcONsR3Bp/9lCHBg7QRDWw95WtDw8eXObs6C8L98R+0AxqUgy15EEnhgSPzBq2p\n",
       "zuDnBsnx7aE8NbqYBt5pNZGwKXl/moXQusmow2Sc8LaP7VJDkv/h7QTgplbX0EfPZ6YjQteKhtsX\n",
       "mYb93xl5wcHIgX8s2j5TCzgVibzgpyqtvRQgU0tW4zqXw2sniiR5StgGDm2/mYbNcw9Srby3UM+F\n",
       "ALPhkJgjhQ4Wc5lttvdB/X5KuG6SH0RVb/ur/U+dMd+4vIcp18Rvz1Zk9pQX9dWdhEXZDCSGcxaZ\n",
       "NrJP+03Me55VfUzyFavt4Jhgi9Xt/jtYl4MjxJqWbM3/I3mzaHiK3QlratoRlcQj/T5qXt4sGM1T\n",
       "zr3P9LieFVjbTEhMUeWIZnS4qXRp8bFRQQjKUolBdS12ZXDhvGzeOGixmKLELxRlD46yYuKXBXJq\n",
       "rEoAwPH+FoBSBK2dhCxrWmj+taIJn1+I6jH/Ws0aecoX9uHb4l+c5McfVNrL6eNUU3bXtURD+9hV\n",
       "U0AY4ZjO7IPnVFeQvDwGb76rKhCQpcUKXxLt2FeCSZiMm6XT9ocxX1E5iiRAB2sQnsX6Jle3J5La\n",
       "8SH09OjuPTVbJEAOrdIkwctp7ffwgH5JQWCb/SRy4lNkzbX6ctwgHQfjPaPlGa+f5raFWORZKqB9\n",
       "/EXWiIhxaOzb9T89cex1RqEwfYC48eXDngvZEqltiBYTgUdDcFDVU1Vd/IEI3e/d/8f7bHzc5IDa\n",
       "3DnB8R458cd9mygf+qyTm2J6ve5rIYQkSWydale4u0HlTW8eWe1UmvmWn255RL0g8NnP+UAhg/Y2\n",
       "sNvJLb/38FSO8v5zVSY600sq4DUYaQcvS39FFV0PwE6aY3vW767W8J6bbKtYuaDTXh6+qYSkQ+X+\n",
       "dMl+HirFDCURzi4duKMJRTxVj34U6RB+x2JwLjBMnulVi35VbxEjTeeVxhY45HT+uKJZpMmXrdXj\n",
       "Sh/5ZqOr/38hoDx0sSd6TEBtWPnTkYNNPfdeXyCrdMyUz9x4Gtn8VIOv5OuA41/eidAMmSxtnjlF\n",
       "7furPuZe2Cm0SOcThxTapkkNlzHoKo9f/rAozQqLeQQPklPbUYNBDogR84cE8Zw1SFflYUyjYGjU\n",
       "Lm0T3LHJaLI7K2n8Fk/8SDKnhrS5cvDUGmnP1ISEqYxf20PddFg+r7RbvGtjW7DzCzfAapbzqs4k\n",
       "JCt6wi0QYAIdplAP+rLuGix78znasRfTgxAvdJ96rkDVPccMMd0h15Cgwy70acZ9M/mUMk5IWfKD\n",
       "4exv8D1zu/zQPogEN+O3v+y9ofCz/uT/6v08BvqACP/nr8MEs/askD5LrxIh1NB9iJukxOQi4odh\n",
       "5O5fXajNX+5F4N1d1AkypBlOA87ODGzvvdUTCCMYp63YmLY3fKcvlFAUdqKQNQb2JmyJa71k06jz\n",
       "LNHQ9INW+edShOByt6LK2UiruEkoWAM0yc2OevPd3LpQthd2+drBZkuceo8uWNd6KLjNVQIGTvvw\n",
       "V3Jnym63zMfFhmtuyWClSWoNbVm3bD+nidvvWVA8wh8Xp60ZbFzRGXzgWd1UtCMlLnIEGlvLnDeh\n",
       "0+HoWAXbqFq+6Zz+sQTR1HP4OMKEV4vJh2Y17aTuwS3Vn38RlhPkN1TXx927z6TX3U3VzmpFza2o\n",
       "pFVvhGdwE3s9+Ye76CTGNX/zxv9urLNvyYmv8LZvYm7TDPQVr/82eWT7MQmvc0H7KYRAWtMx6JyT\n",
       "2ZsOCzSFkMNSHayfj4Mo8cr4d5MsYPKA4BA1kqtQ+A+rlz//YltIqXoJenk5+34ZhGMl1IoDJW4O\n",
       "FcsmUJ565GF3LYrZud7qFjnPGOg5bB4fR7tkVTpjKAVL1hVW0MnFUnjyQurIuKOgMnGtTrkG+u+K\n",
       "F8yALXg0ssapKW4WdD85I+k0OsdZQKCynrvssOZWEGpihoMTtos4OyhG8GHDgMj73yGEFCqgmvfA\n",
       "2Jsa0z3TgtBj8dQtMf8RHEhUJK0nmVDxxJWEe4PCS0n0auH1ksGfdyiK+13TJssQ61Q02mys2nG7\n",
       "ICAxEeWcFuRXpC0gpMzDtnL6zx0dQTWq6MkAMHbVAYIWAz4IZtG71NVnsAGcVRzmkqKRvNVPQhvI\n",
       "e/07ZtdzPFUVjLIZdMqzFsWht6E0EoP7VlmlNGx8d3JCktprxZ5r67ve3c2r2yM6I3kQoxfi0Mbd\n",
       "xZIHJ1esKDkgE4c64CqyasKaRz5LzlpfTNWTKbZPYlfVDwkaR4ijAANeUnRN+osg+Ng/9DJw4+Hz\n",
       "GBWcT8OkmunwFEenEe9v+dCrXsrRprzvI4DsOoQ4DS0aKj3l7Ye2fix8Uf+GqDoJftwhuyP+M7KN\n",
       "MXXB2n4i9eM9iLd3Jd3W0Ix8fQE9D4lwWsyum1OMgoOKw+Z1ojhXNKe3Zl9Q9tvJdgKUqakAC6OC\n",
       "3hjBYh1Ug8NoBLhhc45DKOUvOxhd3wvx5DbK/LfZ2ZboTIMG10djcoPqmsv4FUCFld3OuMFXtdib\n",
       "yoGB0Fevvu/mFI4AITKAI58JNDsj6msQl8vQBWhHC2+PsFqRLRntlPBZba4pYOFvjvrDOcOmwQAA\n",
       "QcZrVrO4WtIEoCO7rvnyBR8XXxWpBttY/H6uOHf8Rrgju/0HYV6SwSWlUMOn9jz8O2Qi60cdUF4l\n",
       "IdgeVGoq3djKNkH+vXKqw9ljjGV7QEmgIsJjSHkjtIRopnLvWTLrwKiBXNcdXRC5rbxF9G0+VLp3\n",
       "AseOcj91lBhFh3bQqbdiD6C3CLgRZbEr84MpgrxH/uIcJ/DqDfYyd/y1i1dcvgX30fUdQwl0RqTn\n",
       "7nPgbBGBkhqRJiM0r7nx+BTuHnSzxW0MirGrPrbc+7a7mlYib/7393MrUQIwHGI4jrMvcxSkOX0Z\n",
       "gVRN5IGCs6HDQZyg75KFdjguP4pEHzJfb/uUVYp3QWKc+ePUP10gXLuHUPlAHjYcOsVDeNDg3rBc\n",
       "HnIArQayPIA0KarZuMyIgNzSpWNeAt+sv4+T6QC7hqcHpcusxPCi94QU80+XQvz2d5cySc1pesbR\n",
       "E60uz2Ug4ryb5AorfcW1NJZPCqUOg62EcOrj/p1NXlkEuif7vIe7oG5JphT6budwsTzxKh24mB8X\n",
       "umNoxlix3bf5phkBk4ZHvKrESA5Mdfvt6x3apekmhEBskti4BJL7WcMFTLDzTuzVLTB5JAdd7ndA\n",
       "fnnKm/6NUk/QTOqSbOE7a7Mh+SHx8695qbhVatvc5Dwg257+GgP1220JVhO6aKydDuDUG3noJuzO\n",
       "Quf5NX9pvEGYongAtksC2O62OtoSIRAIA+cuxUrfUFhdI7axvenkzwRG6+QrU6dpvuLqIY4b63/f\n",
       "DicU55Eb/W18NiUGOJa/VZIDnU67mW7VcLNughXnOkuoc3WjYOfFI493VIZrfI4jFt9oyPk6nH7z\n",
       "zAQPdp2KUKwkpYxHNhoO99vszZoCvYAzn9d/nwC83bil3lSIVnZFIDhhSWmTrGTF6AVBvM2ZuCvr\n",
       "jbcjXfhTuBArG17avPSOfhvYLtOXpen4SamZQq3+VaME7z9rlB3b1QiGSRdlXhz+1xWMV/R5pYMc\n",
       "8sI75bAeqlSjEgH3kN9RFiYIHO2kNizWmMRg6JMTDXlI2+awxhKVxH5tmrcnQ+6C/qtytG5jsTQs\n",
       "iJZv95te/vMV8djSKiFgS8ic9SpLjchfZ1MbDl97yNei60DWd7R3nL2UkGrYnFq4WDoXF7WtMqgy\n",
       "lwg+USOa2v8wD/HXoGfXCg233m6Rf0Eu7ws3/UfziZgppTnzEyypGuyO8M6o+60tndNK0IRfJIaI\n",
       "uucT834ORdK+snSaJmGNbrdjD54cPRhNDTrrvRKM9dtG6O6CCGke7OGuo/SQZclPTZ64wA4m5xRv\n",
       "cjhjK+fKCldWpgkJyVTMwsoWFmFcMazE+Bz9JZH7NShDbKFmUGaplOtNIYftUTr1APZXPT+INOJp\n",
       "Puein/AbfRWuwacDZSpBFxy5IniRsUttiNE3V9LlBl8XfQZZhD19yVQLLiPMljXFHXeJvvbJhKfz\n",
       "PGn2JlrdAhezvL1iSezXOrtdfV0R+4lQdqFe1VGFcC5dBs18gojdvOjF/495+vneqZCVhDKa4U/P\n",
       "so12AE4qYg9hEXVpUknxDb8dfOnlfp2UdO5tv/HbKHGscX8/9HDivRGZ2c8AGBFb8rvwjWBYFXV1\n",
       "b4IYkmA9ME9FZBawmIWvMd4FP3ShiLINRKepus53fYKZoW3RYXlRas05VSfllK+sDrxGI1XPfS8V\n",
       "F0eeM44cz/q4FIbkWWi6AyzijOwXy4tyXK6ZNXpUvCZkuU1bqSeJyrYyTt6vcoS9R3UbiImq5797\n",
       "pp6LWK7OyLRCVzAyX4DyWONoQuzbZxsPNeiOLt09C9utZ+9e7NZCjl/sYU0y5/nCgRXpUyNbuEI0\n",
       "xufmGzfOGziOTkW5TSS+KEK0EaFuxI3mjXL/5YSLqRfmPSC9U1Tbi8PFnnHMa322QWy5/ViF2N/z\n",
       "N/njt+xpCRJdfslWgzcvsm/nzzVHalqElYdSYyju5597P0iQ1CyUjc4MY0CnhYIe1hB2L/HNpfsy\n",
       "FAL+StP2GgmW/qu6XfmQ47R2YGJCpEghY806GbLR3gXJ0x/d5KRjpL1kOGxZnKix9ObhRH200ADE\n",
       "NW93/rJWIlJTF/g+n6QIF9LtHs9o1cIHCf6Q/M4AnWioFSZ7Pe/RN2npcXKqguF5XjD6x8lhvkYo\n",
       "4f+AsDKtZY3MMokR1tnXr0wBgzaMAemiaMgXa3NJ/DTtxJbs8DfCiAHUaHYuPbfpVUpcQfakt/Ld\n",
       "KUAKXitsuOukyADnABOfpIJhNAv+YjrWMHZ73N+bXlzEnR1LT5iQ87QzNIRNM6jJ9G4y68FLSxBv\n",
       "nQ4Cs1lg4+D9tEAuUGAFvA25UavzO1YSz+8Ztkd66Z+rSQUx41VjHCm/fMejRyBvA7uEetecBlR3\n",
       "CNozNE4xGUkocUTs+iLzdcHykAALFirPEBUjAuMWlx+K78SpmP0/4bSkiy46IIZ+gqKihqS3ecTI\n",
       "il/qlNX5xBOkWWWLIKJ3onhMoTkCPxFWHh/t9wEtCaxv7+9Gscw2+Mre4iK4YaSvmfnw3Vw9Xxfj\n",
       "rgpN4ERlBe12A82jFZwxFlRcIxsuJgWmiCWwBEifLodBTax1HiukgH94iIFJ0irphK1S55OltcxU\n",
       "hy0uGIGtV5Vj4lqL5xjAGvf4fq5vEceOe/w/8DaBg++k2nA4K9DOmSikvQ7q2S/ka0HIwHJXpQ4/\n",
       "CAc4cidyfpiS5dJ/bBGQVbWpvSPq4W/KlcAyTgOJ1w+X/DIm1TF7y3Ro1Q+T5hPH34pzWxe0DxPe\n",
       "GC23XEPRVv0bWX/udWOSB47p2NEuhoKSRCexF5vsUW9HFI03UbqQ0YJihOmbHS6HTm4AiVK8zwXf\n",
       "r0XqZPuIVCrgKUskSrxoc3/UIer/Vwa5Fg+hQRI/s+gOWg2l89OCCD1IgOfSKPQexjX51WfhCRkJ\n",
       "0CKLxnXOJo255Ywjy2SS6BprcCG+yAEw7lR9jkE7hOdupbHCZkI3NUEFDRgsgF8rzgpRKngf3acm\n",
       "1f+lhbt1n31s0ni6k/vsy7Z77zrl6gY3vxqjnqz1iQO9TQ0Khnw52jSXCEM9EL4f7IfDkiSm9KyA\n",
       "IJpydrJ4FhzRr3MK2lt53yYzhZtv8xOQKPWyok3BfHf6slVoNL5qFgjqkZxbILvYKMXB0wdwZzCx\n",
       "cqiGBEowOLXbeaWSdzwl2eMbPmM2Ygyn4M4NfNTSSGeIaCL/AKAWFIK9SBo0JyS6INfBdeYZA+BR\n",
       "JsFzs3rm373ufHekwMMsbPrax5nskwiaou0T3GtkWlvzorMNPeAQ3Mv1Vy2JmsBQE7q3nUCEkF71\n",
       "Qdjd11TWvpRg5ExJj8gP6L89kvkrIx38KidRsRYhYPK5lATys5Lv0watMyfgrrig+VIZVmv+8nV0\n",
       "a8SRZNLUWkmdRzpVzi/3duLrwP6sLr67Z3TUGrKnpfaCmvoICs+YExRu+CVGrUA9IgpGgN3+oT0Q\n",
       "QxxjKiGDY3wxtg5a0UD1l5HY2GkeOGrDO+1gmVT9fF875PuFBOdCUVBHH1Tx8Xr0yNFisegNJ+l/\n",
       "fVOlhcTmySCzl0upxzSgTGDqygd33/Y78GTVRJsKJCiwfIO6hEp97AeBdO0kF2HxRhF0adeuyG/2\n",
       "OaRQJdcw08dB6LeVO7cXiGXOnHmQ3T9IGpg3D0LPpX7n8xkE4qNVwHiHUta/iWJRspAvooB8mnid\n",
       "8WC8ywIFg7zoh0pZLaopiRFqqa0qcCJ+Ae1T3Eli1ElCcDebwe8kI8JRhOAzG7WT4FNLJGT7e1m2\n",
       "Gru0mTNPDcGa/ugncZWh37WjGyup//QtgaboL0lYK83NtkDjrmRzdNyzF+Id4TlAqAkEiYvJo1hB\n",
       "QvXAbvz8o6NjlOqAnpXXJQW7RVI7/m5f9c4Tgi7inYWvqM+v6ADZlma1GdwxPr57lPtZf02J/4G8\n",
       "YfIi6wEki13+fHxxaXCxuUtxsXhGrFm3FjWuLV0GdugsP1cK9LkbEhPoxAjj9WJ8qsEMgKYPQx5h\n",
       "9ar+Bubjmmyw/7aRgpyn0gouPMfovlpzdRl4tqvpv27QnsDPRIkutzpS7zaZxq9JJTywmV0+nhd2\n",
       "liUBTRshZ2bYcTRcUeqF9Cl71YkdipEWxSf2g30UAB1F6R3oZEAmUW4aSc6LMn+h8kl2WXEfZgGW\n",
       "vuJ05Y5J9jmdaKuKEBsskruEIBLpqGWB/CoiELwGC4c9fZPL4a6LMRQUhqfE2Y0NT0/xuIMeYaA6\n",
       "7v3wdXdRDevbyActUWmLYZiVuGCn0I36uooOW5KCUWBzg/0MxXssQFiaxfour6nnU4LxtPTDzMHW\n",
       "7DPl9VzCrBe/5mlh+eANUbAjYEtOLhLY9TQIz92Xb5wRZd6zjALuGGvRzQjSxZSjgx21/wYveuOV\n",
       "J9msso9s5T6Hdr3kUUEddy+BmiYqx2xYdotUoBkj7x0OfyiwKx1YSYIrfmafZh1aqk9hcjduHJ5p\n",
       "td1U2PL2Lz/Pec4AE4MOJGliwmSyWfGFSo8aZhd1gSPJc12h+VG5GtX0RgF6Kmpf3X2bM4WvI88Q\n",
       "g/hzfmbRZS6kwOkFQcKphGCWUlglJtiRHVsobGrJrg8KCqUMp1Dr640lWo8tS85ndnpjajR9GQN0\n",
       "x+/H5mC06ecyxIj3bo2UVdmvnGAyyT2yo8099vcPVcj8cdSkTzHP36uGxLytWk5851zwzzvGd8Qt\n",
       "FRBG9z5qPXt0iXGMEFk04YFandaPewjZluhKOlwfkPFQ6IjKHdx4wRlJL9qnrlNFtOt4AEuNWYuU\n",
       "EkQmodLnZceFoN9peTw7dhovbLR/tEdN2AWBetFnmJWQNwy6KX8qrHCUd2J9wod7I09nO6x9YnDn\n",
       "ojBCOtBhvMl4Y//NetlFsAQ3ZVAfmjpaVgr4lPcHwO+qjZlTck5aHhpqK5VCAVCJdojYYiRFqvWh\n",
       "9WFE560YlRNlhYKhB/8ckMggWdR2h0vPPlqJDL4KTXISKuXaJftXMrW8X+MIly9NMoiT3XiMIxIs\n",
       "h+Wpw6j/Gjnr0JV3CaXQ/51J7m46yY1CH96DibnfoFv4yqxAXQxd6e1o7KJU8atL0Nmo7W72F7C5\n",
       "vsMnF2j3ty07Bu45GSf64yy/D7GTMaB/7ulX483V3OKW/IRL7OElgKcwhgS9gPj4vaAUZSzju63s\n",
       "g+MbCnuQNB3+oQ8+wK/6bCLH1lgacC5D7BilPE1/bZuVUIjF2M0wceC6mP9DJ2Jqbyw9CiVNMiFN\n",
       "gkHUUgqJZWNGY7tkn3Uc61XbwBShlUs/Nr6VdbAnDGC5wtJsZ8XCqFxZ1/prQDUCBfGvA5L6WP/r\n",
       "6vbL+qi2ip/mZNDjnT76HWgaeE6HWeovGE3wNfpyENSv+hm2K8ukWuejAxSY10VDzSUujr4ouB72\n",
       "ZpLlQOX24hRd3iWcUuhrlEAe8QvqHMRYI4NVBATtuO+KnvqkJ49qkiOwqbiLp8ajgOKSlfyCoZng\n",
       "3kN18EVjsjq+XS6c8reg5sIdvBoKqJxm0GncJeUjhQyihT3GXSBhAWasMMMkjeWjUkKUalnAVcLs\n",
       "e7VN1BArzEjOJlCsgQ1M/pUNVCLr4w4kYHj5Lp+Y4MYlRc2HfpSa9Po99ZmmMRIutjzPPt1t+9/g\n",
       "jiNLvvY/+3Pg43SnB5/8rGxhXmh/lIr5udICEGtKT9AwxZ/bOyy8eg+aAr5pADAgP1YvZgXnyp3s\n",
       "VJFxBI1x0oWBhJbBYR/CFteEbjA4XQ8t+JXm/iCVl+YxzqnCcqUNbsEbNaSjJKZQZlrBzCYKHvXk\n",
       "FY/lkkdaROgprWFrpV2LWJCIgnB82qF4saXRp6Mrt66HKvh4zvzf/6bDBoagftSR1Tpgmh+xNDyP\n",
       "GXVcJdV9moIdTO9H75Xs5woqtvEGMCoXUalZxtpiHmds5jD6ibVFK1z3I0lWYrZtIgRctOud2qqv\n",
       "QzdKZiFMLgf2p1l6Ryx3jq2DW2PRJSxPxpRdixBBo4DFD7X8ZyAIKkHTwW7s3TMt7YxTrZTncUj2\n",
       "pJZfQvVNg87e5d0dOp4mCYSsECPOM0NdumpKPivrfncWr++s+p0VR57qJsaeejxlpL7Kwmvqiv9g\n",
       "3koRRIAk8EF7AAy9hpZZPPe96Kw1G/4pZsobqk+qeExSkOeMhGx1f0mZG06YhoynNHbhioX0Eau4\n",
       "nkVEx/JzjL863C9/aeujXO1B/LcqOSu6T0L3dpQisULZcEAYxHRGQ1zbGmQ6ndi45aV+HwN8XgKR\n",
       "0nnSCaK4Chi6f82R3u3dzAEBCs/8pet7N0A2bjWgEIrurKq4cT2ho5z781paVZMqibjI3dC6EZsv\n",
       "E7/J17XBHfcfCxulLIAb71IZIvHyLtuVet2BUXjO1nLUK+PvjODasi3w0ksiKgd0fXe9RkoIfMQn\n",
       "bzKCp2+BAbQrmxRSXeWucijx1t+XCDYs3AKjjvfk9J/DW8+TLmYj4cbVlOzEIUD9XQuX7S/Np1Oy\n",
       "wnrmyyVrk67DhLzayBTe1vuPjYpRUb/m4hIWaczpcgWc4HTHI5QV+2Xmm1TCU5s8Dm8OdMkNW9sV\n",
       "+XTb68dUo0EiAeP6IvB5IS0zo1Rve+1cS2emLsORbkF/txjAnu69UYpeeZafMrVNpwGEP/g8xISq\n",
       "dK4LQ/a8F0x8lAVQppBdfJLy8h58X9Za+X2CvDrEE5V3kvUiyvrBXLgTZDuFPqSnbesxm1DNjDah\n",
       "tDUzMyhHDMAPcG6o8h+PMF4jLYUc1XCAycOBL6jN7lPmOi74yRStVeq0FHs111AAGX9sqwa/2KLq\n",
       "I+JbEbYSmH4FFTKst5SxasIFcP/5jLiVE0Y/HF11MDBlWMFBFdte2IqMq17JbGF7lvOTXq2LC8Fo\n",
       "XDSETwwCMNrPJR4jbvagvzKO/AVeLnic4imALt8FPE8MBSC7S7AHOXdrJt9h4lUeCTC18Eia1v1e\n",
       "dLZSB+jlG00BePYiIq9taaSyLVWW2qfCSp+ccuPmS5/iQe9MJQroXTw3sQy4mlEH1W/ml9x5VOBW\n",
       "OJMEhQ5ybcjco3rN3PZaa/ST0d5Bx8ZEM/6JGyjEsxGpwU0iDWcNTuSzzeg3mNX3c4jlRe78teba\n",
       "ASv/BmPBYFfAdxeqhywzy+Jw0nHGtbAkn0ELICSlQiMYIMGV9hqvM+pVe3ZGst9yNTkZgq+kIc43\n",
       "ppumfG0eQVgLzrlW7VfQvAXAzGjuXqMkFmLIZB1+2fij0lUeD2MV6vmCs62f3C+p6TNEsmixyM91\n",
       "CrPUCNr7MBDuFs4YqNCX1pCX9HHO+8Wd8jYCYIt8sQVf5XoxaBGD08T6muWwQ/2867+R0nc2gpr3\n",
       "fFvkssgGiJC9/f6QUcHo19j+OsCTK+N4shmR8Mc8xPphGCBKr0+UOopuLtA7+cmXvfb7b7tmu+3z\n",
       "6E+Y8tP9t8IgCi0MbkggV3PCMcwg/E3YHqIY6Z685QB2baMgeNQvXT50madLgfcbdZEetvNBI0Lt\n",
       "wOeJ0J2EF8/Zda5Ydc/DBLPpZTsLjLj2/NC9Orx6o9ZnnzTVH6a3/VRIQ8AvhKPGHBCJ4JSw+LlG\n",
       "/JisJwppqUpoxlp5o8OaBBxjbwWpnG0WytZkd6a2lOZZKgVPx5ADw2Wj2Vmc2DWN/ayjl35lf5wE\n",
       "lm8P8Z//hk/AegL3vsaXlN0PiJA8fvPQxt6qrUOaZnwUjDN6XwzoVIwgqyOzMmzHw82zbhBnGXtP\n",
       "Dl8zcSBa3Q4+agsADug36MMEL7xqxxUN6doSjUAaz6U85cTGPkXul6I6u+RmVU8ovq4QrJahCoMF\n",
       "oOYG3Xd64CLB+bul3bW/2gULE5qjofrEKRiOVmKwbcsY67ot0iwlsYeJ7hNPUc920yNi2Uj1/P02\n",
       "x9iFAlttz/ecTTvbo6tPtn3Vi/xLao1MqLDzD5gPrY5QkoNfWbl5ekkwZ+ZFG+u+6eviAK9Om7d9\n",
       "0+6sWB1k3hdQBVxEAh/AiOvImXAa2OgbvEB615eKW60U1H2tikg07xg4uRwIPf6/Yuz5dHxR9nIF\n",
       "tjl30Jfd0LJ8WjBDy2razMduvPhx3S/KCFGEfi4/I6uDelo5itx1orgMwQQV0+DQJCjZ3lCXkiFR\n",
       "55sfFF+x8Tf8DgI3TVMF0RjWcMHI64KHnUGTRp310FLnqAfbyD7bDCvGMp8T1UQv6UZNEm1psgVN\n",
       "RaX4oEVl5zCdNvXjfLsAjBju6xmdkFeZsUSPecxmvYegzLnsoqRuBMaWephA8ela/vppaFMgaJ8/\n",
       "8y6eSc73KDJnJeNW7p5VgzjHdtnEwfq+8qp5YDueWKxKvADd7i/mywVVQjvgApWsRWM4WrgKVYdJ\n",
       "qZjeor3tymG5ajEExlFHu2jkYMuiDWg9O0ZP1pw3S+0c7dq8gQK1gZJCtmmIUYdb4D0oFstnsm+I\n",
       "0je2qbENk5RNaTxFa4/krRtviTUV837TS3oR9qpLHCsYp7hnVKyAZGLXQU6z4gCwUY5xsn78/Bix\n",
       "TDwtXllmU2rx2zUvU2mYIdDDJ1VQsCgZsIUcXVIIoU/iUqJRD3/vIfjGCVRQJpS6RXK8p/zBDwb/\n",
       "7m/DObVvhzmSnjh7O32R2kPjND8S8YY6rNRZhB2LuaigyotAJ8FAa9euPfUbb/YMX9TvMpqGycBa\n",
       "LlUY3HiUTVadthWxj1cRxTMFxgDuD4+IJ3i5RvNuQIm7ihcptjy6f47JGddM3f4QeVX/Z10CO0o6\n",
       "Ff4bs34PJKDfD3qk6xKL1RadRPQ3XpUjj1wiHXDa47/jCel/us/WQNFJRmleYjf7Wk1vReH9nEHS\n",
       "nlRhNVTfdRoQqctUu1BU9eZpBhyes5QBY7p5BHTSDOXww80j/dct2dgp7EOF0rEwLWQAQg0WAyEP\n",
       "LVYA1leSjcMyd9gvky2zBJQOYkt7fb1/VwFRudZb0rvL9wTZeSCjAQoG0aas9Yn2Zzx5HRgCbykM\n",
       "YwnIW39xkZG4v3u5/1+HgT820ce09N81JTUlObgJc6oJZqbCXTpE/PukpegEJcET8umvz/qyUfmq\n",
       "LBzwguB/KC09dCo/I4UF0c25PKkZBauNYzG/4phIqcBeKY2IK1rnh329CvcY2/spQkgQTfoyZgwJ\n",
       "OP15tREF6ym2txr5yuzhsoQZtk3hAtuHpYhynuamMUZWJZklLnNRVe09VEyF4xl/n0ZvbY0ar0T8\n",
       "g+Ri99Q3KrOwSxCRXrAmbRb1VMWeDi/ZIUsPi0AjuCuMWVI+BVwgZNJAjXIgFBk2U1YraKikHvcJ\n",
       "JaFHV7jqSy309IzBs9DcVLw34Exex6WwyZ0VsXFG7vhnDWEpuDoRXXO84rXazCYWV3MhiMeLv8pO\n",
       "D3SY2TLIB/wR89qxL+Lt5UKGNvA2LeIGzMY0o+vTZ7lCZEEnIV7GGRJcpcBcpjpAKs2Yl+0SPZpZ\n",
       "o1d2az2dTOfazU1nJ0JBomsymrJS2fAT73tFrbp51262ioMDG8Q0lirB+DAcMBXsm7Z4op0sbxSD\n",
       "zuBujjH0zZrzT5bMue/iu445VnbgL6uWfERHvfxGLCOix8Z2+G/d4HMZ4ao7XsSVOei+CrewLFHr\n",
       "oglpU3cd6kuEvugIqbKTBJpEZESE3fNMLolG90muNNI3JabRLDP7RijzsqGbEmYCKpTg0ULx+DU0\n",
       "/qCXU8DpI+wmf97E3/fp22jNzre35c6UY4jKHrLbt7SmptBPcE41HMAYTFT81yVay5dADsN8/xQn\n",
       "wrd+X9Pw7he+A46CsyVTXZGKJ6a5BbWy5MQ/6jm5lDDUBpPl1UH9vd7KLFh8nrROOzt2tq8Y8otL\n",
       "mrZPTXtBNxIgvjbXn1HcaJUNcde3C6X7HCLXSuqJIZLR/juP+QwuKfsgYowyg7YYyvDMi+lvwkD0\n",
       "3OxYvi504SnByOFC4V95M5L0IBceLsPdQ8qBYB3BXcWW8HlpUCi5vHSC1gC0Q3AN/Cca6nJWAE9+\n",
       "v7i9DBmCHpT4rjZTplLE3qojAQxSPcdhUzY8keatz4uSed1mBdINFnQD9YajCZ7eOfDPJQWSa6nM\n",
       "DUvU5bac2uTRN/Ipr6plP1ojta4+3fEA55sYr4fusQ/9FWP/JaLOTYCiitHw0Thsk/I9oDs0FFJT\n",
       "VEVdfeSL3QhfrAp8ZYHUWW5Dku/SxuZNmo+pVns0gNgAvsVKAZWMar7pPzRyYNqxuM8fTGDn/71K\n",
       "3n9T4ibUjwfV1QM9QRWNpvn4RZJBas6soxj9kH47y3QPdsBa3kUQ02NZzI59F4lMpiTvUXrL8pU9\n",
       "KXTQn4F7t9l0u+7UhkJWiqxiWDXjkmeVUWV2bFtVHu5KZPx99jZ/Ouz7q1sQVheYde9P17u5XHMz\n",
       "o6tcuUB2HMtwo6+S6A1qAUZMxGLcmHBvOGLJYjTA5VLlm6IdUJrXFfKhXQTawKVpJUhalDicMuIc\n",
       "sfb/EsuH6rYL/ImTZ+t/S0A7beWuSWV+kgu4s/xJs3Q1mANoreqTMidld6vaIW00B9ueyiwn9zBc\n",
       "C1VqQTuvrZDrLpFZHjTCKc4genk7J75thD8VL531P6GcAPdANBZ3+D734RSK+Ff9W+0SgQ7JkmPr\n",
       "x4jK0f5ThwiVpLvXzYQlLrob8aNjLxLVdMt9pXXECZIFwGORX6inENFb0fqdLjxiDpUTLqlvhpV/\n",
       "7tc4N2M3r1FUnmgBIDdIeCkj3TZngT8jDd+EvwNFVd6feFE3DqhpLWJTEbV0ejA5MXmaoGq3r6Pb\n",
       "hZxRbKHwuHwbYWO/Uc4731qJK8SEzw+sE4UINsu1B/YODTzPSCreTJkg4bgz45axTczNolkr2+O0\n",
       "EIZtltX3gQlxljkPi0/0V3y7YG/Qi7KR7sqoftbHPFKczNFo9i/zyVS2GWlLh1BpkB7gIKstNpbE\n",
       "RDAUdNA/FuO/0EuKg6OZ6eZn40e/qsNT0+ya0jU5WSzJ1E/Rr9vIyxUpt6l7r50cnS9RMSWjRaE8\n",
       "EjQG31idUXgbfRiWQBoNZGADdoBYZrwEdId7R6Ipk0rbTjgSpwNPgJTs4P9Me2QJmoZmMsMEQBBT\n",
       "R+iWKjXH2tUmWFvGPjewtM96VkQmUBv57eNGGvHiFHJt3sAr7BQyMlbQ06B4KsErU72Nk/sekP1M\n",
       "OsaMBgOx5plHZp6s43JS52YG2ptKrhf90Vx5XWcDsOcAJ6PnUHYmQPlXqd/6xki8xwCj/rxKahSv\n",
       "RGNE6Mpnv/S+XOQUDgVfHcPS29dG0avQ9u/o4fNc4eiaJns8A04wE+I6ew6jZjZMX8PmQ3brYcwF\n",
       "DpjsDPDlZB3rd/wAREU1HqeDkW1VeThK2mMvl8VWhp8sDr0CBcToIxvQbmksWRWjeS6N4vda8OiQ\n",
       "SJKuykcASdLE1Jw2RT7ndMe4lb+RA0Z8aenm/x0Sa2OB3VO3BSRTIV25HWEFOSzc4fVLNKK9yCjo\n",
       "Ah70vNJJkBXNHbuHWUauuDDFzce0kMKzxyshFUC0IlC3zplT2k5KbdpIBV3gSg/CnGrzpIxW2RAa\n",
       "+uSvKdyKFcYthMnr43Jb51JQsLe9oLxYtv/YfcnvCiScS+4WQbnoy3/C6s+g1laG0Stvg/1iI9Z3\n",
       "3rDk1lWZUKy+MTHbMLnwSbQtUwU5zCyAmjwpdSpPwKnf6hssk2UT7oTOgVCmbHYqo3gxEsC10aR6\n",
       "pEj2ZEy7/u8wp/shVRBOz91mHu98ufZYp8tpath1hHQIHOOVmpPboPKOUCbqPUyume+j8UBZemyx\n",
       "SQ1AlRvCKBAcB87U29UflijWUFEahLWVtYuTuvqAErqEmqm4XYFlWpdFq0gms6MgOq8CCND0gQK1\n",
       "++fEvV/J7nfjRKt/wMHrspRaPVTdHbY8QOe/2Nac3v4LSHxWB3jXF8Wu88u44nR0BJSvi1WUyyJi\n",
       "I62KEzEddoxMchzrL+p0egMxpZ7uAH9i4Mud2wAO7HTTzYeNzGRNYaDbFybtSOrhQZWxGeqdqSzK\n",
       "g+f273IlQfXqvcIkGRnM2ox4chiZRUZzTYrLEww3cqCwKjgkGH3EW7hIqm8SsGXcl7yptccMebAt\n",
       "M4KJBSyPeqmEaHo1gl2yT77CCtKm5DyaV+a0dRLuR3+6P7OMQmrQzowBy/Dn/qhsbGeIjulUI3bW\n",
       "jkU2BNY1u3pMYs8VHBBh3fUUo2T6mW1Q/8Y7wD9cYjrOAvmfhU90A/uUFXeNMuRpKnL7Jj2usAWO\n",
       "0D0qrfJQ9H0oMj7/jiGqurOhVfW28Ygh7MfHvf7/+xZ8SFpQUsqdktHX0+om0z+vBE9d5opZ2u7C\n",
       "cg223ByF+WujTPLKK/2zj2vHY6TiuD5FgZ8r6PV2bpFiR+E5ES4xb0s3cnejEljCH56TT5eXeI7E\n",
       "OIRXhcEWPmzOo2ehZ79y0FQe5HUGMvME1snhBiB6YeWCe8dMRMk9I563NCq+Viq85yaprRM19BkW\n",
       "7C/ML9xM5bQHeOfc16YJHKd/4iz62kO1riFHMUkgPhTQEVLaJyoKqchjXU6/5nZq91khOgrci8bN\n",
       "4uQ6Cgr/Y7/wSK5A5rviQf1OHEeLWSLwB5at4nOiONQQoK3mw6b5EFH6XZvvps5EvOESI1I2UqmN\n",
       "IfdeZUvaT1MgnhT58+mvAGXpQiVaD0pAOZU+uKJ2U2AYAcyIYQn3iiJTBEJh3cGAWufwbYc8DAms\n",
       "+l3A+zWv12s3oMiFc3j/LUuKquD3rknpu4bguhoTM4RQ8QjGltj6y8KLgPxDdu1XLzMfpxqq/grk\n",
       "/I4o4ZT5p6XO8OC/u21/x0zwaEhqd/klnpFnB366bl7jA/Z9SPAf/8lMRgePcsP/DSrNX8bEo8RG\n",
       "6H1MrXQdZgjnDVrvS24vx96FJ39CHugQQaE6OkrGwFQVdSnlZ9ojdr1z4XyF4a9rw5UrZcAYGv60\n",
       "7hIkEL7Ru0LZ35M7BbiZp3w/LmLWq3Sq8/j0jhLP+aKk40FXZoXBvUrNJlZZ3uXJTTnSLyoOF1/w\n",
       "4z+aeNh7f3k9DMnzJwFoiiW0rwytn7cwJ7DQiQfiCvmnza1N3eyc5oKEsRnV2z4HuQ9tQCO5Qs9x\n",
       "P1/qBoON9p1X7PvJazoHSf5GqnrWUOmEFMmEyOomfFZc0yJNNuVHzJJwufF7Dkj+zlcLmLborjoD\n",
       "dhcUbFCmvhegcIn9je8Q1IHkQ/i8EtXvNqTFBunoqpBhS/vthaGHd2ZDOinIJYNOSCtiXAX+GOfz\n",
       "s0hyHbsUsy3nQRSUwLnw5PgA3yY3idpq14r4ypnUKM1AB02Mo6owyry8P3+mHsjBZJT8PFfxr2SI\n",
       "pJTccIU1AK3+r3GF6dgSIlI+yo+BZ9XpN4Defj77ZHci5nfeA4iLXuVerjeb2Wj36zcD/oBj5RR8\n",
       "V0K5tfoTlVEkO4iByZJVta2zTzIwwE1Amj+aWJuxwLEdRIQShPleArgyiLoDsHeGHejoQ90lt+hA\n",
       "o0iMCsdfo9PMFfMI4K+Q0ljYNl7EQ02/w+lw2047o1fj7oM6mRVwsyBDcGJEulgR5lfXAhiN1s8F\n",
       "V4J2Q0Lr9XTbtb0B2vhAkn+vuNOM69F/Gen3NiJKBa2buevjnUWOQX8FUv9w3novTxar+3ELhtIT\n",
       "thUt/zM7bbfXMUVmO/aH0Gdrg36kkdB4FyqgbFBKrRSKoBv2lvtk311/pg6sKHSu+IN0kbjNilPi\n",
       "G4nHVZ0Sgqoqoc5coBTnYsDM3UOeCku9dkwnMBD35rqn8VpEe1V5r5EoyNljcEdd7n+EPtRg/hVm\n",
       "XKrg08PWLDcCteQpu3cXi6udSR0M4YBzSnYrEPp6NYXECYhO4sVFuv2DcQR2snLG5ziNom778Qhv\n",
       "/pTd/hPZ02yIlzXFx8ObdAuSKwL9LEUD7LJX9Dpr5CrVo2r2LlKcxgr6C95H3cDb4xjlWOv05FxY\n",
       "bAGI7GMkkytN2nK2xj7/ve6tgen3PpxuxoDX3ehlN27zZKF57NjWc5ILEjqWNF5ErEvnbdyCh9x/\n",
       "ckK0by1rXlriYAorzixIAR+h73/HL51e34e0GqNsrohPwlZWVzfBs+0vrvAk00VvMS0yc6CPPhVb\n",
       "BuI55tgzsuLtjKlLAoMLaFpUKYwBEuYKRNrfsy9y35xzl0aJvb4m8VZMDgZ9OaThaRqK0XG7hfBX\n",
       "n7fp7vdoSUUw6TE5R96qGpuFigPRnqp+/6tYhgDUsqfSM8MNJQnjobgjGzuthOI+31l0doFZRNz4\n",
       "HhTzwvJZddYVfWKcEWYMyG/JUU+MzgAQdj1mZdRejkGDoCEADNVWT6GJf8ULfna27FPka7HHmIj5\n",
       "Xmr1oDhTFGMZ6Qdt5MiVSWG5Oz93Ovy+M1O+3uqE0Qtcs7/SKUqXFHDNtqRcZ9X56PCi7sqKBX6D\n",
       "9HYd/lOCCLp3KRUxpCumFZLQO809wE0mU0G+DchSNQOuJsluor3tqE4ziqs/x31pD4ofNAgHSTN6\n",
       "CS0/optiOUwbxjmgJ+gCWXocSsgXOptZqqvTNEg9Z6ZGnwZ+QCfM3QsXN/N2/BJvm8sW0nJ2/6Qe\n",
       "WlVnpDiZ9ekMNgA47xBdEbXSLnvhvaOTjNMnnYG3oXWFQllQ9cdmYszOXwoGzJWwH7Iwm72+qcgE\n",
       "7FienE/bSFRluFhej4BeosFS3XNV55rc5oaahCuIK+OeBO66WPhEm6ZGQH3GgaxdjkqXyqR8u6a2\n",
       "JLjSxgzQfekth48eojG9IupLvHKtp4oMkCDEFXYWKWfFjK96o+WYQxDMkav+got7XH7Wtw9Z0/iq\n",
       "kO7re3kxYxcmcANCLYJDRAUtexx4Kadh6jieMqYxLBasv00WCaeTspMFdVKKeza2fVYfDwzUM6va\n",
       "Onaclmlzg9I5qwxaMi2SyfU6oM9UXCeoCwanKJ7KdXvPs+sZ/ewRbnx9jVBGbG7fC8+ixTN9Qp1y\n",
       "bVQ0lffvNLz/zPR6Yr8y83Vovw4cVRtHi5GA7N+Is7cZfpNs/8YfUUO2SYgrx+TUHhGy49THODyw\n",
       "DPsfeBGlScLK5LT723pnTFHaYSrSMUV5oB+67ymKqGaphwGAmn9rYGqzcfnJlU8MmeBSTufX47Lp\n",
       "9LL3whdM7PNmOG8ykJmmmUWo8Ib0rL4K1xbNKJRoQ7ubgDkjiXgqj7di13NYxFiMbendE16uqCj8\n",
       "1mtY+LpCbKWNpLV7iAJJI3UeHIyRrlQT4Zq8p+m1QUBhNlXLO05CgTaVmdPzlUwAE9oz0+f9HvWL\n",
       "DWntqUf8pP8P4j8rDAwUmdfdXgRnnqOXaSK8Cs1WVtgbKKzdREpIV3KTSP7g02aMIBeJ8UhU/gf6\n",
       "Jl3cg7aCI8qdIc3a0r6o8mwO4JqDIgBQv/gwuToo+I63Xb5sxVU4dCOQwT4UdNa5fCIJr5PM74Hm\n",
       "4S9h6RJ2U6Ctc5VUhYdW8fnyiDvhgKjZOT+v9wfpfeioAjOBEkCx84TPckKPoJ6jdfpqVEz47t40\n",
       "mF4udOgf8tClYdicSgPZK3FM9W5tdwbbtudfjVVv6A9V7bBPQ5qOtlenjhBS4oaVvkCYwtlud6Q0\n",
       "5+rlDstCCr1M9i9bnusTWMLdnJ/jmOtPqgRtJ1k0LHVH1yK8o2zwl0OdmVKQrBm09HoS3bWgYmbk\n",
       "TDT/qZEl8g38Xot+wakoW6ENB7u7OL9EruPQqmT6bxwW5FK7toUwosPFIBjKtlHx3+F79GtlJoPY\n",
       "2TxenLkBQG2eVkAlJC2aOWaYZ9F74thETZmwqBN+kRpiNUnMOLd0tP7qaMKLHVQpZotYnLOkgsty\n",
       "YknST76OFe309fn2ZXBuXLYzLh1AlAtfcV79nkkNEd0/Rjb81ihdbiCJ9cQDG44NwHdjViGNRple\n",
       "7aKE594aYdb6OYrx5dcbuMjE7YW7vMIupF3MN+3/d7NSnlMP0RA9RDvrqqHgX9h4pyoNuBmrNd8n\n",
       "ySV8EF98PXkvC+csmOQu1s5nmEsxlG5+oTmV2Zv84eU0eEhnGZxCwL+TXdVP2qnhAVPnKQTnMCUZ\n",
       "ofm6TscBIM+QvBU7meRob5cksn8RyMT/pQ1kWQiAGtSQalczKaesNMXc9PsLDTWXMCFFAWJA1eNw\n",
       "6T+KuSbQtsOv1OweTqz3wkLGpjpvL8dlY1kQrt3xG7beqWEXkDJqx3u4wV2TRuUhVXFuT+e5UQiI\n",
       "Z64RjsqoSU67KraL7M8hsTuo/MhLecXu4dmdON0VIRet14rNpTFfW6uMouc0SQye7KVhybvhnyUQ\n",
       "dCaBbJ5oUP1sAmhRQrWL7aPPGHIyJwiSHbWxTdXH21SwjWpmYDIc8C4ZOXtUWePvz6VIYGURq97G\n",
       "OL4CNWfZ3Fnx5TUGH3Vz4isy5X4kiUqGJIRvaySu8FDgpM2DjyThsvdbbvqwU5ltEUEsG6BnljNF\n",
       "M3jPqZV0QfC8piDzQxQZO4CkDFWUc2fw2Jpfo1UDfNmN0a25UTgtFTilPuLfxj+jpg0fR8BaOov7\n",
       "IFEyc6Cq79cCIFuKjAEHz1QU9DWu3Q9f5vTq+VyVDWEoA3fs9n/LXFI6Awbmm1Wov2B7nnfdUUzm\n",
       "pZ7utYCLGUi+ddkwdQaPUmobuqzB015Cxvs59AGbru2xzTS0lfu4y2yIMLC377QztknP++1F7OrQ\n",
       "Dn5kMDfmB6AhZmc9BvjFgKC5PyNPJFQZzsq3votQoPiPI1Dyox2+Zn8zGgRjapP0aN8XgTpk5hGC\n",
       "5QpqXQcaToTa5CgmJGxZRXia73u0mwTK4GK5cXCn6HIlC/5JiZGAoKnIFe3IcEJaa2Zj5Xf2sJmr\n",
       "v/YIB+a5fnew4jzUleTmyEEhhbXDIq1g7JmrOJ955n07MpaDzZKAJuV2zN2jq5isNJ3/1DjtelHS\n",
       "BcM6sU079I14Tm6RcstTEK9wgf4CJz9OZvZto1bevJrS9llbSI4Tiliy/Ta7ArwESwLCpfLTHqwV\n",
       "4KBbXLZEAAjgAE/toZvS0B5jWBYDIn2UtBqsorADWYSoeJ39s7wbB8YnuZNMOiypt5WXfIz2uZX/\n",
       "cU+PMxWjW8O4tNCZwaaLjRc1YtSZaeyqwFEWQEChbe611JTXxbnTmmgZaxGY9W8auaZ5JoEo+JA1\n",
       "I74wVtMvWy8nMUmQTveCrYAgAKb7IM7sc2RF5gkvzptNxX3geHj0fqNt4I1Vc2HUAoI2XZNKm8Jx\n",
       "IDqZ52Uv/FdIWnKYZpY80Tc9HdjlfIlqBH0mrCgYO46H1/kJXj2BPP5HjbFviv2am8zujjxEAUZG\n",
       "BQWtMCfDLwbau0GigQPZcADI7bgVxvkoDkyn+Ef39k1NtsCZII1aZn0390XmgilQ5zgHYTXF+OeU\n",
       "CedUBAh4u/KTL/dAj40Y3wJ80i8K9kxmDkFPA23Rl/Y7/+alKCxKCX/4H4MO3GI4ZnGdzwVZdS9C\n",
       "W8IKqYgi+6cz+Jh5G+bG66+OT8X9w3znNOrYI2RwyErLi9J2v8j+tcl32KZqsXI49Q4jTPqSdldh\n",
       "GfweEO1S6KPILpQzscHFGBslaQ/F+rSsEIvlklDmS+mMkO1O35fqSQuyC5dcFpbICqM74ZzmQ9Wm\n",
       "q67deZjCkIwo78DqPpRM3i3AFJPv70qqcl9tc5YqeNTlmtB2IQxZpFIzBiw97I1W+1auQAgVOFwJ\n",
       "NwdGKScpzXtC8Rwzm2ykwAvmFCGIid2A3E4s8XGCS/ljqJ/tHrKNwUXUqh34TyX/gBMUi9aMA/gi\n",
       "6z7jlvzhuprb0Xio0TWbo4mwhYOXMHowTWnUHiv7WFGruMm52egCbt+NUOUgzz49udl8+EzrkMzi\n",
       "Ue8SnawjK9CdPRYLT2Cj3rJdI5guuvdNbo6A1xlanR5EB+T1RG9zmn8JGJdt7FRNmcdhLrexSgdz\n",
       "cq68LLnVPMrIdcgGwik9A/FuvYL+kRgEYGTlP3WIN07hIU1pYZFRwAMYEvPpnKE74/HInB/BlCBe\n",
       "LvCixTZvQDe5I/msAOWdnSZDRbpQBsUkvHdpOJUSv7RzGgGcnFzaNdg6W9pD69+xny6Fj9PzT3+k\n",
       "1QG8WLsSzSPQ8TTo4p1jNn+vO34BohLLBy0eBF64gp/T4Mry9W/RApscKKe41id8Kjvn4w4C/i1S\n",
       "GPaK/Kv0coaeZopHpDQn4Dzz4rJtZNdUOEwM2C1kfGBiAbmkft97ut8nWW0kqkMNDjpqj2AlFppG\n",
       "M9UqgJ8ZQHwLGnjqaZQrYu6kZ7Llneh76wJSjf7P6poL+EspfWT36Xp3l/B7xCtuzqbUtFUNaOui\n",
       "IO9KXA9dbU/iPpv/NMrhmbCA/igvmxjeQPPJ7Ftk3HUX4VTXZio4u4Sp4KG81m1yTqyBEymfTRBs\n",
       "AcTb1zqZVv9XyXK+U7SqJjNr/qr4MvaZA5s3WiDzFGXKZgNIspUJHzCEcZ+4Sld/GjU9chEkcT3f\n",
       "nLLDx7G6cCAOU8XDZcY5xRHKWASbk3S1kVlwpQhz/yDmVWHYZdeH712iqg17+KEUuzk+VQW3y5uJ\n",
       "drUtYQ/OJcEXjSZ4moM6aixyfyytX2SEZm+1x5RcBWLsiGE1BT1CnBKkq7aJC3tp8ZCvOGwOF6MO\n",
       "pInlPfOZYhesL7pTBsKWrTwwmZCQC2uuXSc+DiGHlS3rShFF8+D2xKkcAlohgDp9Nyj92vV+wE+W\n",
       "/AwGz7KTWyWtG//X+pJ64NN6Awf4K+396+WeBWHgrBA0UutQzzzr0MXxdlM0IJ/9G22q22r90Zvs\n",
       "mka8bk6lIJRTYTfPESlSwUuYJQV5K5snOl2b1pcm/f2+AFky7stX4bOcxh1KCrSlELihq/ED8EK/\n",
       "JR9D9JUh74xJ+Q12F58KTYu4Iwhbwr1ETG7KFP71RekBOALS1efEtu0e42tcSJL08+n6wa+zuRcK\n",
       "kQ8b2mkn7LEBKpSIhOlXfaz0x2ASicj0rTqYxQi8K7eUKmqQaWlgA+HE00QT4/Ok45hqumYyql1l\n",
       "AYErerxlctiZ5Pwkka0OycbYvvbw/CRd34iMFEMFaQnxRbVD/srQ8O5IThr6/VcB9rFRfMpU9DPr\n",
       "c5vavpS4Y6JSIjOwLbX40VggSYr1aBaAcvtCOjOLzQieI3NfOVYzwYlVzrN8LtZv9YktPzSBDVex\n",
       "9xX55BcBxNgAfepAzIOT8ASNKk5RCyAxBq0TGlGiV0x3ebGZM4QkNBUiiTzDfGZMxPj/NlzMDudW\n",
       "WAuEOQ4zotkqnsrum3z43PULk103EW7x3QD2zbfsAdpd6jfDVfS/5OdL23/kbMSsaezCTAXbz3Nx\n",
       "2Ji1xE1KqLTnGUiU2Ix9qMQDBOcJbIQYVfZH+M4y2MMJvGI2+eA/LQO732HpEzFYfR5WWmtIhHdb\n",
       "Z4/0hqPNV6UVJEFQjCcRxH//28bCZEnajeb2kvMt/AaeaM9tMo9tHFdXz6gdBiJvlaEQdQHW0JuC\n",
       "fyaxPHpwLhYVSh1IR32WAxDU7c3b6teRyBJ7ojoS3kuenc0mK4UQr5ZE4NYPavhIgr4oPiBzHIDG\n",
       "OFEnLcRcZHlEBSj8wh6NyjHZxOIgKa1oYt9/8IWJYrrdacbmALl1NAsS9I2TTQIIhOjFvG/qIhHY\n",
       "Ye0VGtQQIQAQFCwzevLJycJkJuqVcnjS8/euVWOBym7P4I7RrwneOGUxS5//GLoKmeOeLFlCevrN\n",
       "LtZE+WSnfyE8RZ1dZh1xv/MDdt82L8GW/VY+T+85+XRANnB+wmvNb1DDhHWryTsaO5x/ohoeP90d\n",
       "grjqGZcvZzZRKny2dqV7hRc0UhOQJjLFRjcSA3IbNIj9GnbEl/HzZqWECtaznHNqfSwFZPP/44j2\n",
       "x5fFZXh7biTej3YENX17PVsTl8aJPBKltIO123xDFjNfDCDtqPHsqBKXy7oD7hOsSs5QF73rLrTQ\n",
       "mSlVPikfg3zk9tV+SySP6DEYyHxWMYTProwECmB+W2YwUMTyin62+7BoGMHJS3zulWv1LyscAdT2\n",
       "B/Pv6+nq67kJRPUD1j7hCDoYqA+YjvmUhiz207LJUUsJD/Y+Js249mAVXCxeR7QkdjCi9YDt0y0s\n",
       "sGkpBxClc+SPTb1wh1JC5Hrgjt+uBLKL3/icoKvjugv6T9mp5qAcX7Geeh8T7hjgBX0bO3qWd0Km\n",
       "XNZKjs26vWwF6kSTDcQdMmrfA1kDIsjJZvRPwXeicNDrU3DBH+573n6DwGFcpCNJI7ygJF/nE+yD\n",
       "hjNT2G2QwN9qYWmBIISt9gpjsu2oyXsxLAvPn8i3m+Ovqy+uBr5zaVBADxijUCuSbaJ2I1VNnoNk\n",
       "lSwJZZbThmFNzRqk6kJDO3qLBN2eUbKnvzESBUEBbZ2ZwMvhY+NWF/4fG/gO2srOGEKzbI9SerL4\n",
       "bpde0QEh3X7f1nw5zaTmO0sU9NJulcocMrNm84qlr/bxKkjW1jO42ltfsbpxGuwup9NTXxOc/UUG\n",
       "mBZ2PGQLrV6EbXYHvEKCNqCZpEy7nUqU0s1aEGPHPt1/YnXLhaUOZ7ySVuL4Xq6d0MqIaw5OXqvq\n",
       "x80VyUzOkJeRIphxz+tlHMAJsAZkjzOnjQuQbp7zL14If+4SqFKk7nDLhHrQnPZe+2XIlFGwa+iE\n",
       "YR+/ciAAwX3Ja3e7lrSVI+mXXG09yLDxp5MU+PeOD7uY2l9hSX8vZKMpX70oah50uAuPksjDvoBG\n",
       "eALWJ5fOp9nZZMKd1fGNGcnZcx+OmWcnPqigb0S8G9VfGIIBYXPh5OPkiaN+MR0lCazXqnGQ752S\n",
       "Cufiyh11V0RWt0DQ+6JsyfKHMnp7QAxkcL8xgfaRJzj4OFwl5kwIu64iO85Pe0bzq0WzpIptJ1ig\n",
       "IBtjPrOSEpCe/Prc3bJs6xKX6GWPMmKtC6wzuau7QRbRFZx7Hm/ESPtrQbwe2pTUtdF7kja2udBK\n",
       "7zlB0HmKlfxhcTylAfPhhYpmxLAE2ntDKiF0ffEjag1CowfuumjkNoQ2qKhIyzTop7/uu230y2Ry\n",
       "x10s1T1TnI6m8NJRV8l10/qQXXsNbmU8Jmp8PIQyhF5S8jcwm6R0O4Ao+2/54SGP1/Ov4BA9qZy/\n",
       "NCuyPwiBqyXvww4tR0RQDZyC/gnzKCy07JoCDdGvkCNmXqGi1R+neUiqEIOuPSbjjnbjhr13YaqN\n",
       "fPO53Exgr/pOvpd4KKGazIXtrRXPlcx8Zw4haFSNvRGEGNF//ODrgptpJGolid7Gz9O1swk3odTR\n",
       "9dAfYefkm7vbDGwljdDGxtauJ56BaChf25HJ+fpL+c8H9MvQ6bGP7/Rpe8wYIeIB1dGkNxjZ+Rlc\n",
       "3OPrS/sygVhDmXBEgHAUM9lpRmOT537HO+pVYlGgkzsz7u7HHJtzKviP/hxueWAqyCu5+FJ/RYa/\n",
       "NYuP7tuzjY70lQGuKFB+KaSXjkks6EuTCkwyg8vKB2is8pqW4RC+Aw4GD4UfDoIiFFw/JXswoxNn\n",
       "IQiTd/CVmcfla/RGOqf/CqiXubSv7St0CumHw9pmHGjZKoDes78/utDYfisRTPEePC2hZYjqoayw\n",
       "YUr4nyveQVGHoaZuSu4UOtr9GSDOcfxwohO1mkYtnRWydEt77mO/gFIj67hXdBdekYB9ctIHKAgi\n",
       "6MHl8mCA2myeedqhMMokV2jzGgyUAX7IjA/QVVBQg8NTgDANTieildJvodHG8eRaQeHssMgwr1H3\n",
       "HOyZGF4heO875/UJG16NzK5LBv+ZJFBkduc065mpXQ9stERGQAASG4jTaMpZLFLExOsjD/cER/oU\n",
       "t1dFEoUqxqb2f1wqXmn8S2C7BxpvM1P+vPaiRJx9oWgF3n2pobwmj8RLYr5dFS0kPchpWZT0zdQY\n",
       "ctYTnTumTZT+UJTFVLPs/0/7DRJZMEnj7BxXBxqGeb1rRTWiCyJBVsbhsfy2ph2tz6BgAmchOxgO\n",
       "r+lOrW01Cq62i44wKUlDDRjkz/mT2WkJsJS8t9p9XbqPPAICSLJXsFb6WCg6glqzzgDK5s/MoWe+\n",
       "bA12+KcjgZOfl4CYujgXs/0xHK+SmJ6igT9tu5g5swYznpA63ALYq9TQ96LQIPnPpxFm42+oYcuy\n",
       "qdsYIZQshJskfte/INWPhvzbe5Q9DENkkbFBMZ2U8dHcWXoLielkuFDcTFrs8GWvuz7aQ8qGSbzt\n",
       "zlRua3cUZgJftiotNMdkhCx0uOfZ0Z4Ojv6eDpM8DhLCSi9uJrhxbLKRpgv3C7QuMoafHvPJEw8+\n",
       "NJDQQ3XfwisN/e4ryaG2an0sROOS4eXygt67khVah75Jh7H/lTSrPwOtHYLyQ/Mp/L8WaMgqqJ5n\n",
       "uwM+2aAacDwOLKvt9Er/S4v+vEz4nnCZ6sytBu9t1+xSA5sBBmuO09utRLM3lEXuX2X6En5eBv8H\n",
       "uK9+Aa/sI0t84793AbS7ABuwa9oawwJaQx9i5vtbm9lrALQD3axPhZWQNVbBHEoc0xcF+1NFmq7i\n",
       "aYUqICwOeP0e8kqBTc6CSuYpStAL3e4Tux1iw+eTpPl8P2Gfe9EWhcBgQK7YPrsMIe/g6wd7BoiT\n",
       "N0z6UTVLPqO66BetbXeT0Q77eHSZjfp5vFp8zZMviRfewcXL2tHxSHTpS5Sepe2Ws9ULAICGp5Cu\n",
       "JzMDjBdnxW6VHk9RiYv/ZbLNCVhWa6qOO4fP9w1g77pa8aJ2401jg57tpktb9naIG2wovQFwAUTd\n",
       "JZxqSMIfbU899ZsQBCGsFNwsa5TXzn2dyQjHksgfNiQg4nVF7Yx4kSPPsuCfRFRFSg8nb9F+OZyA\n",
       "SRRveoZij6tIwZXAzw2soFwvurxSuODTbXm/ce5k8trQzeO+fgxB9IovYjTHXFFFyzwNePdkpeBh\n",
       "GsldHHAf1iGh5X6JAkaZCyA7PQk5PyeeAHhKdSmM2sHtpeSn9vjaiBi9c4nXDwKPOjvlkg+3b36P\n",
       "Y5uC03SzcI0DvCHbFkBktWUUcZ5KayAR4bC9JmgXy18YPvMeJGt59a3KsAivEz7bqpRnpJUbS6UI\n",
       "Z3UiqyIjev0QN5eYfoVxYIDqtXGcBRVAf0RvH2JbzWgWUm+9jXrP8IWs9syd4HyO1a20G/85BTR9\n",
       "tcUE3EXWoxZ4Bjc8axrNiLczE8O2q8emMfwnSiU62OeqVK08vjyjlv/UiciNkDiebURyHGGjJ3Al\n",
       "Lbou2kbts1TA8v+E4rO6G2TR4SVLTWvie8mDaibFI8gbZ4YHGmJFX0lgN5pfWbBNzZGrTzJjypT9\n",
       "I7j8d9rNYj/E5q0tMaEqz+liiQKPZIMsAjkt2mE8j1c5rUz8gvo/DQqq5XLy6tGsqYFud2VEmbBV\n",
       "VoNInAQnhd26WInEi2O5MbI35tDabZxxu0eA6GlodUk2upx6VIJVB0D7cZOU1Z7gvjBF53L4/Dtj\n",
       "Xocn4sXLoQFIfxD9oprMneUeLZOf2uIULE/IRx8kw5b3DObL+mfEo7he31Slt+qwyIVy4cLMRTPi\n",
       "07EnDYdnX1O5vRiX0jf6bz0FI98Y5Z6MM8x+fvC/NgCc31s2bpGph2mrtNK0qdBhhmWTU/AKnwdW\n",
       "Q3dZMU7HYvrALpIRhktUzD/qd11F+3jhfG/xTDh04gd2Tfp2ELxfvt5jhNs+l+rtDMsVwfcJCXR/\n",
       "UQIW6csEImQPU7bcLFtbKJD1Nlgkxyjrfzp6/Q7nNAKGMvuvz2flA6/nlII8m7UZxnLRKa5Zws12\n",
       "8wE7ib/oOs+qICmjL+zLVQpnh3z+RANvNM1PaUqabf4pl8eVHaA57kc0uROP10IYurTBb3ruMFSb\n",
       "514A7BLSXTeums2srs/Fu2HkjYMlKHmMi2E/tGBqw30Uae/QS5oNyENtfS+F9Fyxu237cOd4k/pv\n",
       "AiPXeohePXUbNeMflStBdrlaaftNL7pzEYTsxXlIuJGDuYdVnOfXgqLvbfVF9/P8EDCrzfyK1Kp3\n",
       "eIJVyjA3VadFWMvSTm8eU7al1TwxCqwaW5I4+ttCu7ysYyFeo22DyUo4TuHwRHpsHAKGfV6X84LF\n",
       "5ufScra2jzDwHHNUMZ/lsxG8x31abuvHomfkPpSrnAkeeP6oFE5tLEwipp/MWibeZ7DoBJOeSlbO\n",
       "IbIjeGhKcPmX8CQqxl1Ec5KkwnHpV+xOSfyOptJ1bElL/J4I5dojwiRIcu24E/OoA29HuVqEM5jN\n",
       "2n+C7u7LXuUrR4Dovad0xl9uZbpk8V0A9klwjP35sNdPfM+hI44Zf6BTIbKu4sfdG5kDsFNXis4U\n",
       "5ltb/T5XtBx9it7rpfUHLHOqp1L6uJiRbNA9Uq3oyk9CtdlIIcxtw5pQ154n77wVAzeMfbIITb8Q\n",
       "mCQdzIsFE4vsbb4g/bhBZVWrTu+XF5l7eb1ila6MksgeL/IePWc0Okbh9E8l3wyuBeDpQKst07fj\n",
       "V22ud3f7uMnGVJoXiynWH+z2eAK6i9KvKt4awdpNMciVOhs3u+N0k+s8z7xsPuCO+SKTLoqqtz0O\n",
       "0qxIN4gcbMtma9EO59VY6zJkRbdc6ixmkqWDQf936VVpCBrVvOxtw93lav24MpAMQ8u4OycLj+la\n",
       "5JbXhSGx/MB5Cy/mdK+bpC7yP8ZXZK9BO35x4M+Pv9bgUhgRG9CAk43Di5V3w9FcMlvGa1d37gGU\n",
       "UMXIVnzEWpuavTdX6INa2fZLjaKnVVOLt7xWI2WA6Cu/y39r6MM+CJ0gyO6Y14YXfOGgmVwSm/dt\n",
       "6PIs8m8z+7GHNnrrAR09/0poVNrW2epz08jHAecXc7rzK9FUYMeLBC6exVCpa0TQwejQ4XNoX2ot\n",
       "JgnB9Z9cHv6GeB0ydnvzyBKxZt44nYfM95IyV8sg9eJA/hG/P+C4Gv27bTzSk/A1txkiv2JmJUau\n",
       "aMrhV+vBcDmSEXzec+zVyT9Qo6JsdE9eC+va0g8BqhvXET8Qsc1QmwsEeKsw1b6FeD/ben7+PieS\n",
       "RIMUV9TY1HKbVXKTWHHzcB8Lp+03tjA11kV05un/82K9SlanwhbTbN6/Y/gIOOrptS9wPRpXXe3y\n",
       "rYueCZz6mVMm02D1j15xZgfHzNpNcCmQ78DCLZIcHF0yzv6Pjz0WX5AzzA57/wsqvqqyxAgvv7X+\n",
       "n0Frfanr/mEhMYASeaDTzM1S3Etn9z7ssDLiTmqzMqo099dFbqbIYVTenywrVHllOfQvOglSCtLj\n",
       "CeevUAII11J1XfHf2WUKVVWxw5YsAk7MhncsRE1NSIPxvttLsJnTvkMXrbFDMoZ4sqUtg5DRwNOF\n",
       "ZZnItK/HdTagNyr3vX5jaGZSBFkDVLqVh1JiV7nHcixFeI6/F4N58wOpP96UXQ93TBkBnFdGPG4a\n",
       "pwJPQB72HEfJ+iVMLrJ8jWvbsEnQNsRX3wr8dbgfqSDTHy99V3v2m/BLyUz2lJr9sZtshRSqHF7E\n",
       "+3tbQHBpc3nwdfT6aAkuheImKLyTeoFlPbPoKmV/ZmSlFfb7/DuZS7EM7B+nD1i+C7D9UkPqaB1Q\n",
       "peoD5H1wKXu+a2+n1Wox/BypommhTuQH/4I4PD/+A0l4gM5x1HRhKXW1g5ACkSnLWqYtelTO/ZK5\n",
       "nPkJ6cSmDfcBL/VLBGNFpoNy1Ego/IqXnng0zAMqdCURlXtW4Xu8ohlYkHeuBTtvVZmH9Lw8u+aF\n",
       "XlXkF4p5BA68ga5y6wqEen6H38iZY7Uh7jZG/fDfWTnTXO6k7BbrJ55BKcHSvW5Q7HzRg9ibbayc\n",
       "G13bgXPRy9NwW8BzoWGSscb9pTDhORtAo7y1smuwLz29O+BnXi7SyOK1dJQy2zcAtLbHtNobkVIu\n",
       "OYRbyq1xphwtXVOz7jCcwRMQskITZJbhsPERzkLmo2cPSuAffEielqYJW9Diwtuc+h2odRQwwqlO\n",
       "/iScjuYnjphGsVHBoJQhIFnI9jJBInT6ExTipDfY4DlzaWFa+U/c7TNcEKdwgIKDa+AtjBM2GQQb\n",
       "iNQd+GnlTMn5s6Qv8dif2pdYovvvSvtU8OKuay3RPbMdm2YgDHMcHgUbBwEDg4Z/gxZl17O258ny\n",
       "hkWy0rad1DweJVToLTnpyP7l7PZ7KWpPlIlJf8UWo+9eQwen1QBkXvMSUfuKqZfBEnP6b0TuYfSO\n",
       "qtbmNE/QJDCMEJ2OYM+iwaAD1Iete1eSbL/6Q1WuLA4AMKItDDxX3iEFUAqpRmjC/Ke6/7uOp43l\n",
       "9pt6OsZJflfRJIBc+gpjJx96GH4G92QMnnmktBcyAeDwUzdbeIzTOjJErvGqPdZ53xbJcnb6BoHv\n",
       "S0ZE1WrW2PL8h0BLSncP3QKaZuf7cPO6wj2i1kkfKm/M95nSjUyJHLi8ycw704QcZusgTiNEI/tF\n",
       "AxG+GePUzaeGPCgfNpF6XrbxPopIp9N77uf+wLOSvIOE4Qd39Pq8mOBvg/C5n5PxTylQvGQoE3jb\n",
       "TL+2ZeUluM3niuTS82g4xdxoksv+lsOT4gmaI48lHdvOUTTRV2OgzN1V4C5dCaJmNBjgbd67Tnxi\n",
       "TaOu0zrchwhbVOWMVebi9kuTTAZUQQ9a3c95IR+2hRtJNjX5HMYxXKGHIEj9Op3UlaA2+UlHPFqI\n",
       "uXUWqYh7s64uR55VMAL8VhAdvz/+8lDbQ5f+hnMSNNZB2rMbUsTiwZKGtwMyMD40PlgQX43qHGzr\n",
       "0TVKbqv8/3ovVt9o3AQ6kYLuEI+PQXWyUBlxuoSKk1wCp19PKCh+2tQFMh21W6bEwJ3cZXf17jhD\n",
       "s5vaAhVh2jdEB8BOiKJ3EGDL3/WmyhUd+Xj5Zsbh84eKWfijGrUomntp4MDI5z0bwBUuWCMj4dM6\n",
       "tCoR1Yz3qkmlxCP6bjmTJ4gSfKZ+EYHjRtK4LK9V5VhXOtvOF4Eb9rLJvsxLqOqj6ddDlv0zHpq4\n",
       "de3H0cs8/I71JFLspSSsIUn/AZDxwryjimS85clKdwmB0xglFgcua9o/ReXVHysXm7JDXedNybRM\n",
       "JMffGFX5lFqmgdqrEvNOuJHlfFX28wsnibAn3h77gDAJaqqLpCAlxtOJPcWgCHpUug66Qegybwcm\n",
       "ZarMbLV7KP1Qrd73sxg/g9WBcAz4g93PbNjqxlUb6+joEgL+kdxNfYUNd31AxoOgZ22ASZmN2ZWC\n",
       "07uk5A/slOz9k/+wojJkjmG8GS7F1gvM0MV3UcjwzzcVkDylQY5v9hkgmmp059K/U6QKCsNbGqUK\n",
       "ZUpGdxOnpN15RXGSABlw+GA0WXGP9nqp0ZLJFCSnTI9YCY8HAR1PDZh6m++i4n9aezAdu50gBFKh\n",
       "bacy3lN22S+6UyJ3M5SAVNEx+yIg4DRtmSNiej2vuc481ZNyiuaq6GG1COh5FFyo4DNBK5IuHQpM\n",
       "xbMAMmJnISvCbqkPh5Bl0RCz4Q9DQE9iXxdAKzBG1q1XPwWDp6Podp0tzQ9iE+DZEp8RC/6Vterv\n",
       "n8jvpXdvFrRlwf4M8diSQ9FEoY7L3lrSrAcaXn/jFRk5vfCnmBdoDhXazubiu4IzgR8yvjrbNt5y\n",
       "i44QLltI1zubOyEcncK175GKmuo6LQSO/QrbNAI4NBh2TSoU0Z9F9BeDq9Zf2khapqcKS3cfJhe+\n",
       "V+erg9xoMs/Q4r8vs2SM003IxN8lRyf7q1I3fROaTZEBX6l8k4wX3ZyC4VnJKKVjdRYpT//W/FOt\n",
       "Qg8uIyq87sl4Wd/qEErwyk7Cgc8we8muGduzUsBgY4QT6/jiu3dhhB4m+KJWTGofaXpUH0R97fa3\n",
       "ZzArjdEzH+hTqcpEPrcO87BnpD3AhdBATpgxqSNEO7Chf8ztZxSWTUirx4/S+M6ch367+JaQNsJ0\n",
       "Ub3k6h67rqoL3t6CjyNjaz2wDqoEHamVao4N4N0VkLBu8O8PgrjKOUbQXV7mItZTJ8XEelekiGn8\n",
       "6M6MVbARzARL4BEk2iiXLyCWaPHTmqIJYXleHDRsonb7z1OCJ+tQQEDUZwDIGF3+zwf/rU4/pIVQ\n",
       "J5oISilxrCFDX1DB8RCHbdToVSWWSwhOq8XIz7t49taBW/QIdhLD0JXLgha56JUSkD4blGmwPXnf\n",
       "AHp4Wou/qBF5e+BaXyRCEG6gPN/fmHRMuR6Hm/jn1QUoexSTVYhCU5wmTXR1Wxw+5k5pu9LxOqU9\n",
       "KY57h7SSXayYdSTPcuOKe2BCK4+QUjdsWAuAIucIpfX2yfKKpknW0fEyvKuLA6+/Eg2Clbg6A0E7\n",
       "z9k24E4M/cRA//nPFHqeBZKRbTSjdr+vjv/l3VwoQTXimIBjgNMzf/JH9kUrpfHAxXlexPhOASPr\n",
       "k/+ck99YnQxyRz/Ch3XzbxFmQy/NkwzUCtvK+XGW96EnDjY2M2DJromFFNE+W1nwI3gQ9ecsrs9K\n",
       "0vVC4IMMBsgUJhmrZ5V9HyOSKa52qtAkcXcLy4MNwHHGM3Z+DmzGQbo+3DKXGvZ/+2FaOJvlqMjT\n",
       "IUqvwovrSK0wfR/GZ2/hpsYN6KB5l+NU6iZoDSVilsBZZXJ+uY89vldZNHvsb0oovvj3rKIVvNtk\n",
       "B2U2JmblOaVam/QhxzbYQi3vDzhJG9hDxWy5aNPHXe3neDpaW48/fTIQf/9FnWEkDI92rwcd42No\n",
       "ANytTIoY+28qe6OdifwjS3O/wuIq5/K6EqELWFgFzs7M5kz7uD0eg4P0f58I/QPXxXwa/7X6k4/7\n",
       "L6y9JW1o7cfpOTY2nBqlBEJSxrf9JE9DxElLhT1+nefenc9J2UVqSAB0ebpCqhlxj8L2QMQG3pPP\n",
       "1905G1XQiJKKFXoxNU6zxumCTeGBNkctaBGN4M+m7bCdl5bMV/h/pHbsjQGapFdV3VQp11XkqRAd\n",
       "DG6YO0y+MbWLIqRYun655ojMLJth5c2tl3Ng9FoLUR7zZDhii5pACkKAr17WzTfcrPtg2VmPg1HN\n",
       "5SH7boBP43suF3TtERGfWvEUIg/uTaDY7KqNa4nJj6qjYiMF215yg02hbm+xw2BvP9kc4UbtiVLn\n",
       "BN4lw5YHofW3TsJiaC/yjF+ytKeWOqS5xEPwWu4Xc0Ttu1b5m85ZAjEu9akcb+4AdGwyKWEpS3pM\n",
       "K2rEiKmPvyOxoIyridtuQC60tr47jCnQ1cKTfN5ogAJmrf5jfwQl0hcIQ2LRdRbOaJM0SaCzs0m9\n",
       "1T1Hh7qod7rJA4Hf9pSJvLhv9NM0LTLJDK6Dy13MMxQSFQqkgSGBJq+htK4FFuhcPCI1WgzHRCf9\n",
       "SZ3iBey6kDM1pVR2JQC2qPhMBqEvpTxenGrxQ/+9T6beMBEAmeOXDAdOiw1RyaeGDKfB6hxM9gM8\n",
       "Pall2Hm1ZtKV84dgGj+X3dweCo6gOYQjX/3hiaqQ09KZbAZD4Q5Z0ChYjfdMKzcRkVNvNr68/0za\n",
       "WGL0daftKR5xJnl3eJeLomFCt5539gnwrvEOUw06ULogvNvjqq/DG7wfj80w59CkpaKIfTXH4c1L\n",
       "tV5pLMLZuZslS/Aw9FuM35nptawOmNN64pLmN/Ev1Sw6IgzD+Mg5syoxNW01aYtFTvpgAnmoM2N5\n",
       "qMvpcBQpt/OCaCsJncyn7r35L8cTsDE1wsjiJFYyblp0Bq2ehLLOtYtEC/+kIpJs96wU6IQLyMWy\n",
       "tuGt/pH7/EqdwoGOUe4ptpvxBByhf0WRZwk7tCnMcOhtPv/hCRhLjjwUFzKUjAIkMOjz+Iy46sFW\n",
       "k4LKYB+POBrkk+JXfaj7INsE6vIjCDo3PXVFeRSmr1oGUPhDx4xIFy7Rr9PsIKDGvYGwSPW2V27j\n",
       "74FwNVr6K4i6xR2gacgXV/2WhysrMYYfzXzp9oDE1k+FuXJ4xd7BEQ2UF1no1znCkfIoK2YHaUTk\n",
       "ZU381YyFV4F5N7ICniWCqcVy8h720xD7YRT5eeAZJwsUxpkYMSMhsxqm7lhqQHVcBZawlzaE2TAS\n",
       "8xokL9jEw2mjQWR8rgINH5arf5bYVeuLrbYBtWOK7+o7OCcDkXPfUalrYY4K9omIVIOcDu+2GAAA\n",
       "AwAAAwFRAAAqqUGaJGxBb/7WpVAAIg51KAF/v0iob9cLp7i1BQ0bG6FPpl/DPjsOUE6XmrNONcs9\n",
       "31q1Wpn+brwd3LOd3dg/83a082w/yYP+//NQTeP/hrqmWcz6TomdZctrjYlhqWyVrU6itacq92vj\n",
       "5hyBYcylMX8lZVphD9QvV7rtV8nIGB/DxLiYNYUa4wNGVU5WlRngjmdxSnzan8Pnf0FYH25YghY7\n",
       "kpDm8ol/Y8kzk454VKqeYx1eMebT8KYKU9LbBmSNJH4zhCtZeWzSLEvpK1Vremtw5lk7SccBFGZJ\n",
       "4AKF9toAYRORAd1Og0gFPXD25wpEQ0y6rOSEF22I9vJMib4QMSHEUdI3zUlwr8hV08pfpMpqFFxr\n",
       "hytFpsO3AGrf+mGvf/KuNoEVN2oijFzZwI3MjNOM8QIqSrqQh54B0EjaTh0JluFmbxjiTdUAaP//\n",
       "MnVagpnf+YlRt1tKx8oZjQL1CQWEVDeIPJX+LJEIDFbvirg0fjqKSKMehmVgfxGObxBdYVW2RsOC\n",
       "JXSi/NHhIPaBOFNvYxoldcFxH4f006KrrY2ZCpI/u0naevjWo54y5pHQFO+gl8dwU2JA57g+fykX\n",
       "Utj6l0EugA58H8hxLqyFyil5gvKtZ7l8p+d0G4d3cEUjzaUHruoNZlU+83PICV37DYIQEbdGMwU/\n",
       "pow1u463WGBg8qhmwiVPDxZUS6t8AgeSlrXePZO1LmrC/LYi/tYSezhdbCWxEgyuao92SUF8b4P+\n",
       "INf7dBK40x/2Nk9nt9h2cS9lYA6nrKeBy3tWHekm/PGRX7VJSahaEev1li1mi5FwXG9HAyr0QDn9\n",
       "av8+PApbvZ8moeily4X6WEntA2fDqhyzCScPvYOaYZHw4UC20tv+HgejIcvzGtpab8j1RL+2EggP\n",
       "/lTB/00cHFP3VK6h5pwXY+2AGCRHGgODtVsmy+HP1jf/ZbBJPZfq84WBov411+MFZKpz7ZUBptBl\n",
       "VOvnmfn+p10fKnvs3+ah1mUefo4nxzhAipAF5mecK4OSyyT6hgx608s1kSW3QOCTBSr1gxok+eTj\n",
       "9SadK60Tr+rR4gUARwuYPNiJOjxYwnsCykdL7EfhsDbhYBra1XJzdXlOEMSlDM2DP1EixGs/zsOO\n",
       "8FTZf9VR+OLwVSZUa3tXzPTbHMYpTF5uF9qqoTm0ioGO6dIo2atvT8tiEx7CV9Jnm7jJcyHqGfKs\n",
       "q5MlXQlBJHQraAxHnjLuAiFfaPVh9og45hVei+whHX2Fp3x1+kwQuHuIIFyE2YZOXisnrGmxzgk4\n",
       "dzDiy2CN0R+Wdz4eMT/xCur67d4efjxdErKx3M9XddA3s4pv+pBGGdMVTyXTkA8nX44OPaEZcI2d\n",
       "p0fZzXGuNdsQGzbFhKaLSF7XIiV1GQFNVgINC5zMusOCFt5ti3tZ1sXHwVbUKTGikLB6seM1pGYY\n",
       "sgYLpM2j058TkJqMi+wgAXa59zBIS83MAEWZJ8EbbQS3sX4XL5w7StamTSvau5/QvFHZSA/roVjA\n",
       "t7t0RvlszpKCq/8pnpsyS+4zSwB5b3TLGq8p4HTBkY4yThZ2N1jKVc0srKhGS2+kvLJaySUa6vqP\n",
       "pLk7VtsQ8QJ06LIXhEh5Ovu1EkAoX51SxENzf0wyzaAvr0SU9TN5HljPB3hKfLbKaakEiAOJNkBK\n",
       "AClAEUMDlTcZ8B5B+8ru1jiyMGV4S6bP8x10v/joqnN1owAkVBAXBwmVJSUG+cDL2Fl2bABfwANU\n",
       "Ka8+cibUDCRv/MEUixb8YhxomRBwtbY/W/07PM+teJ0ebQQeRrKdhI208AOrWLAZxqyxUN1QZiRI\n",
       "JW/7Of+QKCuPxP1yEo5N8d0d1kqtHg89gqW2jhBh8DKy01SweAs/TqDZaQUIKiYdOyzBCAwMC6x0\n",
       "Bkd569eLf319+3Jhs9eakuYkLUcxULGkU9SjGXte/SwS4G/Q5yUFFxqNJ5bAbnX3bAiFfeK2TjRi\n",
       "zaI3BzJ8m6ZIt9BsMHasyXO0F8znNJ0jDxp5gYQw+m6gxo5H3xR0OWsFK58NdY5DUi3oSnm4G+HB\n",
       "jsRzMPSeL+Zp+PWipOP77BVon5b0oaZ/dX0NoHPVH6qZlai85PgCk8nkFPFYHoz8vNNuhwgtfXTU\n",
       "N+Zp5SFo0hA7gTnKZw7awrUUEtDTrNK+AYzEhBH0mP88LY4TkmvzHdYZWyzJC/4YvtLtMfvH72IL\n",
       "sOduPIGqGC46JR1fmYPx5jcQu0kAmlIMzmg+C1Tsu0w2nCxyIjU9d23JKTQNe0N/ENn4ydzzFAA0\n",
       "sAZxZ5YaHFBapRtwCpTBJzqtMuWWaylWBtdE2+XK+ZTd8EuuZkkzl+tgBhdK++LjmisvrcYy9DNt\n",
       "iOv8Y6AJ9bl/rYDCm+f74rP2zXyz2Wy3iuVEBYewShsUvscSyMSkTI1SXYjVRjZ5W1ygGJCDqqpV\n",
       "rKdljOtqrqnWqPZ8gWIbSUjq/TvtGZ5wOJmPUcC8TLvUjHvVwSsxwhpfMaW/r2DHQgqWWTlCEvH/\n",
       "bz7K5HEXfDGymo8gnnK51idF9/PX5MfpPI5ngUCu2N+zOv++B3aHbmVEcG4jTnbf2Kxuu86jW71Z\n",
       "6PoAMyN0RrrVxj0uiGRzYQYnEpUuEhrt8iIOHoOuJsOJxch6iYlpgD9fYJ3dvhW0ZZs71XCNpVvD\n",
       "6evgwFHyrZs+r40ASEip6J4uBIyNlSmyrhUwGztl5uk3PY+B6DBAEnADn3dTgqVuTZzIRzgJXoh6\n",
       "dn6Vp9RPNeEifRuM1IzdyQ0Ls1SxklKL55O81eqqZExK5wxwlgPRhlMb7CdCjslAU5mzwjrIP/mg\n",
       "EWCmC7PvDkULyYA1thA8YUaZb3Q54d4F9VzxENbJxYcHYobTcozyV+7xRaNew+usua6XW5zfz4MY\n",
       "OIyjAqiVyhERC126mqoxC0aiVOvjGKOy3G3iCFH/4JJ2cCzS7piw+7IpcKflghL9pUstrxayt2PO\n",
       "zUkEzjW3/VCs9Tff/tikO6lHENpgCuUpuqyKI/SRxXjz0oh6pW03eAwUkdBNh0QaHbWMKM15ymbw\n",
       "3Qw2CbTPSSqWGrTHtABZEiGsLTDrTfOJYbVp0Mfc4fYSTW+iIriqh6FlXRd5bctmxqu7kSST54BL\n",
       "repjdIh5hLZvZz8QmgBQK7/EUSSJx00yk19BeYQBalKijoYfaBmXRAOL4uF97VgzC8SQCLZdJO8X\n",
       "0m7o/56Q+XQ1K5gM9pcHBtDhunCTTcY5rgp+7RSCPSJzsAsnLi7XhqR2TRhX2rsz9SQySmC5Jk72\n",
       "brEj7Hv9v6hTiWlKqD32mK1zt0NwIyaLGhraTR/ELi6DVbrCy0tvDV1rW9OAV1blp71eCLBBKWWQ\n",
       "IH9aWb0H6nPfXJ/hajVjRLG1kTyN1zZudAPLoJQShfjnz8xgHdm1ip0Ovd6WtcfpzExqSy/blB1t\n",
       "HVdj91OUvMWqYsXoKSiHSTNYWLTBn9BchHiDA6t0r4fD6SHUze7cUPUvNHSY1qRlSyyqjTDOpUPt\n",
       "NexbULxAWSm/cIf53xDb+ewcG+8p468AqVnH0TEm3dX4NC1Zy4kBuiHuc5JGgF0avtZ7ze/9djL4\n",
       "2j5UppLR5Y+a/XLnm/EQJgPz25Qihh+gZeGbBnesWT4RPzUo5Wdl7VruwBGXP3Dx4RSNELKQ4Pju\n",
       "m24fgstV+QcCCBmORQtg86TJbouXVpg/bh8QPjBJgzUkzj841YSUsrRale+W46r+a4bYboeCfctz\n",
       "c1hf7We/NAk7cUH5v7c3APPHS2tGVKYaZermPbJxP3CeUl0QVkVq5xb1Y6OOhU1vSEUGs1Rs8D5n\n",
       "cM2hx2fIgKR4+a/MT3++HgXMEn9e2xPo9afVlXLTuQvDdE6r3NDS4M+NAIX4ap9IRxq0eRboN+7J\n",
       "H8T83WZeNDAj3gTP/y5HOlApyOKjahZBDqxHGPHQzkERplLgFtU7RxckQ69Mb2X0NzraKbdYMd9w\n",
       "Y56NadJFfbgpwhNEgmkBVBRlBPYXZrzIPCO7u/pRCQNesTx65podnmxQW9Yk5rJi9WqPtc8rW0mb\n",
       "DzvFzqWPQXlRPcfagHg2+T5AKWwOiA4AAoVMW42FVg1jzoDKS6pBt7hNZ/M2Oo9SN1bqext3fbkL\n",
       "V2tBlT8p6KBNd1RHirbYJ60KnzygChItgc0t9wiJp1NrUEFc4nRP02lV6uoFmnUucSt+FVw1nwbt\n",
       "M5ELniYcz6EuLs+IOGSHz2aRXODIPS3LzXvhyRAWVKgiG+rfKT3tAU8virvEpGonw9fQ2Dvqb/vf\n",
       "FL74a5Z/Z9t1BXhoJ2zIpycecavyvNSx+4pGMqCuznngPKi1fFlJwITAxChjwQoMcf+u4KIDdU+I\n",
       "IUvag2lSaib+b6TLYNCFQEY7LwPXYazAos/xNNEr/N+5hJMBWzArN8ysyl+OSksjXt70x+Dqehwj\n",
       "pY+Ul5W/+TRU0vIkYppFaNUGR5r9KhAQnkr2xRv+zK3mlFKfUYIe6ynd9SnD/OiD5O+Qm3MFLJz9\n",
       "tNh8NVoSJDaf6JqMHatSZXH8KJuIdTJxLvLGEaa5SKm6B8cGiSS9M8b8jQ5bj+ZJRujH/7ajBdCS\n",
       "Kk7K05U0ulwH/G1XMLgJ1I4sfxDOD7VGE0kPeLJKwN8fU6b5PVzjE8DScGeJG/ORIcDEpZJ2YcE1\n",
       "q9BueyImBfTBVcKhJr7hchBzl4DdipCyeZsctYqWbW1fVBg5vQuM2lF5BiTgcAW+M3Oh2LYSGZ0Q\n",
       "r9ZRj5ZNafS6Hbcy4Ei4dIgYEVa9dmNQOif6xOJU5aIwXwUyFvj9kDJ/F7r/+D075ys+6n+d/I/M\n",
       "f9y7/kZ27mZM3CQDhHyM8LBtyla8idq8sWUiN+zGIXGKGg2UX8X9a6p1YPUMA6HNZ2x9hsZTd0Uu\n",
       "c4IjAb0f4ENSou0nIksU6ZpLSh7Ss3wMHuiJlV0hAas+D1x9qGHoy+HRa6qRZ3Sk9lUKUG1FXq6u\n",
       "Ffh+hm19YB3mLDf/R+yyp35f4R7EAYKWuo1Bq0QQ6LYhDGa7+S2J9O0fn1OyZP/j6y7iBWcN+jPH\n",
       "73LlH/2Ge1edc92KKTjMQDg0Wbtqn4uNIZWUVGy9vTsrHUns3Dv6NGNUGgIH81YG2B6Po4UHFUDF\n",
       "7o065wrSgpU6IH7S/HSi5gbNxEGaqWiBxvX44XP37qKxpEOwiPoECcL5dGdjG9WafdrFefjJm9f+\n",
       "p5D7ijB3Qk8Evt5pcl8SQ+nJuFOEsJSONoSP4+R2hxAF/Gt047WomOysTliqXKzbmRcQfnD7nfmM\n",
       "uJogaqCTJ/nYZUjH2HSkfhPgKh5l2FKv058b/ZpmlPsxxqevQ8wb9aLY0JX59h/osSVB9Xa4MEy/\n",
       "GA449YZJmANaQwxJJRIlSm/sf9HKOGAQjoPO8ZkkjLxHdMhkR2zFcl1oWJkaT/9AJsjHADNkyMFv\n",
       "u3jHnwPEgup9AuHiQgkY1LGr6zQH91U7FxxZRwF+quO3RwxVPg/4zE5umeNBxf2c4MzmD6R+rgeU\n",
       "mg9jUG/GYQg7M1AllcKj9ZdQNcifUxg58vaW66OoPrdsnAc3xSvUImNYm4pUbb1nkcI4Nox2JyjY\n",
       "NEVVfb2dDKWSO+2CKt2AnBUDgcJeJ2GCBNzJYB+P4fC/JvDb9x0cIuDMFrRGOjYdEF+UM+WTBEzH\n",
       "iIgRVJnYEbSVXob8bWMtnsCWu4v7WX4O4SndXqAV+MGW1i+z2aqB08CILGx2s87Ni6xKeF+/2kKP\n",
       "M+X/gB76KvBK+hDUhj2dpB7E3cBfR+iVCPioZd2WZ9FyG1myH3qOBjqERZGluPW8TlBo9PoZ/+IM\n",
       "9NBzUr435rK2H0W/01L+aJq+j5RF6K4LrSQXIqvzkiyMmj3bGGAZS/GXeNyRwYT/dcD8DaLOWFDm\n",
       "BUTkcCUhb7qxGDOWM+ys5NCBeahc+B415kR1X/M+LFunioPtId1Kw/n+VWi3xyAVud7ORh2BmA3U\n",
       "G1jGUq4kXI8B7JwulRYrolN7gagGxVTgtfSu7Hu9ygp9fiyVEtscKkk45SCCGsLIj5rkQHC1URUR\n",
       "xDFHvIW3UctJ+dpesWrTkqiBI/Je6ljBSCzAbvbgAhMDzY4d/hRDCC7cUsm+JPVeIpJ5ynh9oVai\n",
       "WB3CANSXuWDEqa1hp5kLJLPVwYLhdEp7yFwp1dtHAcWcvUXG39qkXRDXktleeZcFCgN5v/89i2ar\n",
       "lUo9w8CotLVcyAifY3g9r6KUjU+Q3xCVKgJXHoaMgfEhpJuxrQUyZALDm0lDyN8cIb5Cljd1e+0K\n",
       "Nj/N7qQjyynrCfMN94Wq/OMAfUTM+5dpjFQmFMcrkBjYDiOP7B81a+L6s/hOQWkBH+TL/VTRrCyi\n",
       "l9xWufKOy6y6o9e2Wz2r4ebZmtHhd7TTfncbQWp56ZqvYMdks9XAfQT7gEDoEOnlkhEpnLNxDwI0\n",
       "mYGcZTHouKpL5WvP2zhEa2FsxeoXJiFx3orncP8NgGx5B+DgG6Bf7f5KerDk0fRqRjuQQd7oEMUh\n",
       "aRb8QZbeNBP70xxYGf9syQrp9S7pJe0W3HVjOUx9fZIfPc13bqc9lsgrEx/+00hmdT/svk4nLfKk\n",
       "nK51nteR7lLqHwGU9RAqu4U4QR6QMBcJcwI4fRcUVrsudEje5I4iI7UliXJs4VZbL6hztEj6Dtup\n",
       "Un7knIn90Vpbhom++3fJIatiaS83WyyyX3MRHWHT5+264sHIuOJJ2EmgCFVZIya7YyFVBlLGGwVT\n",
       "Cn7rc/zpOchm8D7RQTuSt9HSHVFg79/FAgLgZa6wLh/1x5zPyxaVNBVgvxKYGpOC1+f/rDxz6/XT\n",
       "qU5BE8fzHcuPM33Mno9L+/Mtc4W65KF5VZBAwvC7T73MnIVjv7fbS60ocahKs8Cs30hkBzsqf99m\n",
       "p9g5RsiZwXwj+a3uZ5a1IiV5JwuYhsBHAoideJxTYo2oDqxdXe5KgMFH0xGZ3Lg3v63kiFpDvxpm\n",
       "Y/tYbk/ehTSqeINTdkv/6aGUFXvLSE7elBNmye7c3cDLQHDPa/t6ZOcPEeWJdRE2BH5SXWKptZnx\n",
       "hOp8xXLbHX30kHezMaIm4bb+eaXb219lplUUA7mAuiyp47/5QSqxMEvlbVThtzwMKOCnB3g52Z1F\n",
       "4k33nnWD1IzSQtWRfZs1C/M3G4cAV99r6H9UIqKw5LyPe32DFwOUKRabSGBBUuML3Yp2iJ4vJQxg\n",
       "ioMz9QqnxUIH/w7FBP4qtjb22elbXsCrd5Jg2NbpGVyjSObXZG85Aczet7GYO488qa9kfyok0OGM\n",
       "V49JyoK5ZwVqvDZVSZVgK0aCeDNX9OLAhxvI4YdYa/rzuv4hkgci1o2PTDEqHaQABMgtcnLN/ZM6\n",
       "6y+6PlKpx83QZ65XDmY3LYL5A0hGhkTBqodB/WV6x1FiJJxb2w0shO0+52xJaSPbkzN3/2WDlIah\n",
       "HBIzB9C1RfelHtsEHSHZ42hveR3vW4edknSLU7U+80QgtxBvHb1EErGnVHM3SAe7jrRGESAO1FHS\n",
       "gaOHdVYwOIyTUeRijRyPNtxxOkaKgKnh3XYEZ8rnKZ2V1tJFAckKHJOMagaz/PJq2agzh3+23E/h\n",
       "91bVc1E5G7b/WR7/ham1h5VPwmv3vVNx5MOvGQFVKCfHZ7SKgX9yJcTq8QphMzBQtdp9PjbUAV8S\n",
       "fE2k4F5K6NBcMzplFxWynpwaKtYTFLXwpc28FH1OcRa85KqFrWQR6pPOvqGr+/KhmWUHikczHSum\n",
       "GEmFYXckzcA5NkoD/fKGiBFqq9ohqbVTEsjXN8bFP0xxLxBdh5T/0Q2Oqk50KyFYZ3zBkMdUIjIw\n",
       "ahdKVFzehr0qG42m0KO7RRYUvrn5SBeELV6VVOCETKLc42O3kFHyX7mcuuSFdNxs0wOWho6aSdTC\n",
       "qP+0HIkR0D2i6JSQ/MLWWWnuuixsJIPek6+/jUBbRFA9s0KfptDPWteZuWSC3ve9v0O0+B1oG8/a\n",
       "L77288RO+mn2NF8KtIPGsrgcmRZSVLnFwtuJV2nPlF1qzsnIfkRxXt0v4OOSLD8CRwi5HKknXhd+\n",
       "7K03xTWo3f4RlIQvEG3Ur2NqjH4CDouJvmlYp00kUgxuwim6r57X05439KQSeNGgy6OUbiDpZhnb\n",
       "NS+tTfk3u+T6WjgtEXTy/B+pO+TKswdMroVlLlVZH2aOAFjDWDV3rsySMTkhf+IA/DO+Y/3OCfp5\n",
       "mRM6zTxt60Vn2KxyrJqSlVLyFZeSWkIqv15j4585mOUiDaP+zO1gbYZpgOP+a245wZ0PBqQTgJJU\n",
       "8FNEJs8OPbMG9za314nRl8IUqh7XbamAnPH+9d65dMXIndriXoyiZvnVeGw4dIGdVk4/o4AsyAf7\n",
       "A9YO86NCYSe0PdcxmLFaQwMYOz6j1/ruHY2k5MnV5d9RhsjFw7oBsTOW1lx9OYoFDRx4TYJeWh3w\n",
       "HSlbA/gOUaQa17x15f/tX5Wj/1QSNMMLCEzAEFidnEqaS9u8ofnaypXOaZPd/SwNAWMIcCBvPZfq\n",
       "jJ//wnxzFuZlAMwgK0uM0jVdKEInLIt7ToYkC0mMn8s59UDZVQnlWm4sqqG+boJtnUwAaPxnB1R9\n",
       "G2Jnj38nLbFhVsF9sb+ZXchYjxsQXBM+/BlzMDmIOGNmcHNdL10BKf0qzBPp8TdWOwm/vlfYokgl\n",
       "5Ie40iYht0s8l4Rx1rbEZXXaSKIfUae2HH2uuP6R4Rr+/vzO9N456Vqh65+6j6+WRAWBnAPtIBe5\n",
       "vyxEjI+ABe9YvqIG+dNuDqCmrJnKFPguwEYgkvsokDOEndu8LwUXxed+L8e5h5I/WpqEFiaQuTIa\n",
       "CZuNTiUO5bprJViJeS0I1MfsDAgPZ0Iy6fD6X0e1HDCMnDlxLvHc1VZwMGmWdyqC2sXygK9SjyX0\n",
       "1HKRUFTEC1zZHVSXU0bSAlI5JycSSA3N3b4ObTG6t2AdjVAqjiz+pnsQCAUz+eTQThpgfzFlf3zu\n",
       "fkmBD/i4QHQbRpsj/26WIfAdc6ujxTAKHOBU2d2xL4NDqXCj0r5ygfgTutArMahGfIcXv1Ip54sq\n",
       "dtuOJTRYw5ox+zWpcmy8owQtzKryhfVL86eDUKHUgbmvHfhy/zeBFSgd6IReIpUgsHhxKQ6pc0mm\n",
       "mCkL2ct9OWlaSjXEDYe2b37rPk4lm8kZfMualBUsfuOsu7dtJYQfpDCsUy8sanyaLaEBW/lfqIlS\n",
       "AM2ljndmdxBBQyy3jA5XTkwwL9WMJSFaKw+G26DFq36TCsvsWsstfYPCYooWz//regchJXBxtN5q\n",
       "XAN5XZ/99yTfYsUufmLN0i2wZfwdunNN/undfLUypO6mJt+SjVEoT2/4vmdPgmIGbnp82/WMkwcv\n",
       "zIhKg+YeG5YUmYmYiML72IgNEbQDR+FFXwg83Dm4SOGbKTVBgWCALhi6IfJdQT4Ca7wmH5eenKnb\n",
       "erZRC4gMdTvN7GIeUCh1QaYvRCX9Yyl1Gn/os5sWT8nypiGvJKxQPPON7puKpcfkCtVMWLodhzPP\n",
       "XK5Fx3b8BJ2uClbXHlR08g132EYvaY9seVq9HBPBdZXK4uB22svmM7Fuwrakuec+g7FWUI3m0qOX\n",
       "oYMl5xINd+qT7ED4hS5ASl+Z0mRJR0TDI2TPJBDCNgTbuXHUv8qLzSZjhytEgZgVZRr6AtI0tM5l\n",
       "8r0IrcxiwAJAsaxUCOhn5BuSrICGYEKBGw6Bf9vsJYfQTdWVOss7yp8SoyExMaFuU3YpGc3gHMkD\n",
       "Qi65EGsGiD7OHqWEQX7R9AaYBhgNRTLPORXHH5MCgYcft2UAkUAoH1wb/ANwnlFuHgpQe4/yJ2gM\n",
       "xFqJiyp2OumlZ0tzIrzmeH4QUu6jBYqLuLr5UluHseiy3l7HJHVouZd+eAki1EX7VMnERFryk0Vg\n",
       "TF15/XJPY6wGh6IoPwdFXUWFWROeako/0FHnr2bRLnkR0sXKcSmJzNTIvIyuMUnrzsiE3pzKuoCy\n",
       "FTn2VaMv3PQrThzKxmG8qTH3wovZeBW9vEHSnLdDS2j9vXbHGXnmEsgxdulX3Ri+RqvYYHBjd/MQ\n",
       "+utxleB3joor/LeiHaER642XxkFFL+a2evyAObBLh1g/wOBgFVfujFzCp6Nusj7NQobl1pc/9VHF\n",
       "mWZBMKTt9M96ThNSP58VYzhXrpmakIA74JARshjrzU2W2uYCbIf0vnoESUEE0fq9MvPk7jENQjfv\n",
       "1ow9eb+9f+SOXt8A+23iELS9DFpoGfxpFaDCEeN6cr2qsG+uu9Us1ZkAxr7BiRJbTB/sL9nBtYlA\n",
       "XN7QNA6WKm2Yt54Uy2XmPeH/HpGXS/TsEAnlnw4VgmLCzwG+LFkEMqzlBILGBUdZTpkuGX7ALd5S\n",
       "8QJS0D8CIBU1oxvNMJLJxlydxgbiBWb+nRpEpm+Wj0KC5wHTaGTXnS2YW7xwV62NEV5CKxq1xsF9\n",
       "fsY9oLVA9H5feML/q9w6TsgrjDYV2EVJqOT33aKxb3ujTAR7UYx93EkucibPj5LDDK64bK1rrSsR\n",
       "/Ae66BK77JNT1ajTspB7FB8q0eEMyGE5uG1CeKQoJrBMgtclJK02zFn8GD8oOi93dGkQksrWlnbP\n",
       "UOX/GO7Qrjfu8qLhJRv50HeudotmwnXlQ55B8SsXplkO/As5uRS5LRH7YwPY+YFwGkwv3BM3LgZL\n",
       "emPh44aH0Ux6RZkiEbPHyX8jFVtizPH/s8Yz7fO8hyqiN5sKRZEhc621iksBIxKAAHoG92P6l5FY\n",
       "vQWWOJWl11klmt4/KTvCV2WU0Iu0FwypzzCh3WgtjLdJEILhr6/ud9ElHqK0ILOGE34ljW7wj3p9\n",
       "I5bFeKUPsgtYYMgNHxY52dqI63FC/uaSLU2ES//ppdPNo61VYQyr9llLk3WKCln6XsWMOVf4Gqgq\n",
       "UMCib3/aq1EHedWKJ+QUg7ClWX5Phf0AL94Jn7tA97xsd3nxYiWxc5MQzHbaJzdEcIjF+8ozgj0a\n",
       "1bBxweqmuYYXYB6YyRIuz7Z2bbskt2UbpsQHvTuN6ZjV6Of+oJPdUKxhKBh7rqYKpk5FTyAfkSNl\n",
       "50zhQA2lPURRupAnjqihH6H28u5aB8q+F2pm5YtLefU3hCSAXusQyvZv79h3dgEi3sBwJ5v6+2SB\n",
       "h4KR1PrqIX6JFj55Ply9RlLECbOudIZfF5ibRDwKTC0+lZ/+WoIxdF5DNerJXKopNh8m8IltrgrC\n",
       "/84Q4i+eq2mAaIvQECI3/QbG/0Qs81cnuQEiddBCGJ1+CQ6ksch4brvyOetV6bNSOWrNWD8yai5i\n",
       "k96gQx5ni6EPhdyXwjKeGm7I/+l1COnZsbfx8HvvcS6w7ku/5OB4wE8b5l3O1PyQorrSiPzs0gLT\n",
       "JCJDBKZ9/tpt3n7XI+ofQYFTmVL440WeUgWHJsCXiJ62phT0FZQJ84XU3WLMVmnH8CbnzUK+Y9xk\n",
       "vBviaSJpKOZEy913UpRQCFYxsfaG9HtC3mCienTA1b7YMP7HKO30ha/PPoylMlnl/EzUoJslPASw\n",
       "KaY/OGhvz7/fCF1KJOrkZpKJ7VV4GK8izkFAal2COd9muE5tycjy5+B0otOSV1xnvEFYxI+WzWUM\n",
       "9+IbLaj1UcbLMD8fDNlOrGq9D9UPz9di+97fOGHJxnXHPdldSICLQpeQzq1WJQUYuk7Yqw3D1Iz3\n",
       "gg83f7+zjV/Zm6fpGLe640IArybjlid74jZhSQMoAVY5urfNF0LuExTWDOAb5SRoTsxwfwHSac+S\n",
       "IbU5SqEawOsuNjps3615lS22ftYm9u5hDcS9Mz27+G048hLCoJRO21t/pxsfsUs71IXN4EiMyq/w\n",
       "WfnLZvsVSqPELXDep1S10bhsYZjFaHvdvkCyNq87YcX9giWz9P1GNO/j6Wr/8ClD+FjkNPANo6oj\n",
       "HlC51z1jQk0EwriY56xlMwgFnr6uVD+MYbMaCruYztqo19nPbn7X7V8v9SzHda2/LpSMZirkoxQD\n",
       "vz+YEPdd4PXGxqdRuE6+PEel7RJUbosmMJzKUUUegPJ5M0xam6P3kVJrsHf+xOtR6HZcZJ5YVqjj\n",
       "kolVCUH6ASsFAitpqLhQqwJ8OyktA1CX1HG4nPXbrtM0M+Nz+4rvi3IoDTqFONbJWK64KUL9yThV\n",
       "1quuOUSSFGRaqC8e0MErRrmglAfWbx5mvop/SHil5Lruagl9uRfV7Y/sMbK4HwQimEJ1DZWVT7TP\n",
       "BsJyETPpwVgHliTXUstCl+IxV3HTV3qwA1PwFMw9NbpTWwxORnht71bzRjTtoSENIwKob/3kODnX\n",
       "1ZaD44QPGmYHb/YwMlAH21798I6nCGLQ1JKxqAGX1IBuKWim5DH9IHZXzBKjSyYmHuED/uH8DQMf\n",
       "soTcr78naKJxPkILEHcJ7FB314a2EEJZCkwXeXmbq3YFv9WoBoWp5HZUInqx0xY5IP9qJGvgFcMo\n",
       "Kr5F1P784BaCn4PNzr9zTQbL2anD54uBj1KqkMRzdocl/DoIDptOrcP0dQJcsjF2xu79+6DWB9qH\n",
       "VUICU9IXTlS1r1aBNo+uww4E1apcJkkqT5HBGz0vIHqNW2d1wzy3CTbIkMbsgyuLp4SIlsktzgC8\n",
       "2LE/hMz8g1VrqsHxE8oPeAWSuIBGbe2Ka0SbR5OE22+kNAgW/1qjL6+2GGUjD7eHBpV6DH8GOTrg\n",
       "l8ipVrGshbbWwKaz+0XtJsAtBvn/SdRHePvc4XlSakX8EtgtGXzIGxPAkBAc5nj71Ad07sQzC6MG\n",
       "ng/1JRSyap9Uc/nlkeH1P+uug0CwGF/EoMnPWq2Vk0lfqJbUNI6rJV9gyWuVCMi//2YjCOl3d+Ki\n",
       "JTIOw/ah77g8wy3lwG/LHmKeecCcD3DajuqhGhY1az3/6/TyWHESKtqlzb22Zk+xsn04PD71aUOP\n",
       "sPa8k/7XaJI2tOwgaEj/yo/1WlaR9Ni4MWBUYcMk/9eHwAiN9R93AKnobVcQNIfYcbklV4erOvtc\n",
       "CtIScQER97RehYBiogMcdTRLnfCc7lAllsfiNNVo7N7CBdN3Bcs6KVlWelAq74KCfYjVpwDOAUD+\n",
       "Hr9bWqjvRjYR9OPm743rVbf8xg5UvHDq8/ztXt6EijDQmIKRNODlDtKlxnT9E4ziPdiewj6wf/KK\n",
       "7FVSiLH9chJxkI43EX4JMNlams0on37ui3Q9nL9pntbWppNtNRPNm3Fs92avn+oydXyaHpEz6Z5W\n",
       "zPB9lTQ3CgzXmWDCWN3hXk3V/cYAVBr46TWm9SpNRh6a1mwg/36Ybe419kwcyZ7N5DVlX8AU6ZBw\n",
       "/6Vq9kZjoHRBiu1H2KuGXSD6Vfaxi4mnC3HHc24wmriESSbvxZaUHj/al5yHuF7NrdT8BSl4BQkm\n",
       "5POWGDJ4ym8IcjVMiTXRd/xnw3jUOnqMhil73x3/C+3LA5eo+8k9RY6eqNZxDvFEbJSuqFSdEBbN\n",
       "1xf+qyEymFSIMdav6JC2qdyUmg2veHq0ipkxx2yhdUivOoMnIkJhbcXkRiSvRqSAO4SyUWU7a/3F\n",
       "B/MGTotGP+Y50hq/1EevxtA4q/PRHymEB42Ouug0t9ylhTnRUcy7REmIMKybPcmbOTyFRWw28IsP\n",
       "LENc+wT2fmXNQAdeBwRDpXxu+dw0rB2MPjuhBBM5V+qQyHnyl54M3aZ8bK2q8lK0Qcsx2vQLtnDo\n",
       "32OO1pZcKU2pWpS7erZngL9nokfK7ciBQywD2MwJckhoXHNybYq8npCCSLwdzfmgr/t5x4+sJg+S\n",
       "Syt+q2hgTOP7yh/DNxkoWZ9P2HQpV5a4Lx8rdua3UAf6zfWSV+dRkPQhnbJOV/KIHDtbb9/WfDuX\n",
       "/FL8Ecpw3hJNGU7VPGWEFhZ3V3vF8Etcr2V+oBZ2EJpmbmogXywu6iBy/Dgf2f/69hpTXttX3yOt\n",
       "cAJOnla3O+oB+Ik3mxIqf6LvrGjqB9Pw7MFkh8FO1YXE9qmThnELMRVpVBwgm3QRl2chw+UVn74f\n",
       "CWno4DCwlKxBQuysST3zLt2b21So91sdKGqtXKIiEtSs4OcYVe6EFVW4CPDPPrQIZcXVgwWijEu2\n",
       "ySD4HCBHrj0jbecfsyomaTsgfvutSUm1JsytcNzsHs7ZLJHKL78Z3P3tlx6gtzP9pK1cXewPEOKi\n",
       "i6UNm/UMWHw/uINXKjz72EYFvgrKx/3pIc7zBAIfeg2Da1sUWmxTi9mc5jKcpXm8Iwr8vI8bBtYd\n",
       "x6w3oMJ1et4LV91DFzIp8A5CXHtG6Qx1hQ2hOAoix0khMwETJPsOuuHxQ6JFbrs0RWHk6Cvw5OaD\n",
       "w/yk0aJfJzo8b4trWzCOJXycIyfCOPRp6/BtHoA6fUFf65uC/PD+Is/YC68SiuERpny05RKD4gGK\n",
       "uNTbBvxaFyK/uHBajLoHkZszTgLPDJmz3ef5zD/LrEo9k3i7rHR4h/wSfb7X4y3P8bKK3ToT4wBI\n",
       "4y6uakAQlOMKvtxf3NOTc9k2vBjZ/0p6WNB3x/5Jxtv3r6rFLuK07dzZbNpWAxO40d0s3pse8I56\n",
       "ERjPTcDMUyiu5cUjADgR6rDfa5PLPkeLaH+Ctf0l7ByTUn0U4qvdweCQsRctlJuJykWp+/oweyj7\n",
       "7Qib1teTEvCx7F3bJ9YvIxt+X24qe7MryMnilGLA6hlynl5lGg7pHgnuEbIDq6MIL6fiQt2rn7hr\n",
       "R4KBrV4BEU6s0VavFlKKvrKiKLYdvNDRCrtw+ynQ2GCHGqyXY1NFpxTuzIAAAAYfQZ5CeIKfAAAv\n",
       "mQe4MbaQw7gAHFt5FC/Iv8J7OPoJ/CF14xcyiYX1P503Fd8Lp8/2BoZg4Jj979NDi+/tQ3mufPuJ\n",
       "b4SjFN13Z396guO43etw9f4XVVurAsFscm9hlOfaf8Y7/pM8eSCAZGsq+GnlzRw5zzZ8R0iuf0Zo\n",
       "HiQA2WJhZOZPvyk6Yi3eRULHomh6KUX9rj5nQDZNZhfmol6ln15G9g5jdiO2W+WqNFvyEoqJ5gdY\n",
       "xgqWXTwDBMj7lOrf0aspu50mfmq/uFE9Cd0Sb5iNkJMNM72I3AcSkPuGv1LXBEgL9TL32Pt9XnJG\n",
       "m3pISufaZPGuoRAa0jHgo/aNKOqGYmgjvUh6qeOdNJplJl0EAnmxLMpUygyrwxa8ZC2Jps0yJUGi\n",
       "mfvaHtvjNugArJZtGrAdtrpTtff7VkPr2aI9E6VZX3NZzFYTLkOAAjlkxhE4rTsLsi44HhH4PS9U\n",
       "vaO4dyzRFxVCzK74y8CSGQ20XqoFvKYlKjKr+gVi8NCS30sgjvVDnSmHJZ+sSyo080ze8pQUnuPe\n",
       "Nw+Y/2YKKh9zQERu8LGHByvMsYbK2E6jeKjP5THa2mE40JMAET0x3bYYLjmZzKxQtC3PCjmVjTAn\n",
       "hz8apcvnk4XeQpGpoevQvm4j7MX38RchK7ZDhQAAUWfJrqfdTjqVJmyzVzvwdc1MuwUzGQPSYLyw\n",
       "lHdcLVdylMmw7u+MZpuFKDlam9zw4g84092X4cCRipCjhdo+tsMWqEcfu9iTZJtNmFe3eVM5aS9Z\n",
       "XY0N24Ohn8o6XakptMAdPA2SQ/0IZPlmlT/Bmn9XarbYC0a5YnktnDh2hNFoB6oL7E+04F+kj3+3\n",
       "AelhzNqIo5Pn+r5HUtaqWrMUi3cZQC+XJ6b/WloqF4QWnksC+X3IEA48en7U2aqv8HRjmCQ0J6YI\n",
       "2NjmbmHjNkfdIl8BRSNYZ1K02/Hj1Tj4tx08cL+3wg+YQkddElBn+mNhUwgEWbVMG3gKimbskmX7\n",
       "IZFPN83W2B/GkdAB7O3rr9OTkuce5u4UxbmauwXjH1AWb0XrbFMcURa4KaGieUGQzmO8QVd29SbI\n",
       "6ezBdKqos8FFwgAXyLwp4qbEmGHAG81zHmZS+Cu6mmReBG7pcZ0azl4u52kL7+Ro/5HR+6tHich7\n",
       "cUURNEtPmgL+mlkgSJbir3DGAxlhrPJnENEzPMDm6moZfGk2ggUJPOkVyvlkjzTo9G3VVpAQvV5A\n",
       "deMjt+nkH0Jlc8e4XMUXPVdvZy8CIyAXsHi6kfbvlTuPCQYpVi3dFwGEuyHhJ1QHme5mmz7xgTq5\n",
       "OzcDBsAs5t+9LpBDdOOo90RnyEQwSWdLLLDFB0WCFbxycQ1IJNoi6KkVIbKoC/7FdSqVL0Q67o3w\n",
       "Ffi4iRszvlYdKtP9P1imIntXyJlp/ItMjgW6drK7OTEScmnOCPhMJFITEsKzLDi7Sg4Xvsw0gXxf\n",
       "qlFuLdhYfIqBnSFx3oRPfFUhWpn4jPdwk5G+NzjCOCJJadmsA0uCPGM7eS+HW2VAUbzmkpmTKdpE\n",
       "pvmGxacuDkXCITokwJCSvsNdpVzuzpg98CbqPOdSqPF7ByfCZVhMLgSN7cwMXFKiuK82M/0WSLSq\n",
       "gRkEq0CDVnTxFHkqBP14lJ/OwluuZQMIrRHzu1N6bm9OLXrfcdrtF3jXB9eGjB/B9/4WAbZG6Is9\n",
       "6q9Iy73Tx+0EF3sM4Mj2hWtA9Y8P+wbafLXVtg9iC+UWKIHfjSCP68MU9WXhnatv/sdZDae86Lof\n",
       "32c1PBHvYBf9GT8diUeJivxIZONduuuEG5EIomrka3wjXhAVBblp+wWSoAEOGdLIlHo246kdM7YI\n",
       "EIhyh73L1BOEX8Kqy+cnpCcP5M8tYkQrtDPJXgaCJlbs43j0XlUGUqG5RVFWgzL07DpdY54qyWJZ\n",
       "adUSXQzgbHr8IoeLxzqza2myVqXmHS6bYziWIv/DWW6Zd4a3Vsv3wwWI9bFSjxx1doEJAFV6bed2\n",
       "2P5aY+riOb+fsj0/iTCY7LISUW2MBdKktiGkkF/8NxEMQqiGQCxZt5Pk+bAUUxyJ3KUWJbgnRHrV\n",
       "vn4anqd6Ne7mcIITbo0dSg5HwQAABhgBnmF0QS8AAH7UqpuBd2uCubtETXBAVj7piFmOVMpRIGLF\n",
       "zB7VTA9bZ8XEDzhtiLnWRHyfcK02/sQANYrkg8NEMGZXALm9gCP/ocpgyF09ddcTroTzYS+uhYKG\n",
       "cky289o9Q2zVorkVz9ZXja9Uz7FL/jbFicTCbflNeczSBTeuZWwYhQ5Rh98r114HrKThpvpmrWiw\n",
       "HkNcD1Ch/Ue0wPlWEB1I/78vbcD421RYr8TrGuI3BrRwP/Y5DYRik590k6d8xAprPx8SxK68wUQW\n",
       "MzQRv7gwuf1nF7ksR8mzm5ic2NYMy2LF14fbM+It9Op1mLIyd1kfoI9fSFHKTkiFGriQb2D+ku9E\n",
       "bX7T3ApG+Afy7oCANXmdPi4yXK3zkghL+GjlJpo5UKWBU3sDq8HKqejdclmyzDJt30JCtc70h5fO\n",
       "sBmsTIJbcfV6y9alnYVrWcED9hmSwi3j007/VHr3pHI2uCL5jtZWnSr09iEgbEtJYVo8QBPDIGMK\n",
       "AHRDpiyeNjapDdJGQBssGU/qX75iSo0b/PNZtXw7IPr+4A6B0G/9554+deYP5OrsQ4zjAcqezUP+\n",
       "NGkDWuZp/n2CCQnoSeEUn5vn3Wtp8KRFH5EMcE6ZxaSq5r+iWvqShiApiTAS1F27St/kMcYGngHi\n",
       "g5BSEZPyQIh37JIr2+a+xDwqtQ/iOQ8uNy8SB1K8gfo3KJuWYHfQXWKXtixkxP96LDbKXe4n57/9\n",
       "shRLL9A9rHce8kU30bHqqHZViqF00NupNaQKVFjJ0MCQiBA4aEVbVETDncEKLBsVa0WRzibCxvHT\n",
       "tI9SMAHMq8N4oy5TZqSBiySLOTp7Y+JwxRW/CQSmGddUiAX+KhABko3qxTraFTCSMHid7cDyIwzr\n",
       "M+WqTT0WeazfCGelEJerDaoHGp0iTX1bOkAbc6kE2L/Es48QBAb/K0CeewNZQI664gQuT8hA0elT\n",
       "v+TN169kVfbouBkwVIPMIfhoqTKN3dq8dpSsiy8CiKxmYYPy/V7XquV4bdev9sUSVJTRo33nSguU\n",
       "fTIrzDvh133vQ3IRhqauoVTXuiGaY/5rhwZHphEoF5KkAKFSGL7ZLtL2K6wpvVzaDVlKynlQ+MSN\n",
       "W5F1xTWowlxSpQ7Mv47VkwkI5yJROn/JPqblBnlWl7EvzMJkDf/iT5dBB4Rkv6Dcp4VIL0U+4mPM\n",
       "Aa+GTI2s6TeSu0gXB7T54CMu7678y8qr5jhttF6Z5GjErt0Qs5kc54I62qeABQ1jtIELWEjMWou4\n",
       "l0FNzMIx/k0gnnygV12+ZTtJqxT78V2R0ZLPQ2/toAtNAsUCDhI0MhxzL1iEEfLkr2pTkbikvX4V\n",
       "BBV5DJnMk2NPzUvwDwvq1zdaayl7Yf2ZFBwqlmKTNajuth42J3uNtTM3Aa0foGtgB/upQutI3Ad1\n",
       "5RDiOTYdYozwg+N9qm5SolyMy8uc8XDyh3EIf4hjaMjQ9bnP4urfzipEK5CSkKZMUmlrupiYZrLZ\n",
       "r9m9s7vztXci8y0+c1n4NI6Sejt3lsDC2+LHGtUUk9DdptjUQAZEKQEpTw8L9Dr7PBQN2xMtmVfO\n",
       "3z1gGWSSum874bTuKV/mOEGfKSpba9Avq2JaUZDOIO+JzdlAXKKESgznCsKImXVyfaKrPcbSGASF\n",
       "2lAc/wUD7nT9bKoKIBp2MP/onXKu5MwgUb6Gg/D++Z4Qh9mT5CoV3UrwBZbOUtWM3xr/ljwAH7WW\n",
       "37dkBgHrG24tHJJ1cSlGI2yzfMOtAIdE0DIAe8xEAExxRArwdYyxhdwWwLxHGeF1/IE9LOkZOUcx\n",
       "Cs0GfM++O+vkrf2N2P00JZDTjvDeFZzI21VXmUlXz8sU2Kl5ddakuXXJjGEw7eLrSDKyg/BWvoZZ\n",
       "3jQusBwbxmDUfxgF+CzrwtHxwAmEysOtCP4fH8I6a8x56iUDUiDGj06mSnqIfxHiObM/1BbjZNTh\n",
       "i/wIyTtOzHTr8Ut8eAuF+0QoNqnyZIWm8m0lWGis9WmZRkAIDrzOoIxHVWsNbmFwcjiaYGtpVIvo\n",
       "+u7tthc7Ad66izw0c2RHgXktfhqzdAb/nlcUfjRQOSV0r5sytH7f7wZgzIAAAAQBAZ5jakEvAABm\n",
       "2j3BrkNb2QAkXoidOYgMLbJS6qSpw4bMnS5XUBVvg6zjb9jpL9VieKDyYAG1bw01+WlwYr48QBka\n",
       "s8rpda62qcfBlTm4NFWGbZKI3iQS9M+jFrQ4QoP4hJhRmHvq7N8RHMUn/auUsD/IcC5+dyiwOlaT\n",
       "nKQf1KgyncnUHuxMgX1Iw8NKZLQt9ZN3CyNx/liiANVpoWX3r10lrSw78llidFEm790Jes2k7Db4\n",
       "xDiyzZadE+nhmS6dpeylUaECsppPiknvCIycgtSvfK5+2pxbK9Rs0p2DPVrUAHRkDovuumNAUHad\n",
       "uflLOXb3yjy4JbkdmOoYuMLvLdhfnJaPy6ljv+MPLFwZonSxbJbvkiYZMDLvL6JS5D3vuz/ad9Lz\n",
       "hcTgdl3YQcHRlp2ggZjhJjt+sJUgYdkfIvVIDWHjNMpV1fROQKoEILqal5V1zLWDHk+UtVbZEFXw\n",
       "CHy6h/gvqnHy7HyRinSeEDIe5cBYm/g8ku0d76OR3CmkL8fpcmQRBlqdf8fHM7mtBfD5cAG+l8+f\n",
       "OBTeiRK+cB0RSY0C7vl4XMY+g9YoWn2Mx6l2R9vuB2/FFE1r0OdWPi8THzs1nMDvTBKTXinVC9Ma\n",
       "DOtB1P2nk0jhGTPkb7FjxDmJJmQ1x8gwubaxr///1BxQZEqxhR0Ns+XHv/5f29mdtzZU/lIoCiOl\n",
       "vnFhtNh5YJvaf8qb1ceRideBlDkTgQ1Np/t1Ae/gseGOXmFhvKsS/GZ0YZZkteCMw0B1jkRkMo0t\n",
       "cXqJyMhBsMhVtNEQ9dY053iTTvMBHTF73ZPPWdnNq/hLsTExty+iKQXan6BUHe4evrlbftQFgezE\n",
       "O9950whA6BR2eleRMSkwPIVHcP3jcU2VSGOK1o8xV+fJu4Ca4pkRtYh8tw0f9zWWW33witc8ONXa\n",
       "+DsOMl5x/ic2Xygu2SInyWaYtnpuyW1OQa06nE7Uxb6DREUtXH/F/resHcztaSuIu4v+zuT5N7KH\n",
       "mqofX3drnLQPl6Ua6MroHTDHNK9Lh36DuvB3zq1l++pw32mj/dqsjKpA2WdSSTJ4b4eMPKzmhLZI\n",
       "hSbXdQWMg/PFswoEYo87PSzzOmCFJSYbNZI3yiUrkPm9pNB/fqoGwLrngNCSxhG4BlW0UD8xHAfp\n",
       "ijLufxOGvliB3lXqY3SXJwJXU5CT1AbrIbAVF4ESKJ9yo5iVXtgwOffkWqB6F5dTTX9570J0ZdtB\n",
       "t8aExXN0PAFZI3pR2d5yYPQvg1dthmGriFbm82oDExArxQVVHwYxJmAnMa+WrGCs1aAfn2v1RpVE\n",
       "/vAehgHqqgy5qqp9QskBDSkSMyMA+RL73k2vQYVz7PlYvpcLFGtj4LQsTKyiIEEAAAdTQZpoSahB\n",
       "aJlMCC3//talUAAgC7sRRA1oN7Jrgmp+NACxyldMNy3LFD7Ac1bCTWgkHdWMgmif2Exyq7epqGYJ\n",
       "JHRqgd7jKNpEcS0lTT7khgMHNYyR+iUYb4fGktHUaia9zUkim5MbHfh9LDU/5abj7n/Lg5CnDT+D\n",
       "bJn31rDrhgjw1dowCDqW90mjEt0g3oYOemIjfXuW20gMwTDgqB3/mPxVQQ8CSbRUqKRp8Wi584gl\n",
       "xRQMRhWtSBT/4ESII5iQxHj6qSE/2skwOzvFAxXTTiveXNKM2RGNIKE81XFN6E4qCX7WXCj6PUNg\n",
       "KstelawLMlhac48DEtW+AnSkshsMXDKJW22vpq9LC7CTPzTa02vmVh8dUCgpixjcYXGm+1QcRo7H\n",
       "sfyOSJ+9xjRIf8KDfoeF9XA24oTULdp4mT7sIQIdrHuPUYhLVV+aib0gFMttObv96WVwlco6RjQ7\n",
       "2TyMSbpmCsgHXB2zbbw51SKXVB26Iu9rYNumm4qiUr5eX1lAb99srMQ+dCptb3969CoosUpBJLya\n",
       "qqzbGDgQggAXSEAvIErWduRwjBmLAn/NS6bDpQBzQpJhKmnH7Kbg4zrTbJItOvoJWt8oefMIjWMe\n",
       "e2CL6q8pSqKgSDGk1YOpOG24frty3zbrqEaJ0hFS+rxNz8ZXFGM2YN7fEdTfHYIiOAwYAZYQhPPc\n",
       "+N78Ef3MMqSq3epxCturiRAWNkX5mQLDWJr8qSz4M1cAE3WqdCMzv3gwevzur7++jQaaR3ZGyZ18\n",
       "2dTHl84Q/vEYMWBa2Q/y5xO8x/UWCAsjIAwvgMe4smpN204RtA6lW25VzN+rxXL7vFr/WRVol5DQ\n",
       "JKEtIGhPrieEW6ryiLhJ0vIt6FrFjOruvfdybzm4F7HFcOeF+LVMaIsr/Exbd+QF+305zItLJ8F4\n",
       "hp7auuN3+09VNbdEqHI+lFUjZPD4cb+YfIXm7745xLtVk4EqyLfj/cfmsUy6+fjbNny8NM0EU//D\n",
       "EHywfhkW+GlhNTV5LfEGxxWtpdEHaY+5S2wh8Q6Y23C8FU9BWcYS90yaCfSFIHGYkIc4FqklWwRh\n",
       "4EtgVDlts5jKxhWx4Ov43qq+ISFPGjsReYAGo1iLzdJ3yphNUFhge1jtQfqkAJ0LZHCRchumi3Lm\n",
       "8q5TsMNJtHNR18hrylHWm+Ap2euI0Cz4IRYkzxsNqD2MOX5Tvpx3TRaFAPIbee7FWJXC5Z+xtuFa\n",
       "YzG/QQjoT+0dJBQZBxSmf/OPxJunr0tLqSqwRSNbKnQg7Iq+iNr2v87jJr+8uVubJZtlHLsDWaQ3\n",
       "zlIzIQUpPPnJW0tki9ckEGx0ytqxodaOGnrwaUd/sWDMQW1oBPEalEClbUPwGsrNdfapfb5o9zOn\n",
       "z2hM6H46VE0qp8guSbiUShHHvjHkq6rdR96arNfACWIuQbo6eY2LOvBk3WunwWf7zVr/0AX6jHWr\n",
       "BNvUBWQ8NVuZqo+4egO42fWY29Vd3UQpUmnPuNarCmutavmtzqRun0/PDt04mTH0W9HNh4Ddnpf7\n",
       "ZiIQ/YyZEr+BFm2Ym4u8IPUOHi0kTgvJz6Z4l7N+RugO4u1Hl8DKZzv/5UvBTAKVFckaBNd4ZYml\n",
       "udjLnrQ3x6xmTe56DgD/xjfXjMgE8htAWPENxNI+boV6GS25/bMybhCi6ndAScYBSXdhdes1kxuQ\n",
       "ARHvSGgLI7eEY/mQKXSFtPoKPRQbjNC2TxZfDAwxpXitwfSR8PIgvu2oWCDIZEL5QhEaUCx1arbp\n",
       "yZWf/PuibE90pi/ahc3d8ULOgPf+bOGctuveI1nytMYavbibYQxMQ1RP7B1hL58sifuJDAeX0jFb\n",
       "Q4uZafFbS3GKFYtN2zIKCdbbbw/M0WkT1m7y4rIEgJ+u5NuGe+8f1ZEVKzpASqH+e1puL7O8qWkr\n",
       "hx7tE5RWzS02OvmM0eN2DqQ/kd20pJr2WQdLhuHvX7BKLO/3d9RyklRBh/V6njQnqj64i877QBaA\n",
       "NwSqZstXTRDnOaPOKhZHAf1+yhlwMWK89GUUFR7qV+x+Rm4lUJNZdqK4j17ecPy3mOEwfhsHNN8h\n",
       "VtG/2YpQAAFrDdyUAf4LJmlhfCglxqpvU/0BLUKU1JzJntZfJ8xedfiyNLqNMBl2gb/+8O2wlwnh\n",
       "kPz1BUOclVUcfd88CQdSqn81/gEv9txJ2wUK8ZA/zWNbnOIP5nC0u/CJmFgmZcBdadjYWCfV0TcW\n",
       "mwn//Oc7bUNTjoT40G3CHVBbujGIqZKqvBO0KoHT60fG0XnmrwemytsJ4LOpO7eiuK4PgZXzuPZC\n",
       "EqVE/3mc2b95GksnUDYaexTXE/PwPK+3c1+l25KMWmkpcoDc2tW9cVimcyxcnxlVU97g6qHLKvX9\n",
       "w0MMormZTDSqZZa/oarl+VpdzZ+h1Ciz4YIB0cukhO3kHlgZSgguL/0Z3QNUMMhsKMOkfVopEJ0s\n",
       "aOgJzvFP/HPl6v+8TZi6d1IGgt7s7dy/MYL9ci2UJyMV3IuYeuirfbryyPDBAAACp0GehkURLBT/\n",
       "AAAkla3QmXPpvizLiXiIkeyfDkdiWN5wM6iAMPZ022AYw+R2Q+ASvsfoqwVc5GUuTQBEmUI1yAAi\n",
       "A7BXs/OwdMQjA8yAOAQ51QLdYJeCAsdeOUvgiyPpYRpVKOIuEIvNU/nTXLc+Bv87JhA0KbSyJLCW\n",
       "z/T6xRHFPCBMU8sa97WSHrTBsb2um2T8h/U1sW0xGJfb8emo3jtTS1CnH7DnG4bBN5DJnqMp3gL1\n",
       "3H4qWSwi7XS9+BtBgTAYvI24XGDe7Tmhe3UZH6x9mTZX4dRuxNe3mXvinwlnfA3id+sb/K6nb+1e\n",
       "xubJrhZNHL/w6H0mvXTaIOvVTnv3f8N0dofyOLUtk/Fu+sV98aJH4hiF+6ypuleTNbc/+bmDdqAt\n",
       "ZGb9BkcsJ6C5cwq68fyal8JCBtVSI1brf8iSHdB5OdHlQi5ynz+ng0B2BYxGibqOTiCMiHgoBb88\n",
       "+mU8i25lTZGSMnG1bkpFsMrOy920KjcTGxdblByq+9YUlaevvWezs2cGhIOUheyIOlm1mQk6BQzu\n",
       "MVdKUD+GCu1XzNF1/3OABYnY8noA+QDHcOD+w8zyjpzqAtWS7RbGOtmPWqpv/P/ZUNItbZg/FokP\n",
       "/ot6pD8FCz9FoBXsjEeZnS370hjIHHBWhGFEzMfr1tq1OdG3F8bJ0cDswHwhg3wuh/AQ4FnHUHf4\n",
       "Gpli2ZIELQyamxtrxEBnaFehpHZ7boNzQrIBxWEY8SgZHE/+ITmPdV4jv1N/QNsBdnx5k8bBvOcl\n",
       "hSFEMvyQRx7q+cnUNlExdokqy0zRmbthUcj4psmzplMtqdRNHGsVIOT1X2itqkXBuTI2zsHFYlY9\n",
       "ud9lIO0TKrLo0WzcP2mJmHPnGTUBGsAs6PLnKuhy/Hi+EbtEqh5uRgLBSvkAAAJmAZ6ldEEvAABx\n",
       "EX0hme9HQto2a71fm2pQXaT74ih8JUgRbGNYDBwARB271xuU9RildBx7wJsnRvGEANv+gf5Nq3rC\n",
       "ReGmtcAAN3qLP7hCf/nm7NaXVDHMAa+PRGDD+46vFK/hmI//atnpISMz7P9PWxXy5/lNEoaYOqRT\n",
       "hurjbl7YHHxiNafxjdAs2nml6e77UFXKIU6AY502aeli/pmZ77Vu3cA8xuj3iO4I7OoMUPvvX+7R\n",
       "Y+C0Wpo5Osrqp/MP+MniFAQ71kp82N8M07WromG31bIH9P3iUt1MqkEC/yZ0BHwWcGTvUhK6FM99\n",
       "B5wx8fTtWdFcU56M4y4gfV3h3Bptk5bpBVB6uiBzg1LQKHECwAPthT7HoWl73WTvJ7VRw6M8wQBI\n",
       "VRk1vYEFePB/lnSZmlAj3dgBSlOJWAjCuv7pa5uTq7I9RbHj6dGJizu6Ti2oOP7CeLIyLFWchS1q\n",
       "zY7ImZdUB0Eb/cFrl9ORw3ys+73UI85bKKtAluAj4EGN9jwtForwJyTJcWA9n8eeAfr+dZieu6U2\n",
       "GuwQSk99JIcmpsvydv0xFTUYkCeBtM8eZXktfmCmStfUMoVARpPioCLhc8m2gVlLikP0IQD+2LWl\n",
       "jELDsE5CyMVxHUuvD9DLZsllHdT2Bv1UHqsCKrBL/Z0+4pus5OjchHQDMWPOWY4kj1FT4EyqULhy\n",
       "n81BSXs4h1rhUAR6QapNn55rYy61dshQu7G4Tf+8Y8dXWYCCGHgIAmnmkz3sJrBPPt1B+aSWuubR\n",
       "tbXOXKrMA7Lyp/Yqf8ABD1ErnHv/Omqv+XWg5mg25KaUKsMAAAKrAZ6nakEvAAArG/433tXn6E42\n",
       "e6luxG6jyTNd2U7t//ELTqq7mJMK1Ul+zmwAh/ydc7BR0KXqaP6a2JdsTHFtvGsGnKTjZF87GG9F\n",
       "u+kumC7+BratA1hb7BnOsMQaItPvaA3jccjMLIV2WsVx1o+FPe6asHwxyju2uY0DDWG7tlj0XFik\n",
       "Ie39ARW0gk45dhkgeI2UgUwW37XwSBGKwl3h59gh042lsvkszL7dbo5Df8DRoQxhixeE9MGb7G5S\n",
       "F9nU7F7blNU5mQwqp1U17GQCzDk5J+RIHljz/HZ0NcRjp0h0SM3kQZiSrkjMadzLp6+OjH0V+ut5\n",
       "IqkWM91ciuVVjCxMLQOZ8hFqyp6LbXlimYg7YuqREGlpNOxYXXS9PwPEwaFRIeLp2/rCLt/UmV6V\n",
       "+zpmx3NYNjy2aJuUGLtaElhOE8fp6MO2GQAPXg1y8yXxMVawCRm6qHvUxpS3yyXoyTxGm4bSeDPK\n",
       "ULRw4iQqKHN3WFC/VCzNW1q5v+Aljeh8TQzwptQTn2Dbd2v5ozSITpkkWGlfRhXUliqqml2gky5e\n",
       "HpaMonjECEN7gAJHcMxK/KLgAVHOjHRnDqmRD1C5Cde6KCAOYgROSX6G1NxWY1p2QfQrsJp8UN9b\n",
       "+TTJt5qSASxBSID6GHiUDstAtKoIhPq6bX8Lv4aKx6ucyVldIGdTA0uy1AE/FFJIO6j+wLm55P/v\n",
       "P7R3CFTclj8iieLvnpOy66xYCnhk0PrY3DqGwM3liOA2iLpKIFPmcLgO3YVzqyB7lTjvJu9rVXT+\n",
       "t/wRS8L6kJdx95ovEhLQPcyFPN19O3LYdO62HzVfXJOkCrH4Kz22uPthh2uNItBvYASx3cLDEK5N\n",
       "aoL48WKq+5R13SxqTgGKD7aYpVC62uvJNWlcobsDhCCrPnRxO+MAAAUaQZqsSahBbJlMCCn//taM\n",
       "sAABZQM+C0OIEd/QATsdg0kGBJGVczzOrWNPv+50dDrLRY2nK9ArfJoCks232quYxd9DgAYt7itg\n",
       "7DtMO02piSDQSG7A/1SP/ajPz9losmNgevp6mH2h6gpMNyiNt11pcSOkAed7l3y2zSqtUmHVMzsb\n",
       "WUW5IQ8rqEUX5vm/csBnYo3VuYSPiJW9Vlxhi8HqbqglrhMQm36kCjb38L59n6wyQeYjAkjHtGnc\n",
       "k7W+weS2E1mBYjLUQpnlFQwqWF/lXCvWxoNMkIb0OsW0c9cVkTBRIxsYFzaoqZIzhVGOBbHrrnAw\n",
       "fFhINkW/fAoYod7qmf3i9smrh3eCvKVR10x1i3FdHfLLOpJBlN8Qqbuzg+FnOBvGttywFNUGS4Bk\n",
       "WaVPHiS+w4IM/MyODuOYYkZ0Kza0jZ/dAmZpypBDPENoez24q0gaHZ0phcRiz9C+SPZlPbSqfZQ5\n",
       "SFUpbB60JfniMohNxT+ItGOpPo4atWEpFHZzipzPKKyXADBJrITpvzFyCIzAT/FYvMpMi5BZ7d2d\n",
       "+ltTPssSPwRYhsj0/t82DNUaSrRBjhIFYuDqQJXm6iwYJPKxac02N5/vGHKhNOGKhE5odzfoUWHL\n",
       "7744olz5ErbwQx8xtArGYXjUlKefuWwPN0SqyfkvKtRZuJ+HaE+P7xHPkkYy8Ajkp9ALnfVbcQrR\n",
       "37DEM3ur2+lqA+t4UnElSoUQJqpw+Ps9gmmAjFtSz1nlO+d+kmnwfjlYiBzcf9B2weu3RJoH2IFY\n",
       "VsiDXy4MsIwxwutP2w+8Hkk4P/RkSO5tWOnDNk2ntyBEfY+7+WUHPZcCsb6Sg+Z/R06W6wN93nG7\n",
       "+Y97n/vLc1p5NPir2KXvc+sp52qIU8AcdASKCF5098SeDJytk6o2S/j/wGm4kpX/8I7SXj+iO9Cr\n",
       "xmiOwnpZpEYLrfiQBQZom0JvuS7BRbHaO47GNv2WPRHiSSw261fsLWz5K5yrNV1ATPCm3g27uXFX\n",
       "7Y4n8mM/MRubbsfGdjvZnSIH29H5nt91c1THosd9EDNBuK05PhVWELgZTclJytHKJH2gNwDSTjLE\n",
       "krDwE+gp/Z7p/ElbQd5E+vaQp2P/elXHp8TJfl4oQDUlRIMcH3/y53xYMWhDq6/awWRU7mrEgiG2\n",
       "emzzqiwYxGfestI/6eBmt7UYVYYv0cpH2D00EkYZitoOaoKzFfuLv68X2dJtcQdCPjbtrxemCbWW\n",
       "tG8k3qgU6useUjENZTdkGweweqe5WZd86+Crt91aZwjo+lwzIG36++McQKXK+VawX3CVa7ysPwIP\n",
       "f2MmUMvua9wvI2TktpVEI7lKqqr7m+GI0y4gyw8pPqJeza6JyiwXYs6kTzlCFk/ZGweXwjtNFUDw\n",
       "GkXOrqX0Uh6VOPKSxgxwuSU8YgDMuyTwl98DoNqTHuFjnC103k/0x4SOFED9NRRh6GUJvIJit98A\n",
       "ARQ91yWdHCm/wRoMIA/rwZWELBXpy5bwLay3nHDwdyC0clwlT0003P9KmPDskz0x+XAok7l63THB\n",
       "JwxeYmLqeOsSavVAU2BLIqnPfRJ4PbH3G0Z4BSfj7eGRc/d95AT3rNSX4Vb4RkPa8eXOT49qA15i\n",
       "3V4nUl9zEIjTTeWG5wlFJQbNU+h00gGVKsl+ga7wErhnPJwJKr1ADjKP7/NGYsvGCvM4ef/MlCGk\n",
       "KW4NMcXMg8C/2JOYHWGoZggsplljnlF2KY0QD2BkTe5lNgyZnwAAAxxBnspFFSwU/wAAEcuP3262\n",
       "kiS/1gqF84UsVgwx4jNHxjMUMwCQHNcovhgAVKn2zDgN5GJ3CRbm32kDMLqZqBdzucLRXz61mW0N\n",
       "EwCDAPTZpQ7PSsmRFSxhZ4IJtc/3WWY/tJtkYxyxXZwl/vVr1s8AAgyUHgNnNu7Y1Me1QK9hVHvS\n",
       "in7krkiHvHZjt10pcGsFr4C8veLVZVcbbaVj89tkdWl5lHXljsBPY8+2l/ePPcYwR67OlVnuk10j\n",
       "lSNOTkcuTStpVaYUvQir5mO89oOoMQS9CnSoZ6Gzcr8lDHScdDWtB64K4Ie7ipv2zX/pWzIP8nBj\n",
       "s/BaTpc3oERd+1J1bk0umxWmRfU+KV8IBPOkHxzMuntNnVnHvEdSEK6oyMoNO3HwO/cNTmQOfF9L\n",
       "243+baTPZEU7aR+4Yo7i7GGcKTafG2UDa+aWyyRTbdDAq2z5Dc2nNx9TIcbmA3W6LOJp6AWRxGf4\n",
       "wciVk/5OeKZZUkLrpG6LUkN47MfNGJZC2y3p0Eo+jKMR9jn+AxZIE/j5s78Q1uapsntfKtBdsVBD\n",
       "pBnL6SeKFinD5BNtWjj/W5mGi351CCf4Q9Fsz/N6Nh3w8LxiGmXtL9GXcLgi4s47koSYGwVW02Vm\n",
       "1POc/eAkgyUmgpgLg0nZ9xypcs1oVVnBnjWnAoA2+sTBJsc23JWj12Km2Au9KMJFxzpW+mAnZT8y\n",
       "6202eP+5x4KCUgW3781aHb5PPrG9bGP6Iqo/ZwdMV9PS2K6vgXxD2w85j203fhVI2jQVcK/b/Bhe\n",
       "f9GLrKw/71+vn7yZSM60JfqkF8Un5VFQX6QPF+/MS3dk3A533cIqm6Y/HP1UrfTFe0XoryC4+j5c\n",
       "+1BF6bEum9/enWNQj3CfRWz7EKKRh3lVLDVqtba2HFNpJOWfYk3ryJfo3Jib9tNXQqq0A/xQ96lm\n",
       "lRzAzSNjha+54rxW2F4zi3jN0KzM64//n0tP93NC5ua2KE1BUVA2SQAreCIidiEERvc21z6PnneV\n",
       "9RnKy7ia8HmrlERtMx+HIMR6/I2wv0B5ZD0S7g3g7ZNL0WOuqySRAAACXgGe6XRBLwAAKxkeJ4Cg\n",
       "AEOoNb9yDYjx8lzMxs6HkEJZSwa2ZHIJGB0oZoANn+q881kmQBKS3mfukc8Zsh9ZhjDoPGe9+3p7\n",
       "yChtXy+FdKi3JBPLVtuYRwiD06dAjxr8Tqtaj3WGm/x6nAglVt0EfRzdeeQ/PErvFZc9PVfFCHu1\n",
       "R8PFYczvc8jaBYypTlP7knmwovxdR2ujVFZ0e1brLEd0v79eVb70PHd3KzgN3/jyhl/5nW40mXwQ\n",
       "9VJuizDCHyvNerVpGNH0lenkFLUE3GzYVsz/qCiWc39R/2JfqSD7LUY2ESEnHOom0xsOTpuAUvnV\n",
       "pY8v1JMoADZTwJdSMwe1uY9bQn+fOUtde945wEuWMZzuCGwIrqXjk9F4x1PV58pOUn54pUaRHfb/\n",
       "VV39DWQ2BqfJMXM3ElAO6IfOVncymVi9cmX3sOPzOTYGPBE1yEmSkApkWaFCtHJ4TnTCrN4ya7xu\n",
       "TFrXRApXocfhBB/yFDpX1ALob/gu33H0o+5JqwYnM3zJFKkV0Acerzb1nR2KzoAyT7Gs8qOPTE7v\n",
       "DuZBFZCCI9GmHy1KQjmoWtKMozDUD+XvsniV60U/wpHRLzjmXLc9Umxo+/b2yYacsxy2A0dZE7vI\n",
       "nern7h5Y71HRXJhfEDi08OrAO8YIx6k2v7vlfpTPouih/1uHDc5+bzwOKDmtfW+QfCp3Tq7yepYI\n",
       "10JpTry/n5Q5XRTlJq0tB5g6PXFdW53+311WqcTRV5kyx5PCZWt6S0xkDRyft9ZC32L/IGzZyigW\n",
       "wFA3f++2WGvDddeMxB9ODIoO/QIH3QAAAXYBnutqQS8AACsb/jfe1efoTjZ7qW7EbqPJM13ZMlvT\n",
       "zhKA6uV1nwNrLCbc9CSABEBd1X/zkeqtcJ28WOoGGjFDYfb1dQppr59ynWzj6QLKEVltnMTiNYjA\n",
       "SV8MRTi8F7mWDQFLCBW/yn7fPZLsudE1r775JXBREx73/Fnt0+4BQnaSj894ISU4WMrGKFkEOKDF\n",
       "LdEWTki9TgalZOcYb54+icAACyaBXMTX2xHv7XfDJILzufSg7bhAbITroe3siWh2KVFpOB57mFYc\n",
       "N14hzRWuX6i5Z0k4vANahbEUqDHMzjMAfZrMdelUz3T+pdJdgKDzPvFrKDEP0QyYqDteV97x5gpl\n",
       "23mY1CIJLQ/t+BQ4SWlyyTpj4hfY2j2rTD3MBr0HAM32AOfF7JxAM5fvvtRTX/4yKCyd9NKifHH1\n",
       "dbUkGw6Cz3FVPEMItMxeoDuixOPkF2orKR9Tx6ka5fvvuFfd4jLlxX8pcsN3tRRG6nts2b/8RNxx\n",
       "wAAAAhRBmu5JqEFsmUwUTBL//rUqgAAAAwAFBKDqACc1UOvESyVW2Kd2chnAf/wh9Y+cbXSXJkF9\n",
       "C+cBV2KXbG0HM4AR6n+24Yr9B+emSQ5+cP0AMDrYQrWmqxdORFsiGnE1v8ukZyIDGyW26f0b9QNs\n",
       "XtERlH4vMIOuKbd/d0PHgJp847Ik073fUT/KuN0OSrHHZbrHJOa/wa0bYpdjYMIsgr63pyUzZGOe\n",
       "8T9aU3o2FAyqPcL7E5QjxRYORN92M7K0hDCFtw989NP2TtGQmWhSibZfahDE5Fn9EjcQdCkVVeB3\n",
       "vxpg4L0KQptBSrccT4woCQddZuKuQvRU9c6CX4ATC3XoBuRWUmVHVHgyp0JZsTVMXfI31ETlJhhr\n",
       "aYG91+p06xLpqC6rq6dUz7rLwDB9lRQkYcPpWPr0kdbjvsuQEI6CeT/HOUI7GNQ5wsstUWSsOA2y\n",
       "N1xvaP1azO2BKIA+pQYI6JjFS6DAZxPrDFk1KTC+0xQEcJEUZpItAOG9UtkJ3Ya4YWm8u9p1QwDo\n",
       "X8g6ZBdMjFH/wz2JzVfYIrW4fHvTzqmy1Y/JJJhwhVU5BJebLgcR2TKTVC8fhaaPCqFp6XG4BhON\n",
       "s/3qrXe2XZPjmPQyR/YQh+cx/bhSlosKdiJVQiuXd26kez6SQH3Qwwkc6yB7pLqtHvL3IXtztLs9\n",
       "VNByqatKr/CO+l75vASll9Q8uU/lEY+TAAABbAGfDWpBLwAAMi0fFjSIrqpQ7awbmnL4NU2ooLRE\n",
       "WQRfroKAGsBIQdlQRtAaDiw3vHff6T0rkKGwojgAIhUnE9cUKatw5mgCwzPXDjbeG59geS4h6sbN\n",
       "RfFs+Lu3IMFp1Cflxm02kVWw1wX3//sry9+01Np5Mcf/6p4bpXuCXrHNyMF+6DffEmGgtV/5ih94\n",
       "cbqHLKNJNsiH/QYm9wJAU7jh95Wlt0eY3PzWPpDVKa6u3A/bu/nNHEPuT9P/TevYw60L1u0iSiiA\n",
       "8OskfgVjT9x8RYgKT+D5ncmiuJp8iR67m6+bTtNA/1ClU+9Obbp7KaP/PdouiTbqwNiohFXX/T4F\n",
       "4uK75NNuyBFjbvsKn+jVXw7ndp0E3PpHSyOiIR/9Rlb2v3FvnalNAPfmY93E/hMwIrPJJltf+r8O\n",
       "bsbj1QVp/8Qpm+9U/3BR5IY5fA6EQaGMpDe0efqrIQhJbA50WLf0Tx51aSlx0HXAqLMAAAPjbW9v\n",
       "dgAAAGxtdmhkAAAAAAAAAAAAAAAAAAAD6AAAHUwAAQAAAQAAAAAAAAAAAAAAAAEAAAAAAAAAAAAA\n",
       "AAAAAAABAAAAAAAAAAAAAAAAAABAAAAAAAAAAAAAAAAAAAAAAAAAAAAAAAAAAAAAAAAAAgAAAw10\n",
       "cmFrAAAAXHRraGQAAAADAAAAAAAAAAAAAAABAAAAAAAAHUwAAAAAAAAAAAAAAAAAAAAAAAEAAAAA\n",
       "AAAAAAAAAAAAAAABAAAAAAAAAAAAAAAAAABAAAAAAkAAAAJAAAAAAAAkZWR0cwAAABxlbHN0AAAA\n",
       "AAAAAAEAAB1MAABAAAABAAAAAAKFbWRpYQAAACBtZGhkAAAAAAAAAAAAAAAAAABAAAAB4ABVxAAA\n",
       "AAAALWhkbHIAAAAAAAAAAHZpZGUAAAAAAAAAAAAAAABWaWRlb0hhbmRsZXIAAAACMG1pbmYAAAAU\n",
       "dm1oZAAAAAEAAAAAAAAAAAAAACRkaW5mAAAAHGRyZWYAAAAAAAAAAQAAAAx1cmwgAAAAAQAAAfBz\n",
       "dGJsAAAAtHN0c2QAAAAAAAAAAQAAAKRhdmMxAAAAAAAAAAEAAAAAAAAAAAAAAAAAAAAAAkACQABI\n",
       "AAAASAAAAAAAAAABAAAAAAAAAAAAAAAAAAAAAAAAAAAAAAAAAAAAAAAAAAAAGP//AAAAMmF2Y0MB\n",
       "ZAAW/+EAGWdkABas2UCQEmhAAAADAEAAAAMBA8WLZYABAAZo6+PLIsAAAAAcdXVpZGtoQPJfJE/F\n",
       "ujmlG88DI/MAAAAAAAAAGHN0dHMAAAAAAAAAAQAAAA8AACAAAAAAFHN0c3MAAAAAAAAAAQAAAAEA\n",
       "AACIY3R0cwAAAAAAAAAPAAAAAQAAQAAAAAABAACgAAAAAAEAAEAAAAAAAQAAAAAAAAABAAAgAAAA\n",
       "AAEAAKAAAAAAAQAAQAAAAAABAAAAAAAAAAEAACAAAAAAAQAAoAAAAAABAABAAAAAAAEAAAAAAAAA\n",
       "AQAAIAAAAAABAABgAAAAAAEAACAAAAAAHHN0c2MAAAAAAAAAAQAAAAEAAAAPAAAAAQAAAFBzdHN6\n",
       "AAAAAAAAAAAAAAAPAAChuQAAKq0AAAYjAAAGHAAABAUAAAdXAAACqwAAAmoAAAKvAAAFHgAAAyAA\n",
       "AAJiAAABegAAAhgAAAFwAAAAFHN0Y28AAAAAAAAAAQAAACwAAABidWR0YQAAAFptZXRhAAAAAAAA\n",
       "ACFoZGxyAAAAAAAAAABtZGlyYXBwbAAAAAAAAAAAAAAAAC1pbHN0AAAAJal0b28AAAAdZGF0YQAA\n",
       "AAEAAAAATGF2ZjU3LjgzLjEwMA==\n",
       "\">\n",
       "  Your browser does not support the video tag.\n",
       "</video>"
      ],
      "text/plain": [
       "<matplotlib.animation.FuncAnimation at 0x7fae6604a208>"
      ]
     },
     "execution_count": 126,
     "metadata": {},
     "output_type": "execute_result"
    }
   ],
   "source": [
    "import numpy as np;\n",
    "import matplotlib.pyplot as plt;\n",
    "from matplotlib.animation import FuncAnimation\n",
    "from matplotlib import rc\n",
    "\n",
    "fig = plt.figure(figsize=(8,8))\n",
    "ax = plt.axes(xlim=(20,80),ylim=(20,80))\n",
    "\n",
    "def update(i):\n",
    "    global universe;\n",
    "    ax.clear()\n",
    "    scatter=ax.scatter(universe[i][0][0],universe[i][0][1],universe[i][0][2],norm(universe[i][0][3]),marker='o',cmap='Blues',linewidth='1',edgecolor='black')\n",
    "    scatter=ax.scatter(universe[i][2][0],universe[i][2][1],c='yellow',marker='*',s=250,linewidth='1',edgecolor='black')\n",
    "    scatter=ax.scatter(universe[i][1][0],universe[i][1][1],c='xkcd:hot pink',marker='H',s=150,linewidth='1',edgecolor='black')\n",
    "    scatter=ax.text(5, -10, 'Step '+str(i), style='italic')\n",
    "    print(\"Out of\",len(universe),\", we're at \",end='')\n",
    "    print(i,end='');\n",
    "    return scatter;\n",
    "\n",
    "anim = FuncAnimation(fig, update, interval=500,frames=len(universe))\n",
    "plt.show() \n",
    "from IPython.display import HTML,Image\n",
    "rc('animation', html='html5')\n",
    "\n",
    "anim"
   ]
  },
  {
   "cell_type": "code",
   "execution_count": 127,
   "metadata": {},
   "outputs": [
    {
     "data": {
      "text/html": [
       "<video width=\"576\" height=\"576\" controls autoplay loop>\n",
       "  <source type=\"video/mp4\" src=\"data:video/mp4;base64,AAAAHGZ0eXBNNFYgAAACAGlzb21pc28yYXZjMQAAAAhmcmVlAAD7b21kYXQAAAKtBgX//6ncRem9\n",
       "5tlIt5Ys2CDZI+7veDI2NCAtIGNvcmUgMTUyIHIyODU0IGU5YTU5MDMgLSBILjI2NC9NUEVHLTQg\n",
       "QVZDIGNvZGVjIC0gQ29weWxlZnQgMjAwMy0yMDE3IC0gaHR0cDovL3d3dy52aWRlb2xhbi5vcmcv\n",
       "eDI2NC5odG1sIC0gb3B0aW9uczogY2FiYWM9MSByZWY9MyBkZWJsb2NrPTE6MDowIGFuYWx5c2U9\n",
       "MHgzOjB4MTEzIG1lPWhleCBzdWJtZT03IHBzeT0xIHBzeV9yZD0xLjAwOjAuMDAgbWl4ZWRfcmVm\n",
       "PTEgbWVfcmFuZ2U9MTYgY2hyb21hX21lPTEgdHJlbGxpcz0xIDh4OGRjdD0xIGNxbT0wIGRlYWR6\n",
       "b25lPTIxLDExIGZhc3RfcHNraXA9MSBjaHJvbWFfcXBfb2Zmc2V0PS0yIHRocmVhZHM9NiBsb29r\n",
       "YWhlYWRfdGhyZWFkcz0xIHNsaWNlZF90aHJlYWRzPTAgbnI9MCBkZWNpbWF0ZT0xIGludGVybGFj\n",
       "ZWQ9MCBibHVyYXlfY29tcGF0PTAgY29uc3RyYWluZWRfaW50cmE9MCBiZnJhbWVzPTMgYl9weXJh\n",
       "bWlkPTIgYl9hZGFwdD0xIGJfYmlhcz0wIGRpcmVjdD0xIHdlaWdodGI9MSBvcGVuX2dvcD0wIHdl\n",
       "aWdodHA9MiBrZXlpbnQ9MjUwIGtleWludF9taW49MiBzY2VuZWN1dD00MCBpbnRyYV9yZWZyZXNo\n",
       "PTAgcmNfbG9va2FoZWFkPTQwIHJjPWNyZiBtYnRyZWU9MSBjcmY9MjMuMCBxY29tcD0wLjYwIHFw\n",
       "bWluPTAgcXBtYXg9NjkgcXBzdGVwPTQgaXBfcmF0aW89MS40MCBhcT0xOjEuMDAAgAAAnwRliIQA\n",
       "F//+99S3zLLtU2+2C6j3op4mX0N1JQGblsTtOoAAAAMAAAMABBemSeywS24gSzAAAD1gBAQqbv/N\n",
       "UNXT5gCK19jKQnUTMeGyOQMFtRZlWP0mXdhk09THXCgMf/KycGy6gZaL4UP3Ot8fk2X8ITq1HT0q\n",
       "mVVwiUO1vU7zCwyeNIJ7OqPyl+9jI31fhNmN6wrxKIA1sGn1WVAfj4Cr9GxvQIxKtBiErhmXKwNh\n",
       "5fA1tUqcdyYl8XPElguqgC74ap2t/JEbEWfybcL9XKxbG/t6V22QrH0lpiXsPducZgHTJjpopj6A\n",
       "thndBuDinlrSO9lbx3zJxSG3wKwiubaRO9kJcNLbV1L1HOPg5nBYySZGro2hUblANFIAZMqNNAf1\n",
       "PyN8akV++w38RrxaLB5docXrA/q2lsSUZJRxVQM/SPo/ShHEOFFlgLqWlh1e0pk/ZumWMDV3VYok\n",
       "xC0vIdlBQHNP63G9ZQVGFxZRQ//I6GZtwKZjSI6ibt3ih7IYVZ3vAUcuqYaIV3fAkzAL7OxhAcDc\n",
       "b9WD5vvjgfNSNVA0WpJR7xoVw10XG9Ckdz7mM+g2eEN/oBaSb8LRcPk/v7+53oz0FUGiM+UR1Jp+\n",
       "6j7o1Xi/E7dWyIKyNaWocgpoUaHlgaMsYd0C8v3elejxiUPvapauVKAznPIU3a+9erL3XbQ7OkAt\n",
       "VplmhaC4EH0oBWNwpAEkqS2cr/MI41SdwNoz1OBt0/humJmNSOO/4ynuTwlV0kekMNgzsSOfdeGb\n",
       "nu/x1EbpZVHY5F/zTS/DjuXDK9abmseM3V2J0xkms3QbCZuoFCNerpoxEA6YSp3Zpx/zj8HgJPFW\n",
       "CktuPjazxwwxMbk+E08igF+ik6SFPJ5lTVjd2GcYLK8PM2rpnMiIUHpSINO0MZWs5/5ngiOUOSmA\n",
       "ub+K7T4b2MngbZmsUmOkhLvXu3gT4bj4YjuRymE2yx562/mBNWlr1Gw/q2KlimzU11/Ozb1Fpg/2\n",
       "pdt1DABYXZCdRK2PurqK9/AUBFB863sPGUXtRD9WqmD/JQoYoPvwtEz1X/wGAE2phuHvbggR4sfc\n",
       "I88vFSGA2MHP30RBoUTVHNb1LhKrYqOCoNvWKU+CD/rZ/URrtKI2J1iaQDQvuQuDiv4b1bgG+ts4\n",
       "Jzy/qAfFuhKp29NvwqeB8rFXz7bQZM4EWqrd0wPOJ9nPYCeRC26Gdy5NN99CkSGJw4OBpuzMjH+k\n",
       "maq22eswpFkckDNgxH9n757X+wwwt7YgesJ/lbo7lcOUHbXsKvER6IXRonE286meUSKXiXAVCBCs\n",
       "8haLRdR+pKuJIr1uyZlb0QRafNpDda71qiAqb+S6s6t4Qv62ZCtmNmNESjTDVOZWvbVWicxbGYpv\n",
       "DA5M2n/Nz6O/EtRQJJTUPXpZ5P0vMvb2lHlMCxjCm0vQ+eBnVHHTVhFGRhQS+iar5+R1gI2itKcu\n",
       "PR8FPfjBM2RfHWR5MmVI8BUnwq/QSCVpmJRFWC2rax4mj8LDFpFywUnaY3Kvl42EXa1xVWMwokD1\n",
       "Pl15ypvpSHXd18qKxLRAh49cSF8aR/nwjoqhcQBvV+NZs3IKrDGoQPxQAWyj2vO0hiq3k6g04ue9\n",
       "cqqAS+wMiGaE+e+PX/iz22hPdr7MIv8MnMkqTllSlQH0lZYRVR9uykGj8Pm3DB8rAqnBFzmn96yu\n",
       "nbAFyQ3Ikl6m8aIyp73ACGH5ZVmJ8VthUeF4XNtg0c2Sm+gm6qtW5mzn42EOIAYqk3/T/xdV67Mh\n",
       "qatK452/U1dYYrkGAHVnZ1fh92ldkyU3wPl99cqSpnZt8MekHEye3iN4pFfZbKg5mc6ZP4+Ifp94\n",
       "vb8dNTCKbum/X850C/sSjGCcnd8t+16j4NIC0VG4EyXcs64v/yj5kzcyROTfi3htGxu6hOxDMDEJ\n",
       "7PwloEozHTzFD+oHYTgxfaI1i2mXG4Gi1bjq8I1QXNo6dfucPyeHumCY+xz5Oeepv1QB9eEgRrhE\n",
       "gZ6NoTpNhXptwWBLhkJ3QghmRWtNLkYbXjPHalLnyCr4xf5Lwd8y4QG5+fiGUCRn9jYH6wtrKGX3\n",
       "LH2NBUWfr/ozkYUjYDObFnGlKYKZVCFyYMtu6crl63h1EiCwH+p7J7oXPsWcLRPENF9v/s+qg69q\n",
       "ovUFODsSwYxJ4OgkJL0t10e+w5mVKBQqoICUBoxYjcL0aqVM0+U8AI3QsD+baxj9HRoY7GgkrLxy\n",
       "QWLJlStrYoCidnWg9BlcD2g/7MEe3KwbxpLVsSsGDh8vF9dxfQWmSu/OY9RRZJ4O7/KUEDC/2+nG\n",
       "oNvIWv+DZgDVKgVj32Vsun2RYk+z+BZAAGUpRaXj+cC68FPKOkFnu7cDkAXjKTUV5jolZSOJE3vR\n",
       "qGM14pJamu7pFzScC88x8iW0eBqfiiQmnPbUhGtJx8wgBOv6BTsqHER44pMUYHr4nUPdFGoYhsjc\n",
       "yezwR4yYQH9kdsqnUtgMnGpgJ+MTJS8PTzXBhUbKtsFPZizpYd7xjmh+/g2c+r/cD2cKnS/JXcje\n",
       "KLVsa4SMaNmO4b9fYhMglXLZkZMZzFdWXTh6KtaGi9mwDOI/+yDz+NLbOt+hnWgl05oOOuH3caGf\n",
       "enyrkufRvopXe7v80Zpyxz1iRlpKfeQ7XXQSMt3ASBCecbH+xpRcb/UsKARpMMn1TvrHGzzdkX9H\n",
       "4nNMW5cAdr7BPuPqZ/r5CfCH/Zk6gHiAAmBgGLwp6OV3Q16C3+NB0VOnp2aCa0/QXeAD0O141sGg\n",
       "a6GNALlmWjiwgeVwHY2A8xwK1m59MJ0TyS7sYqC+P0TJZ0cyS8ATKkSdhe+kKMX/xGn0PSFuW0Mi\n",
       "bAtjqvTGMbgo/6xGzB6CjPfWWUiMT8puImPQ/jrK879x/eKVHK4c7aV7EpjoDixDclvcMp3uKjR0\n",
       "bjW7lRcF64er3qlql+xUMVY+pmEXhArxkATBo7S1C5EQURytu8yMG+mk+ogSCCoCG5mmMohu/XkX\n",
       "3A0ETpVCtowY5C+azDjJhrljB1G6KgwVP6fqhn5DoMnYbuUVmXhEZmHYLDK5MokvgpugmuJLn35S\n",
       "QRYyQb5Q9qiVkB84qfpYUxTkXoYaEhZ3PWWsNLShRBBo6PCvcq9tZG5tYUNJ+H9u0ImObvfQOm9N\n",
       "H1Ehl8gy6KjwSYMrCM/9MAnCLfibLWh57YtoQBCrguqKAK6FtM8V58TYWLsfjgfj1dDhBf018vYq\n",
       "QrjL3xJeo1555/Rbym5A4xb9i2fLp6E1pvC8Tzw6BBUszW/YadaC6+KuPnaVRl30QSJCP6rNb/gt\n",
       "WUA8/RVJ6w0aJp05Dct3y2TV6hb2LBzwVO8+nbj/1fEm1ENFSMVUeviABAlqOnHGjk9TwnZacKqT\n",
       "oqE0VN3C1ey4LNTptG3ygKLLuwp857lzd+eZ8S01tQNcNIAlOF5nWD2e+XnQAD37Z02Zqke/Y3sY\n",
       "IA8PJGIRiwh7l+cne42u+sCpya0tO/0PjkTqljOS12g7l9x+KCaUrkUidqBSvdOOAY6v7O2JX9NX\n",
       "VPCJST13DdgjQJHiFi7CiYEvVTqiF6hATFWygEGePRSNK2PQhB8wEQ823ihtYjt2fsyMvbcL+At9\n",
       "0mQsPM5prvNyhVMVHqzHm5poXeilz/2LS0Czgjobu7vKc+mR0l9XbmJuS7X638YUaDLYLRybZCXT\n",
       "vZNlXp84sbIwbT8+lgMNgWUqqSEvN4Rf4dPCP6zTou/WqhE15Nedb7f/8IT/woakefMz/i4B5DJQ\n",
       "r/NKK93AhVpKhocBFbgAysKWLnysEgzEP1It1pFrub5V5+uFq9uTHF2RfiPQF0CXwMi1f2EFK/LO\n",
       "Lsro5EMz9NKPkzSKYWi0zmyqSUTGnHnacgcra09U9Kbp7E5TxtsiLL4div8PcO5QaX9ohVTGDL0r\n",
       "Xhk+GSSU4HDU5YEsfbDbgMCLIw30h3ynNo4bp5TPOkbc32MfINcuWtAkJByMBR/NLVlzTLRAYAXp\n",
       "ePFp4XFgN70PXI5KiuOA4fncYD8OSs3c884UWm2LXoZ7tv23CrvocMFmr3zkZlL2Vdq1f0PM/o8/\n",
       "MHE2Msy6MqcpL1cdED/tu/6NN63VWkrFzNrY5WoLGX0UKHIR2Ib6fPyTShniNYi5fg+wI4uE/1Et\n",
       "ih97u1M6Y1ZhwO8iYlrxKZIdA8vkMgR3vsSWlhEI/8hfG1V8S9xxa0AuuNsOojlQ9CKo57/zctgy\n",
       "w2xSQVq17enMPiqr/RVGKg8P9gKEmDLKKRmd8UUmjF6szpS9F1W86C3paPZ4c1MLadGTepQQmvCk\n",
       "czbhwH6x3CYN7apAgrAFvtlw0u4dYu1e1KYIA+8armoFlKjWjrjG38aeU6B1vM6VR+Ta/A2e7drj\n",
       "9gULFCpM5FIf3N3fLSeiUASAn3Bcep6DGD2/fJ/lmihQM4U7unO0BCxM4PxOV4SA7Rv1bOiroCDF\n",
       "4ztIqI06cw/nNZVHgYmq427eVMJNdl/KnX1XU8LiElJa8L6pc+RyOd13ujd7Wu1pCMxEQKJNEv57\n",
       "9yH1WQ9787DN1EPRPrKwSUnX/b6Ez5AYmaO0Nlt59qsOml94eJ0PTvb2/sKa+XdR+MMhR7hk6kJQ\n",
       "aKyM3/UNZSMJl4/BkmTxR//gMIKPZ/O4KOqG8SWeCBGGtYmuJLFhtofJO0P3KAHQ1EnIMLJKWId8\n",
       "reL0ApjTRM1HqcQ3/K5ciNHHlHc57Ivp6JTAx5Zr5IxlCC/yGm7XwnTbghe8N47h6A9iiakiKau7\n",
       "k6AoddFToTVlWtqQfohOgjVqy46yfU0u+ArvJ8HhHqcn76MHPRRKv+UAKvbPSMWiZZERftJrnKXZ\n",
       "LTmRsWi/EBYSwnLXaYn9p+PO2Y0v26G9vWMkcmHoUfjAB4mWjQde8/UeSHAS86sX0PhnqLCOfVcz\n",
       "+jWfb/tqtX2FGfsoCNd/h3RlZgmwaAuFyJFXVPnKP9JXzex6H/03tlU23qCEpQqAyLRgxYusPP2P\n",
       "7+btaqddb7YEd0MykQ37ilBNsoQxwh9IKjparc4aGAZiqGzs6cHZyoLIomWwD3GKobnY79zTka49\n",
       "w7/5HKYVS5vZcTngSMQ6S4R9fxCqW5aYYNvAiJupMelqz1tCV8VFllKI6exfTJG8nHSdjTAC9NiR\n",
       "bn4pxFw6EAmjAcWbRMdys+OZNW8c5H+1Zi8olw8llscjOV3dXj4zgLxhzuR+QDK/osO7BQGvgDYh\n",
       "kScgbPQ3vUFVXyD/Yr3HBeBtBkgmF9CCMEm/U0W8tcCCamTFcHFfDsmTRYKxgAZJ4BeBBeGmlf1r\n",
       "3oKwcd/DmHuckRp1lz5+Pm2gXzanxTZD7vgg7GpQFGLS6lwmnVbexsyQDASOgsARMS1JpFDNoFKl\n",
       "Bw5xSW/psBfiIGLKvuJjTLQopYKtLV3fKBQxnZNvzhyaAHu50dSMry/O1lrDVUzNNwa6DhUFAHah\n",
       "LqzEnW+eDl4DF59lhJtMS01wKsnJIs4IFiv5fi8HdnTTBIIpoUZ2WWpvU3Qugm2iD2Mi+fS9Gv/8\n",
       "Pvn/opsm12qy/9SItQmAC7iaXQusdnh9iqJSMj2CnFtmJjbBf3laHk9TigZ/hrwGrBhHc7fWx8sd\n",
       "ueam/Gm8eg65YhJiWT7RBAi8YY6QhvFnIo4DnjA+IL7rAL/WdyekcfdJmNoF/hvS/ULHVuutzozb\n",
       "XTzkzIbeAc8kCY3mv+8QRy2zGSEwy77wmNeK71hf/x6HwMcfuNhzPy8wir5cJ0SEVsoBiqo+Hwuf\n",
       "AjtYobX7R/b2EAog92XqyuASLvsYIZcA1IorjiSKMAANDByjZWqGbo198eMuFjDqo9P+xnfoQm8W\n",
       "QKO3P0TrkYE2e+3oS4K3Ci26cdUOJTlZjIC5y2Sadfjxk1oTVgykwrzzXyyGjPJiMZcVF0K46jqb\n",
       "dhWF6zw6OeZTcOjc11PMgcFhpy3/r5JTDEIT9Od5A0j6Q4AO+SgfRXIwbBehYVqYcRhxejPsnsFb\n",
       "AnJHKMG/pDWua06VWFQuNHXJbSLHb21eAoukFA9l6EnmYvEvsznG9bX+FPOilVQKZcPs6ln4M27n\n",
       "npJ9N0Xglm6NzSDGbZEopxsUB249Cvm5FWfRFHmtiMHftLV4J8YcqucJNUEsXu8/1Y1gVq6uj/Ks\n",
       "l873T6YQ0/DaMZeqakA3iIvd+cyj9+BPh+FJeupZ1jreKbL1bGZ5LghGOT+VGHD5Faa9o9SKnaAu\n",
       "ww4y70rSSlsBKReNDi7Km/kjzH7xRuD30l+MXCWF7bZ7rwBJ4SmaKiGSDu0Zbv5OllX8BsltFGnY\n",
       "gIB/nTmsHJD/0NZBnSWLxw92cWMqHvgQeplfxuQa3OjbOyS/47XyZ+f63un2TBP2Hzzq9zAhnsj1\n",
       "ev0E4d4NRUXvnhLeisyUBDgTEp/s2HzcSnwXP1NL/8jIicRWyvKZ4ods+ofj3SuetCK0SINfeDRO\n",
       "6E00aoZaOpPe50O2Z4GC1je/nBGz9ApP/jFIfPOQ32fsTH4EcqWrQS6SvGDfOKC3paMc8d/4FYXh\n",
       "6pvDBhG+haQHYGoEJQ3XIyVY1kMy+MiAvpLZ+xUXiWIdjFGkovcHDIHt7GWlx5+Ll7qTMexhgDX3\n",
       "XEBNJNRGVmElA1m4yW/Xtcroau51HZcqXoDSRUp42DPtUpKGBa2uZ66KppHqzYWzfTn5QTpS9tU+\n",
       "vEUu+23RL36GoEgnR4zi0u3KjreWuxdq9sHmjz7zVx99vPIJ/J+BP8wcykz3UJhjdlbXO7SJF6gD\n",
       "72OY0kIxbvLK4BcxeFYD5a7LyPNn/0KTOMsNHuXfGsFvkY6mrKYqtPUFx8uQKVKWFlp2nK5UpJEA\n",
       "DHhXndm1yrdIt/2OYN6314FXmSWZAVIC3GVsLyBEw398nJOelAUWQNkF+cZyPjCPHLXDIYfo8ij4\n",
       "UBnCWuQc7py1uiHk8eDMaa3L9oK+eKfj1FxTHB1a70fxuDmoCmUj+Qys91EE0hd+pTASO87miiU7\n",
       "aZzQSpmkC37xGdi92ThQhb1uahySd7A3eMsS/yKZJKTqHVBkL20oeMFvSiBZlTK0HW71iAc1VObE\n",
       "hvaApSQNGluADg2EF2rDmerC9035apTLkQx1NXFqFIIQLeNzzxfHmrZRm/GlsD61/NgPZ8GCVGAJ\n",
       "mFptypEBcrvlsJBJyu+3xYaJ4jou/baJnn0akOjzHvj+r4q7VAOrXIQbxrd49VCWk9G6/h3owfK1\n",
       "JimNpqL2Zv8gkf0ULRABoIKHbAwypVkpn4GZ0gERkXtmxa7u3DLTaUga8xFhv3uwX8kDfH6ACdpo\n",
       "ro4gXQA6Bm53jsE9AUZT8g5UfhERdZliDMAGz8J5CISCTp+sWHJ3eyzPNNL0HSgOUgrbENkq7hcV\n",
       "Oy1XEu2C3Npvu6j34HdeZ0SEboqAruUfVoPlsvrEi4Q7MTh6WV5NqTJCavoUP6pDAJ+SI+0Pi08S\n",
       "FIGjKwFMVq/0mnsG1PJr3ZRpZZZ/atF4YiE167HMnNrVSJWSnYnZLsRIN/cU5aOae8Asit+4TpnJ\n",
       "/3bXEkKQBvY+5bkjgoRWylKDxFmQ82ldhQf6EG1fJ3+Ueo7cERFBmd+qkV/Yp1UiXmRCzysaerY6\n",
       "gghqmQOHzPmy96eTklF9/SdqrXKjuRqv1/Rn/cPnRgaOyYJqwebfcdiuET4QAK0K7wYG4YojOYv+\n",
       "Sp6w85l0KPzaFzgn+elCh+KcRBrbwZR1URJx6ZzqY+WF2VAQtkTifVt+JQCT7CdjHLgv635VLwh/\n",
       "sgFC4kbcwd3+famUyoDC5EompDpQ9PxM373DLvs7ZoUFV6iFrTw6hiNlCa5MmMVsuJPYrCiop8IH\n",
       "mbGq8bCeqycPmC/mz7p+srjsVshx5N91jQjUaykjKXMY+eou8U7N8/oXU1ULiXfIzeSZN8iuhtej\n",
       "2r+BfRBH/hUYPITdppLjy9XNQvP5hM+arl3REUe+mZsljjaSkR6QO9LzM+aEKv8qQdSdUr7lEOEZ\n",
       "IXWS4ELS/pPh3+B+wxCwap5wNS50xfIy9uWqdgUiLUWRGcN/npOIwMXxhHHOb2pntJt4j3oORzv4\n",
       "BSfHGf3r48eMabbvD1xi5zG0WkvexqDWx1jJ0z9qpBsCsyDeUVLafYQUu9epJQAF3m1teh2uMJE0\n",
       "eIlYIECiNCOwLPX+qxX+8Otj0mpJraQ620GNxlBuQQTK0qFRlengsHWRRYH+04Jn2bsdTLTYsNRR\n",
       "vnIJIUC1t//dqzL/5NisivlibqMYyKnJpEw01FSNM8Abd+Pxf/cTTeZs9VnKBKFyEw5pAt3N9rke\n",
       "D/8h0KQDLgxGgOtlS1acpvF46r/qikn4WeFkcqr///QniWH6cYLytdyHwqJ0BfNBudq9f3KrGL1c\n",
       "4rEKMhqfqdlXKXKDQBnICmXNZP+cyMI7qT1lcSP9VZHIz+vgOFD2wALOvj14ZP8hUgOJ56WCRAE2\n",
       "n8rvKjSdT45MCgeEmjZCDqmaO7fiHY2fFTlp5Oc4YXcDh/wTI+8jv0PFuF3oOATPEdNdzBLPDSaG\n",
       "LIgsvFJZ+NLH3A0up8LTQYgSzR+v8n5mnoIZyKJ8G86OBYoh+/huJSC41o6fMpT2cOraO76hMrw8\n",
       "53c2p7hTtCyHcVrONYgxegNg83frAeF2jrMSJajowQ0OfLColHqxoTQ8sryxNuX0cIP6EhBonNpD\n",
       "kdSEK01JMt6NsIaw+JvT9bQLUkiYslY+ugMPPWrlcf3M0U9I/Y51IJdz7evPB1ZZF729g5RASd6X\n",
       "W8k85fFf3b2Z5pQf/HzvxQ3BqOjJQKi8QDi/FwAQF9+IngQMGwdnTUwghNrD+Yt02avvbIKuLmDX\n",
       "IUQ0nTIkQKZXVQqx4RkgeazlmFo7tZm9WzM+kYD5+g7OmqxDfJ+zyXEMD4VNdbCSkWleZTqotT5c\n",
       "b7oJ1Iv5RcSb5nqCCg6vh7Zc6bUasRwfpRcngNn0UjG2SIJP75oYAYeHA/ZZQV+zCIbPoqoVnd3Q\n",
       "8NjsBEyaV7zbdIF9tQ4P7I2pXF/umau8fRNbIXxrn6xmtXBG59atXhbKiSzmIHrjOdgyVtyo2cdF\n",
       "lsE1dCkvl5cVDd5SeuIg68qjnjtkX0aBG7+ibQ0zaXVYc+tO9DKYg1dl4JHMsW+TF3+VVKD5h2yF\n",
       "+nfnFizDCm6oUzYyGObb8g4Lkzo+aAbz57fI874uzVY7XYRDZ4TAZA9d6ZqNDXxdjSjuk7UAdPgR\n",
       "HH7oENrPzeGMnFbWiCvyAHGTM8sitx9LPr/1H3Nl4a005lV0OtOO7FtzDfOr5LhmNMTOIYaElejI\n",
       "oBcK5Dc2x03LYPMLTTfJgbom4jTccle0gO41KcTd33iV2VMcOy8c3ry7Hx7Iyx4uqk0ypeThJy2k\n",
       "Air/kja8vrWwhQ/69+NVmH2Cwt14qLvCbcMQsLatB7akjl4EGH9zdCmdtm9xsrK+QsWlqqRWnP2B\n",
       "44GQlwdNj/83xozYbrQ7OhXX0CkNJ0RTfthEAns7ab+oFgVyWXawdHIgkvpbgV0qjGwnj3CbeXAm\n",
       "kS5qNmvk7PB4sG62a6RyxB/bBhF8e9gVzYdcrqxztK42JH2QaZwoAJkPVHaQFnlnhm05wpTa9p2a\n",
       "20XsapZBF2HNOZkVnU36Cef1YwWN4SxZ87s7+oprNwodRi/6E9qANqS4SMvofA1w4pOsdUYqKWhN\n",
       "NAfiGZpEGJ2suHUrnWHOEKjOSwbuOO/HsgaM42dtlJXwv2ONpbom9IjLycpeGwebHagDI3fh7jC7\n",
       "hqXaypKLD6wsmV4z1RtmI34kJma0yWqruPupZlmEDRzw/D/7vXGYZJyX/Dv7VuY58O0q1BeLK+/N\n",
       "d2m0UrQue02Nj6xCag40Dk6la+uhlwImTdYcPAI1sidWVKpxbqr219IX1yqHBXbGrb10NOGk+jwK\n",
       "QMfA03V1SMmlIUonvYE4jDB+PL5YMm8bAEk5Q+G1khJsmPsSQy63rMldvMb38ZgCWJ0C0uYnaoua\n",
       "YOT5W0+h4jsOcUJC7XidLN4rT/17dDO04LPTB4dNx+fPqlNgZ8Z6m7prSTEJ071greuOkIg2rU2P\n",
       "UCSQgP18tK7H11Hi4DqIdh7b4yBmyJs855O9kAaebyNxOPvCmpqIL0qitqPW3NQWz0RXD/0Xv3ww\n",
       "Ni1lTrHhbArNaGyV4ylKY7k5Ty5ouQtjYxPt/yjQnw77BmSf/eUlGaMJLZzRE0hFZkfV4M3cP2Qt\n",
       "GR5XsEPwiwHXAho8uT/q1mmS8PAVBMS/UxTYAgvdKAIolIrryaseRoWvg52G/zodYKMA0WcS4T4D\n",
       "ylGIcqzPisrf/Ei+jO9NQMDswaLCAAP9+q++IypnuOn0VwEUSqQ+raA5+ot4FN5Fc9m8BObBGFNo\n",
       "A+Jq4ljQwAwr51N8MjMrPZsHgi/v7kiUAy6v2/dUqIYMvZ//7ZsE6N1mYxm9iE/3zOqU0KIxo3T0\n",
       "bk2r7dEgXS4CdRihbnDM9ydcjanFeBgiLadAxmNJ3eMuG6Zj+cDKKBgpDozs789uMmbsacW4y9qL\n",
       "Y1wRqn08cpyu7HhGOfCukRl6FkjRGKaqJuYlOuUeo5V4XZbAG0i/QoFFF7hmcDi4wYHbcA1rfc/f\n",
       "sGAodg/tJ2XWQucxbp3J68+77AxTlNb1xJALYLtGiifHNRajZl+UvRjZEOo2/C7CLKklrCJwWycx\n",
       "UTA1UaFSIN1SY/YgkyR2kXh3R2uQSOswExRLzBLl3AKLn3NPL/JQmOm491StCrYNmWkN3rRyeZzC\n",
       "NjP/h+M8UKpXslu15nXIGd0m564PaH5ZpW1c2pzJgmfn+A1M0a0RHH2942CKfkAzCTd5vvA74JbG\n",
       "/rPk2lpAUI3Zo1+6LBB/a84h8wwGp7ZHLp1XVnKE70Q3Mu5aOC9cboqKoKcIUXRG41j3p9FlUC80\n",
       "TZM3CQ4xwg4d1aHCEJF/LJuAkNlHV3uN53GWubppK0N8dc5URH5qCqrPXf2bYLMC613aL4W2bdJ7\n",
       "fL7ZPP1NGzhIz/HGCAxnxhDxboiy07nzp4j4t9XxwpTDK6g2t4ChLYaC6+jinR75k7REVcb8DazC\n",
       "2fsRbdt/PQ6uHWV3zl/HgGrNYTxnWg5Cujfj8Ald7WuOYBp8oxpH+Y937jaXuUCI/nPK+GBGydFY\n",
       "NNVYY3lylvkpVBdgkaP3ZTDTmEb8ryXM2ExYs2hevQD7SIlBAH1O38h4PxkqKjoTMubgdWcOaxg4\n",
       "lncF8PSmwt18uH/8HyFhfV//nuCfJtyFU5GWZW1pf46mM/86Xn8koSL+vZRg5lbdLCZQqw3JrA08\n",
       "MWrau4vJhJUM5COM9t9bV/uMUTAcEYZDoZNrYZ5zT4ZvptrrJksCyIyqrE5emp1ecaRJy9CwoAWT\n",
       "nwTiE1vguPbDrsr9Wf3xelUh+WC0EFc+lk2UIJq2iHq9qvyRTs6JcHN2VBtWxI/jV3nt5oYL6Iqd\n",
       "aQMCbH5GNCsLMxeiknovTYFHNUY/QPmO+lbFzy11ftlCpOEJf+rlHv3i8K2QRCnLn+ZGOCbcUVch\n",
       "ZbKluPHbhgWlHHgtAvzijkS4XYaJXRsZwmJ9X0LfzBAfvZov/d7/8PFimkxgLcLI2HKnhOBMNJ7c\n",
       "39WDRPrcSCwyk9bvbeShCeDRrf9yNhPox4BQoiPr0xqrhe5v/xMixTfrtsC7905ZYPHSbDfBD/to\n",
       "mwmvhLYxMs4/PhX03Ppdwy0RpDuZpivMBMXredJD1ztEtxTtOUD4VunOAIjVZ9dD19FglSpSb4Hk\n",
       "8aUpz8tb5tSM/YWNOccbfG1+j5EoEErMDme45iyXdLI5f62NSwZe9zc9HF4Zw8mC9eC1xeYtMDiw\n",
       "jm7Fd/t/itqSJUFIruL8DNBXlR2Xovl6PGzJiTxRmH2eY15tAbzDKPyLFEG69tcAHDwzWTA4DRr5\n",
       "9qKsxUvG68VR94SnUw+I9tZmu2ADFwvXk6s+rpsx4A7CfgmWSTeymklMg84Iy1RnxVs9Ovgpz23z\n",
       "RK3N+lBYdJ10cyal6VFmU0pf0q2ymWNLdMyR+mz86Mmq2M8J+ZyAm9I1gNQorZYKsRFiRQK/nl5A\n",
       "nBwP04QAAKpxCHURBN8dSuTk+fwAXwlF3iGxR5t0+omOMM7DYjYrIga+5Rqs0UDGSqFYyEd8jjoo\n",
       "XVtuvEotZ9JIjQLs6Q7dBFn5sa57OJ91JE2QreFr28DjjNurgNmybKIDQeQ/xky/BR+DYaapS8yL\n",
       "nHjXzv17Yfud2/RwRaAZHgcUmFYyq1vRlYQsm1cg2Kdiv4M5E4ger0gpghTp7QdZ4SSTlwNIR3si\n",
       "Kl3ZeSxQGXU4y66NKZJrKQQCJN+6oEw9Ppq6xq9CYO3HZmwM90DxyEpGc550AfM0iXEVwV9JGk6t\n",
       "vpGlRQclXp2rkDJvyN1P7x5NCbMwL0BtQK3tvriMOqTAja8tXCWLgnDa/sIJxdIqW6YCLUOptLJT\n",
       "QAADp3b1A1BPgKpXdgxeirkKXm3WXEHLJwWqKBdS1+CoNaooqKg2i973I7eWTmGpdoEZm4LlPBUh\n",
       "+VD+JCEQ2GW3eji+PrdwMzFohng4OpASUfhqpIpB21ujQX/Z773PCU8mFnZLL3Eyg8wgkWwycz32\n",
       "58f5cUrVWcmR+ZQJJdcWDJs+Of9ew1rjskFvwKPGpCjNTlVyOSqZOoq62yknK6VEF0JQQe5BRL/9\n",
       "2+q/6TH5PDdV38uOupeBxd3NxCI0ekWDOlNkSWuBGfDwWjxe981sRcaxDqD2kwc5ycNyWkwefj5T\n",
       "VSIkJzcrWDJDdXfrhikfAMR+mcXgLshy9P8NHmL0sQTt09jQXPNLDLDyJ88s/7LUqRJjeuBaPjgm\n",
       "zk67iSJb+aSYOfm7LlcR0KFR9oSR84MKEWWZED5N+RXy61n/xcOnA9kLIFUHFTQcq5S8x0NyvCXX\n",
       "KcYeyvoZs7oMYFl6NeqUZGZS+rQP9PBowd+wi0Ee53WKWFz+1Sa2BNGIs9Kleq6JQU6g5tBA1pIv\n",
       "IWTNIiJnIGMCH30qDN2qxgJJM0WNfeB5oXw9JASbxZpPglAWLWaVSpEWsZ+Q4arSXD7joQo9c2U/\n",
       "kncjy241S1MmKpAA5T8dHviv8XoEpiHuHRp8ia2uXdHX3AzLFsS2u0PLuj61uiw4MA9cFKzoHPRJ\n",
       "05AwrnOx1c+8H7DC7xuSN6j1huTul3yy3nm+OkroP+7TDdat/Cv2NezIGpH+awC/GMO6t9zlAlnb\n",
       "x3odkWwKBqPuN9CNqxnhzMk/vsYugysMO8Aq7dtZPOw/jrHLIUN0A/O7H99RkU5cwuQQWYCWf+TD\n",
       "u3lDLTC6ZhaEJoP96DI8k5LnozvVkLXG+rnY2hL8ukDwoBXWdwC+MMJhz5nD5m8Lg0TIU2kery8y\n",
       "SQccMRdkze9GsdcFRpx93lIX5nX2FYwzAQTVwf16Rm0YaqbpEVpy30G0lLqX2AUpcouY1uSpGk9a\n",
       "tKGGhWwqoiaWjnVIT31NEqNpvDhdtpwR8siI3+qbV+E2WAoYH3L9QDHJI6Gzv6MfWS2TSErr6M2z\n",
       "6DJpONS+MiA773b9qmjVxZD/f/erWdZu84a2K0sTLYmK/Ssm0a4qBVeDLwsDFB781RF/vET1KMaH\n",
       "xFRkso7pvlNS+Gv4Ze6FstGcxnwHHn7FhvTp+Vy5pd+iLlg+QfU/QNX5psNfLSsVQ9N3mMyta0X4\n",
       "3C+8095DqoUur8ZVCuOzgzJEnFwCM4G2H2VNN8Ph4rPXDXGFQKWTMOyX0jfhPsGymPHY0Odp285T\n",
       "O1nDEf+ZI4RnfNp54KzZ9jOf8Sy0HIALwRqVGDtjKE86H3HaiqJQXTxj1RIkXScCiwQAmS2DahvR\n",
       "lvgK6Z2vBmTkRL0TjvUMftK8GnNlKhP4u0FRJdnuIv/oOGBh/MzcEbQ46BJpdR+zDkA7BNk1F1jO\n",
       "ls7XEtIjxWnJdarenx6uR1gmFkDO8dgf+SvkblVxn5RohqSkS3+jC20EFw0GI6w5SwpWkoy2/Hec\n",
       "bS//6kacMhXIy9Z+CftnvkRyQdguQnKFsBTD6W26IM/IkemjBqzFRFlFdmCVDB8Ksuwvt4xCR8Gl\n",
       "KUHZSiJP1MrPGCtb7ffEzX2UKSqGsULaRP1+Kzwmp/9kUNLSTbq1b1YetmGB/MoBMwXUPm6mmvGy\n",
       "jyWvLvSxoYJ1gEosMEyHFbbjLKihrBIkQLhT7oS5JffYJT14Di1MQEp21qtGjWlXCVs1xdG2lzCP\n",
       "SU7sPfZmNreXYHTMOJd0FjhFkKGGFyRv+5yPpkDnRQ7IyuLaCzUwyaGdODuLx/zw6L030iwvSKje\n",
       "PozYETD7+b5Je9cYEnKUGz5Xl8HE8LXogntrSLudwY9AeLI7YuEiR8IpMVtMR+7Y7/eO2MPfA28h\n",
       "pPq687b7YrIpyrGRTCcV9cLAA1w2Wdetr4JVpcDoXuvcrpxry6cEE10xfA6hE3AkxK1/KFAluiNn\n",
       "x2ZRW7uCwcghdrpKlSjXUO8fDTNh3YocI3H2tQNhf0P7uCALi69T4BjJxHZIaMcLkEG6P7X8LiaG\n",
       "BhDNWlOjuL09bJ6SYcfpJU0KYdnW7J6tkYPvTjuUPg3r/sXtTAO9b0yA1eTNv6hp2+CVnyLpuhVt\n",
       "lw5/7LMA9F/es+3hfSmTIfJsvOCCTixsi/1l8qBgfrv24LjRBMJ1E1w1TR7+B4q7cXkw537/rJX8\n",
       "ewQfy1SNCx7e1sNuCN/wPpPaxQuD3L5kCD47qP66zUcM30FH3Cr690nQ5WrGWdklQajz+yNxC+vd\n",
       "K0Cg9XodZTp5rbIfNS0hGiUDW1UZuORb7MN0uYaZYSBeckWqqjKliDYrlGVpWgeeo2IqRU677wnE\n",
       "L31IklDEuWQJVaeOMiOPMqMcpTtJi9sV/5BsA+aJuoyLn+v5NbaJCdPRIIVf/Hy22eMh0bJyXtRF\n",
       "JjXIRAr4nbwV+bRDuXc6/LvkVPzHvbpMYIxqrwfPGzRkZcT9SvlydRYl8Uyll4UbkBOQ4seHYRKi\n",
       "jEL2Qwy38OaxCbfNoVD3nxzzjO4uy7VdEgEH/XCAhZW3aWbnAI4AAAMD9iLvOaJPqDWEQW/4cWAC\n",
       "INHeMwefRl8eWIHF7hdbs3p7/FvZjCcZCFiTqltZgXnpLqiiy1f7X7yC6dTKs62XvdS4B/SXLecx\n",
       "C46cEGtjTvToG3lOMjNcVSeqsBZwBj9cob9fKDqiMQiZ83/N2/ZbHZjg9PSKu+qlQcSMw0w79ik3\n",
       "SbNN11lhEWYQ4IUtIefm26g098wVnFWDPxS9X4wX2IBcIkYuhlI/+K5iBdNCDg+yOSiyyODSj6ll\n",
       "OyiNqJX0MKMK2xfBUUW1vOuVYKejv4TXoiH6O10ZD93iYwU6yBXz+1eBIdzOsyvQLo6cSSxR0BJM\n",
       "zrua0vcKChefgs/i3/Qgb6O2agClqDU7mwQOgJan79d/sg/uI2F16LLPziyxa6V4syrqyDM4Wcit\n",
       "ptWrMQ86QHf1J/m8qEIKtBFHOOjX8Qhsi5aOpP+tftHglKeFo2oEb1vlNdTG9bXgkZDwzpcBKchQ\n",
       "Lwa726jzHrjJaN2FLPfLkCYGy1XQ5iWcvuo7njcj+1Fner9JVNpOGbgy8S1tqf76PiJsVQhQlWWt\n",
       "W9MYjcwCm9K6XR84m9zGPadAvvcMpMwC2wxzwTdB/vsEnxkYPL4eh67xQXLcdnjg9KD3JxbA7/Q1\n",
       "YA7AdP5ufVSmGQF7u+jP4n/fJaaI2hyW14Qp+CZ5FZd9O0Q+3132VcrNqbKRsxYluvpBbpDwvqFv\n",
       "imRjAuTgYFza8MJlcUbIS5/1qVsk4h2eCmvP2tgDZEgCopmmqYb3bkxEqhJHXkvebcEHdS0cGvvs\n",
       "C2FjSC+exp6+y1BTApvynyUbxamIRWYTDuBQoFrFJ99yBi2QdwdCcWUa9oP67geIIzTd+TzhSO7K\n",
       "YCn8FgikEhbTstvULBVWHX7mfC3DuHIWmdqrn+YMWUkP6lArCPgKWtUOZmiH3IZOczxNKpERTMHY\n",
       "PdAOrju/tGBz8z8CRMgn1uZo3U6Acdtlv034JBgXWLK2IiUXtYeAAEKEN+t+z9P6/jb2icqByaMf\n",
       "MPgkTu6mQLO/GgG1K6HmSP0KI80KmwF8F9EQteJO5FLf2ynbKtxp597H1zDeK1+mUAR6TDa8EAvY\n",
       "Itkumkx3aF8MQ9T455P/vfNJp2P4qnPGmOOZ+iFnFc5QxMWR+E0GRHyJeXnFLrDJzu/WSCsrnJtK\n",
       "JbRbJhGGsn0ny8pcMc5y9xI7cNkcEYctz+N1k0INKhJComnswH/IvxiwOo/rlIBI3+OJv0KsEO70\n",
       "S1GkRz3TiUsxe0+7rXigUtjg9ejeTow6kHVnM0hyZ4oOu+5rzAnkEVX04Pm+7modcHn6siqEmc5t\n",
       "3+ZIom4h0oW0Kq8RXaqte2pJZeWvjDVZGFwSFl9z6+8+zun+wuASTOa60Cco4gwPZaoCWDickBQD\n",
       "twrlIAzzf1wt4VM0GQBecBUq4b+WnTLxkaK141O7QMNaaUQDjZeMaitGMOZG7R9hpECs27aasWSc\n",
       "VzgV6NNyMPQJCav5soUNkDXbizdS+fJfkjZ3BvMlI5a1jMf0dorEILSGuSgwLEVwedRmD6WVH3+P\n",
       "OTd7J2Zmo8XQHH5zj+pCARvZ9kiOiK5266BTpoaQFdWQSn85jbG6cYwZzGJ7h0qEa040cjlVUmF3\n",
       "3p2McsWJN7NtLQ8CzIuUZgzveh/1Jl3ZPPRn/njprIps3vZ8gACTOqhV2q9eFjoaFwDfFG4z84la\n",
       "rfWRkjPBnRo/3rSpC11Q1NAMuDaPzVn88HJbarYf/isLx7vtyn1aOpN8MVjRjd/AW6cm+WPJ7JC+\n",
       "K43z/dsa+r7e6OpiPvL8t6DgNgOSfyO7P0tZQmZF0fNcSGhFcoUPeb36d6KygCp+CiXp37VIbL+8\n",
       "jLUuX5OkATghNoHXIFKIqso/8Ki/g0Il1hd40XjLatBfvKDOyM+AN27vetbBXb0ScZKHlp6iS0Rr\n",
       "pHdeGkTvXXhUFYP69LroT8N5ykHm0RExX1RYmZLld5TTWTKQnkfslrxHsCVRVI3IfMfuQrURL9FR\n",
       "8fLS9SxTndsLx/ON1yN+wkZmy47ndQG/H9OV09/PQmwbdgijFdslJOifiLogI+B0oMTFh08hQBJJ\n",
       "GnMsUKF2VaPHSzfz4VeHlCKj9Uqwo3efno37FbJOgJUZUsiinpxpg8CFFZUAXbcNm7lotGIT7y5N\n",
       "u+lfw/9c7bsBY6wapDVkSjpMykMyLfOwm+Llp+97pL9VIyrOhEF1G0ynG3pG56lK6U+0fOKgC8cj\n",
       "fiY9Xxlz8+7ib1mCh6ZFQG9yy0o5QbcLzCD4JN8WNio1+ecOkZD1seHTWRyne3duwnktic9vLiMD\n",
       "G6Wbqk66AcZs8bUF1w+x5PFmrqAE3N1GUtG8Gf7yaahSkC1JrcaYq+3ZBt1BNhBNY+m+X+YOzfZB\n",
       "3zZglOTcIAaUgWZsHCq934SDH3cM8tTYkxarFP9dNGmNV/w9vK2ynU2As/XIWkScg7uMrkyRQLLo\n",
       "BcoQi3OUCKTjRHyymDf+mqF+uebEGgltfMENjoQQY9XkAdLvsx7D1N4AuuSBxNBYy8/+XWkKUrPK\n",
       "DDZepTR3V8UMrgg8QH+sNOHpkRL5YukzIVVrp3CsRhAKIfx0z0S27JZLdZO0qqwURWmB2OXD0Td5\n",
       "FYroBmT03IGp2dPIJWKT2mCyb8WGpDnyRZ03xvS1IbzYtOXCB9u02s0swpddM2JESzd/Z5xoI2By\n",
       "ob9Bh6Ui1KsaNauNScJsXzqTEVYZuNu4ouBRAKo8Iib0sxwrv28GzS85JHXU8sHk9pRRWYmQSh1N\n",
       "lvDz86j7pXgulfVAlHCgdMZHh3FJmqLW8VMF9DQDA52//lHrC6wfk/kmhgtdzha4to8stzjKt2ee\n",
       "73KleBp/vLa25NHJzFA7XEiu9qyeOd44eh2T2s5rNnUjicgEI7WQ0/4yAhKf1tTZKZSqRQcz+N00\n",
       "Idk5pt9vApbLw0ggl3R648XLICB6XhhOZ+x2I1fAkAncxb6bg8r3WZlEP5O/wwiB2GudoLZgi9eT\n",
       "wV0l6j+0txg0ZMX9c6q6etVGN3Tkcmqugwk04wrgFLn/0UDq2gDJ4QwJzwKFPqz7MTk62u6gC7Gj\n",
       "OWdz0kmDPUo0ohON7Mp+0Z7Vr6TjvN97KbBNfnhyXloCn8tbAQF433PIjKrWDema5KWuNkxXsGEQ\n",
       "o3/+J9RMnuc/1wrePwmNtIusT8cep+eOzdn04xmfFB94LbapLOuirsrmY49RumiLMVbjm0/3NFwV\n",
       "4Nq0k8S8WfYa5nbbLfCjdU90z2ZYV4Pq19g1cea5ywlbTdjOue2ua6pl/QWNsCXzV5P///XY/nNN\n",
       "7tzzBrJBHgMqAZKvJUCihWs+8NtpsZlfLpnHwGAL5H8warRxNFgtIkq6qpg9VnUVx81QkQqO9ot/\n",
       "d/rQc++xSO7JFmCTCx7YxyGqDdIKAYsCF3EzvcB0eWVeQ0cHDk4oLncUUWoEk2eXra9iFL7N6G8e\n",
       "JiHVIwJME81iOLZ8+/EKEJLBalmf/1goKTmMShlug1ZNYxkgOsn391s7vj+IOfwOQQLBC8M5YuuT\n",
       "aS+q8nhfMCpgz0gv/3P+1meC0Rg4c7FuG/5PQSXYqhg4nvSHieDflGcyGwiAEp6w1HF63vbcRECh\n",
       "qnKe+43DwmECS+yu4RsIabjv9WAZh3SSXU+bz4+lQax8XwAiAXU/17gLw9b2t+0KpaRjsiMMeNJ5\n",
       "G72ehWtRqPBNtU5u+K8EhHP5qcxizwl2ENs2hBgqfSIvgVtM9xeYp6qgAu4/eG6mWMm1JfyuCsfq\n",
       "pZpZ5XHE/N73r8dQvA46o4DbtA16CMbBBpsFj0WIIhICxu5wcx4xORLOY9DVOiSeTn6mKVjHdaSB\n",
       "b93BEVx+2ZSOl9ZFbYWYRBFfLGXAqMHGNVRCDwsG9ksD8/b0WjxK3ASjBSEyDiN60Z7wM7mCet89\n",
       "F7jWdbpOJKEPDHdIRDdaNDx69E8ks8a39+aGII3YJP8lqZidHK2fHdQYL/NwsHpeMzNysqIp2ppM\n",
       "htQRNlTmfWpSSAvKsbEW8hoEOK0vStNOA8lJtqxCFLi8IPjQ1+EgEuKacEgC159cG/8lNxn7VEVH\n",
       "jSoTgZVscZfb4UvQ+7GsfntX8am9PlJfqpV6n8VuXg+YjeU8inLta13HNP5baMmBlYGHLcaaf38m\n",
       "Jyd6ZOmv8U4zVLfWzCzP4jyEBfhfAphj9mKKhVlaG5sEahkGHIEd5kTjj2JpruXZce4Mfdf0G6xp\n",
       "A6A5CftnriLj0BYT3TqgZFDXMIvV6nna97mW32IpyMnY/dE2C97l+WtPM5jTJafi2ynYNeQmmjwX\n",
       "d09FUk4Gn2kH+LbkN0LIiCwWv4htHVM/lxB3kzPyosgeLIAleXQ2ehB822selPcZZbvIIvabaDm2\n",
       "HhJ+R3V4WwzNtqUqxQf39sCuapRtiihLaVU8ZnZj1t5lowJeUezjNXYU3/0gHXs3QOAGTTMvDsx9\n",
       "USBVRtXuGMU7OLIIKyJZKTW23KSOjGHy1Evn+rsjkakSh6fyn0c9ukhwY9nhsi5cnyzm+sG7m/gm\n",
       "/0AOELhZYdz4+sB4tOUNfYM1IItoMjxoT9J+Q+IVN6ONI3E1s49twdnQGJMbCEXdqqrI3A4OL5rW\n",
       "tMgQ406KjYTKvTVodNw08l3h5TDaZVqb8DNPQ8SdSzWEtyfvWBy/yApPMJgMw+Rk4YSCA+ej5o9E\n",
       "ko4doxlcAwHK/2RBpf6VmpJzSI1+32mvycqNDPxKpNo5ZrKQA2ugxjOeK9uUmo1I111BhVg8ggJG\n",
       "MpWt9r3TYYQ8NM98eryZnPfiyxQxSR6y4pjyokw4EzOtuGlH/bSui7r/yCFjeNW0T3YfvVAFeVhA\n",
       "0G5zp8J3j1Tr3i6aEI1cFlRsFSPQz8B+T4Ze78WtBxWhTR3kK+4LGfVRLiK1DSTJfDHFxbjwmaJu\n",
       "H3p1ZGmZSQ08SAIOmyQXL/hVFd0WTQc57wUigK7cBtzUxkHBk+6dYxUppbWjDZxWYY1BzZBUIM9A\n",
       "ORVitTcfuhUt+ylgfgUkq6TkOwwSA8NU9Voc6gh0WHpB+aLaNV94qZvC+0T3sAnIFdsAfVJve6pc\n",
       "da5KQgWDU5dTJhBPPTkIhv8vmj3Utx0cJOzpTiLSM3Ox7ydMAaMZ4i9HbQz99OdgwGDOd537yma6\n",
       "mvjhEKnGliM90s/fCK8VIpQNYrD2YmdF7GgZG/A8YdbV/lLMWEfGji0s6r6C+i5i/ZgTOZ4i/e8L\n",
       "iCSdmhohH7ShLcFkxj20faEhmnOVePHILtUfVMjzpkYxEQvs6lc3qqVk5dt2XiU/TJnyJGQBBI86\n",
       "/7fv+s6V2qQkYSVkWj4YLYw5bY+jgP2iNtb39r811H9DO4+sjWdIVIZhbC7knD6QTird3WqMUvI8\n",
       "Fsh+/L7XKKx/fTP1kY1h6ncE167HtBof5b9zXE2PA7S0YnptNGxoLjAnGFNBQkHQfWqkqdAjsIYX\n",
       "t7pJ+kSnw7oOjtcHVroxR/9AU26AIUZPg/eBFkLZgrQKbx6xY38VdcMUrs95dDlq2cvngxBwHLSa\n",
       "5Mk1W6Qx21DB49QJyBr3ydOdU6f3yCCCGwuFVJqLeWUVL0haYyj/mjFzbpRKfuS7vfPwaVO5aWkW\n",
       "inF8KjQNKHt3jhd412CRYXxYdAsQXe3AkkmsROfGuma5LuNw2Qy4IZk0YfkpcHSlA2d3MwKQEtrp\n",
       "mRJtS3jfIXS4DISWBbvMUykJ7CG7UX/twCGX/KCkz2EpYLgSe5gQ4C0qXCycU7MUZWy8cN0rgNtk\n",
       "IlM0jxQBaeZ301S26twgDq2LkYPqA5qJ6dL7MPFLjDnBiYKsUDrg8aLk6OUQHSJVZWg65SbosRIi\n",
       "9mE7Czu0o1wtv4yjiRoEpQmDdBaUop8puqPef2CCKA0aH+YtCD+RdRsAP+QEbeIjQFZlB7HcIn3l\n",
       "mlOcYXvGtftc/lpCY/nGRYM/Pi8gAjocw/e4l/XVRxPKM292ZJuE1kxYlS2VZEpHvc9v3anM2nGq\n",
       "9MJzIEJp3gCP6c/28/nR/zCdMi59sN+0+atAu6U2SEtKwI0ERVBSMqZbnccrOzwUwm7KnNI5T+QD\n",
       "HEIbsEDcr6PuzK31+AkLtnt+jziHJyzi0MlHlj7O/jHi3vLTpVOnmrFjSB7pb4YB5COiXKqRA9JK\n",
       "q0sH02GewZLlD3MiniI92V+BTWgND4dv3Ph3fNdC2VrBTXLHtxR0eJzCSDM603qjoOluuGD1KM//\n",
       "oqFpExIJ76ZdecG56rzu5XaPws9F76kTVBhuDKN78TaPI1qEWR5CpgYxS4wdiwpiB7HTfou8UGL6\n",
       "Vs9t1OfviV+rVrti43y8z/81afqiMi+TjWvkrSSdTX1x7Q4hwjglu9lbMQozb6cUzRkSJkn154E9\n",
       "VTz4eDAwa6zNiOnwF1JXdvuOt39KXr/ky+Ti0d/Ir+a3++IkgNV5VmvAkvVRyptCYfkIEsHcoysv\n",
       "zzztKGsMHus/XKfvvGywC/UiAUsg5BWurZvJngZ41YdVyQAroaVoTMLAb7ucftVsowywG1uHCcIa\n",
       "j2wcVfz0b/fY9sEIxPrOmAipszV2l85mMyHAToPJPCrEAqsoPDSabXGsFNTDIovDqeRt7TLaMicj\n",
       "d6rE/eaIP/n0pxovsC+e+nL82x4jQN8Szb5CxMT52VU65U83yWPCjjfGvzE/cBEFbnOqwtWG3uJa\n",
       "Y25c3FDVsoq04OI43dUDe4/AmWbQANEI0VOnK5GP0k/6W5pTHhv886ZZI7OT/Yy2BnnB8thlmLDN\n",
       "XZ5J8Fl6TN1AAiOoWN+3bXB5pUfXyhBKFM0i3FEASF/l1+980Ze4ImqXDvSrrDXDp1S/s21lbdE5\n",
       "gFsLkRvPwA1Lab/w2SbW4b1AicsIRA6MiwwSH8KnWVw3fgSbnPB/rQV+AHO7x9BoZzmrGk90PpGS\n",
       "99ll+YN9jMeyTRenxCDaqwDkekev/i8uLvwiPvyLI4FwZ8uYn0Jyu4rGNiJM7qx/QBCNikMfonWr\n",
       "9JNbZom2BxItieg7Qu1JRgX1SpG8fABTNR/oHuBQRNY4tpfg5MnNfiOTeQghtIoD5amzF8BPNqkt\n",
       "nmi/D+uuvyrFVN+U4AbZRV8Xt4XyeFpPpkWnUFDAeouWXQhWn0pp8a9ApRPyUj4UfSOVQEzS8Du8\n",
       "TNum72WHLlE8BSzYgqUvMOnAuhLH2ofUbBPLhBgED0ivxKVt0fpM5rzhEfMavnuusIMVw3gyGKvW\n",
       "gLUa18hLmOvgbevkIL6//zGX2/ZUERLFrnFty8DcAhmVGZO58bycGdZXf9uUDkkg9Xj5W0Ykqu5G\n",
       "XKBHXWXhx812KwpvpQCXIZvhDSmBiNjdnS8/M5dwK95P6GiDoiATMmejk9ro3ou7YjDucXjZufIo\n",
       "zziiYeARKGBp4bIvpiulDYxIWRcJ7BdtteeP/E04Xw1xdazQ52w/ow7c3MXJjGaq/PX9WkesK87r\n",
       "QuOAjZqyFkzvTEcONsR3Bp/9lCHBg7QRDWw95WtDw8eXObs6C8L98R+0AxqUgy15EEnhgSPzBq2p\n",
       "zuDnBsnx7aE8NbqYBt5pNZGwKXl/moXQusmow2Sc8LaP7VJDkv/h7QTgplbX0EfPZ6YjQteKhtsX\n",
       "mYb93xl5wcHIgX8s2j5TCzgVibzgpyqtvRQgU0tW4zqXw2sniiR5StgGDm2/mYbNcw9Srby3UM+F\n",
       "ALPhkJgjhQ4Wc5lttvdB/X5KuG6SH0RVb/ur/U+dMd+4vIcp18Rvz1Zk9pQX9dWdhEXZDCSGcxaZ\n",
       "NrJP+03Me55VfUzyFavt4Jhgi9Xt/jtYl4MjxJqWbM3/I3mzaHiK3QlratoRlcQj/T5qXt4sGM1T\n",
       "zr3P9LieFVjbTEhMUeWIZnS4qXRp8bFRQQjKUolBdS12ZXDhvGzeOGixmKLELxRlD46yYuKXBXJq\n",
       "rEoAwPH+FoBSBK2dhCxrWmj+taIJn1+I6jH/Ws0aecoX9uHb4l+c5McfVNrL6eNUU3bXtURD+9hV\n",
       "U0AY4ZjO7IPnVFeQvDwGb76rKhCQpcUKXxLt2FeCSZiMm6XT9ocxX1E5iiRAB2sQnsX6Jle3J5La\n",
       "8SH09OjuPTVbJEAOrdIkwctp7ffwgH5JQWCb/SRy4lNkzbX6ctwgHQfjPaPlGa+f5raFWORZKqB9\n",
       "/EXWiIhxaOzb9T89cex1RqEwfYC48eXDngvZEqltiBYTgUdDcFDVU1Vd/IEI3e/d/8f7bHzc5IDa\n",
       "3DnB8R458cd9mygf+qyTm2J6ve5rIYQkSWydale4u0HlTW8eWe1UmvmWn255RL0g8NnP+UAhg/Y2\n",
       "sNvJLb/38FSO8v5zVSY600sq4DUYaQcvS39FFV0PwE6aY3vW767W8J6bbKtYuaDTXh6+qYSkQ+X+\n",
       "dMl+HirFDCURzi4duKMJRTxVj34U6RB+x2JwLjBMnulVi35VbxEjTeeVxhY45HT+uKJZpMmXrdXj\n",
       "Sh/5ZqOr/38hoDx0sSd6TEBtWPnTkYNNPfdeXyCrdMyUz9x4Gtn8VIOv5OuA41/eidAMmSxtnjlF\n",
       "7furPuZe2Cm0SOcThxTapkkNlzHoKo9f/rAozQqLeQQPklPbUYNBDogR84cE8Zw1SFflYUyjYGjU\n",
       "Lm0T3LHJaLI7K2n8Fk/8SDKnhrS5cvDUGmnP1ISEqYxf20PddFg+r7RbvGtjW7DzCzfAapbzqs4k\n",
       "JCt6wi0QYAIdplAP+rLuGix78znasRfTgxAvdJ96rkDVPccMMd0h15Cgwy70acZ9M/mUMk5IWfKD\n",
       "4exv8D1zu/zQPogEN+O3v+y9ofCz/uT/6v08BvqACP/nr8MEs/askD5LrxIh1NB9iJukxOQi4odh\n",
       "5O5fXajNX+5F4N1d1AkypBlOA87ODGzvvdUTCCMYp63YmLY3fKcvlFAUdqKQNQb2JmyJa71k06jz\n",
       "LNHQ9INW+edShOByt6LK2UiruEkoWAM0yc2OevPd3LpQthd2+drBZkuceo8uWNd6KLjNVQIGTvvw\n",
       "V3Jnym63zMfFhmtuyWClSWoNbVm3bD+nidvvWVA8wh8Xp60ZbFzRGXzgWd1UtCMlLnIEGlvLnDeh\n",
       "0+HoWAXbqFq+6Zz+sQTR1HP4OMKEV4vJh2Y17aTuwS3Vn38RlhPkN1TXx927z6TX3U3VzmpFza2o\n",
       "pFVvhGdwE3s9+Ye76CTGNX/zxv9urLNvyYmv8LZvYm7TDPQVr/82eWT7MQmvc0H7KYRAWtMx6JyT\n",
       "2ZsOCzSFkMNSHayfj4Mo8cr4d5MsYPKA4BA1kqtQ+A+rlz//YltIqXoJenk5+34ZhGMl1IoDJW4O\n",
       "FcsmUJ565GF3LYrZud7qFjnPGOg5bB4fR7tkVTpjKAVL1hVW0MnFUnjyQurIuKOgMnGtTrkG+u+K\n",
       "F8yALXg0ssapKW4WdD85I+k0OsdZQKCynrvssOZWEGpihoMTtos4OyhG8GHDgMj73yGEFCqgmvfA\n",
       "2Jsa0z3TgtBj8dQtMf8RHEhUJK0nmVDxxJWEe4PCS0n0auH1ksGfdyiK+13TJssQ61Q02mys2nG7\n",
       "ICAxEeWcFuRXpC0gpMzDtnL6zx0dQTWq6MkAMHbVAYIWAz4IZtG71NVnsAGcVRzmkqKRvNVPQhvI\n",
       "e/07ZtdzPFUVjLIZdMqzFsWht6E0EoP7VlmlNGx8d3JCktprxZ5r67ve3c2r2yM6I3kQoxfi0Mbd\n",
       "xZIHJ1esKDkgE4c64CqyasKaRz5LzlpfTNWTKbZPYlfVDwkaR4ijAANeUnRN+osg+Ng/9DJw4+Hz\n",
       "GBWcT8OkmunwFEenEe9v+dCrXsrRprzvI4DsOoQ4DS0aKj3l7Ye2fix8Uf+GqDoJftwhuyP+M7KN\n",
       "MXXB2n4i9eM9iLd3Jd3W0Ix8fQE9D4lwWsyum1OMgoOKw+Z1ojhXNKe3Zl9Q9tvJdgKUqakAC6OC\n",
       "3hjBYh1Ug8NoBLhhc45DKOUvOxhd3wvx5DbK/LfZ2ZboTIMG10djcoPqmsv4FUCFld3OuMFXtdib\n",
       "yoGB0Fevvu/mFI4AITKAI58JNDsj6msQl8vQBWhHC2+PsFqRLRntlPBZba4pYOFvjvrDOcOmwQAA\n",
       "QcZrVrO4WtIEoCO7rvnyBR8XXxWpBttY/H6uOHf8Rrgju/0HYV6SwSWlUMOn9jz8O2Qi60cdUF4l\n",
       "IdgeVGoq3djKNkH+vXKqw9ljjGV7QEmgIsJjSHkjtIRopnLvWTLrwKiBXNcdXRC5rbxF9G0+VLp3\n",
       "AseOcj91lBhFh3bQqbdiD6C3CLgRZbEr84MpgrxH/uIcJ/DqDfYyd/y1i1dcvgX30fUdQwl0RqTn\n",
       "7nPgbBGBkhqRJiM0r7nx+BTuHnSzxW0MirGrPrbc+7a7mlYib/7393MrUQIwHGI4jrMvcxSkOX0Z\n",
       "gVRN5IGCs6HDQZyg75KFdjguP4pEHzJfb/uUVYp3QWKc+ePUP10gXLuHUPlAHjYcOsVDeNDg3rBc\n",
       "HnIArQayPIA0KarZuMyIgNzSpWNeAt+sv4+T6QC7hqcHpcusxPCi94QU80+XQvz2d5cySc1pesbR\n",
       "E60uz2Ug4ryb5AorfcW1NJZPCqUOg62EcOrj/p1NXlkEuif7vIe7oG5JphT6budwsTzxKh24mB8X\n",
       "umNoxlix3bf5phkBk4ZHvKrESA5Mdfvt6x3apekmhEBskti4BJL7WcMFTLDzTuzVLTB5JAdd7ndA\n",
       "fnnKm/6NUk/QTOqSbOE7a7Mh+SHx8695qbhVatvc5Dwg257+GgP1220JVhO6aKydDuDUG3noJuzO\n",
       "Quf5NX9pvEGYongAtksC2O62OtoSIRAIA+cuxUrfUFhdI7axvenkzwRG6+QrU6dpvuLqIY4b63/f\n",
       "DicU55Eb/W18NiUGOJa/VZIDnU67mW7VcLNughXnOkuoc3WjYOfFI493VIZrfI4jFt9oyPk6nH7z\n",
       "zAQPdp2KUKwkpYxHNhoO99vszZoCvYAzn9d/nwC83bil3lSIVnZFIDhhSWmTrGTF6AVBvM2ZuCvr\n",
       "jbcjXfhTuBArG17avPSOfhvYLtOXpen4SamZQq3+VaME7z9rlB3b1QiGSRdlXhz+1xWMV/R5pYMc\n",
       "8sI75bAeqlSjEgH3kN9RFiYIHO2kNizWmMRg6JMTDXlI2+awxhKVxH5tmrcnQ+6C/qtytG5jsTQs\n",
       "iJZv95te/vMV8djSKiFgS8ic9SpLjchfZ1MbDl97yNei60DWd7R3nL2UkGrYnFq4WDoXF7WtMqgy\n",
       "lwg+USOa2v8wD/HXoGfXCg233m6Rf0Eu7ws3/UfziZgppTnzEyypGuyO8M6o+60tndNK0IRfJIaI\n",
       "uucT834ORdK+snSaJmGNbrdjD54cPRhNDTrrvRKM9dtG6O6CCGke7OGuo/SQZclPTZ64wA4m5xRv\n",
       "cjhjK+fKCldWpgkJyVTMwsoWFmFcMazE+Bz9JZH7NShDbKFmUGaplOtNIYftUTr1APZXPT+INOJp\n",
       "Puein/AbfRWuwacDZSpBFxy5IniRsUttiNE3V9LlBl8XfQZZhD19yVQLLiPMljXFHXeJvvbJhKfz\n",
       "PGn2JlrdAhezvL1iSezXOrtdfV0R+4lQdqFe1VGFcC5dBs18gojdvOjF/495+vneqZCVhDKa4U/P\n",
       "so12AE4qYg9hEXVpUknxDb8dfOnlfp2UdO5tv/HbKHGscX8/9HDivRGZ2c8AGBFb8rvwjWBYFXV1\n",
       "b4IYkmA9ME9FZBawmIWvMd4FP3ShiLINRKepus53fYKZoW3RYXlRas05VSfllK+sDrxGI1XPfS8V\n",
       "F0eeM44cz/q4FIbkWWi6AyzijOwXy4tyXK6ZNXpUvCZkuU1bqSeJyrYyTt6vcoS9R3UbiImq5797\n",
       "pp6LWK7OyLRCVzAyX4DyWONoQuzbZxsPNeiOLt09C9utZ+9e7NZCjl/sYU0y5/nCgRXpUyNbuEI0\n",
       "xufmGzfOGziOTkW5TSS+KEK0EaFuxI3mjXL/5YSLqRfmPSC9U1Tbi8PFnnHMa322QWy5/ViF2N/z\n",
       "N/njt+xpCRJdfslWgzcvsm/nzzVHalqElYdSYyju5597P0iQ1CyUjc4MY0CnhYIe1hB2L/HNpfsy\n",
       "FAL+StP2GgmW/qu6XfmQ47R2YGJCpEghY806GbLR3gXJ0x/d5KRjpL1kOGxZnKix9ObhRH200ADE\n",
       "NW93/rJWIlJTF/g+n6QIF9LtHs9o1cIHCf6Q/M4AnWioFSZ7Pe/RN2npcXKqguF5XjD6x8lhvkYo\n",
       "4f+AsDKtZY3MMokR1tnXr0wBgzaMAemiaMgXa3NJ/DTtxJbs8DfCiAHUaHYuPbfpVUpcQfakt/Ld\n",
       "KUAKXitsuOukyADnABOfpIJhNAv+YjrWMHZ73N+bXlzEnR1LT5iQ87QzNIRNM6jJ9G4y68FLSxBv\n",
       "nQ4Cs1lg4+D9tEAuUGAFvA25UavzO1YSz+8Ztkd66Z+rSQUx41VjHCm/fMejRyBvA7uEetecBlR3\n",
       "CNozNE4xGUkocUTs+iLzdcHykAALFirPEBUjAuMWlx+K78SpmP0/4bSkiy46IIZ+gqKihqS3ecTI\n",
       "il/qlNX5xBOkWWWLIKJ3onhMoTkCPxFWHh/t9wEtCaxv7+9Gscw2+Mre4iK4YaSvmfnw3Vw9Xxfj\n",
       "rgpN4ERlBe12A82jFZwxFlRcIxsuJgWmiCWwBEifLodBTax1HiukgH94iIFJ0irphK1S55OltcxU\n",
       "hy0uGIGtV5Vj4lqL5xjAGvf4fq5vEceOe/w/8DaBg++k2nA4K9DOmSikvQ7q2S/ka0HIwHJXpQ4/\n",
       "CAc4cidyfpiS5dJ/bBGQVbWpvSPq4W/KlcAyTgOJ1w+X/DIm1TF7y3Ro1Q+T5hPH34pzWxe0DxPe\n",
       "GC23XEPRVv0bWX/udWOSB47p2NEuhoKSRCexF5vsUW9HFI03UbqQ0YJihOmbHS6HTm4AiVK8zwXf\n",
       "r0XqZPuIVCrgKUskSrxoc3/UIer/Vwa5Fg+hQRI/s+gOWg2l89OCCD1IgOfSKPQexjX51WfhCRkJ\n",
       "0CKLxnXOJo255Ywjy2SS6BprcCG+yAEw7lR9jkE7hOdupbHCZkI3NUEFDRgsgF8rzgpRKngf3acm\n",
       "1f+lhbt1n31s0ni6k/vsy7Z77zrl6gY3vxqjnqz1iQO9TQ0Khnw52jSXCEM9EL4f7IfDkiSm9KyA\n",
       "IJpydrJ4FhzRr3MK2lt53yYzhZtv8xOQKPWyok3BfHf6slVoNL5qFgjqkZxbILvYKMXB0wdwZzCx\n",
       "cqiGBEowOLXbeaWSdzwl2eMbPmM2Ygyn4M4NfNTSSGeIaCL/AKAWFIK9SBo0JyS6INfBdeYZA+BR\n",
       "JsFzs3rm373ufHekwMMsbPrax5nskwiaou0T3GtkWlvzorMNPeAQ3Mv1Vy2JmsBQE7q3nUCEkF71\n",
       "Qdjd11TWvpRg5ExJj8gP6L89kvkrIx38KidRsRYhYPK5lATys5Lv0watMyfgrrig+VIZVmv+8nV0\n",
       "a8SRZNLUWkmdRzpVzi/3duLrwP6sLr67Z3TUGrKnpfaCmvoICs+YExRu+CVGrUA9IgpGgN3+oT0Q\n",
       "QxxjKiGDY3wxtg5a0UD1l5HY2GkeOGrDO+1gmVT9fF875PuFBOdCUVBHH1Tx8Xr0yNFisegNJ+l/\n",
       "fVOlhcTmySCzl0upxzSgTGDqygd33/Y78GTVRJsKJCiwfIO6hEp97AeBdO0kF2HxRhF0adeuyG/2\n",
       "OaRQJdcw08dB6LeVO7cXiGXOnHmQ3T9IGpg3D0LPpX7n8xkE4qNVwHiHUta/iWJRspAvooB8mnid\n",
       "8WC8ywIFg7zoh0pZLaopiRFqqa0qcCJ+Ae1T3Eli1ElCcDebwe8kI8JRhOAzG7WT4FNLJGT7e1m2\n",
       "Gru0mTNPDcGa/ugncZWh37WjGyup//QtgaboL0lYK83NtkDjrmRzdNyzF+Id4TlAqAkEiYvJo1hB\n",
       "QvXAbvz8o6NjlOqAnpXXJQW7RVI7/m5f9c4Tgi7inYWvqM+v6ADZlma1GdwxPr57lPtZf02J/4G8\n",
       "YfIi6wEki13+fHxxaXCxuUtxsXhGrFm3FjWuLV0GdugsP1cK9LkbEhPoxAjj9WJ8qsEMgKYPQx5h\n",
       "9ar+Bubjmmyw/7aRgpyn0gouPMfovlpzdRl4tqvpv27QnsDPRIkutzpS7zaZxq9JJTywmV0+nhd2\n",
       "liUBTRshZ2bYcTRcUeqF9Cl71YkdipEWxSf2g30UAB1F6R3oZEAmUW4aSc6LMn+h8kl2WXEfZgGW\n",
       "vuJ05Y5J9jmdaKuKEBsskruEIBLpqGWB/CoiELwGC4c9fZPL4a6LMRQUhqfE2Y0NT0/xuIMeYaA6\n",
       "7v3wdXdRDevbyActUWmLYZiVuGCn0I36uooOW5KCUWBzg/0MxXssQFiaxfour6nnU4LxtPTDzMHW\n",
       "7DPl9VzCrBe/5mlh+eANUbAjYEtOLhLY9TQIz92Xb5wRZd6zjALuGGvRzQjSxZSjgx21/wYveuOV\n",
       "J9msso9s5T6Hdr3kUUEddy+BmiYqx2xYdotUoBkj7x0OfyiwKx1YSYIrfmafZh1aqk9hcjduHJ5p\n",
       "td1U2PL2Lz/Pec4AE4MOJGliwmSyWfGFSo8aZhd1gSPJc12h+VG5GtX0RgF6Kmpf3X2bM4WvI88Q\n",
       "g/hzfmbRZS6kwOkFQcKphGCWUlglJtiRHVsobGrJrg8KCqUMp1Dr640lWo8tS85ndnpjajR9GQN0\n",
       "x+/H5mC06ecyxIj3bo2UVdmvnGAyyT2yo8099vcPVcj8cdSkTzHP36uGxLytWk5851zwzzvGd8Qt\n",
       "FRBG9z5qPXt0iXGMEFk04YFandaPewjZluhKOlwfkPFQ6IjKHdx4wRlJL9qnrlNFtOt4AEuNWYuU\n",
       "EkQmodLnZceFoN9peTw7dhovbLR/tEdN2AWBetFnmJWQNwy6KX8qrHCUd2J9wod7I09nO6x9YnDn\n",
       "ojBCOtBhvMl4Y//NetlFsAQ3ZVAfmjpaVgr4lPcHwO+qjZlTck5aHhpqK5VCAVCJdojYYiRFqvWh\n",
       "9WFE560YlRNlhYKhB/8ckMggWdR2h0vPPlqJDL4KTXISKuXaJftXMrW8X+MIly9NMoiT3XiMIxIs\n",
       "h+Wpw6j/Gjnr0JV3CaXQ/51J7m46yY1CH96DibnfoFv4yqxAXQxd6e1o7KJU8atL0Nmo7W72F7C5\n",
       "vsMnF2j3ty07Bu45GSf64yy/D7GTMaB/7ulX483V3OKW/IRL7OElgKcwhgS9gPj4vaAUZSzju63s\n",
       "g+MbCnuQNB3+oQ8+wK/6bCLH1lgacC5D7BilPE1/bZuVUIjF2M0wceC6mP9DJ2Jqbyw9CiVNMiFN\n",
       "gkHUUgqJZWNGY7tkn3Uc61XbwBShlUs/Nr6VdbAnDGC5wtJsZ8XCqFxZ1/prQDUCBfGvA5L6WP/r\n",
       "6vbL+qi2ip/mZNDjnT76HWgaeE6HWeovGE3wNfpyENSv+hm2K8ukWuejAxSY10VDzSUujr4ouB72\n",
       "ZpLlQOX24hRd3iWcUuhrlEAe8QvqHMRYI4NVBATtuO+KnvqkJ49qkiOwqbiLp8ajgOKSlfyCoZng\n",
       "3kN18EVjsjq+XS6c8reg5sIdvBoKqJxm0GncJeUjhQyihT3GXSBhAWasMMMkjeWjUkKUalnAVcLs\n",
       "e7VN1BArzEjOJlCsgQ1M/pUNVCLr4w4kYHj5Lp+Y4MYlRc2HfpSa9Po99ZmmMRIutjzPPt1t+9/g\n",
       "jiNLvvY/+3Pg43SnB5/8rGxhXmh/lIr5udICEGtKT9AwxZ/bOyy8eg+aAr5pADAgP1YvZgXnyp3s\n",
       "VJFxBI1x0oWBhJbBYR/CFteEbjA4XQ8t+JXm/iCVl+YxzqnCcqUNbsEbNaSjJKZQZlrBzCYKHvXk\n",
       "FY/lkkdaROgprWFrpV2LWJCIgnB82qF4saXRp6Mrt66HKvh4zvzf/6bDBoagftSR1Tpgmh+xNDyP\n",
       "GXVcJdV9moIdTO9H75Xs5woqtvEGMCoXUalZxtpiHmds5jD6ibVFK1z3I0lWYrZtIgRctOud2qqv\n",
       "QzdKZiFMLgf2p1l6Ryx3jq2DW2PRJSxPxpRdixBBo4DFD7X8ZyAIKkHTwW7s3TMt7YxTrZTncUj2\n",
       "pJZfQvVNg87e5d0dOp4mCYSsECPOM0NdumpKPivrfncWr++s+p0VR57qJsaeejxlpL7Kwmvqiv9g\n",
       "3koRRIAk8EF7AAy9hpZZPPe96Kw1G/4pZsobqk+qeExSkOeMhGx1f0mZG06YhoynNHbhioX0Eau4\n",
       "nkVEx/JzjL863C9/aeujXO1B/LcqOSu6T0L3dpQisULZcEAYxHRGQ1zbGmQ6ndi45aV+HwN8XgKR\n",
       "0nnSCaK4Chi6f82R3u3dzAEBCs/8pet7N0A2bjWgEIrurKq4cT2ho5z781paVZMqibjI3dC6EZsv\n",
       "E7/J17XBHfcfCxulLIAb71IZIvHyLtuVet2BUXjO1nLUK+PvjODasi3w0ksiKgd0fXe9RkoIfMQn\n",
       "bzKCp2+BAbQrmxRSXeWucijx1t+XCDYs3AKjjvfk9J/DW8+TLmYj4cbVlOzEIUD9XQuX7S/Np1Oy\n",
       "wnrmyyVrk67DhLzayBTe1vuPjYpRUb/m4hIWaczpcgWc4HTHI5QV+2Xmm1TCU5s8Dm8OdMkNW9sV\n",
       "+XTb68dUo0EiAeP6IvB5IS0zo1Rve+1cS2emLsORbkF/txjAnu69UYpeeZafMrVNpwGEP/g8xISq\n",
       "dK4LQ/a8F0x8lAVQppBdfJLy8h58X9Za+X2CvDrEE5V3kvUiyvrBXLgTZDuFPqSnbesxm1DNjDah\n",
       "tDUzMyhHDMAPcG6o8h+PMF4jLYUc1XCAycOBL6jN7lPmOi74yRStVeq0FHs111AAGX9sqwa/2KLq\n",
       "I+JbEbYSmH4FFTKst5SxasIFcP/5jLiVE0Y/HF11MDBlWMFBFdte2IqMq17JbGF7lvOTXq2LC8Fo\n",
       "XDSETwwCMNrPJR4jbvagvzKO/AVeLnic4imALt8FPE8MBSC7S7AHOXdrJt9h4lUeCTC18Eia1v1e\n",
       "dLZSB+jlG00BePYiIq9taaSyLVWW2qfCSp+ccuPmS5/iQe9MJQroXTw3sQy4mlEH1W/ml9x5VOBW\n",
       "OJMEhQ5ybcjco3rN3PZaa/ST0d5Bx8ZEM/6JGyjEsxGpwU0iDWcNTuSzzeg3mNX3c4jlRe78teba\n",
       "ASv/BmPBYFfAdxeqhywzy+Jw0nHGtbAkn0ELICSlQiMYIMGV9hqvM+pVe3ZGst9yNTkZgq+kIc43\n",
       "ppumfG0eQVgLzrlW7VfQvAXAzGjuXqMkFmLIZB1+2fij0lUeD2MV6vmCs62f3C+p6TNEsmixyM91\n",
       "CrPUCNr7MBDuFs4YqNCX1pCX9HHO+8Wd8jYCYIt8sQVf5XoxaBGD08T6muWwQ/2867+R0nc2gpr3\n",
       "fFvkssgGiJC9/f6QUcHo19j+OsCTK+N4shmR8Mc8xPphGCBKr0+UOopuLtA7+cmXvfb7b7tmu+3z\n",
       "6E+Y8tP9t8IgCi0MbkggV3PCMcwg/E3YHqIY6Z685QB2baMgeNQvXT50madLgfcbdZEetvNBI0Lt\n",
       "wOeJ0J2EF8/Zda5Ydc/DBLPpZTsLjLj2/NC9Orx6o9ZnnzTVH6a3/VRIQ8AvhKPGHBCJ4JSw+LlG\n",
       "/JisJwppqUpoxlp5o8OaBBxjbwWpnG0WytZkd6a2lOZZKgVPx5ADw2Wj2Vmc2DWN/ayjl35lf5wE\n",
       "lm8P8Z//hk/AegL3vsaXlN0PiJA8fvPQxt6qrUOaZnwUjDN6XwzoVIwgqyOzMmzHw82zbhBnGXtP\n",
       "Dl8zcSBa3Q4+agsADug36MMEL7xqxxUN6doSjUAaz6U85cTGPkXul6I6u+RmVU8ovq4QrJahCoMF\n",
       "oOYG3Xd64CLB+bul3bW/2gULE5qjofrEKRiOVmKwbcsY67ot0iwlsYeJ7hNPUc920yNi2Uj1/P02\n",
       "x9iFAlttz/ecTTvbo6tPtn3Vi/xLao1MqLDzD5gPrY5QkoNfWbl5ekkwZ+ZFG+u+6eviAK9Om7d9\n",
       "0+6sWB1k3hdQBVxEAh/AiOvImXAa2OgbvEB615eKW60U1H2tikg07xg4uRwIPf6/Yuz5dHxR9nIF\n",
       "tjl30Jfd0LJ8WjBDy2razMduvPhx3S/KCFGEfi4/I6uDelo5itx1orgMwQQV0+DQJCjZ3lCXkiFR\n",
       "55sfFF+x8Tf8DgI3TVMF0RjWcMHI64KHnUGTRp310FLnqAfbyD7bDCvGMp8T1UQv6UZNEm1psgVN\n",
       "RaX4oEVl5zCdNvXjfLsAjBju6xmdkFeZsUSPecxmvYegzLnsoqRuBMaWephA8ela/vppaFMgaJ8/\n",
       "8y6eSc73KDJnJeNW7p5VgzjHdtnEwfq+8qp5YDueWKxKvADd7i/mywVVQjvgApWsRWM4WrgKVYdJ\n",
       "qZjeor3tymG5ajEExlFHu2jkYMuiDWg9O0ZP1pw3S+0c7dq8gQK1gZJCtmmIUYdb4D0oFstnsm+I\n",
       "0je2qbENk5RNaTxFa4/krRtviTUV837TS3oR9qpLHCsYp7hnVKyAZGLXQU6z4gCwUY5xsn78/Bix\n",
       "TDwtXllmU2rx2zUvU2mYIdDDJ1VQsCgZsIUcXVIIoU/iUqJRD3/vIfjGCVRQJpS6RXK8p/zBDwb/\n",
       "7m/DObVvhzmSnjh7O32R2kPjND8S8YY6rNRZhB2LuaigyotAJ8FAa9euPfUbb/YMX9TvMpqGycBa\n",
       "LlUY3HiUTVadthWxj1cRxTMFxgDuD4+IJ3i5RvNuQIm7ihcptjy6f47JGddM3f4QeVX/Z10CO0o6\n",
       "Ff4bs34PJKDfD3qk6xKL1RadRPQ3XpUjj1wiHXDa47/jCel/us/WQNFJRmleYjf7Wk1vReH9nEHS\n",
       "nlRhNVTfdRoQqctUu1BU9eZpBhyes5QBY7p5BHTSDOXww80j/dct2dgp7EOF0rEwLWQAQg0WAyEP\n",
       "LVYA1leSjcMyd9gvky2zBJQOYkt7fb1/VwFRudZb0rvL9wTZeSCjAQoG0aas9Yn2Zzx5HRgCbykM\n",
       "YwnIW39xkZG4v3u5/1+HgT820ce09N81JTUlObgJc6oJZqbCXTpE/PukpegEJcET8umvz/qyUfmq\n",
       "LBzwguB/KC09dCo/I4UF0c25PKkZBauNYzG/4phIqcBeKY2IK1rnh329CvcY2/spQkgQTfoyZgwJ\n",
       "OP15tREF6ym2txr5yuzhsoQZtk3hAtuHpYhynuamMUZWJZklLnNRVe09VEyF4xl/n0ZvbY0ar0T8\n",
       "g+Ri99Q3KrOwSxCRXrAmbRb1VMWeDi/ZIUsPi0AjuCuMWVI+BVwgZNJAjXIgFBk2U1YraKikHvcJ\n",
       "JaFHV7jqSy309IzBs9DcVLw34Exex6WwyZ0VsXFG7vhnDWEpuDoRXXO84rXazCYWV3MhiMeLv8pO\n",
       "D3SY2TLIB/wR89qxL+Lt5UKGNvA2LeIGzMY0o+vTZ7lCZEEnIV7GGRJcpcBcpjpAKs2Yl+0SPZpZ\n",
       "o1d2az2dTOfazU1nJ0JBomsymrJS2fAT73tFrbp51262ioMDG8Q0lirB+DAcMBXsm7Z4op0sbxSD\n",
       "zuBujjH0zZrzT5bMue/iu445VnbgL6uWfERHvfxGLCOix8Z2+G/d4HMZ4ao7XsSVOei+CrewLFHr\n",
       "oglpU3cd6kuEvugIqbKTBJpEZESE3fNMLolG90muNNI3JabRLDP7RijzsqGbEmYCKpTg0ULx+DU0\n",
       "/qCXU8DpI+wmf97E3/fp22jNzre35c6UY4jKHrLbt7SmptBPcE41HMAYTFT81yVay5dADsN8/xQn\n",
       "wrd+X9Pw7he+A46CsyVTXZGKJ6a5BbWy5MQ/6jm5lDDUBpPl1UH9vd7KLFh8nrROOzt2tq8Y8otL\n",
       "mrZPTXtBNxIgvjbXn1HcaJUNcde3C6X7HCLXSuqJIZLR/juP+QwuKfsgYowyg7YYyvDMi+lvwkD0\n",
       "3OxYvi504SnByOFC4V95M5L0IBceLsPdQ8qBYB3BXcWW8HlpUCi5vHSC1gC0Q3AN/Cca6nJWAE9+\n",
       "v7i9DBmCHpT4rjZTplLE3qojAQxSPcdhUzY8keatz4uSed1mBdINFnQD9YajCZ7eOfDPJQWSa6nM\n",
       "DUvU5bac2uTRN/Ipr6plP1ojta4+3fEA55sYr4fusQ/9FWP/JaLOTYCiitHw0Thsk/I9oDs0FFJT\n",
       "VEVdfeSL3QhfrAp8ZYHUWW5Dku/SxuZNmo+pVns0gNgAvsVKAZWMar7pPzRyYNqxuM8fTGDn/71K\n",
       "3n9T4ibUjwfV1QM9QRWNpvn4RZJBas6soxj9kH47y3QPdsBa3kUQ02NZzI59F4lMpiTvUXrL8pU9\n",
       "KXTQn4F7t9l0u+7UhkJWiqxiWDXjkmeVUWV2bFtVHu5KZPx99jZ/Ouz7q1sQVheYde9P17u5XHMz\n",
       "o6tcuUB2HMtwo6+S6A1qAUZMxGLcmHBvOGLJYjTA5VLlm6IdUJrXFfKhXQTawKVpJUhalDicMuIc\n",
       "sfb/EsuH6rYL/ImTZ+t/S0A7beWuSWV+kgu4s/xJs3Q1mANoreqTMidld6vaIW00B9ueyiwn9zBc\n",
       "C1VqQTuvrZDrLpFZHjTCKc4genk7J75thD8VL531P6GcAPdANBZ3+D734RSK+Ff9W+0SgQ7JkmPr\n",
       "x4jK0f5ThwiVpLvXzYQlLrob8aNjLxLVdMt9pXXECZIFwGORX6inENFb0fqdLjxiDpUTLqlvhpV/\n",
       "7tc4N2M3r1FUnmgBIDdIeCkj3TZngT8jDd+EvwNFVd6feFE3DqhpLWJTEbV0ejA5MXmaoGq3r6Pb\n",
       "hZxRbKHwuHwbYWO/Uc4731qJK8SEzw+sE4UINsu1B/YODTzPSCreTJkg4bgz45axTczNolkr2+O0\n",
       "EIZtltX3gQlxljkPi0/0V3y7YG/Qi7KR7sqoftbHPFKczNFo9i/zyVS2GWlLh1BpkB7gIKstNpbE\n",
       "RDAUdNA/FuO/0EuKg6OZ6eZn40e/qsNT0+ya0jU5WSzJ1E/Rr9vIyxUpt6l7r50cnS9RMSWjRaE8\n",
       "EjQG31idUXgbfRiWQBoNZGADdoBYZrwEdId7R6Ipk0rbTjgSpwNPgJTs4P9Me2QJmoZmMsMEQBBT\n",
       "R+iWKjXH2tUmWFvGPjewtM96VkQmUBv57eNGGvHiFHJt3sAr7BQyMlbQ06B4KsErU72Nk/sekP1M\n",
       "OsaMBgOx5plHZp6s43JS52YG2ptKrhf90Vx5XWcDsOcAJ6PnUHYmQPlXqd/6xki8xwCj/rxKahSv\n",
       "RGNE6Mpnv/S+XOQUDgVfHcPS29dG0avQ9u/o4fNc4eiaJns8A04wE+I6ew6jZjZMX8PmQ3brYcwF\n",
       "DpjsDPDlZB3rd/wAREU1HqeDkW1VeThK2mMvl8VWhp8sDr0CBcToIxvQbmksWRWjeS6N4vda8OiQ\n",
       "SJKuykcASdLE1Jw2RT7ndMe4lb+RA0Z8aenm/x0Sa2OB3VO3BSRTIV25HWEFOSzc4fVLNKK9yCjo\n",
       "Ah70vNJJkBXNHbuHWUauuDDFzce0kMKzxyshFUC0IlC3zplT2k5KbdpIBV3gSg/CnGrzpIxW2RAa\n",
       "+uSvKdyKFcYthMnr43Jb51JQsLe9oLxYtv/YfcnvCiScS+4WQbnoy3/C6s+g1laG0Stvg/1iI9Z3\n",
       "3rDk1lWZUKy+MTHbMLnwSbQtUwU5zCyAmjwpdSpPwKnf6hssk2UT7oTOgVCmbHYqo3gxEsC10aR6\n",
       "pEj2ZEy7/u8wp/shVRBOz91mHu98ufZYp8tpath1hHQIHOOVmpPboPKOUCbqPUyume+j8UBZemyx\n",
       "SQ1AlRvCKBAcB87U29UflijWUFEahLWVtYuTuvqAErqEmqm4XYFlWpdFq0gms6MgOq8CCND0gQK1\n",
       "++fEvV/J7nfjRKt/wMHrspRaPVTdHbY8QOe/2Nac3v4LSHxWB3jXF8Wu88u44nR0BJSvi1WUyyJi\n",
       "I62KEzEddoxMchzrL+p0egMxpZ7uAH9i4Mud2wAO7HTTzYeNzGRNYaDbFybtSOrhQZWxGeqdqSzK\n",
       "g+f273IlQfXqvcIkGRnM2ox4chiZRUZzTYrLEww3cqCwKjgkGH3EW7hIqm8SsGXcl7yptccMebAt\n",
       "M4KJBSyPeqmEaHo1gl2yT77CCtKm5DyaV+a0dRLuR3+6P7OMQmrQzowBy/Dn/qhsbGeIjulUI3bW\n",
       "jkU2BNY1u3pMYs8VHBBh3fUUo2T6mW1Q/8Y7wD9cYjrOAvmfhU90A/uUFXeNMuRpKnL7Jj2usAWO\n",
       "0D0qrfJQ9H0oMj7/jiGqurOhVfW28Ygh7MfHvf7/+xZ8SFpQUsqdktHX0+om0z+vBE9d5opZ2u7C\n",
       "cg223ByF+WujTPLKK/2zj2vHY6TiuD5FgZ8r6PV2bpFiR+E5ES4xb0s3cnejEljCH56TT5eXeI7E\n",
       "OIRXhcEWPmzOo2ehZ79y0FQe5HUGMvME1snhBiB6YeWCe8dMRMk9I563NCq+Viq85yaprRM19BkW\n",
       "7C/ML9xM5bQHeOfc16YJHKd/4iz62kO1riFHMUkgPhTQEVLaJyoKqchjXU6/5nZq91khOgrci8bN\n",
       "4uQ6Cgr/Y7/wSK5A5rviQf1OHEeLWSLwB5at4nOiONQQoK3mw6b5EFH6XZvvps5EvOESI1I2UqmN\n",
       "IfdeZUvaT1MgnhT58+mvAGXpQiVaD0pAOZU+uKJ2U2AYAcyIYQn3iiJTBEJh3cGAWufwbYc8DAms\n",
       "+l3A+zWv12s3oMiFc3j/LUuKquD3rknpu4bguhoTM4RQ8QjGltj6y8KLgPxDdu1XLzMfpxqq/grk\n",
       "/I4o4ZT5p6XO8OC/u21/x0zwaEhqd/klnpFnB366bl7jA/Z9SPAf/8lMRgePcsP/DSrNX8bEo8RG\n",
       "6H1MrXQdZgjnDVrvS24vx96FJ39CHugQQaE6OkrGwFQVdSnlZ9ojdr1z4XyF4a9rw5UrZcAYGv60\n",
       "7hIkEL7Ru0LZ35M7BbiZp3w/LmLWq3Sq8/j0jhLP+aKk40FXZoXBvUrNJlZZ3uXJTTnSLyoOF1/w\n",
       "4z+aeNh7f3k9DMnzJwFoiiW0rwytn7cwJ7DQiQfiCvmnza1N3eyc5oKEsRnV2z4HuQ9tQCO5Qs9x\n",
       "P1/qBoON9p1X7PvJazoHSf5GqnrWUOmEFMmEyOomfFZc0yJNNuVHzJJwufF7Dkj+zlcLmLborjoD\n",
       "dhcUbFCmvhegcIn9je8Q1IHkQ/i8EtXvNqTFBunoqpBhS/vthaGHd2ZDOinIJYNOSCtiXAX+GOfz\n",
       "s0hyHbsUsy3nQRSUwLnw5PgA3yY3idpq14r4ypnUKM1AB02Mo6owyry8P3+mHsjBZJT8PFfxr2SI\n",
       "pJTccIU1AK3+r3GF6dgSIlI+yo+BZ9XpN4Defj77ZHci5nfeA4iLXuVerjeb2Wj36zcD/oBj5RR8\n",
       "V0K5tfoTlVEkO4iByZJVta2zTzIwwE1Amj+aWJuxwLEdRIQShPleArgyiLoDsHeGHejoQ90lt+hA\n",
       "o0iMCsdfo9PMFfMI4K+Q0ljYNl7EQ02/w+lw2047o1fj7oM6mRVwsyBDcGJEulgR5lfXAhiN1s8F\n",
       "V4J2Q0Lr9XTbtb0B2vhAkn+vuNOM69F/Gen3NiJKBa2buevjnUWOQX8FUv9w3novTxar+3ELhtIT\n",
       "thUt/zM7bbfXMUVmO/aH0Gdrg36kkdB4FyqgbFBKrRSKoBv2lvtk311/pg6sKHSu+IN0kbjNilPi\n",
       "G4nHVZ0Sgqoqoc5coBTnYsDM3UOeCku9dkwnMBD35rqn8VpEe1V5r5EoyNljcEdd7n+EPtRg/hVm\n",
       "XKrg08PWLDcCteQpu3cXi6udSR0M4YBzSnYrEPp6NYXECYhO4sVFuv2DcQR2snLG5ziNom778Qhv\n",
       "/pTd/hPZ02yIlzXFx8ObdAuSKwL9LEUD7LJX9Dpr5CrVo2r2LlKcxgr6C95H3cDb4xjlWOv05FxY\n",
       "bAGI7GMkkytN2nK2xj7/ve6tgen3PpxuxoDX3ehlN27zZKF57NjWc5ILEjqWNF5ErEvnbdyCh9x/\n",
       "ckK0by1rXlriYAorzixIAR+h73/HL51e34e0GqNsrohPwlZWVzfBs+0vrvAk00VvMS0yc6CPPhVb\n",
       "BuI55tgzsuLtjKlLAoMLaFpUKYwBEuYKRNrfsy9y35xzl0aJvb4m8VZMDgZ9OaThaRqK0XG7hfBX\n",
       "n7fp7vdoSUUw6TE5R96qGpuFigPRnqp+/6tYhgDUsqfSM8MNJQnjobgjGzuthOI+31l0doFZRNz4\n",
       "HhTzwvJZddYVfWKcEWYMyG/JUU+MzgAQdj1mZdRejkGDoCEADNVWT6GJf8ULfna27FPka7HHmIj5\n",
       "Xmr1oDhTFGMZ6Qdt5MiVSWG5Oz93Ovy+M1O+3uqE0Qtcs7/SKUqXFHDNtqRcZ9X56PCi7sqKBX6D\n",
       "9HYd/lOCCLp3KRUxpCumFZLQO809wE0mU0G+DchSNQOuJsluor3tqE4ziqs/x31pD4ofNAgHSTN6\n",
       "CS0/optiOUwbxjmgJ+gCWXocSsgXOptZqqvTNEg9Z6ZGnwZ+QCfM3QsXN/N2/BJvm8sW0nJ2/6Qe\n",
       "WlVnpDiZ9ekMNgA47xBdEbXSLnvhvaOTjNMnnYG3oXWFQllQ9cdmYszOXwoGzJWwH7Iwm72+qcgE\n",
       "7FienE/bSFRluFhej4BeosFS3XNV55rc5oaahCuIK+OeBO66WPhEm6ZGQH3GgaxdjkqXyqR8u6a2\n",
       "JLjSxgzQfekth48eojG9IupLvHKtp4oMkCDEFXYWKWfFjK96o+WYQxDMkav+got7XH7Wtw9Z0/iq\n",
       "kO7re3kxYxcmcANCLYJDRAUtexx4Kadh6jieMqYxLBasv00WCaeTspMFdVKKeza2fVYfDwzUM6va\n",
       "Onaclmlzg9I5qwxaMi2SyfU6oM9UXCeoCwanKJ7KdXvPs+sZ/ewRbnx9jVBGbG7fC8+ixTN9Qp1y\n",
       "bVQ0lffvNLz/zPR6Yr8y83Vovw4cVRtHi5GA7N+Is7cZfpNs/8YfUUO2SYgrx+TUHhGy49THODyw\n",
       "DPsfeBGlScLK5LT723pnTFHaYSrSMUV5oB+67ymKqGaphwGAmn9rYGqzcfnJlU8MmeBSTufX47Lp\n",
       "9LL3whdM7PNmOG8ykJmmmUWo8Ib0rL4K1xbNKJRoQ7ubgDkjiXgqj7di13NYxFiMbendE16uqCj8\n",
       "1mtY+LpCbKWNpLV7iAJJI3UeHIyRrlQT4Zq8p+m1QUBhNlXLO05CgTaVmdPzlUwAE9oz0+f9HvWL\n",
       "DWntqUf8pP8P4j8rDAwUmdfdXgRnnqOXaSK8Cs1WVtgbKKzdREpIV3KTSP7g02aMIBeJ8UhU/gf6\n",
       "Jl3cg7aCI8qdIc3a0r6o8mwO4JqDIgBQv/gwuToo+I63Xb5sxVU4dCOQwT4UdNa5fCIJr5PM74Hm\n",
       "4S9h6RJ2U6Ctc5VUhYdW8fnyiDvhgKjZOT+v9wfpfeioAjOBEkCx84TPckKPoJ6jdfpqVEz47t40\n",
       "mF4udOgf8tClYdicSgPZK3FM9W5tdwbbtudfjVVv6A9V7bBPQ5qOtlenjhBS4oaVvkCYwtlud6Q0\n",
       "5+rlDstCCr1M9i9bnusTWMLdnJ/jmOtPqgRtJ1k0LHVH1yK8o2zwl0OdmVKQrBm09HoS3bWgYmbk\n",
       "TDT/qZEl8g38Xot+wakoW6ENB7u7OL9EruPQqmT6bxwW5FK7toUwosPFIBjKtlHx3+F79GtlJoPY\n",
       "2TxenLkBQG2eVkAlJC2aOWaYZ9F74thETZmwqBN+kRpiNUnMOLd0tP7qaMKLHVQpZotYnLOkgsty\n",
       "YknST76OFe309fn2ZXBuXLYzLh1AlAtfcV79nkkNEd0/Rjb81ihdbiCJ9cQDG44NwHdjViGNRple\n",
       "7aKE594aYdb6OYrx5dcbuMjE7YW7vMIupF3MN+3/d7NSnlMP0RA9RDvrqqHgX9h4pyoNuBmrNd8n\n",
       "ySV8EF98PXkvC+csmOQu1s5nmEsxlG5+oTmV2Zv84eU0eEhnGZxCwL+TXdVP2qnhAVPnKQTnMCUZ\n",
       "ofm6TscBIM+QvBU7meRob5cksn8RyMT/pQ1kWQiAGtSQalczKaesNMXc9PsLDTWXMCFFAWJA1eNw\n",
       "6T+KuSbQtsOv1OweTqz3wkLGpjpvL8dlY1kQrt3xG7beqWEXkDJqx3u4wV2TRuUhVXFuT+e5UQiI\n",
       "Z64RjsqoSU67KraL7M8hsTuo/MhLecXu4dmdON0VIRet14rNpTFfW6uMouc0SQye7KVhybvhnyUQ\n",
       "dCaBbJ5oUP1sAmhRQrWL7aPPGHIyJwiSHbWxTdXH21SwjWpmYDIc8C4ZOXtUWePvz6VIYGURq97G\n",
       "OL4CNWfZ3Fnx5TUGH3Vz4isy5X4kiUqGJIRvaySu8FDgpM2DjyThsvdbbvqwU5ltEUEsG6BnljNF\n",
       "M3jPqZV0QfC8piDzQxQZO4CkDFWUc2fw2Jpfo1UDfNmN0a25UTgtFTilPuLfxj+jpg0fR8BaOov7\n",
       "IFEyc6Cq79cCIFuKjAEHz1QU9DWu3Q9f5vTq+VyVDWEoA3fs9n/LXFI6Awbmm1Wov2B7nnfdUUzm\n",
       "pZ7utYCLGUi+ddkwdQaPUmobuqzB015Cxvs59AGbru2xzTS0lfu4y2yIMLC377QztknP++1F7OrQ\n",
       "Dn5kMDfmB6AhZmc9BvjFgKC5PyNPJFQZzsq3votQoPiPI1Dyox2+Zn8zGgRjapP0aN8XgTpk5hGC\n",
       "5QpqXQcaToTa5CgmJGxZRXia73u0mwTK4GK5cXCn6HIlC/5JiZGAoKnIFe3IcEJaa2Zj5Xf2sJmr\n",
       "v/YIB+a5fnew4jzUleTmyEEhhbXDIq1g7JmrOJ955n07MpaDzZKAJuV2zN2jq5isNJ3/1DjtelHS\n",
       "BcM6sU079I14Tm6RcstTEK9wgf4CJz9OZvZto1bevJrS9llbSI4Tiliy/Ta7ArwESwLCpfLTHqwV\n",
       "4KBbXLZEAAjgAE/toZvS0B5jWBYDIn2UtBqsorADWYSoeJ39s7wbB8YnuZNMOiypt5WXfIz2uZX/\n",
       "cU+PMxWjW8O4tNCZwaaLjRc1YtSZaeyqwFEWQEChbe611JTXxbnTmmgZaxGY9W8auaZ5JoEo+JA1\n",
       "I74wVtMvWy8nMUmQTveCrYAgAKb7IM7sc2RF5gkvzptNxX3geHj0fqNt4I1Vc2HUAoI2XZNKm8Jx\n",
       "IDqZ52Uv/FdIWnKYZpY80Tc9HdjlfIlqBH0mrCgYO46H1/kJXj2BPP5HjbFviv2am8zujjxEAUZG\n",
       "BQWtMCfDLwbau0GigQPZcADI7bgVxvkoDkyn+Ef39k1NtsCZII1aZn0390XmgilQ5zgHYTXF+OeU\n",
       "CedUBAh4u/KTL/dAj40Y3wJ80i8K9kxmDkFPA23Rl/Y7/+alKCxKCX/4H4MO3GI4ZnGdzwVZdS9C\n",
       "W8IKqYgi+6cz+Jh5G+bG66+OT8X9w3znNOrYI2RwyErLi9J2v8j+tcl32KZqsXI49Q4jTPqSdldh\n",
       "GfweEO1S6KPILpQzscHFGBslaQ/F+rSsEIvlklDmS+mMkO1O35fqSQuyC5dcFpbICqM74ZzmQ9Wm\n",
       "q67deZjCkIwo78DqPpRM3i3AFJPv70qqcl9tc5YqeNTlmtB2IQxZpFIzBiw97I1W+1auQAgVOFwJ\n",
       "NwdGKScpzXtC8Rwzm2ykwAvmFCGIid2A3E4s8XGCS/ljqJ/tHrKNwUXUqh34TyX/gBMUi9aMA/gi\n",
       "6z7jlvzhuprb0Xio0TWbo4mwhYOXMHowTWnUHiv7WFGruMm52egCbt+NUOUgzz49udl8+EzrkMzi\n",
       "Ue8SnawjK9CdPRYLT2Cj3rJdI5guuvdNbo6A1xlanR5EB+T1RG9zmn8JGJdt7FRNmcdhLrexSgdz\n",
       "cq68LLnVPMrIdcgGwik9A/FuvYL+kRgEYGTlP3WIN07hIU1pYZFRwAMYEvPpnKE74/HInB/BlCBe\n",
       "LvCixTZvQDe5I/msAOWdnSZDRbpQBsUkvHdpOJUSv7RzGgGcnFzaNdg6W9pD69+xny6Fj9PzT3+k\n",
       "1QG8WLsSzSPQ8TTo4p1jNn+vO34BohLLBy0eBF64gp/T4Mry9W/RApscKKe41id8Kjvn4w4C/i1S\n",
       "GPaK/Kv0coaeZopHpDQn4Dzz4rJtZNdUOEwM2C1kfGBiAbmkft97ut8nWW0kqkMNDjpqj2AlFppG\n",
       "M9UqgJ8ZQHwLGnjqaZQrYu6kZ7Llneh76wJSjf7P6poL+EspfWT36Xp3l/B7xCtuzqbUtFUNaOui\n",
       "IO9KXA9dbU/iPpv/NMrhmbCA/igvmxjeQPPJ7Ftk3HUX4VTXZio4u4Sp4KG81m1yTqyBEymfTRBs\n",
       "AcTb1zqZVv9XyXK+U7SqJjNr/qr4MvaZA5s3WiDzFGXKZgNIspUJHzCEcZ+4Sld/GjU9chEkcT3f\n",
       "nLLDx7G6cCAOU8XDZcY5xRHKWASbk3S1kVlwpQhz/yDmVWHYZdeH712iqg17+KEUuzk+VQW3y5uJ\n",
       "drUtYQ/OJcEXjSZ4moM6aixyfyytX2SEZm+1x5RcBWLsiGE1BT1CnBKkq7aJC3tp8ZCvOGwOF6MO\n",
       "pInlPfOZYhesL7pTBsKWrTwwmZCQC2uuXSc+DiGHlS3rShFF8+D2xKkcAlohgDp9Nyj92vV+wE+W\n",
       "/AwGz7KTWyWtG//X+pJ64NN6Awf4K+396+WeBWHgrBA0UutQzzzr0MXxdlM0IJ/9G22q22r90Zvs\n",
       "mka8bk6lIJRTYTfPESlSwUuYJQV5K5snOl2b1pcm/f2+AFky7stX4bOcxh1KCrSlELihq/ED8EK/\n",
       "JR9D9JUh74xJ+Q12F58KTYu4Iwhbwr1ETG7KFP71RekBOALS1efEtu0e42tcSJL08+n6wa+zuRcK\n",
       "kQ8b2mkn7LEBKpSIhOlXfaz0x2ASicj0rTqYxQi8K7eUKmqQaWlgA+HE00QT4/Ok45hqumYyql1l\n",
       "AYErerxlctiZ5Pwkka0OycbYvvbw/CRd34iMFEMFaQnxRbVD/srQ8O5IThr6/VcB9rFRfMpU9DPr\n",
       "c5vavpS4Y6JSIjOwLbX40VggSYr1aBaAcvtCOjOLzQieI3NfOVYzwYlVzrN8LtZv9YktPzSBDVex\n",
       "9xX55BcBxNgAfepAzIOT8ASNKk5RCyAxBq0TGlGiV0x3ebGZM4QkNBUiiTzDfGZMxPj/NlzMDudW\n",
       "WAuEOQ4zotkqnsrum3z43PULk103EW7x3QD2zbfsAdpd6jfDVfS/5OdL23/kbMSsaezCTAXbz3Nx\n",
       "2Ji1xE1KqLTnGUiU2Ix9qMQDBOcJbIQYVfZH+M4y2MMJvGI2+eA/LQO732HpEzFYfR5WWmtIhHdb\n",
       "Z4/0hqPNV6UVJEFQjCcRxH//28bCZEnajeb2kvMt/AaeaM9tMo9tHFdXz6gdBiJvlaEQdQHW0JuC\n",
       "fyaxPHpwLhYVSh1IR32WAxDU7c3b6teRyBJ7ojoS3kuenc0mK4UQr5ZE4NYPavhIgr4oPiBzHIDG\n",
       "OFEnLcRcZHlEBSj8wh6NyjHZxOIgKa1oYt9/8IWJYrrdacbmALl1NAsS9I2TTQIIhOjFvG/qIhHY\n",
       "Ye0VGtQQIQAQFCwzevLJycJkJuqVcnjS8/euVWOBym7P4I7RrwneOGUxS5//GLoKmeOeLFlCevrN\n",
       "LtZE+WSnfyE8RZ1dZh1xv/MDdt82L8GW/VY+T+85+XRANnB+wmvNb1DDhHWryTsaO5x/ohoeP90d\n",
       "grjqGZcvZzZRKny2dqV7hRc0UhOQJjLFRjcSA3IbNIj9GnbEl/HzZqWECtaznHNqfSwFZPP/44j2\n",
       "x5fFZXh7biTej3YENX17PVsTl8aJPBKltIO123xDFjNfDCDtqPHsqBKXy7oD7hOsSs5QF73rLrTQ\n",
       "mSlVPikfg3zk9tV+SySP6DEYyHxWMYTProwECmB+W2YwUMTyin62+7BoGMHJS3zulWv1LyscAdT2\n",
       "B/Pv6+nq67kJRPUD1j7hCDoYqA+YjvmUhiz207LJUUsJD/Y+Js249mAVXCxeR7QkdjCi9YDt0y0s\n",
       "sGkpBxClc+SPTb1wh1JC5Hrgjt+uBLKL3/icoKvjugv6T9mp5qAcX7Geeh8T7hjgBX0bO3qWd0Km\n",
       "XNZKjs26vWwF6kSTDcQdMmrfA1kDIsjJZvRPwXeicNDrU3DBH+573n6DwGFcpCNJI7ygJF/nE+yD\n",
       "hjNT2G2QwN9qYWmBIISt9gpjsu2oyXsxLAvPn8i3m+Ovqy+uBr5zaVBADxijUCuSbaJ2I1VNnoNk\n",
       "lSwJZZbThmFNzRqk6kJDO3qLBN2eUbKnvzESBUEBbZ2ZwMvhY+NWF/4fG/gO2srOGEKzbI9SerL4\n",
       "bpde0QEh3X7f1nw5zaTmO0sU9NJulcocMrNm84qlr/bxKkjW1jO42ltfsbpxGuwup9NTXxOc/UUG\n",
       "mBZ2PGQLrV6EbXYHvEKCNqCZpEy7nUqU0s1aEGPHPt1/YnXLhaUOZ7ySVuL4Xq6d0MqIaw5OXqvq\n",
       "x80VyUzOkJeRIphxz+tlHMAJsAZkjzOnjQuQbp7zL14If+4SqFKk7nDLhHrQnPZe+2XIlFGwa+iE\n",
       "YR+/ciAAwX3Ja3e7lrSVI+mXXG09yLDxp5MU+PeOD7uY2l9hSX8vZKMpX70oah50uAuPksjDvoBG\n",
       "eALWJ5fOp9nZZMKd1fGNGcnZcx+OmWcnPqigb0S8G9VfGIIBYXPh5OPkiaN+MR0lCazXqnGQ752S\n",
       "Cufiyh11V0RWt0DQ+6JsyfKHMnp7QAxkcL8xgfaRJzj4OFwl5kwIu64iO85Pe0bzq0WzpIptJ1ig\n",
       "IBtjPrOSEpCe/Prc3bJs6xKX6GWPMmKtC6wzuau7QRbRFZx7Hm/ESPtrQbwe2pTUtdF7kja2udBK\n",
       "7zlB0HmKlfxhcTylAfPhhYpmxLAE2ntDKiF0ffEjag1CowfuumjkNoQ2qKhIyzTop7/uu230y2Ry\n",
       "x10s1T1TnI6m8NJRV8l10/qQXXsNbmU8Jmp8PIQyhF5S8jcwm6R0O4Ao+2/54SGP1/Ov4BA9qZy/\n",
       "NCuyPwiBqyXvww4tR0RQDZyC/gnzKCy07JoCDdGvkCNmXqGi1R+neUiqEIOuPSbjjnbjhr13YaqN\n",
       "fPO53Exgr/pOvpd4KKGazIXtrRXPlcx8Zw4haFSNvRGEGNF//ODrgptpJGolid7Gz9O1swk3odTR\n",
       "9dAfYefkm7vbDGwljdDGxtauJ56BaChf25HJ+fpL+c8H9MvQ6bGP7/Rpe8wYIeIB1dGkNxjZ+Rlc\n",
       "3OPrS/sygVhDmXBEgHAUM9lpRmOT537HO+pVYlGgkzsz7u7HHJtzKviP/hxueWAqyCu5+FJ/RYa/\n",
       "NYuP7tuzjY70lQGuKFB+KaSXjkks6EuTCkwyg8vKB2is8pqW4RC+Aw4GD4UfDoIiFFw/JXswoxNn\n",
       "IQiTd/CVmcfla/RGOqf/CqiXubSv7St0CumHw9pmHGjZKoDes78/utDYfisRTPEePC2hZYjqoayw\n",
       "YUr4nyveQVGHoaZuSu4UOtr9GSDOcfxwohO1mkYtnRWydEt77mO/gFIj67hXdBdekYB9ctIHKAgi\n",
       "6MHl8mCA2myeedqhMMokV2jzGgyUAX7IjA/QVVBQg8NTgDANTieildJvodHG8eRaQeHssMgwr1H3\n",
       "HOyZGF4heO875/UJG16NzK5LBv+ZJFBkduc065mpXQ9stERGQAASG4jTaMpZLFLExOsjD/cER/oU\n",
       "t1dFEoUqxqb2f1wqXmn8S2C7BxpvM1P+vPaiRJx9oWgF3n2pobwmj8RLYr5dFS0kPchpWZT0zdQY\n",
       "ctYTnTumTZT+UJTFVLPs/0/7DRJZMEnj7BxXBxqGeb1rRTWiCyJBVsbhsfy2ph2tz6BgAmchOxgO\n",
       "r+lOrW01Cq62i44wKUlDDRjkz/mT2WkJsJS8t9p9XbqPPAICSLJXsFb6WCg6glqzzgDK5s/MoWe+\n",
       "bA12+KcjgZOfl4CYujgXs/0xHK+SmJ6igT9tu5g5swYznpA63ALYq9TQ96LQIPnPpxFm42+oYcuy\n",
       "qdsYIZQshJskfte/INWPhvzbe5Q9DENkkbFBMZ2U8dHcWXoLielkuFDcTFrs8GWvuz7aQ8qGSbzt\n",
       "zlRua3cUZgJftiotNMdkhCx0uOfZ0Z4Ojv6eDpM8DhLCSi9uJrhxbLKRpgv3C7QuMoafHvPJEw8+\n",
       "NJDQQ3XfwisN/e4ryaG2an0sROOS4eXygt67khVah75Jh7H/lTSrPwOtHYLyQ/Mp/L8WaMgqqJ5n\n",
       "uwM+2aAacDwOLKvt9Er/S4v+vEz4nnCZ6sytBu9t1+xSA5sBBmuO09utRLM3lEXuX2X6En5eBv8H\n",
       "uK9+Aa/sI0t84793AbS7ABuwa9oawwJaQx9i5vtbm9lrALQD3axPhZWQNVbBHEoc0xcF+1NFmq7i\n",
       "aYUqICwOeP0e8kqBTc6CSuYpStAL3e4Tux1iw+eTpPl8P2Gfe9EWhcBgQK7YPrsMIe/g6wd7BoiT\n",
       "N0z6UTVLPqO66BetbXeT0Q77eHSZjfp5vFp8zZMviRfewcXL2tHxSHTpS5Sepe2Ws9ULAICGp5Cu\n",
       "JzMDjBdnxW6VHk9RiYv/ZbLNCVhWa6qOO4fP9w1g77pa8aJ2401jg57tpktb9naIG2wovQFwAUTd\n",
       "JZxqSMIfbU899ZsQBCGsFNwsa5TXzn2dyQjHksgfNiQg4nVF7Yx4kSPPsuCfRFRFSg8nb9F+OZyA\n",
       "SRRveoZij6tIwZXAzw2soFwvurxSuODTbXm/ce5k8trQzeO+fgxB9IovYjTHXFFFyzwNePdkpeBh\n",
       "GsldHHAf1iGh5X6JAkaZCyA7PQk5PyeeAHhKdSmM2sHtpeSn9vjaiBi9c4nXDwKPOjvlkg+3b36P\n",
       "Y5uC03SzcI0DvCHbFkBktWUUcZ5KayAR4bC9JmgXy18YPvMeJGt59a3KsAivEz7bqpRnpJUbS6UI\n",
       "Z3UiqyIjev0QN5eYfoVxYIDqtXGcBRVAf0RvH2JbzWgWUm+9jXrP8IWs9syd4HyO1a20G/85BTR9\n",
       "tcUE3EXWoxZ4Bjc8axrNiLczE8O2q8emMfwnSiU62OeqVK08vjyjlv/UiciNkDiebURyHGGjJ3Al\n",
       "Lbou2kbts1TA8v+E4rO6G2TR4SVLTWvie8mDaibFI8gbZ4YHGmJFX0lgN5pfWbBNzZGrTzJjypT9\n",
       "I7j8d9rNYj/E5q0tMaEqz+liiQKPZIMsAjkt2mE8j1c5rUz8gvo/DQqq5XLy6tGsqYFud2VEmbBV\n",
       "VoNInAQnhd26WInEi2O5MbI35tDabZxxu0eA6GlodUk2upx6VIJVB0D7cZOU1Z7gvjBF53L4/Dtj\n",
       "Xocn4sXLoQFIfxD9oprMneUeLZOf2uIULE/IRx8kw5b3DObL+mfEo7he31Slt+qwyIVy4cLMRTPi\n",
       "07EnDYdnX1O5vRiX0jf6bz0FI98Y5Z6MM8x+fvC/NgCc31s2bpGph2mrtNK0qdBhhmWTU/AKnwdW\n",
       "Q3dZMU7HYvrALpIRhktUzD/qd11F+3jhfG/xTDh04gd2Tfp2ELxfvt5jhNs+l+rtDMsVwfcJCXR/\n",
       "UQIW6csEImQPU7bcLFtbKJD1Nlgkxyjrfzp6/Q7nNAKGMvuvz2flA6/nlII8m7UZxnLRKa5Zws12\n",
       "8wE7ib/oOs+qICmjL+zLVQpnh3z+RANvNM1PaUqabf4pl8eVHaA57kc0uROP10IYurTBb3ruMFSb\n",
       "514A7BLSXTeums2srs/Fu2HkjYMlKHmMi2E/tGBqw30Uae/QS5oNyENtfS+F9Fyxu237cOd4k/pv\n",
       "AiPXeohePXUbNeMflStBdrlaaftNL7pzEYTsxXlIuJGDuYdVnOfXgqLvbfVF9/P8EDCrzfyK1Kp3\n",
       "eIJVyjA3VadFWMvSTm8eU7al1TwxCqwaW5I4+ttCu7ysYyFeo22DyUo4TuHwRHpsHAKGfV6X84LF\n",
       "5ufScra2jzDwHHNUMZ/lsxG8x31abuvHomfkPpSrnAkeeP6oFE5tLEwipp/MWibeZ7DoBJOeSlbO\n",
       "IbIjeGhKcPmX8CQqxl1Ec5KkwnHpV+xOSfyOptJ1bElL/J4I5dojwiRIcu24E/OoA29HuVqEM5jN\n",
       "2n+C7u7LXuUrR4Dovad0xl9uZbpk8V0A9klwjP35sNdPfM+hI44Zf6BTIbKu4sfdG5kDsFNXis4U\n",
       "5ltb/T5XtBx9it7rpfUHLHOqp1L6uJiRbNA9Uq3oyk9CtdlIIcxtw5pQ154n77wVAzeMfbIITb8Q\n",
       "mCQdzIsFE4vsbb4g/bhBZVWrTu+XF5l7eb1ila6MksgeL/IePWc0Okbh9E8l3wyuBeDpQKst07fj\n",
       "V22ud3f7uMnGVJoXiynWH+z2eAK6i9KvKt4awdpNMciVOhs3u+N0k+s8z7xsPuCO+SKTLoqqtz0O\n",
       "0qxIN4gcbMtma9EO59VY6zJkRbdc6ixmkqWDQf936VVpCBrVvOxtw93lav24MpAMQ8u4OycLj+la\n",
       "5JbXhSGx/MB5Cy/mdK+bpC7yP8ZXZK9BO35x4M+Pv9bgUhgRG9CAk43Di5V3w9FcMlvGa1d37gGU\n",
       "UMXIVnzEWpuavTdX6INa2fZLjaKnVVOLt7xWI2WA6Cu/y39r6MM+CJ0gyO6Y14YXfOGgmVwSm/dt\n",
       "6PIs8m8z+7GHNnrrAR09/0poVNrW2epz08jHAecXc7rzK9FUYMeLBC6exVCpa0TQwejQ4XNoX2ot\n",
       "JgnB9Z9cHv6GeB0ydnvzyBKxZt44nYfM95IyV8sg9eJA/hG/P+C4Gv27bTzSk/A1txkiv2JmJUau\n",
       "aMrhV+vBcDmSEXzec+zVyT9Qo6JsdE9eC+va0g8BqhvXET8Qsc1QmwsEeKsw1b6FeD/ben7+PieS\n",
       "RIMUV9TY1HKbVXKTWHHzcB8Lp+03tjA11kV05un/82K9SlanwhbTbN6/Y/gIOOrptS9wPRpXXe3y\n",
       "rYueCZz6mVMm02D1j15xZgfHzNpNcCmQ78DCLZIcHF0yzv6Pjz0WX5AzzA57/wsqvqqyxAgvv7X+\n",
       "n0Frfanr/mEhMYASeaDTzM1S3Etn9z7ssDLiTmqzMqo099dFbqbIYVTenywrVHllOfQvOglSCtLj\n",
       "CeevUAII11J1XfHf2WUKVVWxw5YsAk7MhncsRE1NSIPxvttLsJnTvkMXrbFDMoZ4sqUtg5DRwNOF\n",
       "ZZnItK/HdTagNyr3vX5jaGZSBFkDVLqVh1JiV7nHcixFeI6/F4N58wOpP96UXQ93TBkBnFdGPG4a\n",
       "pwJPQB72HEfJ+iVMLrJ8jWvbsEnQNsRX3wr8dbgfqSDTHy99V3v2m/BLyUz2lJr9sZtshRSqHF7E\n",
       "+3tbQHBpc3nwdfT6aAkuheImKLyTeoFlPbPoKmV/ZmSlFfb7/DuZS7EM7B+nD1i+C7D9UkPqaB1Q\n",
       "peoD5H1wKXu+a2+n1Wox/BypommhTuQH/4I4PD/+A0l4gM5x1HRhKXW1g5ACkSnLWqYtelTO/ZK5\n",
       "nPkJ6cSmDfcBL/VLBGNFpoNy1Ego/IqXnng0zAMqdCURlXtW4Xu8ohlYkHeuBTtvVZmH9Lw8u+aF\n",
       "XlXkF4p5BA68ga5y6wqEen6H38iZY7Uh7jZG/fDfWTnTXO6k7BbrJ55BKcHSvW5Q7HzRg9ibbayc\n",
       "G13bgXPRy9NwW8BzoWGSscb9pTDhORtAo7y1smuwLz29O+BnXi7SyOK1dJQy2zcAtLbHtNobkVIu\n",
       "OYRbyq1xphwtXVOz7jCcwRMQskITZJbhsPERzkLmo2cPSuAffEielqYJW9Diwtuc+h2odRQwwqlO\n",
       "/iScjuYnjphGsVHBoJQhIFnI9jJBInT6ExTipDfY4DlzaWFa+U/c7TNcEKdwgIKDa+AtjBM2GQQb\n",
       "iNQd+GnlTMn5s6Qv8dif2pdYovvvSvtU8OKuay3RPbMdm2YgDHMcHgUbBwEDg4Z/gxZl17O258ny\n",
       "hkWy0rad1DweJVToLTnpyP7l7PZ7KWpPlIlJf8UWo+9eQwen1QBkXvMSUfuKqZfBEnP6b0TuYfSO\n",
       "qtbmNE/QJDCMEJ2OYM+iwaAD1Iete1eSbL/6Q1WuLA4AMKItDDxX3iEFUAqpRmjC/Ke6/7uOp43l\n",
       "9pt6OsZJflfRJIBc+gpjJx96GH4G92QMnnmktBcyAeDwUzdbeIzTOjJErvGqPdZ53xbJcnb6BoHv\n",
       "S0ZE1WrW2PL8h0BLSncP3QKaZuf7cPO6wj2i1kkfKm/M95nSjUyJHLi8ycw704QcZusgTiNEI/tF\n",
       "AxG+GePUzaeGPCgfNpF6XrbxPopIp9N77uf+wLOSvIOE4Qd39Pq8mOBvg/C5n5PxTylQvGQoE3jb\n",
       "TL+2ZeUluM3niuTS82g4xdxoksv+lsOT4gmaI48lHdvOUTTRV2OgzN1V4C5dCaJmNBjgbd67Tnxi\n",
       "TaOu0zrchwhbVOWMVebi9kuTTAZUQQ9a3c95IR+2hRtJNjX5HMYxXKGHIEj9Op3UlaA2+UlHPFqI\n",
       "uXUWqYh7s64uR55VMAL8VhAdvz/+8lDbQ5f+hnMSNNZB2rMbUsTiwZKGtwMyMD40PlgQX43qHGzr\n",
       "0TVKbqv8/3ovVt9o3AQ6kYLuEI+PQXWyUBlxuoSKk1wCp19PKCh+2tQFMh21W6bEwJ3cZXf17jhD\n",
       "s5vaAhVh2jdEB8BOiKJ3EGDL3/WmyhUd+Xj5Zsbh84eKWfijGrUomntp4MDI5z0bwBUuWCMj4dM6\n",
       "tCoR1Yz3qkmlxCP6bjmTJ4gSfKZ+EYHjRtK4LK9V5VhXOtvOF4Eb9rLJvsxLqOqj6ddDlv0zHpq4\n",
       "de3H0cs8/I71JFLspSSsIUn/AZDxwryjimS85clKdwmB0xglFgcua9o/ReXVHysXm7JDXedNybRM\n",
       "JMffGFX5lFqmgdqrEvNOuJHlfFX28wsnibAn3h77gDAJaqqLpCAlxtOJPcWgCHpUug66Qegybwcm\n",
       "ZarMbLV7KP1Qrd73sxg/g9WBcAz4g93PbNjqxlUb6+joEgL+kdxNfYUNd31AxoOgZ22ASZmN2ZWC\n",
       "07uk5A/slOz9k/+wojJkjmG8GS7F1gvM0MV3UcjwzzcVkDylQY5v9hkgmmp059K/U6QKCsNbGqUK\n",
       "ZUpGdxOnpN15RXGSABlw+GA0WXGP9nqp0ZLJFCSnTI9YCY8HAR1PDZh6m++i4n9aezAdu50gBFKh\n",
       "bacy3lN22S+6UyJ3M5SAVNEx+yIg4DRtmSNiej2vuc481ZNyiuaq6GG1COh5FFyo4DNBK5IuHQpM\n",
       "xbMAMmJnISvCbqkPh5Bl0RCz4Q9DQE9iXxdAKzBG1q1XPwWDp6Podp0tzQ9iE+DZEp8RC/6Vterv\n",
       "n8jvpXdvFrRlwf4M8diSQ9FEoY7L3lrSrAcaXn/jFRk5vfCnmBdoDhXazubiu4IzgR8yvjrbNt5y\n",
       "i44QLltI1zubOyEcncK175GKmuo6LQSO/QrbNAI4NBh2TSoU0Z9F9BeDq9Zf2khapqcKS3cfJhe+\n",
       "V+erg9xoMs/Q4r8vs2SM003IxN8lRyf7q1I3fROaTZEBX6l8k4wX3ZyC4VnJKKVjdRYpT//W/FOt\n",
       "Qg8uIyq87sl4Wd/qEErwyk7Cgc8we8muGduzUsBgY4QT6/jiu3dhhB4m+KJWTGofaXpUH0R97fa3\n",
       "ZzArjdEzH+hTqcpEPrcO87BnpD3AhdBATpgxqSNEO7Chf8ztZxSWTUirx4/S+M6ch367+JaQNsJ0\n",
       "Ub3k6h67rqoL3t6CjyNjaz2wDqoEHamVao4N4N0VkLBu8O8PgrjKOUbQXV7mItZTJ8XEelekiGn8\n",
       "6M6MVbARzARL4BEk2iiXLyCWaPHTmqIJYXleHDRsonb7z1OCJ+tQQEDUZwDIGF3+zwf/rU4/pIVQ\n",
       "J5oISilxrCFDX1DB8RCHbdToVSWWSwhOq8XIz7t49taBW/QIdhLD0JXLgha56JUSkD4blGmwPXnf\n",
       "AHp4Wou/qBF5e+BaXyRCEG6gPN/fmHRMuR6Hm/jn1QUoexSTVYhCU5wmTXR1Wxw+5k5pu9LxOqU9\n",
       "KY57h7SSXayYdSTPcuOKe2BCK4+QUjdsWAuAIucIpfX2yfKKpknW0fEyvKuLA6+/Eg2Clbg6A0E7\n",
       "z9k24E4M/cRA//nPFHqeBZKRbTSjdr+vjv/l3VwoQTXimIBjgNMzf/JH9kUrpfHAxXlexPhOASPr\n",
       "k/+ck99YnQxyRz/Ch3XzbxFmQy/NkwzUCtvK+XGW96EnDjY2M2DJromFFNE+W1nwI3gQ9ecsrs9K\n",
       "0vVC4IMMBsgUJhmrZ5V9HyOSKa52qtAkcXcLy4MNwHHGM3Z+DmzGQbo+3DKXGvZ/+2FaOJvlqMjT\n",
       "IUqvwovrSK0wfR/GZ2/hpsYN6KB5l+NU6iZoDSVilsBZZXJ+uY89vldZNHvsb0oovvj3rKIVvNtk\n",
       "B2U2JmblOaVam/QhxzbYQi3vDzhJG9hDxWy5aNPHXe3neDpaW48/fTIQf/9FnWEkDI92rwcd42No\n",
       "ANytTIoY+28qe6OdifwjS3O/wuIq5/K6EqELWFgFzs7M5kz7uD0eg4P0f58I/QPXxXwa/7X6k4/7\n",
       "L6y9JW1o7cfpOTY2nBqlBEJSxrf9JE9DxElLhT1+nefenc9J2UVqSAB0ebpCqhlxj8L2QMQG3pPP\n",
       "1905G1XQiJKKFXoxNU6zxumCTeGBNkctaBGN4M+m7bCdl5bMV/h/pHbsjQGapFdV3VQp11XkqRAd\n",
       "DG6YO0y+MbWLIqRYun655ojMLJth5c2tl3Ng9FoLUR7zZDhii5pACkKAr17WzTfcrPtg2VmPg1HN\n",
       "5SH7boBP43suF3TtERGfWvEUIg/uTaDY7KqNa4nJj6qjYiMF215yg02hbm+xw2BvP9kc4UbtiVLn\n",
       "BN4lw5YHofW3TsJiaC/yjF+ytKeWOqS5xEPwWu4Xc0Ttu1b5m85ZAjEu9akcb+4AdGwyKWEpS3pM\n",
       "K2rEiKmPvyOxoIyridtuQC60tr47jCnQ1cKTfN5ogAJmrf5jfwQl0hcIQ2LRdRbOaJM0SaCzs0m9\n",
       "1T1Hh7qod7rJA4Hf9pSJvLhv9NM0LTLJDK6Dy13MMxQSFQqkgSGBJq+htK4FFuhcPCI1WgzHRCf9\n",
       "SZ3iBey6kDM1pVR2JQC2qPhMBqEvpTxenGrxQ/+9T6beMBEAmeOXDAdOiw1RyaeGDKfB6hxM9gM8\n",
       "Pall2Hm1ZtKV84dgGj+X3dweCo6gOYQjX/3hiaqQ09KZbAZD4Q5Z0ChYjfdMKzcRkVNvNr68/0za\n",
       "WGL0daftKR5xJnl3eJeLomFCt5539gnwrvEOUw06ULogvNvjqq/DG7wfj80w59CkpaKIfTXH4c1L\n",
       "tV5pLMLZuZslS/Aw9FuM35nptawOmNN64pLmN/Ev1Sw6IgzD+Mg5syoxNW01aYtFTvpgAnmoM2N5\n",
       "qMvpcBQpt/OCaCsJncyn7r35L8cTsDE1wsjiJFYyblp0Bq2ehLLOtYtEC/+kIpJs96wU6IQLyMWy\n",
       "tuGt/pH7/EqdwoGOUe4ptpvxBByhf0WRZwk7tCnMcOhtPv/hCRhLjjwUFzKUjAIkMOjz+Iy46sFW\n",
       "k4LKYB+POBrkk+JXfaj7INsE6vIjCDo3PXVFeRSmr1oGUPhDx4xIFy7Rr9PsIKDGvYGwSPW2V27j\n",
       "74FwNVr6K4i6xR2gacgXV/2WhysrMYYfzXzp9oDE1k+FuXJ4xd7BEQ2UF1no1znCkfIoK2YHaUTk\n",
       "ZU381YyFV4F5N7ICniWCqcVy8h720xD7YRT5eeAZJwsUxpkYMSMhsxqm7lhqQHVcBZawlzaE2TAS\n",
       "8xokL9jEw2mjQWR8rgINH5arf5bYVeuLrbYBtWOK7+o7OCcDkXPfUalrYY4K9omIVIOcDu+2GAAA\n",
       "AwAAAwFRAAAqqUGaJGxBb/7WpVAAIg51KAF/v0iob9cLp7i1BQ0bG6FPpl/DPjsOUE6XmrNONcs9\n",
       "31q1Wpn+brwd3LOd3dg/83a082w/yYP+//NQTeP/hrqmWcz6TomdZctrjYlhqWyVrU6itacq92vj\n",
       "5hyBYcylMX8lZVphD9QvV7rtV8nIGB/DxLiYNYUa4wNGVU5WlRngjmdxSnzan8Pnf0FYH25YghY7\n",
       "kpDm8ol/Y8kzk454VKqeYx1eMebT8KYKU9LbBmSNJH4zhCtZeWzSLEvpK1Vremtw5lk7SccBFGZJ\n",
       "4AKF9toAYRORAd1Og0gFPXD25wpEQ0y6rOSEF22I9vJMib4QMSHEUdI3zUlwr8hV08pfpMpqFFxr\n",
       "hytFpsO3AGrf+mGvf/KuNoEVN2oijFzZwI3MjNOM8QIqSrqQh54B0EjaTh0JluFmbxjiTdUAaP//\n",
       "MnVagpnf+YlRt1tKx8oZjQL1CQWEVDeIPJX+LJEIDFbvirg0fjqKSKMehmVgfxGObxBdYVW2RsOC\n",
       "JXSi/NHhIPaBOFNvYxoldcFxH4f006KrrY2ZCpI/u0naevjWo54y5pHQFO+gl8dwU2JA57g+fykX\n",
       "Utj6l0EugA58H8hxLqyFyil5gvKtZ7l8p+d0G4d3cEUjzaUHruoNZlU+83PICV37DYIQEbdGMwU/\n",
       "pow1u463WGBg8qhmwiVPDxZUS6t8AgeSlrXePZO1LmrC/LYi/tYSezhdbCWxEgyuao92SUF8b4P+\n",
       "INf7dBK40x/2Nk9nt9h2cS9lYA6nrKeBy3tWHekm/PGRX7VJSahaEev1li1mi5FwXG9HAyr0QDn9\n",
       "av8+PApbvZ8moeily4X6WEntA2fDqhyzCScPvYOaYZHw4UC20tv+HgejIcvzGtpab8j1RL+2EggP\n",
       "/lTB/00cHFP3VK6h5pwXY+2AGCRHGgODtVsmy+HP1jf/ZbBJPZfq84WBov411+MFZKpz7ZUBptBl\n",
       "VOvnmfn+p10fKnvs3+ah1mUefo4nxzhAipAF5mecK4OSyyT6hgx608s1kSW3QOCTBSr1gxok+eTj\n",
       "9SadK60Tr+rR4gUARwuYPNiJOjxYwnsCykdL7EfhsDbhYBra1XJzdXlOEMSlDM2DP1EixGs/zsOO\n",
       "8FTZf9VR+OLwVSZUa3tXzPTbHMYpTF5uF9qqoTm0ioGO6dIo2atvT8tiEx7CV9Jnm7jJcyHqGfKs\n",
       "q5MlXQlBJHQraAxHnjLuAiFfaPVh9og45hVei+whHX2Fp3x1+kwQuHuIIFyE2YZOXisnrGmxzgk4\n",
       "dzDiy2CN0R+Wdz4eMT/xCur67d4efjxdErKx3M9XddA3s4pv+pBGGdMVTyXTkA8nX44OPaEZcI2d\n",
       "p0fZzXGuNdsQGzbFhKaLSF7XIiV1GQFNVgINC5zMusOCFt5ti3tZ1sXHwVbUKTGikLB6seM1pGYY\n",
       "sgYLpM2j058TkJqMi+wgAXa59zBIS83MAEWZJ8EbbQS3sX4XL5w7StamTSvau5/QvFHZSA/roVjA\n",
       "t7t0RvlszpKCq/8pnpsyS+4zSwB5b3TLGq8p4HTBkY4yThZ2N1jKVc0srKhGS2+kvLJaySUa6vqP\n",
       "pLk7VtsQ8QJ06LIXhEh5Ovu1EkAoX51SxENzf0wyzaAvr0SU9TN5HljPB3hKfLbKaakEiAOJNkBK\n",
       "AClAEUMDlTcZ8B5B+8ru1jiyMGV4S6bP8x10v/joqnN1owAkVBAXBwmVJSUG+cDL2Fl2bABfwANU\n",
       "Ka8+cibUDCRv/MEUixb8YhxomRBwtbY/W/07PM+teJ0ebQQeRrKdhI208AOrWLAZxqyxUN1QZiRI\n",
       "JW/7Of+QKCuPxP1yEo5N8d0d1kqtHg89gqW2jhBh8DKy01SweAs/TqDZaQUIKiYdOyzBCAwMC6x0\n",
       "Bkd569eLf319+3Jhs9eakuYkLUcxULGkU9SjGXte/SwS4G/Q5yUFFxqNJ5bAbnX3bAiFfeK2TjRi\n",
       "zaI3BzJ8m6ZIt9BsMHasyXO0F8znNJ0jDxp5gYQw+m6gxo5H3xR0OWsFK58NdY5DUi3oSnm4G+HB\n",
       "jsRzMPSeL+Zp+PWipOP77BVon5b0oaZ/dX0NoHPVH6qZlai85PgCk8nkFPFYHoz8vNNuhwgtfXTU\n",
       "N+Zp5SFo0hA7gTnKZw7awrUUEtDTrNK+AYzEhBH0mP88LY4TkmvzHdYZWyzJC/4YvtLtMfvH72IL\n",
       "sOduPIGqGC46JR1fmYPx5jcQu0kAmlIMzmg+C1Tsu0w2nCxyIjU9d23JKTQNe0N/ENn4ydzzFAA0\n",
       "sAZxZ5YaHFBapRtwCpTBJzqtMuWWaylWBtdE2+XK+ZTd8EuuZkkzl+tgBhdK++LjmisvrcYy9DNt\n",
       "iOv8Y6AJ9bl/rYDCm+f74rP2zXyz2Wy3iuVEBYewShsUvscSyMSkTI1SXYjVRjZ5W1ygGJCDqqpV\n",
       "rKdljOtqrqnWqPZ8gWIbSUjq/TvtGZ5wOJmPUcC8TLvUjHvVwSsxwhpfMaW/r2DHQgqWWTlCEvH/\n",
       "bz7K5HEXfDGymo8gnnK51idF9/PX5MfpPI5ngUCu2N+zOv++B3aHbmVEcG4jTnbf2Kxuu86jW71Z\n",
       "6PoAMyN0RrrVxj0uiGRzYQYnEpUuEhrt8iIOHoOuJsOJxch6iYlpgD9fYJ3dvhW0ZZs71XCNpVvD\n",
       "6evgwFHyrZs+r40ASEip6J4uBIyNlSmyrhUwGztl5uk3PY+B6DBAEnADn3dTgqVuTZzIRzgJXoh6\n",
       "dn6Vp9RPNeEifRuM1IzdyQ0Ls1SxklKL55O81eqqZExK5wxwlgPRhlMb7CdCjslAU5mzwjrIP/mg\n",
       "EWCmC7PvDkULyYA1thA8YUaZb3Q54d4F9VzxENbJxYcHYobTcozyV+7xRaNew+usua6XW5zfz4MY\n",
       "OIyjAqiVyhERC126mqoxC0aiVOvjGKOy3G3iCFH/4JJ2cCzS7piw+7IpcKflghL9pUstrxayt2PO\n",
       "zUkEzjW3/VCs9Tff/tikO6lHENpgCuUpuqyKI/SRxXjz0oh6pW03eAwUkdBNh0QaHbWMKM15ymbw\n",
       "3Qw2CbTPSSqWGrTHtABZEiGsLTDrTfOJYbVp0Mfc4fYSTW+iIriqh6FlXRd5bctmxqu7kSST54BL\n",
       "repjdIh5hLZvZz8QmgBQK7/EUSSJx00yk19BeYQBalKijoYfaBmXRAOL4uF97VgzC8SQCLZdJO8X\n",
       "0m7o/56Q+XQ1K5gM9pcHBtDhunCTTcY5rgp+7RSCPSJzsAsnLi7XhqR2TRhX2rsz9SQySmC5Jk72\n",
       "brEj7Hv9v6hTiWlKqD32mK1zt0NwIyaLGhraTR/ELi6DVbrCy0tvDV1rW9OAV1blp71eCLBBKWWQ\n",
       "IH9aWb0H6nPfXJ/hajVjRLG1kTyN1zZudAPLoJQShfjnz8xgHdm1ip0Ovd6WtcfpzExqSy/blB1t\n",
       "HVdj91OUvMWqYsXoKSiHSTNYWLTBn9BchHiDA6t0r4fD6SHUze7cUPUvNHSY1qRlSyyqjTDOpUPt\n",
       "NexbULxAWSm/cIf53xDb+ewcG+8p468AqVnH0TEm3dX4NC1Zy4kBuiHuc5JGgF0avtZ7ze/9djL4\n",
       "2j5UppLR5Y+a/XLnm/EQJgPz25Qihh+gZeGbBnesWT4RPzUo5Wdl7VruwBGXP3Dx4RSNELKQ4Pju\n",
       "m24fgstV+QcCCBmORQtg86TJbouXVpg/bh8QPjBJgzUkzj841YSUsrRale+W46r+a4bYboeCfctz\n",
       "c1hf7We/NAk7cUH5v7c3APPHS2tGVKYaZermPbJxP3CeUl0QVkVq5xb1Y6OOhU1vSEUGs1Rs8D5n\n",
       "cM2hx2fIgKR4+a/MT3++HgXMEn9e2xPo9afVlXLTuQvDdE6r3NDS4M+NAIX4ap9IRxq0eRboN+7J\n",
       "H8T83WZeNDAj3gTP/y5HOlApyOKjahZBDqxHGPHQzkERplLgFtU7RxckQ69Mb2X0NzraKbdYMd9w\n",
       "Y56NadJFfbgpwhNEgmkBVBRlBPYXZrzIPCO7u/pRCQNesTx65podnmxQW9Yk5rJi9WqPtc8rW0mb\n",
       "DzvFzqWPQXlRPcfagHg2+T5AKWwOiA4AAoVMW42FVg1jzoDKS6pBt7hNZ/M2Oo9SN1bqext3fbkL\n",
       "V2tBlT8p6KBNd1RHirbYJ60KnzygChItgc0t9wiJp1NrUEFc4nRP02lV6uoFmnUucSt+FVw1nwbt\n",
       "M5ELniYcz6EuLs+IOGSHz2aRXODIPS3LzXvhyRAWVKgiG+rfKT3tAU8virvEpGonw9fQ2Dvqb/vf\n",
       "FL74a5Z/Z9t1BXhoJ2zIpycecavyvNSx+4pGMqCuznngPKi1fFlJwITAxChjwQoMcf+u4KIDdU+I\n",
       "IUvag2lSaib+b6TLYNCFQEY7LwPXYazAos/xNNEr/N+5hJMBWzArN8ysyl+OSksjXt70x+Dqehwj\n",
       "pY+Ul5W/+TRU0vIkYppFaNUGR5r9KhAQnkr2xRv+zK3mlFKfUYIe6ynd9SnD/OiD5O+Qm3MFLJz9\n",
       "tNh8NVoSJDaf6JqMHatSZXH8KJuIdTJxLvLGEaa5SKm6B8cGiSS9M8b8jQ5bj+ZJRujH/7ajBdCS\n",
       "Kk7K05U0ulwH/G1XMLgJ1I4sfxDOD7VGE0kPeLJKwN8fU6b5PVzjE8DScGeJG/ORIcDEpZJ2YcE1\n",
       "q9BueyImBfTBVcKhJr7hchBzl4DdipCyeZsctYqWbW1fVBg5vQuM2lF5BiTgcAW+M3Oh2LYSGZ0Q\n",
       "r9ZRj5ZNafS6Hbcy4Ei4dIgYEVa9dmNQOif6xOJU5aIwXwUyFvj9kDJ/F7r/+D075ys+6n+d/I/M\n",
       "f9y7/kZ27mZM3CQDhHyM8LBtyla8idq8sWUiN+zGIXGKGg2UX8X9a6p1YPUMA6HNZ2x9hsZTd0Uu\n",
       "c4IjAb0f4ENSou0nIksU6ZpLSh7Ss3wMHuiJlV0hAas+D1x9qGHoy+HRa6qRZ3Sk9lUKUG1FXq6u\n",
       "Ffh+hm19YB3mLDf/R+yyp35f4R7EAYKWuo1Bq0QQ6LYhDGa7+S2J9O0fn1OyZP/j6y7iBWcN+jPH\n",
       "73LlH/2Ge1edc92KKTjMQDg0Wbtqn4uNIZWUVGy9vTsrHUns3Dv6NGNUGgIH81YG2B6Po4UHFUDF\n",
       "7o065wrSgpU6IH7S/HSi5gbNxEGaqWiBxvX44XP37qKxpEOwiPoECcL5dGdjG9WafdrFefjJm9f+\n",
       "p5D7ijB3Qk8Evt5pcl8SQ+nJuFOEsJSONoSP4+R2hxAF/Gt047WomOysTliqXKzbmRcQfnD7nfmM\n",
       "uJogaqCTJ/nYZUjH2HSkfhPgKh5l2FKv058b/ZpmlPsxxqevQ8wb9aLY0JX59h/osSVB9Xa4MEy/\n",
       "GA449YZJmANaQwxJJRIlSm/sf9HKOGAQjoPO8ZkkjLxHdMhkR2zFcl1oWJkaT/9AJsjHADNkyMFv\n",
       "u3jHnwPEgup9AuHiQgkY1LGr6zQH91U7FxxZRwF+quO3RwxVPg/4zE5umeNBxf2c4MzmD6R+rgeU\n",
       "mg9jUG/GYQg7M1AllcKj9ZdQNcifUxg58vaW66OoPrdsnAc3xSvUImNYm4pUbb1nkcI4Nox2JyjY\n",
       "NEVVfb2dDKWSO+2CKt2AnBUDgcJeJ2GCBNzJYB+P4fC/JvDb9x0cIuDMFrRGOjYdEF+UM+WTBEzH\n",
       "iIgRVJnYEbSVXob8bWMtnsCWu4v7WX4O4SndXqAV+MGW1i+z2aqB08CILGx2s87Ni6xKeF+/2kKP\n",
       "M+X/gB76KvBK+hDUhj2dpB7E3cBfR+iVCPioZd2WZ9FyG1myH3qOBjqERZGluPW8TlBo9PoZ/+IM\n",
       "9NBzUr435rK2H0W/01L+aJq+j5RF6K4LrSQXIqvzkiyMmj3bGGAZS/GXeNyRwYT/dcD8DaLOWFDm\n",
       "BUTkcCUhb7qxGDOWM+ys5NCBeahc+B415kR1X/M+LFunioPtId1Kw/n+VWi3xyAVud7ORh2BmA3U\n",
       "G1jGUq4kXI8B7JwulRYrolN7gagGxVTgtfSu7Hu9ygp9fiyVEtscKkk45SCCGsLIj5rkQHC1URUR\n",
       "xDFHvIW3UctJ+dpesWrTkqiBI/Je6ljBSCzAbvbgAhMDzY4d/hRDCC7cUsm+JPVeIpJ5ynh9oVai\n",
       "WB3CANSXuWDEqa1hp5kLJLPVwYLhdEp7yFwp1dtHAcWcvUXG39qkXRDXktleeZcFCgN5v/89i2ar\n",
       "lUo9w8CotLVcyAifY3g9r6KUjU+Q3xCVKgJXHoaMgfEhpJuxrQUyZALDm0lDyN8cIb5Cljd1e+0K\n",
       "Nj/N7qQjyynrCfMN94Wq/OMAfUTM+5dpjFQmFMcrkBjYDiOP7B81a+L6s/hOQWkBH+TL/VTRrCyi\n",
       "l9xWufKOy6y6o9e2Wz2r4ebZmtHhd7TTfncbQWp56ZqvYMdks9XAfQT7gEDoEOnlkhEpnLNxDwI0\n",
       "mYGcZTHouKpL5WvP2zhEa2FsxeoXJiFx3orncP8NgGx5B+DgG6Bf7f5KerDk0fRqRjuQQd7oEMUh\n",
       "aRb8QZbeNBP70xxYGf9syQrp9S7pJe0W3HVjOUx9fZIfPc13bqc9lsgrEx/+00hmdT/svk4nLfKk\n",
       "nK51nteR7lLqHwGU9RAqu4U4QR6QMBcJcwI4fRcUVrsudEje5I4iI7UliXJs4VZbL6hztEj6Dtup\n",
       "Un7knIn90Vpbhom++3fJIatiaS83WyyyX3MRHWHT5+264sHIuOJJ2EmgCFVZIya7YyFVBlLGGwVT\n",
       "Cn7rc/zpOchm8D7RQTuSt9HSHVFg79/FAgLgZa6wLh/1x5zPyxaVNBVgvxKYGpOC1+f/rDxz6/XT\n",
       "qU5BE8fzHcuPM33Mno9L+/Mtc4W65KF5VZBAwvC7T73MnIVjv7fbS60ocahKs8Cs30hkBzsqf99m\n",
       "p9g5RsiZwXwj+a3uZ5a1IiV5JwuYhsBHAoideJxTYo2oDqxdXe5KgMFH0xGZ3Lg3v63kiFpDvxpm\n",
       "Y/tYbk/ehTSqeINTdkv/6aGUFXvLSE7elBNmye7c3cDLQHDPa/t6ZOcPEeWJdRE2BH5SXWKptZnx\n",
       "hOp8xXLbHX30kHezMaIm4bb+eaXb219lplUUA7mAuiyp47/5QSqxMEvlbVThtzwMKOCnB3g52Z1F\n",
       "4k33nnWD1IzSQtWRfZs1C/M3G4cAV99r6H9UIqKw5LyPe32DFwOUKRabSGBBUuML3Yp2iJ4vJQxg\n",
       "ioMz9QqnxUIH/w7FBP4qtjb22elbXsCrd5Jg2NbpGVyjSObXZG85Aczet7GYO488qa9kfyok0OGM\n",
       "V49JyoK5ZwVqvDZVSZVgK0aCeDNX9OLAhxvI4YdYa/rzuv4hkgci1o2PTDEqHaQABMgtcnLN/ZM6\n",
       "6y+6PlKpx83QZ65XDmY3LYL5A0hGhkTBqodB/WV6x1FiJJxb2w0shO0+52xJaSPbkzN3/2WDlIah\n",
       "HBIzB9C1RfelHtsEHSHZ42hveR3vW4edknSLU7U+80QgtxBvHb1EErGnVHM3SAe7jrRGESAO1FHS\n",
       "gaOHdVYwOIyTUeRijRyPNtxxOkaKgKnh3XYEZ8rnKZ2V1tJFAckKHJOMagaz/PJq2agzh3+23E/h\n",
       "91bVc1E5G7b/WR7/ham1h5VPwmv3vVNx5MOvGQFVKCfHZ7SKgX9yJcTq8QphMzBQtdp9PjbUAV8S\n",
       "fE2k4F5K6NBcMzplFxWynpwaKtYTFLXwpc28FH1OcRa85KqFrWQR6pPOvqGr+/KhmWUHikczHSum\n",
       "GEmFYXckzcA5NkoD/fKGiBFqq9ohqbVTEsjXN8bFP0xxLxBdh5T/0Q2Oqk50KyFYZ3zBkMdUIjIw\n",
       "ahdKVFzehr0qG42m0KO7RRYUvrn5SBeELV6VVOCETKLc42O3kFHyX7mcuuSFdNxs0wOWho6aSdTC\n",
       "qP+0HIkR0D2i6JSQ/MLWWWnuuixsJIPek6+/jUBbRFA9s0KfptDPWteZuWSC3ve9v0O0+B1oG8/a\n",
       "L77288RO+mn2NF8KtIPGsrgcmRZSVLnFwtuJV2nPlF1qzsnIfkRxXt0v4OOSLD8CRwi5HKknXhd+\n",
       "7K03xTWo3f4RlIQvEG3Ur2NqjH4CDouJvmlYp00kUgxuwim6r57X05439KQSeNGgy6OUbiDpZhnb\n",
       "NS+tTfk3u+T6WjgtEXTy/B+pO+TKswdMroVlLlVZH2aOAFjDWDV3rsySMTkhf+IA/DO+Y/3OCfp5\n",
       "mRM6zTxt60Vn2KxyrJqSlVLyFZeSWkIqv15j4585mOUiDaP+zO1gbYZpgOP+a245wZ0PBqQTgJJU\n",
       "8FNEJs8OPbMG9za314nRl8IUqh7XbamAnPH+9d65dMXIndriXoyiZvnVeGw4dIGdVk4/o4AsyAf7\n",
       "A9YO86NCYSe0PdcxmLFaQwMYOz6j1/ruHY2k5MnV5d9RhsjFw7oBsTOW1lx9OYoFDRx4TYJeWh3w\n",
       "HSlbA/gOUaQa17x15f/tX5Wj/1QSNMMLCEzAEFidnEqaS9u8ofnaypXOaZPd/SwNAWMIcCBvPZfq\n",
       "jJ//wnxzFuZlAMwgK0uM0jVdKEInLIt7ToYkC0mMn8s59UDZVQnlWm4sqqG+boJtnUwAaPxnB1R9\n",
       "G2Jnj38nLbFhVsF9sb+ZXchYjxsQXBM+/BlzMDmIOGNmcHNdL10BKf0qzBPp8TdWOwm/vlfYokgl\n",
       "5Ie40iYht0s8l4Rx1rbEZXXaSKIfUae2HH2uuP6R4Rr+/vzO9N456Vqh65+6j6+WRAWBnAPtIBe5\n",
       "vyxEjI+ABe9YvqIG+dNuDqCmrJnKFPguwEYgkvsokDOEndu8LwUXxed+L8e5h5I/WpqEFiaQuTIa\n",
       "CZuNTiUO5bprJViJeS0I1MfsDAgPZ0Iy6fD6X0e1HDCMnDlxLvHc1VZwMGmWdyqC2sXygK9SjyX0\n",
       "1HKRUFTEC1zZHVSXU0bSAlI5JycSSA3N3b4ObTG6t2AdjVAqjiz+pnsQCAUz+eTQThpgfzFlf3zu\n",
       "fkmBD/i4QHQbRpsj/26WIfAdc6ujxTAKHOBU2d2xL4NDqXCj0r5ygfgTutArMahGfIcXv1Ip54sq\n",
       "dtuOJTRYw5ox+zWpcmy8owQtzKryhfVL86eDUKHUgbmvHfhy/zeBFSgd6IReIpUgsHhxKQ6pc0mm\n",
       "mCkL2ct9OWlaSjXEDYe2b37rPk4lm8kZfMualBUsfuOsu7dtJYQfpDCsUy8sanyaLaEBW/lfqIlS\n",
       "AM2ljndmdxBBQyy3jA5XTkwwL9WMJSFaKw+G26DFq36TCsvsWsstfYPCYooWz//regchJXBxtN5q\n",
       "XAN5XZ/99yTfYsUufmLN0i2wZfwdunNN/undfLUypO6mJt+SjVEoT2/4vmdPgmIGbnp82/WMkwcv\n",
       "zIhKg+YeG5YUmYmYiML72IgNEbQDR+FFXwg83Dm4SOGbKTVBgWCALhi6IfJdQT4Ca7wmH5eenKnb\n",
       "erZRC4gMdTvN7GIeUCh1QaYvRCX9Yyl1Gn/os5sWT8nypiGvJKxQPPON7puKpcfkCtVMWLodhzPP\n",
       "XK5Fx3b8BJ2uClbXHlR08g132EYvaY9seVq9HBPBdZXK4uB22svmM7Fuwrakuec+g7FWUI3m0qOX\n",
       "oYMl5xINd+qT7ED4hS5ASl+Z0mRJR0TDI2TPJBDCNgTbuXHUv8qLzSZjhytEgZgVZRr6AtI0tM5l\n",
       "8r0IrcxiwAJAsaxUCOhn5BuSrICGYEKBGw6Bf9vsJYfQTdWVOss7yp8SoyExMaFuU3YpGc3gHMkD\n",
       "Qi65EGsGiD7OHqWEQX7R9AaYBhgNRTLPORXHH5MCgYcft2UAkUAoH1wb/ANwnlFuHgpQe4/yJ2gM\n",
       "xFqJiyp2OumlZ0tzIrzmeH4QUu6jBYqLuLr5UluHseiy3l7HJHVouZd+eAki1EX7VMnERFryk0Vg\n",
       "TF15/XJPY6wGh6IoPwdFXUWFWROeako/0FHnr2bRLnkR0sXKcSmJzNTIvIyuMUnrzsiE3pzKuoCy\n",
       "FTn2VaMv3PQrThzKxmG8qTH3wovZeBW9vEHSnLdDS2j9vXbHGXnmEsgxdulX3Ri+RqvYYHBjd/MQ\n",
       "+utxleB3joor/LeiHaER642XxkFFL+a2evyAObBLh1g/wOBgFVfujFzCp6Nusj7NQobl1pc/9VHF\n",
       "mWZBMKTt9M96ThNSP58VYzhXrpmakIA74JARshjrzU2W2uYCbIf0vnoESUEE0fq9MvPk7jENQjfv\n",
       "1ow9eb+9f+SOXt8A+23iELS9DFpoGfxpFaDCEeN6cr2qsG+uu9Us1ZkAxr7BiRJbTB/sL9nBtYlA\n",
       "XN7QNA6WKm2Yt54Uy2XmPeH/HpGXS/TsEAnlnw4VgmLCzwG+LFkEMqzlBILGBUdZTpkuGX7ALd5S\n",
       "8QJS0D8CIBU1oxvNMJLJxlydxgbiBWb+nRpEpm+Wj0KC5wHTaGTXnS2YW7xwV62NEV5CKxq1xsF9\n",
       "fsY9oLVA9H5feML/q9w6TsgrjDYV2EVJqOT33aKxb3ujTAR7UYx93EkucibPj5LDDK64bK1rrSsR\n",
       "/Ae66BK77JNT1ajTspB7FB8q0eEMyGE5uG1CeKQoJrBMgtclJK02zFn8GD8oOi93dGkQksrWlnbP\n",
       "UOX/GO7Qrjfu8qLhJRv50HeudotmwnXlQ55B8SsXplkO/As5uRS5LRH7YwPY+YFwGkwv3BM3LgZL\n",
       "emPh44aH0Ux6RZkiEbPHyX8jFVtizPH/s8Yz7fO8hyqiN5sKRZEhc621iksBIxKAAHoG92P6l5FY\n",
       "vQWWOJWl11klmt4/KTvCV2WU0Iu0FwypzzCh3WgtjLdJEILhr6/ud9ElHqK0ILOGE34ljW7wj3p9\n",
       "I5bFeKUPsgtYYMgNHxY52dqI63FC/uaSLU2ES//ppdPNo61VYQyr9llLk3WKCln6XsWMOVf4Gqgq\n",
       "UMCib3/aq1EHedWKJ+QUg7ClWX5Phf0AL94Jn7tA97xsd3nxYiWxc5MQzHbaJzdEcIjF+8ozgj0a\n",
       "1bBxweqmuYYXYB6YyRIuz7Z2bbskt2UbpsQHvTuN6ZjV6Of+oJPdUKxhKBh7rqYKpk5FTyAfkSNl\n",
       "50zhQA2lPURRupAnjqihH6H28u5aB8q+F2pm5YtLefU3hCSAXusQyvZv79h3dgEi3sBwJ5v6+2SB\n",
       "h4KR1PrqIX6JFj55Ply9RlLECbOudIZfF5ibRDwKTC0+lZ/+WoIxdF5DNerJXKopNh8m8IltrgrC\n",
       "/84Q4i+eq2mAaIvQECI3/QbG/0Qs81cnuQEiddBCGJ1+CQ6ksch4brvyOetV6bNSOWrNWD8yai5i\n",
       "k96gQx5ni6EPhdyXwjKeGm7I/+l1COnZsbfx8HvvcS6w7ku/5OB4wE8b5l3O1PyQorrSiPzs0gLT\n",
       "JCJDBKZ9/tpt3n7XI+ofQYFTmVL440WeUgWHJsCXiJ62phT0FZQJ84XU3WLMVmnH8CbnzUK+Y9xk\n",
       "vBviaSJpKOZEy913UpRQCFYxsfaG9HtC3mCienTA1b7YMP7HKO30ha/PPoylMlnl/EzUoJslPASw\n",
       "KaY/OGhvz7/fCF1KJOrkZpKJ7VV4GK8izkFAal2COd9muE5tycjy5+B0otOSV1xnvEFYxI+WzWUM\n",
       "9+IbLaj1UcbLMD8fDNlOrGq9D9UPz9di+97fOGHJxnXHPdldSICLQpeQzq1WJQUYuk7Yqw3D1Iz3\n",
       "gg83f7+zjV/Zm6fpGLe640IArybjlid74jZhSQMoAVY5urfNF0LuExTWDOAb5SRoTsxwfwHSac+S\n",
       "IbU5SqEawOsuNjps3615lS22ftYm9u5hDcS9Mz27+G048hLCoJRO21t/pxsfsUs71IXN4EiMyq/w\n",
       "WfnLZvsVSqPELXDep1S10bhsYZjFaHvdvkCyNq87YcX9giWz9P1GNO/j6Wr/8ClD+FjkNPANo6oj\n",
       "HlC51z1jQk0EwriY56xlMwgFnr6uVD+MYbMaCruYztqo19nPbn7X7V8v9SzHda2/LpSMZirkoxQD\n",
       "vz+YEPdd4PXGxqdRuE6+PEel7RJUbosmMJzKUUUegPJ5M0xam6P3kVJrsHf+xOtR6HZcZJ5YVqjj\n",
       "kolVCUH6ASsFAitpqLhQqwJ8OyktA1CX1HG4nPXbrtM0M+Nz+4rvi3IoDTqFONbJWK64KUL9yThV\n",
       "1quuOUSSFGRaqC8e0MErRrmglAfWbx5mvop/SHil5Lruagl9uRfV7Y/sMbK4HwQimEJ1DZWVT7TP\n",
       "BsJyETPpwVgHliTXUstCl+IxV3HTV3qwA1PwFMw9NbpTWwxORnht71bzRjTtoSENIwKob/3kODnX\n",
       "1ZaD44QPGmYHb/YwMlAH21798I6nCGLQ1JKxqAGX1IBuKWim5DH9IHZXzBKjSyYmHuED/uH8DQMf\n",
       "soTcr78naKJxPkILEHcJ7FB314a2EEJZCkwXeXmbq3YFv9WoBoWp5HZUInqx0xY5IP9qJGvgFcMo\n",
       "Kr5F1P784BaCn4PNzr9zTQbL2anD54uBj1KqkMRzdocl/DoIDptOrcP0dQJcsjF2xu79+6DWB9qH\n",
       "VUICU9IXTlS1r1aBNo+uww4E1apcJkkqT5HBGz0vIHqNW2d1wzy3CTbIkMbsgyuLp4SIlsktzgC8\n",
       "2LE/hMz8g1VrqsHxE8oPeAWSuIBGbe2Ka0SbR5OE22+kNAgW/1qjL6+2GGUjD7eHBpV6DH8GOTrg\n",
       "l8ipVrGshbbWwKaz+0XtJsAtBvn/SdRHePvc4XlSakX8EtgtGXzIGxPAkBAc5nj71Ad07sQzC6MG\n",
       "ng/1JRSyap9Uc/nlkeH1P+uug0CwGF/EoMnPWq2Vk0lfqJbUNI6rJV9gyWuVCMi//2YjCOl3d+Ki\n",
       "JTIOw/ah77g8wy3lwG/LHmKeecCcD3DajuqhGhY1az3/6/TyWHESKtqlzb22Zk+xsn04PD71aUOP\n",
       "sPa8k/7XaJI2tOwgaEj/yo/1WlaR9Ni4MWBUYcMk/9eHwAiN9R93AKnobVcQNIfYcbklV4erOvtc\n",
       "CtIScQER97RehYBiogMcdTRLnfCc7lAllsfiNNVo7N7CBdN3Bcs6KVlWelAq74KCfYjVpwDOAUD+\n",
       "Hr9bWqjvRjYR9OPm743rVbf8xg5UvHDq8/ztXt6EijDQmIKRNODlDtKlxnT9E4ziPdiewj6wf/KK\n",
       "7FVSiLH9chJxkI43EX4JMNlams0on37ui3Q9nL9pntbWppNtNRPNm3Fs92avn+oydXyaHpEz6Z5W\n",
       "zPB9lTQ3CgzXmWDCWN3hXk3V/cYAVBr46TWm9SpNRh6a1mwg/36Ybe419kwcyZ7N5DVlX8AU6ZBw\n",
       "/6Vq9kZjoHRBiu1H2KuGXSD6Vfaxi4mnC3HHc24wmriESSbvxZaUHj/al5yHuF7NrdT8BSl4BQkm\n",
       "5POWGDJ4ym8IcjVMiTXRd/xnw3jUOnqMhil73x3/C+3LA5eo+8k9RY6eqNZxDvFEbJSuqFSdEBbN\n",
       "1xf+qyEymFSIMdav6JC2qdyUmg2veHq0ipkxx2yhdUivOoMnIkJhbcXkRiSvRqSAO4SyUWU7a/3F\n",
       "B/MGTotGP+Y50hq/1EevxtA4q/PRHymEB42Ouug0t9ylhTnRUcy7REmIMKybPcmbOTyFRWw28IsP\n",
       "LENc+wT2fmXNQAdeBwRDpXxu+dw0rB2MPjuhBBM5V+qQyHnyl54M3aZ8bK2q8lK0Qcsx2vQLtnDo\n",
       "32OO1pZcKU2pWpS7erZngL9nokfK7ciBQywD2MwJckhoXHNybYq8npCCSLwdzfmgr/t5x4+sJg+S\n",
       "Syt+q2hgTOP7yh/DNxkoWZ9P2HQpV5a4Lx8rdua3UAf6zfWSV+dRkPQhnbJOV/KIHDtbb9/WfDuX\n",
       "/FL8Ecpw3hJNGU7VPGWEFhZ3V3vF8Etcr2V+oBZ2EJpmbmogXywu6iBy/Dgf2f/69hpTXttX3yOt\n",
       "cAJOnla3O+oB+Ik3mxIqf6LvrGjqB9Pw7MFkh8FO1YXE9qmThnELMRVpVBwgm3QRl2chw+UVn74f\n",
       "CWno4DCwlKxBQuysST3zLt2b21So91sdKGqtXKIiEtSs4OcYVe6EFVW4CPDPPrQIZcXVgwWijEu2\n",
       "ySD4HCBHrj0jbecfsyomaTsgfvutSUm1JsytcNzsHs7ZLJHKL78Z3P3tlx6gtzP9pK1cXewPEOKi\n",
       "i6UNm/UMWHw/uINXKjz72EYFvgrKx/3pIc7zBAIfeg2Da1sUWmxTi9mc5jKcpXm8Iwr8vI8bBtYd\n",
       "x6w3oMJ1et4LV91DFzIp8A5CXHtG6Qx1hQ2hOAoix0khMwETJPsOuuHxQ6JFbrs0RWHk6Cvw5OaD\n",
       "w/yk0aJfJzo8b4trWzCOJXycIyfCOPRp6/BtHoA6fUFf65uC/PD+Is/YC68SiuERpny05RKD4gGK\n",
       "uNTbBvxaFyK/uHBajLoHkZszTgLPDJmz3ef5zD/LrEo9k3i7rHR4h/wSfb7X4y3P8bKK3ToT4wBI\n",
       "4y6uakAQlOMKvtxf3NOTc9k2vBjZ/0p6WNB3x/5Jxtv3r6rFLuK07dzZbNpWAxO40d0s3pse8I56\n",
       "ERjPTcDMUyiu5cUjADgR6rDfa5PLPkeLaH+Ctf0l7ByTUn0U4qvdweCQsRctlJuJykWp+/oweyj7\n",
       "7Qib1teTEvCx7F3bJ9YvIxt+X24qe7MryMnilGLA6hlynl5lGg7pHgnuEbIDq6MIL6fiQt2rn7hr\n",
       "R4KBrV4BEU6s0VavFlKKvrKiKLYdvNDRCrtw+ynQ2GCHGqyXY1NFpxTuzIAAAAYfQZ5CeIKfAAAv\n",
       "mQe4MbaQw7gAHFt5FC/Iv8J7OPoJ/CF14xcyiYX1P503Fd8Lp8/2BoZg4Jj979NDi+/tQ3mufPuJ\n",
       "b4SjFN13Z396guO43etw9f4XVVurAsFscm9hlOfaf8Y7/pM8eSCAZGsq+GnlzRw5zzZ8R0iuf0Zo\n",
       "HiQA2WJhZOZPvyk6Yi3eRULHomh6KUX9rj5nQDZNZhfmol6ln15G9g5jdiO2W+WqNFvyEoqJ5gdY\n",
       "xgqWXTwDBMj7lOrf0aspu50mfmq/uFE9Cd0Sb5iNkJMNM72I3AcSkPuGv1LXBEgL9TL32Pt9XnJG\n",
       "m3pISufaZPGuoRAa0jHgo/aNKOqGYmgjvUh6qeOdNJplJl0EAnmxLMpUygyrwxa8ZC2Jps0yJUGi\n",
       "mfvaHtvjNugArJZtGrAdtrpTtff7VkPr2aI9E6VZX3NZzFYTLkOAAjlkxhE4rTsLsi44HhH4PS9U\n",
       "vaO4dyzRFxVCzK74y8CSGQ20XqoFvKYlKjKr+gVi8NCS30sgjvVDnSmHJZ+sSyo080ze8pQUnuPe\n",
       "Nw+Y/2YKKh9zQERu8LGHByvMsYbK2E6jeKjP5THa2mE40JMAET0x3bYYLjmZzKxQtC3PCjmVjTAn\n",
       "hz8apcvnk4XeQpGpoevQvm4j7MX38RchK7ZDhQAAUWfJrqfdTjqVJmyzVzvwdc1MuwUzGQPSYLyw\n",
       "lHdcLVdylMmw7u+MZpuFKDlam9zw4g84092X4cCRipCjhdo+tsMWqEcfu9iTZJtNmFe3eVM5aS9Z\n",
       "XY0N24Ohn8o6XakptMAdPA2SQ/0IZPlmlT/Bmn9XarbYC0a5YnktnDh2hNFoB6oL7E+04F+kj3+3\n",
       "AelhzNqIo5Pn+r5HUtaqWrMUi3cZQC+XJ6b/WloqF4QWnksC+X3IEA48en7U2aqv8HRjmCQ0J6YI\n",
       "2NjmbmHjNkfdIl8BRSNYZ1K02/Hj1Tj4tx08cL+3wg+YQkddElBn+mNhUwgEWbVMG3gKimbskmX7\n",
       "IZFPN83W2B/GkdAB7O3rr9OTkuce5u4UxbmauwXjH1AWb0XrbFMcURa4KaGieUGQzmO8QVd29SbI\n",
       "6ezBdKqos8FFwgAXyLwp4qbEmGHAG81zHmZS+Cu6mmReBG7pcZ0azl4u52kL7+Ro/5HR+6tHich7\n",
       "cUURNEtPmgL+mlkgSJbir3DGAxlhrPJnENEzPMDm6moZfGk2ggUJPOkVyvlkjzTo9G3VVpAQvV5A\n",
       "deMjt+nkH0Jlc8e4XMUXPVdvZy8CIyAXsHi6kfbvlTuPCQYpVi3dFwGEuyHhJ1QHme5mmz7xgTq5\n",
       "OzcDBsAs5t+9LpBDdOOo90RnyEQwSWdLLLDFB0WCFbxycQ1IJNoi6KkVIbKoC/7FdSqVL0Q67o3w\n",
       "Ffi4iRszvlYdKtP9P1imIntXyJlp/ItMjgW6drK7OTEScmnOCPhMJFITEsKzLDi7Sg4Xvsw0gXxf\n",
       "qlFuLdhYfIqBnSFx3oRPfFUhWpn4jPdwk5G+NzjCOCJJadmsA0uCPGM7eS+HW2VAUbzmkpmTKdpE\n",
       "pvmGxacuDkXCITokwJCSvsNdpVzuzpg98CbqPOdSqPF7ByfCZVhMLgSN7cwMXFKiuK82M/0WSLSq\n",
       "gRkEq0CDVnTxFHkqBP14lJ/OwluuZQMIrRHzu1N6bm9OLXrfcdrtF3jXB9eGjB/B9/4WAbZG6Is9\n",
       "6q9Iy73Tx+0EF3sM4Mj2hWtA9Y8P+wbafLXVtg9iC+UWKIHfjSCP68MU9WXhnatv/sdZDae86Lof\n",
       "32c1PBHvYBf9GT8diUeJivxIZONduuuEG5EIomrka3wjXhAVBblp+wWSoAEOGdLIlHo246kdM7YI\n",
       "EIhyh73L1BOEX8Kqy+cnpCcP5M8tYkQrtDPJXgaCJlbs43j0XlUGUqG5RVFWgzL07DpdY54qyWJZ\n",
       "adUSXQzgbHr8IoeLxzqza2myVqXmHS6bYziWIv/DWW6Zd4a3Vsv3wwWI9bFSjxx1doEJAFV6bed2\n",
       "2P5aY+riOb+fsj0/iTCY7LISUW2MBdKktiGkkF/8NxEMQqiGQCxZt5Pk+bAUUxyJ3KUWJbgnRHrV\n",
       "vn4anqd6Ne7mcIITbo0dSg5HwQAABhgBnmF0QS8AAH7UqpuBd2uCubtETXBAVj7piFmOVMpRIGLF\n",
       "zB7VTA9bZ8XEDzhtiLnWRHyfcK02/sQANYrkg8NEMGZXALm9gCP/ocpgyF09ddcTroTzYS+uhYKG\n",
       "cky289o9Q2zVorkVz9ZXja9Uz7FL/jbFicTCbflNeczSBTeuZWwYhQ5Rh98r114HrKThpvpmrWiw\n",
       "HkNcD1Ch/Ue0wPlWEB1I/78vbcD421RYr8TrGuI3BrRwP/Y5DYRik590k6d8xAprPx8SxK68wUQW\n",
       "MzQRv7gwuf1nF7ksR8mzm5ic2NYMy2LF14fbM+It9Op1mLIyd1kfoI9fSFHKTkiFGriQb2D+ku9E\n",
       "bX7T3ApG+Afy7oCANXmdPi4yXK3zkghL+GjlJpo5UKWBU3sDq8HKqejdclmyzDJt30JCtc70h5fO\n",
       "sBmsTIJbcfV6y9alnYVrWcED9hmSwi3j007/VHr3pHI2uCL5jtZWnSr09iEgbEtJYVo8QBPDIGMK\n",
       "AHRDpiyeNjapDdJGQBssGU/qX75iSo0b/PNZtXw7IPr+4A6B0G/9554+deYP5OrsQ4zjAcqezUP+\n",
       "NGkDWuZp/n2CCQnoSeEUn5vn3Wtp8KRFH5EMcE6ZxaSq5r+iWvqShiApiTAS1F27St/kMcYGngHi\n",
       "g5BSEZPyQIh37JIr2+a+xDwqtQ/iOQ8uNy8SB1K8gfo3KJuWYHfQXWKXtixkxP96LDbKXe4n57/9\n",
       "shRLL9A9rHce8kU30bHqqHZViqF00NupNaQKVFjJ0MCQiBA4aEVbVETDncEKLBsVa0WRzibCxvHT\n",
       "tI9SMAHMq8N4oy5TZqSBiySLOTp7Y+JwxRW/CQSmGddUiAX+KhABko3qxTraFTCSMHid7cDyIwzr\n",
       "M+WqTT0WeazfCGelEJerDaoHGp0iTX1bOkAbc6kE2L/Es48QBAb/K0CeewNZQI664gQuT8hA0elT\n",
       "v+TN169kVfbouBkwVIPMIfhoqTKN3dq8dpSsiy8CiKxmYYPy/V7XquV4bdev9sUSVJTRo33nSguU\n",
       "fTIrzDvh133vQ3IRhqauoVTXuiGaY/5rhwZHphEoF5KkAKFSGL7ZLtL2K6wpvVzaDVlKynlQ+MSN\n",
       "W5F1xTWowlxSpQ7Mv47VkwkI5yJROn/JPqblBnlWl7EvzMJkDf/iT5dBB4Rkv6Dcp4VIL0U+4mPM\n",
       "Aa+GTI2s6TeSu0gXB7T54CMu7678y8qr5jhttF6Z5GjErt0Qs5kc54I62qeABQ1jtIELWEjMWou4\n",
       "l0FNzMIx/k0gnnygV12+ZTtJqxT78V2R0ZLPQ2/toAtNAsUCDhI0MhxzL1iEEfLkr2pTkbikvX4V\n",
       "BBV5DJnMk2NPzUvwDwvq1zdaayl7Yf2ZFBwqlmKTNajuth42J3uNtTM3Aa0foGtgB/upQutI3Ad1\n",
       "5RDiOTYdYozwg+N9qm5SolyMy8uc8XDyh3EIf4hjaMjQ9bnP4urfzipEK5CSkKZMUmlrupiYZrLZ\n",
       "r9m9s7vztXci8y0+c1n4NI6Sejt3lsDC2+LHGtUUk9DdptjUQAZEKQEpTw8L9Dr7PBQN2xMtmVfO\n",
       "3z1gGWSSum874bTuKV/mOEGfKSpba9Avq2JaUZDOIO+JzdlAXKKESgznCsKImXVyfaKrPcbSGASF\n",
       "2lAc/wUD7nT9bKoKIBp2MP/onXKu5MwgUb6Gg/D++Z4Qh9mT5CoV3UrwBZbOUtWM3xr/ljwAH7WW\n",
       "37dkBgHrG24tHJJ1cSlGI2yzfMOtAIdE0DIAe8xEAExxRArwdYyxhdwWwLxHGeF1/IE9LOkZOUcx\n",
       "Cs0GfM++O+vkrf2N2P00JZDTjvDeFZzI21VXmUlXz8sU2Kl5ddakuXXJjGEw7eLrSDKyg/BWvoZZ\n",
       "3jQusBwbxmDUfxgF+CzrwtHxwAmEysOtCP4fH8I6a8x56iUDUiDGj06mSnqIfxHiObM/1BbjZNTh\n",
       "i/wIyTtOzHTr8Ut8eAuF+0QoNqnyZIWm8m0lWGis9WmZRkAIDrzOoIxHVWsNbmFwcjiaYGtpVIvo\n",
       "+u7tthc7Ad66izw0c2RHgXktfhqzdAb/nlcUfjRQOSV0r5sytH7f7wZgzIAAAAQBAZ5jakEvAABm\n",
       "2j3BrkNb2QAkXoidOYgMLbJS6qSpw4bMnS5XUBVvg6zjb9jpL9VieKDyYAG1bw01+WlwYr48QBka\n",
       "s8rpda62qcfBlTm4NFWGbZKI3iQS9M+jFrQ4QoP4hJhRmHvq7N8RHMUn/auUsD/IcC5+dyiwOlaT\n",
       "nKQf1KgyncnUHuxMgX1Iw8NKZLQt9ZN3CyNx/liiANVpoWX3r10lrSw78llidFEm790Jes2k7Db4\n",
       "xDiyzZadE+nhmS6dpeylUaECsppPiknvCIycgtSvfK5+2pxbK9Rs0p2DPVrUAHRkDovuumNAUHad\n",
       "uflLOXb3yjy4JbkdmOoYuMLvLdhfnJaPy6ljv+MPLFwZonSxbJbvkiYZMDLvL6JS5D3vuz/ad9Lz\n",
       "hcTgdl3YQcHRlp2ggZjhJjt+sJUgYdkfIvVIDWHjNMpV1fROQKoEILqal5V1zLWDHk+UtVbZEFXw\n",
       "CHy6h/gvqnHy7HyRinSeEDIe5cBYm/g8ku0d76OR3CmkL8fpcmQRBlqdf8fHM7mtBfD5cAG+l8+f\n",
       "OBTeiRK+cB0RSY0C7vl4XMY+g9YoWn2Mx6l2R9vuB2/FFE1r0OdWPi8THzs1nMDvTBKTXinVC9Ma\n",
       "DOtB1P2nk0jhGTPkb7FjxDmJJmQ1x8gwubaxr///1BxQZEqxhR0Ns+XHv/5f29mdtzZU/lIoCiOl\n",
       "vnFhtNh5YJvaf8qb1ceRideBlDkTgQ1Np/t1Ae/gseGOXmFhvKsS/GZ0YZZkteCMw0B1jkRkMo0t\n",
       "cXqJyMhBsMhVtNEQ9dY053iTTvMBHTF73ZPPWdnNq/hLsTExty+iKQXan6BUHe4evrlbftQFgezE\n",
       "O9950whA6BR2eleRMSkwPIVHcP3jcU2VSGOK1o8xV+fJu4Ca4pkRtYh8tw0f9zWWW33witc8ONXa\n",
       "+DsOMl5x/ic2Xygu2SInyWaYtnpuyW1OQa06nE7Uxb6DREUtXH/F/resHcztaSuIu4v+zuT5N7KH\n",
       "mqofX3drnLQPl6Ua6MroHTDHNK9Lh36DuvB3zq1l++pw32mj/dqsjKpA2WdSSTJ4b4eMPKzmhLZI\n",
       "hSbXdQWMg/PFswoEYo87PSzzOmCFJSYbNZI3yiUrkPm9pNB/fqoGwLrngNCSxhG4BlW0UD8xHAfp\n",
       "ijLufxOGvliB3lXqY3SXJwJXU5CT1AbrIbAVF4ESKJ9yo5iVXtgwOffkWqB6F5dTTX9570J0ZdtB\n",
       "t8aExXN0PAFZI3pR2d5yYPQvg1dthmGriFbm82oDExArxQVVHwYxJmAnMa+WrGCs1aAfn2v1RpVE\n",
       "/vAehgHqqgy5qqp9QskBDSkSMyMA+RL73k2vQYVz7PlYvpcLFGtj4LQsTKyiIEEAAAdTQZpoSahB\n",
       "aJlMCC3//talUAAgC7sRRA1oN7Jrgmp+NACxyldMNy3LFD7Ac1bCTWgkHdWMgmif2Exyq7epqGYJ\n",
       "JHRqgd7jKNpEcS0lTT7khgMHNYyR+iUYb4fGktHUaia9zUkim5MbHfh9LDU/5abj7n/Lg5CnDT+D\n",
       "bJn31rDrhgjw1dowCDqW90mjEt0g3oYOemIjfXuW20gMwTDgqB3/mPxVQQ8CSbRUqKRp8Wi584gl\n",
       "xRQMRhWtSBT/4ESII5iQxHj6qSE/2skwOzvFAxXTTiveXNKM2RGNIKE81XFN6E4qCX7WXCj6PUNg\n",
       "KstelawLMlhac48DEtW+AnSkshsMXDKJW22vpq9LC7CTPzTa02vmVh8dUCgpixjcYXGm+1QcRo7H\n",
       "sfyOSJ+9xjRIf8KDfoeF9XA24oTULdp4mT7sIQIdrHuPUYhLVV+aib0gFMttObv96WVwlco6RjQ7\n",
       "2TyMSbpmCsgHXB2zbbw51SKXVB26Iu9rYNumm4qiUr5eX1lAb99srMQ+dCptb3969CoosUpBJLya\n",
       "qqzbGDgQggAXSEAvIErWduRwjBmLAn/NS6bDpQBzQpJhKmnH7Kbg4zrTbJItOvoJWt8oefMIjWMe\n",
       "e2CL6q8pSqKgSDGk1YOpOG24frty3zbrqEaJ0hFS+rxNz8ZXFGM2YN7fEdTfHYIiOAwYAZYQhPPc\n",
       "+N78Ef3MMqSq3epxCturiRAWNkX5mQLDWJr8qSz4M1cAE3WqdCMzv3gwevzur7++jQaaR3ZGyZ18\n",
       "2dTHl84Q/vEYMWBa2Q/y5xO8x/UWCAsjIAwvgMe4smpN204RtA6lW25VzN+rxXL7vFr/WRVol5DQ\n",
       "JKEtIGhPrieEW6ryiLhJ0vIt6FrFjOruvfdybzm4F7HFcOeF+LVMaIsr/Exbd+QF+305zItLJ8F4\n",
       "hp7auuN3+09VNbdEqHI+lFUjZPD4cb+YfIXm7745xLtVk4EqyLfj/cfmsUy6+fjbNny8NM0EU//D\n",
       "EHywfhkW+GlhNTV5LfEGxxWtpdEHaY+5S2wh8Q6Y23C8FU9BWcYS90yaCfSFIHGYkIc4FqklWwRh\n",
       "4EtgVDlts5jKxhWx4Ov43qq+ISFPGjsReYAGo1iLzdJ3yphNUFhge1jtQfqkAJ0LZHCRchumi3Lm\n",
       "8q5TsMNJtHNR18hrylHWm+Ap2euI0Cz4IRYkzxsNqD2MOX5Tvpx3TRaFAPIbee7FWJXC5Z+xtuFa\n",
       "YzG/QQjoT+0dJBQZBxSmf/OPxJunr0tLqSqwRSNbKnQg7Iq+iNr2v87jJr+8uVubJZtlHLsDWaQ3\n",
       "zlIzIQUpPPnJW0tki9ckEGx0ytqxodaOGnrwaUd/sWDMQW1oBPEalEClbUPwGsrNdfapfb5o9zOn\n",
       "z2hM6H46VE0qp8guSbiUShHHvjHkq6rdR96arNfACWIuQbo6eY2LOvBk3WunwWf7zVr/0AX6jHWr\n",
       "BNvUBWQ8NVuZqo+4egO42fWY29Vd3UQpUmnPuNarCmutavmtzqRun0/PDt04mTH0W9HNh4Ddnpf7\n",
       "ZiIQ/YyZEr+BFm2Ym4u8IPUOHi0kTgvJz6Z4l7N+RugO4u1Hl8DKZzv/5UvBTAKVFckaBNd4ZYml\n",
       "udjLnrQ3x6xmTe56DgD/xjfXjMgE8htAWPENxNI+boV6GS25/bMybhCi6ndAScYBSXdhdes1kxuQ\n",
       "ARHvSGgLI7eEY/mQKXSFtPoKPRQbjNC2TxZfDAwxpXitwfSR8PIgvu2oWCDIZEL5QhEaUCx1arbp\n",
       "yZWf/PuibE90pi/ahc3d8ULOgPf+bOGctuveI1nytMYavbibYQxMQ1RP7B1hL58sifuJDAeX0jFb\n",
       "Q4uZafFbS3GKFYtN2zIKCdbbbw/M0WkT1m7y4rIEgJ+u5NuGe+8f1ZEVKzpASqH+e1puL7O8qWkr\n",
       "hx7tE5RWzS02OvmM0eN2DqQ/kd20pJr2WQdLhuHvX7BKLO/3d9RyklRBh/V6njQnqj64i877QBaA\n",
       "NwSqZstXTRDnOaPOKhZHAf1+yhlwMWK89GUUFR7qV+x+Rm4lUJNZdqK4j17ecPy3mOEwfhsHNN8h\n",
       "VtG/2YpQAAFrDdyUAf4LJmlhfCglxqpvU/0BLUKU1JzJntZfJ8xedfiyNLqNMBl2gb/+8O2wlwnh\n",
       "kPz1BUOclVUcfd88CQdSqn81/gEv9txJ2wUK8ZA/zWNbnOIP5nC0u/CJmFgmZcBdadjYWCfV0TcW\n",
       "mwn//Oc7bUNTjoT40G3CHVBbujGIqZKqvBO0KoHT60fG0XnmrwemytsJ4LOpO7eiuK4PgZXzuPZC\n",
       "EqVE/3mc2b95GksnUDYaexTXE/PwPK+3c1+l25KMWmkpcoDc2tW9cVimcyxcnxlVU97g6qHLKvX9\n",
       "w0MMormZTDSqZZa/oarl+VpdzZ+h1Ciz4YIB0cukhO3kHlgZSgguL/0Z3QNUMMhsKMOkfVopEJ0s\n",
       "aOgJzvFP/HPl6v+8TZi6d1IGgt7s7dy/MYL9ci2UJyMV3IuYeuirfbryyPDBAAACp0GehkURLBT/\n",
       "AAAkla3QmXPpvizLiXiIkeyfDkdiWN5wM6iAMPZ022AYw+R2Q+ASvsfoqwVc5GUuTQBEmUI1yAAi\n",
       "A7BXs/OwdMQjA8yAOAQ51QLdYJeCAsdeOUvgiyPpYRpVKOIuEIvNU/nTXLc+Bv87JhA0KbSyJLCW\n",
       "z/T6xRHFPCBMU8sa97WSHrTBsb2um2T8h/U1sW0xGJfb8emo3jtTS1CnH7DnG4bBN5DJnqMp3gL1\n",
       "3H4qWSwi7XS9+BtBgTAYvI24XGDe7Tmhe3UZH6x9mTZX4dRuxNe3mXvinwlnfA3id+sb/K6nb+1e\n",
       "xubJrhZNHL/w6H0mvXTaIOvVTnv3f8N0dofyOLUtk/Fu+sV98aJH4hiF+6ypuleTNbc/+bmDdqAt\n",
       "ZGb9BkcsJ6C5cwq68fyal8JCBtVSI1brf8iSHdB5OdHlQi5ynz+ng0B2BYxGibqOTiCMiHgoBb88\n",
       "+mU8i25lTZGSMnG1bkpFsMrOy920KjcTGxdblByq+9YUlaevvWezs2cGhIOUheyIOlm1mQk6BQzu\n",
       "MVdKUD+GCu1XzNF1/3OABYnY8noA+QDHcOD+w8zyjpzqAtWS7RbGOtmPWqpv/P/ZUNItbZg/FokP\n",
       "/ot6pD8FCz9FoBXsjEeZnS370hjIHHBWhGFEzMfr1tq1OdG3F8bJ0cDswHwhg3wuh/AQ4FnHUHf4\n",
       "Gpli2ZIELQyamxtrxEBnaFehpHZ7boNzQrIBxWEY8SgZHE/+ITmPdV4jv1N/QNsBdnx5k8bBvOcl\n",
       "hSFEMvyQRx7q+cnUNlExdokqy0zRmbthUcj4psmzplMtqdRNHGsVIOT1X2itqkXBuTI2zsHFYlY9\n",
       "ud9lIO0TKrLo0WzcP2mJmHPnGTUBGsAs6PLnKuhy/Hi+EbtEqh5uRgLBSvkAAAJmAZ6ldEEvAABx\n",
       "EX0hme9HQto2a71fm2pQXaT74ih8JUgRbGNYDBwARB271xuU9RildBx7wJsnRvGEANv+gf5Nq3rC\n",
       "ReGmtcAAN3qLP7hCf/nm7NaXVDHMAa+PRGDD+46vFK/hmI//atnpISMz7P9PWxXy5/lNEoaYOqRT\n",
       "hurjbl7YHHxiNafxjdAs2nml6e77UFXKIU6AY502aeli/pmZ77Vu3cA8xuj3iO4I7OoMUPvvX+7R\n",
       "Y+C0Wpo5Osrqp/MP+MniFAQ71kp82N8M07WromG31bIH9P3iUt1MqkEC/yZ0BHwWcGTvUhK6FM99\n",
       "B5wx8fTtWdFcU56M4y4gfV3h3Bptk5bpBVB6uiBzg1LQKHECwAPthT7HoWl73WTvJ7VRw6M8wQBI\n",
       "VRk1vYEFePB/lnSZmlAj3dgBSlOJWAjCuv7pa5uTq7I9RbHj6dGJizu6Ti2oOP7CeLIyLFWchS1q\n",
       "zY7ImZdUB0Eb/cFrl9ORw3ys+73UI85bKKtAluAj4EGN9jwtForwJyTJcWA9n8eeAfr+dZieu6U2\n",
       "GuwQSk99JIcmpsvydv0xFTUYkCeBtM8eZXktfmCmStfUMoVARpPioCLhc8m2gVlLikP0IQD+2LWl\n",
       "jELDsE5CyMVxHUuvD9DLZsllHdT2Bv1UHqsCKrBL/Z0+4pus5OjchHQDMWPOWY4kj1FT4EyqULhy\n",
       "n81BSXs4h1rhUAR6QapNn55rYy61dshQu7G4Tf+8Y8dXWYCCGHgIAmnmkz3sJrBPPt1B+aSWuubR\n",
       "tbXOXKrMA7Lyp/Yqf8ABD1ErnHv/Omqv+XWg5mg25KaUKsMAAAKrAZ6nakEvAAArG/433tXn6E42\n",
       "e6luxG6jyTNd2U7t//ELTqq7mJMK1Ul+zmwAh/ydc7BR0KXqaP6a2JdsTHFtvGsGnKTjZF87GG9F\n",
       "u+kumC7+BratA1hb7BnOsMQaItPvaA3jccjMLIV2WsVx1o+FPe6asHwxyju2uY0DDWG7tlj0XFik\n",
       "Ie39ARW0gk45dhkgeI2UgUwW37XwSBGKwl3h59gh042lsvkszL7dbo5Df8DRoQxhixeE9MGb7G5S\n",
       "F9nU7F7blNU5mQwqp1U17GQCzDk5J+RIHljz/HZ0NcRjp0h0SM3kQZiSrkjMadzLp6+OjH0V+ut5\n",
       "IqkWM91ciuVVjCxMLQOZ8hFqyp6LbXlimYg7YuqREGlpNOxYXXS9PwPEwaFRIeLp2/rCLt/UmV6V\n",
       "+zpmx3NYNjy2aJuUGLtaElhOE8fp6MO2GQAPXg1y8yXxMVawCRm6qHvUxpS3yyXoyTxGm4bSeDPK\n",
       "ULRw4iQqKHN3WFC/VCzNW1q5v+Aljeh8TQzwptQTn2Dbd2v5ozSITpkkWGlfRhXUliqqml2gky5e\n",
       "HpaMonjECEN7gAJHcMxK/KLgAVHOjHRnDqmRD1C5Cde6KCAOYgROSX6G1NxWY1p2QfQrsJp8UN9b\n",
       "+TTJt5qSASxBSID6GHiUDstAtKoIhPq6bX8Lv4aKx6ucyVldIGdTA0uy1AE/FFJIO6j+wLm55P/v\n",
       "P7R3CFTclj8iieLvnpOy66xYCnhk0PrY3DqGwM3liOA2iLpKIFPmcLgO3YVzqyB7lTjvJu9rVXT+\n",
       "t/wRS8L6kJdx95ovEhLQPcyFPN19O3LYdO62HzVfXJOkCrH4Kz22uPthh2uNItBvYASx3cLDEK5N\n",
       "aoL48WKq+5R13SxqTgGKD7aYpVC62uvJNWlcobsDhCCrPnRxO+MAAAUaQZqsSahBbJlMCCn//taM\n",
       "sAABZQM+C0OIEd/QATsdg0kGBJGVczzOrWNPv+50dDrLRY2nK9ArfJoCks232quYxd9DgAYt7itg\n",
       "7DtMO02piSDQSG7A/1SP/ajPz9losmNgevp6mH2h6gpMNyiNt11pcSOkAed7l3y2zSqtUmHVMzsb\n",
       "WUW5IQ8rqEUX5vm/csBnYo3VuYSPiJW9Vlxhi8HqbqglrhMQm36kCjb38L59n6wyQeYjAkjHtGnc\n",
       "k7W+weS2E1mBYjLUQpnlFQwqWF/lXCvWxoNMkIb0OsW0c9cVkTBRIxsYFzaoqZIzhVGOBbHrrnAw\n",
       "fFhINkW/fAoYod7qmf3i9smrh3eCvKVR10x1i3FdHfLLOpJBlN8Qqbuzg+FnOBvGttywFNUGS4Bk\n",
       "WaVPHiS+w4IM/MyODuOYYkZ0Kza0jZ/dAmZpypBDPENoez24q0gaHZ0phcRiz9C+SPZlPbSqfZQ5\n",
       "SFUpbB60JfniMohNxT+ItGOpPo4atWEpFHZzipzPKKyXADBJrITpvzFyCIzAT/FYvMpMi5BZ7d2d\n",
       "+ltTPssSPwRYhsj0/t82DNUaSrRBjhIFYuDqQJXm6iwYJPKxac02N5/vGHKhNOGKhE5odzfoUWHL\n",
       "7744olz5ErbwQx8xtArGYXjUlKefuWwPN0SqyfkvKtRZuJ+HaE+P7xHPkkYy8Ajkp9ALnfVbcQrR\n",
       "37DEM3ur2+lqA+t4UnElSoUQJqpw+Ps9gmmAjFtSz1nlO+d+kmnwfjlYiBzcf9B2weu3RJoH2IFY\n",
       "VsiDXy4MsIwxwutP2w+8Hkk4P/RkSO5tWOnDNk2ntyBEfY+7+WUHPZcCsb6Sg+Z/R06W6wN93nG7\n",
       "+Y97n/vLc1p5NPir2KXvc+sp52qIU8AcdASKCF5098SeDJytk6o2S/j/wGm4kpX/8I7SXj+iO9Cr\n",
       "xmiOwnpZpEYLrfiQBQZom0JvuS7BRbHaO47GNv2WPRHiSSw261fsLWz5K5yrNV1ATPCm3g27uXFX\n",
       "7Y4n8mM/MRubbsfGdjvZnSIH29H5nt91c1THosd9EDNBuK05PhVWELgZTclJytHKJH2gNwDSTjLE\n",
       "krDwE+gp/Z7p/ElbQd5E+vaQp2P/elXHp8TJfl4oQDUlRIMcH3/y53xYMWhDq6/awWRU7mrEgiG2\n",
       "emzzqiwYxGfestI/6eBmt7UYVYYv0cpH2D00EkYZitoOaoKzFfuLv68X2dJtcQdCPjbtrxemCbWW\n",
       "tG8k3qgU6useUjENZTdkGweweqe5WZd86+Crt91aZwjo+lwzIG36++McQKXK+VawX3CVa7ysPwIP\n",
       "f2MmUMvua9wvI2TktpVEI7lKqqr7m+GI0y4gyw8pPqJeza6JyiwXYs6kTzlCFk/ZGweXwjtNFUDw\n",
       "GkXOrqX0Uh6VOPKSxgxwuSU8YgDMuyTwl98DoNqTHuFjnC103k/0x4SOFED9NRRh6GUJvIJit98A\n",
       "ARQ91yWdHCm/wRoMIA/rwZWELBXpy5bwLay3nHDwdyC0clwlT0003P9KmPDskz0x+XAok7l63THB\n",
       "JwxeYmLqeOsSavVAU2BLIqnPfRJ4PbH3G0Z4BSfj7eGRc/d95AT3rNSX4Vb4RkPa8eXOT49qA15i\n",
       "3V4nUl9zEIjTTeWG5wlFJQbNU+h00gGVKsl+ga7wErhnPJwJKr1ADjKP7/NGYsvGCvM4ef/MlCGk\n",
       "KW4NMcXMg8C/2JOYHWGoZggsplljnlF2KY0QD2BkTe5lNgyZnwAAAxxBnspFFSwU/wAAEcuP3262\n",
       "kiS/1gqF84UsVgwx4jNHxjMUMwCQHNcovhgAVKn2zDgN5GJ3CRbm32kDMLqZqBdzucLRXz61mW0N\n",
       "EwCDAPTZpQ7PSsmRFSxhZ4IJtc/3WWY/tJtkYxyxXZwl/vVr1s8AAgyUHgNnNu7Y1Me1QK9hVHvS\n",
       "in7krkiHvHZjt10pcGsFr4C8veLVZVcbbaVj89tkdWl5lHXljsBPY8+2l/ePPcYwR67OlVnuk10j\n",
       "lSNOTkcuTStpVaYUvQir5mO89oOoMQS9CnSoZ6Gzcr8lDHScdDWtB64K4Ie7ipv2zX/pWzIP8nBj\n",
       "s/BaTpc3oERd+1J1bk0umxWmRfU+KV8IBPOkHxzMuntNnVnHvEdSEK6oyMoNO3HwO/cNTmQOfF9L\n",
       "243+baTPZEU7aR+4Yo7i7GGcKTafG2UDa+aWyyRTbdDAq2z5Dc2nNx9TIcbmA3W6LOJp6AWRxGf4\n",
       "wciVk/5OeKZZUkLrpG6LUkN47MfNGJZC2y3p0Eo+jKMR9jn+AxZIE/j5s78Q1uapsntfKtBdsVBD\n",
       "pBnL6SeKFinD5BNtWjj/W5mGi351CCf4Q9Fsz/N6Nh3w8LxiGmXtL9GXcLgi4s47koSYGwVW02Vm\n",
       "1POc/eAkgyUmgpgLg0nZ9xypcs1oVVnBnjWnAoA2+sTBJsc23JWj12Km2Au9KMJFxzpW+mAnZT8y\n",
       "6202eP+5x4KCUgW3781aHb5PPrG9bGP6Iqo/ZwdMV9PS2K6vgXxD2w85j203fhVI2jQVcK/b/Bhe\n",
       "f9GLrKw/71+vn7yZSM60JfqkF8Un5VFQX6QPF+/MS3dk3A533cIqm6Y/HP1UrfTFe0XoryC4+j5c\n",
       "+1BF6bEum9/enWNQj3CfRWz7EKKRh3lVLDVqtba2HFNpJOWfYk3ryJfo3Jib9tNXQqq0A/xQ96lm\n",
       "lRzAzSNjha+54rxW2F4zi3jN0KzM64//n0tP93NC5ua2KE1BUVA2SQAreCIidiEERvc21z6PnneV\n",
       "9RnKy7ia8HmrlERtMx+HIMR6/I2wv0B5ZD0S7g3g7ZNL0WOuqySRAAACXgGe6XRBLwAAKxkeJ4Cg\n",
       "AEOoNb9yDYjx8lzMxs6HkEJZSwa2ZHIJGB0oZoANn+q881kmQBKS3mfukc8Zsh9ZhjDoPGe9+3p7\n",
       "yChtXy+FdKi3JBPLVtuYRwiD06dAjxr8Tqtaj3WGm/x6nAglVt0EfRzdeeQ/PErvFZc9PVfFCHu1\n",
       "R8PFYczvc8jaBYypTlP7knmwovxdR2ujVFZ0e1brLEd0v79eVb70PHd3KzgN3/jyhl/5nW40mXwQ\n",
       "9VJuizDCHyvNerVpGNH0lenkFLUE3GzYVsz/qCiWc39R/2JfqSD7LUY2ESEnHOom0xsOTpuAUvnV\n",
       "pY8v1JMoADZTwJdSMwe1uY9bQn+fOUtde945wEuWMZzuCGwIrqXjk9F4x1PV58pOUn54pUaRHfb/\n",
       "VV39DWQ2BqfJMXM3ElAO6IfOVncymVi9cmX3sOPzOTYGPBE1yEmSkApkWaFCtHJ4TnTCrN4ya7xu\n",
       "TFrXRApXocfhBB/yFDpX1ALob/gu33H0o+5JqwYnM3zJFKkV0Acerzb1nR2KzoAyT7Gs8qOPTE7v\n",
       "DuZBFZCCI9GmHy1KQjmoWtKMozDUD+XvsniV60U/wpHRLzjmXLc9Umxo+/b2yYacsxy2A0dZE7vI\n",
       "nern7h5Y71HRXJhfEDi08OrAO8YIx6k2v7vlfpTPouih/1uHDc5+bzwOKDmtfW+QfCp3Tq7yepYI\n",
       "10JpTry/n5Q5XRTlJq0tB5g6PXFdW53+311WqcTRV5kyx5PCZWt6S0xkDRyft9ZC32L/IGzZyigW\n",
       "wFA3f++2WGvDddeMxB9ODIoO/QIH3QAAAXYBnutqQS8AACsb/jfe1efoTjZ7qW7EbqPJM13ZMlvT\n",
       "zhKA6uV1nwNrLCbc9CSABEBd1X/zkeqtcJ28WOoGGjFDYfb1dQppr59ynWzj6QLKEVltnMTiNYjA\n",
       "SV8MRTi8F7mWDQFLCBW/yn7fPZLsudE1r775JXBREx73/Fnt0+4BQnaSj894ISU4WMrGKFkEOKDF\n",
       "LdEWTki9TgalZOcYb54+icAACyaBXMTX2xHv7XfDJILzufSg7bhAbITroe3siWh2KVFpOB57mFYc\n",
       "N14hzRWuX6i5Z0k4vANahbEUqDHMzjMAfZrMdelUz3T+pdJdgKDzPvFrKDEP0QyYqDteV97x5gpl\n",
       "23mY1CIJLQ/t+BQ4SWlyyTpj4hfY2j2rTD3MBr0HAM32AOfF7JxAM5fvvtRTX/4yKCyd9NKifHH1\n",
       "dbUkGw6Cz3FVPEMItMxeoDuixOPkF2orKR9Tx6ka5fvvuFfd4jLlxX8pcsN3tRRG6nts2b/8RNxx\n",
       "wAAAAhRBmu5JqEFsmUwUTBL//rUqgAAAAwAFBKDqACc1UOvESyVW2Kd2chnAf/wh9Y+cbXSXJkF9\n",
       "C+cBV2KXbG0HM4AR6n+24Yr9B+emSQ5+cP0AMDrYQrWmqxdORFsiGnE1v8ukZyIDGyW26f0b9QNs\n",
       "XtERlH4vMIOuKbd/d0PHgJp847Ik073fUT/KuN0OSrHHZbrHJOa/wa0bYpdjYMIsgr63pyUzZGOe\n",
       "8T9aU3o2FAyqPcL7E5QjxRYORN92M7K0hDCFtw989NP2TtGQmWhSibZfahDE5Fn9EjcQdCkVVeB3\n",
       "vxpg4L0KQptBSrccT4woCQddZuKuQvRU9c6CX4ATC3XoBuRWUmVHVHgyp0JZsTVMXfI31ETlJhhr\n",
       "aYG91+p06xLpqC6rq6dUz7rLwDB9lRQkYcPpWPr0kdbjvsuQEI6CeT/HOUI7GNQ5wsstUWSsOA2y\n",
       "N1xvaP1azO2BKIA+pQYI6JjFS6DAZxPrDFk1KTC+0xQEcJEUZpItAOG9UtkJ3Ya4YWm8u9p1QwDo\n",
       "X8g6ZBdMjFH/wz2JzVfYIrW4fHvTzqmy1Y/JJJhwhVU5BJebLgcR2TKTVC8fhaaPCqFp6XG4BhON\n",
       "s/3qrXe2XZPjmPQyR/YQh+cx/bhSlosKdiJVQiuXd26kez6SQH3Qwwkc6yB7pLqtHvL3IXtztLs9\n",
       "VNByqatKr/CO+l75vASll9Q8uU/lEY+TAAABbAGfDWpBLwAAMi0fFjSIrqpQ7awbmnL4NU2ooLRE\n",
       "WQRfroKAGsBIQdlQRtAaDiw3vHff6T0rkKGwojgAIhUnE9cUKatw5mgCwzPXDjbeG59geS4h6sbN\n",
       "RfFs+Lu3IMFp1Cflxm02kVWw1wX3//sry9+01Np5Mcf/6p4bpXuCXrHNyMF+6DffEmGgtV/5ih94\n",
       "cbqHLKNJNsiH/QYm9wJAU7jh95Wlt0eY3PzWPpDVKa6u3A/bu/nNHEPuT9P/TevYw60L1u0iSiiA\n",
       "8OskfgVjT9x8RYgKT+D5ncmiuJp8iR67m6+bTtNA/1ClU+9Obbp7KaP/PdouiTbqwNiohFXX/T4F\n",
       "4uK75NNuyBFjbvsKn+jVXw7ndp0E3PpHSyOiIR/9Rlb2v3FvnalNAPfmY93E/hMwIrPJJltf+r8O\n",
       "bsbj1QVp/8Qpm+9U/3BR5IY5fA6EQaGMpDe0efqrIQhJbA50WLf0Tx51aSlx0HXAqLMAAAPjbW9v\n",
       "dgAAAGxtdmhkAAAAAAAAAAAAAAAAAAAD6AAAHUwAAQAAAQAAAAAAAAAAAAAAAAEAAAAAAAAAAAAA\n",
       "AAAAAAABAAAAAAAAAAAAAAAAAABAAAAAAAAAAAAAAAAAAAAAAAAAAAAAAAAAAAAAAAAAAgAAAw10\n",
       "cmFrAAAAXHRraGQAAAADAAAAAAAAAAAAAAABAAAAAAAAHUwAAAAAAAAAAAAAAAAAAAAAAAEAAAAA\n",
       "AAAAAAAAAAAAAAABAAAAAAAAAAAAAAAAAABAAAAAAkAAAAJAAAAAAAAkZWR0cwAAABxlbHN0AAAA\n",
       "AAAAAAEAAB1MAABAAAABAAAAAAKFbWRpYQAAACBtZGhkAAAAAAAAAAAAAAAAAABAAAAB4ABVxAAA\n",
       "AAAALWhkbHIAAAAAAAAAAHZpZGUAAAAAAAAAAAAAAABWaWRlb0hhbmRsZXIAAAACMG1pbmYAAAAU\n",
       "dm1oZAAAAAEAAAAAAAAAAAAAACRkaW5mAAAAHGRyZWYAAAAAAAAAAQAAAAx1cmwgAAAAAQAAAfBz\n",
       "dGJsAAAAtHN0c2QAAAAAAAAAAQAAAKRhdmMxAAAAAAAAAAEAAAAAAAAAAAAAAAAAAAAAAkACQABI\n",
       "AAAASAAAAAAAAAABAAAAAAAAAAAAAAAAAAAAAAAAAAAAAAAAAAAAAAAAAAAAGP//AAAAMmF2Y0MB\n",
       "ZAAW/+EAGWdkABas2UCQEmhAAAADAEAAAAMBA8WLZYABAAZo6+PLIsAAAAAcdXVpZGtoQPJfJE/F\n",
       "ujmlG88DI/MAAAAAAAAAGHN0dHMAAAAAAAAAAQAAAA8AACAAAAAAFHN0c3MAAAAAAAAAAQAAAAEA\n",
       "AACIY3R0cwAAAAAAAAAPAAAAAQAAQAAAAAABAACgAAAAAAEAAEAAAAAAAQAAAAAAAAABAAAgAAAA\n",
       "AAEAAKAAAAAAAQAAQAAAAAABAAAAAAAAAAEAACAAAAAAAQAAoAAAAAABAABAAAAAAAEAAAAAAAAA\n",
       "AQAAIAAAAAABAABgAAAAAAEAACAAAAAAHHN0c2MAAAAAAAAAAQAAAAEAAAAPAAAAAQAAAFBzdHN6\n",
       "AAAAAAAAAAAAAAAPAAChuQAAKq0AAAYjAAAGHAAABAUAAAdXAAACqwAAAmoAAAKvAAAFHgAAAyAA\n",
       "AAJiAAABegAAAhgAAAFwAAAAFHN0Y28AAAAAAAAAAQAAACwAAABidWR0YQAAAFptZXRhAAAAAAAA\n",
       "ACFoZGxyAAAAAAAAAABtZGlyYXBwbAAAAAAAAAAAAAAAAC1pbHN0AAAAJal0b28AAAAdZGF0YQAA\n",
       "AAEAAAAATGF2ZjU3LjgzLjEwMA==\n",
       "\">\n",
       "  Your browser does not support the video tag.\n",
       "</video>"
      ],
      "text/plain": [
       "<matplotlib.animation.FuncAnimation at 0x7fae6604a208>"
      ]
     },
     "execution_count": 127,
     "metadata": {},
     "output_type": "execute_result"
    }
   ],
   "source": [
    "anim"
   ]
  },
  {
   "cell_type": "markdown",
   "metadata": {},
   "source": [
    "# 5. Differentialgleichungen 1. und 2. Ordnung"
   ]
  },
  {
   "cell_type": "code",
   "execution_count": 128,
   "metadata": {
    "collapsed": true
   },
   "outputs": [],
   "source": [
    "from sympy import *\n",
    "from sympy import Derivative as d\n",
    "init_printing()"
   ]
  },
  {
   "cell_type": "code",
   "execution_count": 129,
   "metadata": {
    "collapsed": true
   },
   "outputs": [],
   "source": [
    "y=Function('y')\n",
    "x=Symbol('x')\n",
    "z=Symbol('z')"
   ]
  },
  {
   "cell_type": "markdown",
   "metadata": {},
   "source": [
    "## 5.1 Gleichungen 1. Ordnung\n",
    "### 5.1.1 Trennung der Veranderlichen"
   ]
  },
  {
   "cell_type": "code",
   "execution_count": 130,
   "metadata": {
    "collapsed": true
   },
   "outputs": [],
   "source": [
    "from sympy import *\n",
    "from sympy import Derivative as d\n",
    "init_printing()"
   ]
  },
  {
   "cell_type": "code",
   "execution_count": 131,
   "metadata": {
    "collapsed": true
   },
   "outputs": [],
   "source": [
    "x=Symbol('x')\n",
    "y=Symbol('y')"
   ]
  },
  {
   "cell_type": "markdown",
   "metadata": {},
   "source": [
    "$$y''=7x^2e^{-y}$$"
   ]
  },
  {
   "cell_type": "code",
   "execution_count": 132,
   "metadata": {
    "collapsed": true
   },
   "outputs": [],
   "source": [
    "gleichung=Eq(d(y(x)),7*x**2/E**y(x))"
   ]
  },
  {
   "cell_type": "code",
   "execution_count": 133,
   "metadata": {},
   "outputs": [
    {
     "data": {
      "image/png": "[encoded data removed]",
      "text/latex": [
       "$$\\frac{d}{d x} y{\\left (x \\right )} = 7 x^{2} e^{- y{\\left (x \\right )}}$$"
      ],
      "text/plain": [
       "d             2  -y(x)\n",
       "──(y(x)) = 7⋅x ⋅ℯ     \n",
       "dx                    "
      ]
     },
     "execution_count": 133,
     "metadata": {},
     "output_type": "execute_result"
    }
   ],
   "source": [
    "gleichung"
   ]
  },
  {
   "cell_type": "markdown",
   "metadata": {},
   "source": [
    "Wir trennen die Veränderlichen:\n",
    "$$ \\frac{dx}{dy}=7x^2e^{-y(x)} $$\n",
    "$$ e^ydy=7x^2dx $$\n",
    "und integrieren beide Seiten:"
   ]
  },
  {
   "cell_type": "code",
   "execution_count": 134,
   "metadata": {},
   "outputs": [
    {
     "data": {
      "image/png": "[encoded data removed]",
      "text/latex": [
       "$$e^{y}$$"
      ],
      "text/plain": [
       " y\n",
       "ℯ "
      ]
     },
     "execution_count": 134,
     "metadata": {},
     "output_type": "execute_result"
    }
   ],
   "source": [
    "integrate(E**y,y)"
   ]
  },
  {
   "cell_type": "code",
   "execution_count": 135,
   "metadata": {},
   "outputs": [
    {
     "data": {
      "image/png": "[encoded data removed]",
      "text/latex": [
       "$$\\frac{7 x^{3}}{3}$$"
      ],
      "text/plain": [
       "   3\n",
       "7⋅x \n",
       "────\n",
       " 3  "
      ]
     },
     "execution_count": 135,
     "metadata": {},
     "output_type": "execute_result"
    }
   ],
   "source": [
    "r=integrate(7*x**2,x)\n",
    "r"
   ]
  },
  {
   "cell_type": "code",
   "execution_count": 136,
   "metadata": {},
   "outputs": [
    {
     "data": {
      "image/png": "[encoded data removed]",
      "text/latex": [
       "$$e^{y{\\left (x \\right )}} = c + \\frac{7 x^{3}}{3}$$"
      ],
      "text/plain": [
       "               3\n",
       " y(x)       7⋅x \n",
       "ℯ     = c + ────\n",
       "             3  "
      ]
     },
     "execution_count": 136,
     "metadata": {},
     "output_type": "execute_result"
    }
   ],
   "source": [
    "y=Function('y')\n",
    "c=Symbol('c')\n",
    "fin=Eq(E**y(x),r+c)\n",
    "fin"
   ]
  },
  {
   "cell_type": "code",
   "execution_count": 137,
   "metadata": {},
   "outputs": [
    {
     "data": {
      "image/png": "[encoded data removed]",
      "text/latex": [
       "$$\\left [ \\log{\\left (c + \\frac{7 x^{3}}{3} \\right )}\\right ]$$"
      ],
      "text/plain": [
       "⎡   ⎛       3⎞⎤\n",
       "⎢   ⎜    7⋅x ⎟⎥\n",
       "⎢log⎜c + ────⎟⎥\n",
       "⎣   ⎝     3  ⎠⎦"
      ]
     },
     "execution_count": 137,
     "metadata": {},
     "output_type": "execute_result"
    }
   ],
   "source": [
    "solve(fin,y(x))"
   ]
  },
  {
   "cell_type": "markdown",
   "metadata": {},
   "source": [
    "Überprüfung:"
   ]
  },
  {
   "cell_type": "code",
   "execution_count": 138,
   "metadata": {},
   "outputs": [
    {
     "data": {
      "image/png": "[encoded data removed]",
      "text/latex": [
       "$$y{\\left (x \\right )} = \\log{\\left (C_{1} + \\frac{7 x^{3}}{3} \\right )}$$"
      ],
      "text/plain": [
       "          ⎛        3⎞\n",
       "          ⎜     7⋅x ⎟\n",
       "y(x) = log⎜C₁ + ────⎟\n",
       "          ⎝      3  ⎠"
      ]
     },
     "execution_count": 138,
     "metadata": {},
     "output_type": "execute_result"
    }
   ],
   "source": [
    "dsolve(gleichung)"
   ]
  },
  {
   "cell_type": "markdown",
   "metadata": {},
   "source": [
    "### 5.1.2 Integrations Faktor"
   ]
  },
  {
   "cell_type": "code",
   "execution_count": 139,
   "metadata": {},
   "outputs": [
    {
     "data": {
      "image/png": "[encoded data removed]",
      "text/latex": [
       "$$\\frac{d}{d x} y{\\left (x \\right )} + \\frac{1}{x} y{\\left (x \\right )} = x^{2} + 9$$"
      ],
      "text/plain": [
       "d          y(x)    2    \n",
       "──(y(x)) + ──── = x  + 9\n",
       "dx          x           "
      ]
     },
     "execution_count": 139,
     "metadata": {},
     "output_type": "execute_result"
    }
   ],
   "source": [
    "y=Function('y')\n",
    "c=Symbol('c')\n",
    "x=Symbol('x')\n",
    "\n",
    "gl=Eq(d(y(x))+y(x)/x,x**2+9)\n",
    "gl"
   ]
  },
  {
   "cell_type": "markdown",
   "metadata": {},
   "source": [
    "Integrationsfaktor:"
   ]
  },
  {
   "cell_type": "code",
   "execution_count": 140,
   "metadata": {},
   "outputs": [
    {
     "data": {
      "image/png": "[encoded data removed]",
      "text/latex": [
       "$$x$$"
      ],
      "text/plain": [
       "x"
      ]
     },
     "execution_count": 140,
     "metadata": {},
     "output_type": "execute_result"
    }
   ],
   "source": [
    "ifa=E**(integrate(1/x,x))\n",
    "ifa"
   ]
  },
  {
   "cell_type": "markdown",
   "metadata": {},
   "source": [
    "Nach Transofrmierungen wir becommen:\n",
    "$$(xy)'=x*(x^2+9)$$\n",
    "$$(xy)'=(x^3+9x)$$\n",
    "Wir integrieren beide Seiten:\n",
    "$$\\int{(xy)'}=xy$$"
   ]
  },
  {
   "cell_type": "code",
   "execution_count": 141,
   "metadata": {},
   "outputs": [
    {
     "data": {
      "image/png": "[encoded data removed]",
      "text/latex": [
       "$$\\frac{x^{4}}{4} + \\frac{9 x^{2}}{2}$$"
      ],
      "text/plain": [
       " 4      2\n",
       "x    9⋅x \n",
       "── + ────\n",
       "4     2  "
      ]
     },
     "execution_count": 141,
     "metadata": {},
     "output_type": "execute_result"
    }
   ],
   "source": [
    "ii=integrate((x**3+9*x),x)\n",
    "ii"
   ]
  },
  {
   "cell_type": "code",
   "execution_count": 142,
   "metadata": {},
   "outputs": [
    {
     "data": {
      "image/png": "[encoded data removed]",
      "text/latex": [
       "$$x y{\\left (x \\right )} = c + \\frac{x^{4}}{4} + \\frac{9 x^{2}}{2}$$"
      ],
      "text/plain": [
       "              4      2\n",
       "             x    9⋅x \n",
       "x⋅y(x) = c + ── + ────\n",
       "             4     2  "
      ]
     },
     "execution_count": 142,
     "metadata": {},
     "output_type": "execute_result"
    }
   ],
   "source": [
    "ii=ii+c #integration\n",
    "\n",
    "iii=Eq(x*y(x),ii)\n",
    "iii"
   ]
  },
  {
   "cell_type": "markdown",
   "metadata": {},
   "source": [
    "Wir teilen beide Seiten nach x:"
   ]
  },
  {
   "cell_type": "code",
   "execution_count": 143,
   "metadata": {},
   "outputs": [
    {
     "data": {
      "image/png": "[encoded data removed]",
      "text/latex": [
       "$$y{\\left (x \\right )} = \\frac{1}{x} \\left(c + \\frac{x^{4}}{4} + \\frac{9 x^{2}}{2}\\right)$$"
      ],
      "text/plain": [
       "            4      2\n",
       "           x    9⋅x \n",
       "       c + ── + ────\n",
       "           4     2  \n",
       "y(x) = ─────────────\n",
       "             x      "
      ]
     },
     "execution_count": 143,
     "metadata": {},
     "output_type": "execute_result"
    }
   ],
   "source": [
    "ii=ii/x;\n",
    "iiii=Eq(y(x),ii)\n",
    "iiii"
   ]
  },
  {
   "cell_type": "code",
   "execution_count": 144,
   "metadata": {},
   "outputs": [
    {
     "data": {
      "image/png": "[encoded data removed]",
      "text/latex": [
       "$$y{\\left (x \\right )} = \\frac{c}{x} + \\frac{x^{3}}{4} + \\frac{9 x}{2}$$"
      ],
      "text/plain": [
       "            3      \n",
       "       c   x    9⋅x\n",
       "y(x) = ─ + ── + ───\n",
       "       x   4     2 "
      ]
     },
     "execution_count": 144,
     "metadata": {},
     "output_type": "execute_result"
    }
   ],
   "source": [
    "iiii=simplify(iiii)\n",
    "iiii"
   ]
  },
  {
   "cell_type": "markdown",
   "metadata": {},
   "source": [
    "Überprüfung:"
   ]
  },
  {
   "cell_type": "code",
   "execution_count": 145,
   "metadata": {},
   "outputs": [
    {
     "data": {
      "image/png": "[encoded data removed]",
      "text/latex": [
       "$$y{\\left (x \\right )} = \\frac{C_{1}}{x} + \\frac{x^{3}}{4} + \\frac{9 x}{2}$$"
      ],
      "text/plain": [
       "             3      \n",
       "       C₁   x    9⋅x\n",
       "y(x) = ── + ── + ───\n",
       "       x    4     2 "
      ]
     },
     "execution_count": 145,
     "metadata": {},
     "output_type": "execute_result"
    }
   ],
   "source": [
    "auto=dsolve(gl)\n",
    "auto"
   ]
  },
  {
   "cell_type": "markdown",
   "metadata": {},
   "source": [
    "## 5.2 Gleichungen 2. Ordnung\n",
    "###  Complexen Nullstellen der charakteristischen Gleichung\n",
    "\n",
    "$$y''+y=sin(5x) $$\n",
    "$$y(0)=1$$\n",
    "$$y'(0)=2$$\n",
    "\n",
    "#### 5.2.1 Allgemeine lösung"
   ]
  },
  {
   "cell_type": "markdown",
   "metadata": {},
   "source": [
    "\n",
    "Allgemeine Lösung: $$y''+y=0$$"
   ]
  },
  {
   "cell_type": "code",
   "execution_count": 146,
   "metadata": {},
   "outputs": [
    {
     "data": {
      "image/png": "[encoded data removed]",
      "text/latex": [
       "$$D^{2} + 1$$"
      ],
      "text/plain": [
       " 2    \n",
       "D  + 1"
      ]
     },
     "execution_count": 146,
     "metadata": {},
     "output_type": "execute_result"
    }
   ],
   "source": [
    "from sympy import *\n",
    "from sympy import Derivative as d\n",
    "init_printing()\n",
    "\n",
    "D=Symbol(\"D\")\n",
    "eq=D**2+1;\n",
    "eq\n"
   ]
  },
  {
   "cell_type": "code",
   "execution_count": 147,
   "metadata": {},
   "outputs": [
    {
     "data": {
      "image/png": "[encoded data removed]",
      "text/latex": [
       "$$\\left [ - i, \\quad i\\right ]$$"
      ],
      "text/plain": [
       "[-ⅈ, ⅈ]"
      ]
     },
     "execution_count": 147,
     "metadata": {},
     "output_type": "execute_result"
    }
   ],
   "source": [
    "roots=solve(eq)\n",
    "roots"
   ]
  },
  {
   "cell_type": "markdown",
   "metadata": {},
   "source": [
    "=> $$(D^2+1)y=0$$\n",
    "$$(D+i)(D-i)y=0$$\n",
    "\n",
    "Seit\n",
    "$$D-\\lambda_i=e^{\\lambda_ix}De^{-\\lambda_ix}$$\n",
    "$$y=c_1e^{\\lambda_1x}+c_2e^{\\lambda_2x}$$\n",
    "\n",
    "In unserem Fall,\n",
    "$$y_h=c_1e^{-ix}+c_2e^{ix}$$\n"
   ]
  },
  {
   "cell_type": "markdown",
   "metadata": {},
   "source": [
    "#### 5.2.2 Spezielle Lösung \n",
    "$$y''+y=sin(5x)$$"
   ]
  },
  {
   "cell_type": "markdown",
   "metadata": {},
   "source": [
    "Von der rechte Seite, wir wissen dass $y_s(x)$ die Form $Acos(5x)+Bsin(5x)$ hat"
   ]
  },
  {
   "cell_type": "code",
   "execution_count": 148,
   "metadata": {},
   "outputs": [
    {
     "data": {
      "image/png": "[encoded data removed]",
      "text/latex": [
       "$$y{\\left (x \\right )} + \\frac{d^{2}}{d x^{2}} y{\\left (x \\right )} = \\sin{\\left (5 x \\right )}$$"
      ],
      "text/plain": [
       "         2                 \n",
       "        d                  \n",
       "y(x) + ───(y(x)) = sin(5⋅x)\n",
       "         2                 \n",
       "       dx                  "
      ]
     },
     "execution_count": 148,
     "metadata": {},
     "output_type": "execute_result"
    }
   ],
   "source": [
    "gl=Eq(d(d(y(x)))+y(x),sin(5*x))\n",
    "gl"
   ]
  },
  {
   "cell_type": "code",
   "execution_count": 149,
   "metadata": {},
   "outputs": [
    {
     "data": {
      "image/png": "[encoded data removed]",
      "text/latex": [
       "$$A \\cos{\\left (5 x \\right )} + B \\sin{\\left (5 x \\right )}$$"
      ],
      "text/plain": [
       "A⋅cos(5⋅x) + B⋅sin(5⋅x)"
      ]
     },
     "execution_count": 149,
     "metadata": {},
     "output_type": "execute_result"
    }
   ],
   "source": [
    "A,B=symbols(\"A B\")\n",
    "form=A*cos(5*x)+B*sin(5*x)\n",
    "form"
   ]
  },
  {
   "cell_type": "code",
   "execution_count": 150,
   "metadata": {},
   "outputs": [
    {
     "data": {
      "image/png": "[encoded data removed]",
      "text/latex": [
       "$$A \\cos{\\left (5 x \\right )} + B \\sin{\\left (5 x \\right )} + \\frac{\\partial^{2}}{\\partial x^{2}} \\left(A \\cos{\\left (5 x \\right )} + B \\sin{\\left (5 x \\right )}\\right) = \\sin{\\left (5 x \\right )}$$"
      ],
      "text/plain": [
       "                            2                                    \n",
       "                           ∂                                     \n",
       "A⋅cos(5⋅x) + B⋅sin(5⋅x) + ───(A⋅cos(5⋅x) + B⋅sin(5⋅x)) = sin(5⋅x)\n",
       "                            2                                    \n",
       "                          ∂x                                     "
      ]
     },
     "execution_count": 150,
     "metadata": {},
     "output_type": "execute_result"
    }
   ],
   "source": [
    "ddform=gl.subs(y(x),form)\n",
    "ddform"
   ]
  },
  {
   "cell_type": "code",
   "execution_count": 151,
   "metadata": {},
   "outputs": [
    {
     "data": {
      "image/png": "[encoded data removed]",
      "text/latex": [
       "$$\\sin{\\left (5 x \\right )} = - 24 A \\cos{\\left (5 x \\right )} - 24 B \\sin{\\left (5 x \\right )}$$"
      ],
      "text/plain": [
       "sin(5⋅x) = -24⋅A⋅cos(5⋅x) - 24⋅B⋅sin(5⋅x)"
      ]
     },
     "execution_count": 151,
     "metadata": {},
     "output_type": "execute_result"
    }
   ],
   "source": [
    "ddform=ddform.doit()\n",
    "ddform=ddform.simplify()\n",
    "ddform"
   ]
  },
  {
   "cell_type": "markdown",
   "metadata": {},
   "source": [
    "Daher kriegen wir den Gleichung\n",
    "$$-24A=0;\\\\ -24B=1 \\\\\\implies$$"
   ]
  },
  {
   "cell_type": "code",
   "execution_count": 152,
   "metadata": {},
   "outputs": [
    {
     "data": {
      "image/png": "[encoded data removed]",
      "text/latex": [
       "$$\\left [ - \\frac{1}{24}\\right ]$$"
      ],
      "text/plain": [
       "[-1/24]"
      ]
     },
     "execution_count": 152,
     "metadata": {},
     "output_type": "execute_result"
    }
   ],
   "source": [
    "bb = solve(-24*B-1,B)\n",
    "bb"
   ]
  },
  {
   "cell_type": "markdown",
   "metadata": {},
   "source": [
    "$$A=0;B=-1/24$$\n",
    "$$\\implies$$\n",
    "$$y_s=-\\frac{1}{24}sin(5x)$$"
   ]
  },
  {
   "cell_type": "markdown",
   "metadata": {},
   "source": [
    "#### 5.2.3 Lösung"
   ]
  },
  {
   "cell_type": "markdown",
   "metadata": {
    "collapsed": true
   },
   "source": [
    "$$y=y_s+y_h $$\n",
    "$$y=-\\frac{1}{24}sin(5x)+c_1e^{-ix}+c_2e^{ix}$$"
   ]
  },
  {
   "cell_type": "markdown",
   "metadata": {},
   "source": [
    "Überprüfung:"
   ]
  },
  {
   "cell_type": "code",
   "execution_count": 153,
   "metadata": {},
   "outputs": [
    {
     "data": {
      "image/png": "[encoded data removed]",
      "text/latex": [
       "$$c_{1} e^{- i x} + c_{2} e^{i x} - \\frac{1}{24} \\sin{\\left (5 x \\right )}$$"
      ],
      "text/plain": [
       "    -ⅈ⋅x       ⅈ⋅x   sin(5⋅x)\n",
       "c₁⋅ℯ     + c₂⋅ℯ    - ────────\n",
       "                        24   "
      ]
     },
     "execution_count": 153,
     "metadata": {},
     "output_type": "execute_result"
    }
   ],
   "source": [
    "c1,c2=symbols(\"c1 c2\")\n",
    "full=bb[0]*sin(5*x)+c1*E**(-I*x)+c2*E**(I*x)\n",
    "full"
   ]
  },
  {
   "cell_type": "markdown",
   "metadata": {},
   "source": [
    "$$y''+y=sin(5x)$$"
   ]
  },
  {
   "cell_type": "code",
   "execution_count": 154,
   "metadata": {},
   "outputs": [
    {
     "data": {
      "image/png": "[encoded data removed]",
      "text/latex": [
       "$$\\sin{\\left (5 x \\right )}$$"
      ],
      "text/plain": [
       "sin(5⋅x)"
      ]
     },
     "execution_count": 154,
     "metadata": {},
     "output_type": "execute_result"
    }
   ],
   "source": [
    "d(d(full,x),x).doit()+full"
   ]
  },
  {
   "cell_type": "markdown",
   "metadata": {},
   "source": [
    "### Berechnung von $c_1,c_2$ \n",
    "$$y''+y=sin(5x)$$\n",
    "$$y(0)=1;\\\\y'(0)=2$$"
   ]
  },
  {
   "cell_type": "code",
   "execution_count": 155,
   "metadata": {},
   "outputs": [
    {
     "data": {
      "image/png": "[encoded data removed]",
      "text/latex": [
       "$$y{\\left (x \\right )} = c_{1} e^{- i x} + c_{2} e^{i x} - \\frac{1}{24} \\sin{\\left (5 x \\right )}$$"
      ],
      "text/plain": [
       "           -ⅈ⋅x       ⅈ⋅x   sin(5⋅x)\n",
       "y(x) = c₁⋅ℯ     + c₂⋅ℯ    - ────────\n",
       "                               24   "
      ]
     },
     "execution_count": 155,
     "metadata": {},
     "output_type": "execute_result"
    }
   ],
   "source": [
    "c1,c2=symbols(\"c1 c2\")\n",
    "full=bb[0]*sin(5*x)+c1*E**(-I*x)+c2*E**(I*x)\n",
    "\n",
    "e1=full\n",
    "Eq(y(x),e1)"
   ]
  },
  {
   "cell_type": "code",
   "execution_count": 156,
   "metadata": {},
   "outputs": [
    {
     "data": {
      "image/png": "[encoded data removed]",
      "text/latex": [
       "$$\\frac{d}{d x} y{\\left (x \\right )} = - i c_{1} e^{- i x} + i c_{2} e^{i x} - \\frac{5}{24} \\cos{\\left (5 x \\right )}$$"
      ],
      "text/plain": [
       "d                  -ⅈ⋅x         ⅈ⋅x   5⋅cos(5⋅x)\n",
       "──(y(x)) = - ⅈ⋅c₁⋅ℯ     + ⅈ⋅c₂⋅ℯ    - ──────────\n",
       "dx                                        24    "
      ]
     },
     "execution_count": 156,
     "metadata": {},
     "output_type": "execute_result"
    }
   ],
   "source": [
    "e2=d(e1,x).doit()\n",
    "Eq(d(y(x),x),e2)"
   ]
  },
  {
   "cell_type": "markdown",
   "metadata": {},
   "source": [
    "#### Teillösungen\n",
    "Wir haben zwei Gleichungen. In beidem,\n",
    "$$y(0)=1;\\\\y'(0)=2$$"
   ]
  },
  {
   "cell_type": "code",
   "execution_count": 157,
   "metadata": {},
   "outputs": [
    {
     "data": {
      "image/png": "[encoded data removed]",
      "text/latex": [
       "$$c_{1} + c_{2} = 1$$"
      ],
      "text/plain": [
       "c₁ + c₂ = 1"
      ]
     },
     "execution_count": 157,
     "metadata": {},
     "output_type": "execute_result"
    }
   ],
   "source": [
    "e1=e1.subs(x,0)\n",
    "eq1=Eq(e1,1)\n",
    "eq1"
   ]
  },
  {
   "cell_type": "code",
   "execution_count": 158,
   "metadata": {},
   "outputs": [
    {
     "data": {
      "image/png": "[encoded data removed]",
      "text/latex": [
       "$$- i c_{1} + i c_{2} - \\frac{5}{24} = 2$$"
      ],
      "text/plain": [
       "-ⅈ⋅c₁ + ⅈ⋅c₂ - 5/24 = 2"
      ]
     },
     "execution_count": 158,
     "metadata": {},
     "output_type": "execute_result"
    }
   ],
   "source": [
    "e2=e2.subs(x,0)\n",
    "eq2=Eq(e2,2)\n",
    "eq2\n"
   ]
  },
  {
   "cell_type": "markdown",
   "metadata": {},
   "source": [
    "Wir lösen den Gleichungssystem"
   ]
  },
  {
   "cell_type": "code",
   "execution_count": 159,
   "metadata": {
    "scrolled": true
   },
   "outputs": [
    {
     "data": {
      "image/png": "[encoded data removed]",
      "text/latex": [
       "$$\\left \\{ c_{1} : \\frac{1}{2} + \\frac{53 i}{48}, \\quad c_{2} : \\frac{1}{2} - \\frac{53 i}{48}\\right \\}$$"
      ],
      "text/plain": [
       "⎧    1   53⋅ⅈ      1   53⋅ⅈ⎫\n",
       "⎨c₁: ─ + ────, c₂: ─ - ────⎬\n",
       "⎩    2    48       2    48 ⎭"
      ]
     },
     "execution_count": 159,
     "metadata": {},
     "output_type": "execute_result"
    }
   ],
   "source": [
    "res=solve([eq1,eq2],[c1,c2])\n",
    "res"
   ]
  },
  {
   "cell_type": "markdown",
   "metadata": {},
   "source": [
    "Und für dem Fall \n",
    "$$y(0)=1;\\\\y'(0)=2$$\n",
    "wir bekommen die Folgende $y(x)$: "
   ]
  },
  {
   "cell_type": "code",
   "execution_count": 160,
   "metadata": {},
   "outputs": [
    {
     "data": {
      "image/png": "[encoded data removed]",
      "text/latex": [
       "$$c_{1} e^{- i x} + c_{2} e^{i x} - \\frac{1}{24} \\sin{\\left (5 x \\right )}$$"
      ],
      "text/plain": [
       "    -ⅈ⋅x       ⅈ⋅x   sin(5⋅x)\n",
       "c₁⋅ℯ     + c₂⋅ℯ    - ────────\n",
       "                        24   "
      ]
     },
     "execution_count": 160,
     "metadata": {},
     "output_type": "execute_result"
    }
   ],
   "source": [
    "full"
   ]
  },
  {
   "cell_type": "code",
   "execution_count": 161,
   "metadata": {},
   "outputs": [
    {
     "data": {
      "image/png": "[encoded data removed]",
      "text/latex": [
       "$$\\left(\\frac{1}{2} - \\frac{53 i}{48}\\right) e^{i x} - \\frac{1}{24} \\sin{\\left (5 x \\right )} + \\left(\\frac{1}{2} + \\frac{53 i}{48}\\right) e^{- i x}$$"
      ],
      "text/plain": [
       "⎛1   53⋅ⅈ⎞  ⅈ⋅x   sin(5⋅x)   ⎛1   53⋅ⅈ⎞  -ⅈ⋅x\n",
       "⎜─ - ────⎟⋅ℯ    - ──────── + ⎜─ + ────⎟⋅ℯ    \n",
       "⎝2    48 ⎠           24      ⎝2    48 ⎠      "
      ]
     },
     "execution_count": 161,
     "metadata": {},
     "output_type": "execute_result"
    }
   ],
   "source": [
    "full=full.subs(c1,res[c1])\n",
    "full=full.subs(c2,res[c2])\n",
    "full"
   ]
  },
  {
   "cell_type": "markdown",
   "metadata": {},
   "source": [
    "Überprüfung:"
   ]
  },
  {
   "cell_type": "code",
   "execution_count": 162,
   "metadata": {},
   "outputs": [
    {
     "data": {
      "image/png": "[encoded data removed]",
      "text/latex": [
       "$$1$$"
      ],
      "text/plain": [
       "1"
      ]
     },
     "execution_count": 162,
     "metadata": {},
     "output_type": "execute_result"
    }
   ],
   "source": [
    "full.subs(x,0).simplify()"
   ]
  },
  {
   "cell_type": "code",
   "execution_count": 163,
   "metadata": {},
   "outputs": [
    {
     "data": {
      "image/png": "[encoded data removed]",
      "text/latex": [
       "$$2$$"
      ],
      "text/plain": [
       "2"
      ]
     },
     "execution_count": 163,
     "metadata": {},
     "output_type": "execute_result"
    }
   ],
   "source": [
    "d(full,x).doit().subs(x,0).simplify()"
   ]
  },
  {
   "cell_type": "markdown",
   "metadata": {},
   "source": [
    "### 5.2.2 Die Gleichung $y''-4y'+4y=e^{2x}$\n",
    "#### 5.2.2.1 Allgemeine Lösung\n",
    "$y''-4y'+4y=0$"
   ]
  },
  {
   "cell_type": "code",
   "execution_count": 164,
   "metadata": {},
   "outputs": [
    {
     "data": {
      "image/png": "[encoded data removed]",
      "text/latex": [
       "$$4 y{\\left (x \\right )} - 4 \\frac{d}{d x} y{\\left (x \\right )} + \\frac{d^{2}}{d x^{2}} y{\\left (x \\right )}$$"
      ],
      "text/plain": [
       "                        2      \n",
       "           d           d       \n",
       "4⋅y(x) - 4⋅──(y(x)) + ───(y(x))\n",
       "           dx           2      \n",
       "                      dx       "
      ]
     },
     "execution_count": 164,
     "metadata": {},
     "output_type": "execute_result"
    }
   ],
   "source": [
    "eq=d(d(y(x),x),x)-4*d(y(x),x)+4*y(x);\n",
    "eq"
   ]
  },
  {
   "cell_type": "code",
   "execution_count": 165,
   "metadata": {},
   "outputs": [
    {
     "data": {
      "image/png": "[encoded data removed]",
      "text/latex": [
       "$$\\left [ 2\\right ]$$"
      ],
      "text/plain": [
       "[2]"
      ]
     },
     "execution_count": 165,
     "metadata": {},
     "output_type": "execute_result"
    }
   ],
   "source": [
    "l=Symbol(\"l\")\n",
    "r=l**2-4*l+4\n",
    "lamb=solve(r)\n",
    "lamb"
   ]
  },
  {
   "cell_type": "markdown",
   "metadata": {},
   "source": [
    "$\\implies \\lambda_{1,2}=2$"
   ]
  },
  {
   "cell_type": "code",
   "execution_count": 166,
   "metadata": {},
   "outputs": [
    {
     "data": {
      "image/png": "[encoded data removed]",
      "text/latex": [
       "$$y{\\left (x \\right )} = c_{1} x e^{2 x} + c_{2} e^{2 x}$$"
      ],
      "text/plain": [
       "             2⋅x       2⋅x\n",
       "y(x) = c₁⋅x⋅ℯ    + c₂⋅ℯ   "
      ]
     },
     "execution_count": 166,
     "metadata": {},
     "output_type": "execute_result"
    }
   ],
   "source": [
    "c1,c2=symbols(\"c1,c2\")\n",
    "allg=c1*x*E**(2*x)+c2*E**(2*x)\n",
    "allgs=Eq(y(x),c1*x*E**(2*x)+c2*E**(2*x))\n",
    "#a2=c1*x*E**(2*x)+c2*E**(2*x)\n",
    "allgs"
   ]
  },
  {
   "cell_type": "markdown",
   "metadata": {},
   "source": [
    "$y_h=c_1xe^{2x}+c_2e^{2x}$"
   ]
  },
  {
   "cell_type": "markdown",
   "metadata": {},
   "source": [
    "#### 5.2.2.2 Spezielle Lösung\n",
    "$y''-4y'+4y=e^{2x}$\n",
    "\n",
    "Ansatz $y(x)=x^2Ae^{2x}$"
   ]
  },
  {
   "cell_type": "code",
   "execution_count": 167,
   "metadata": {},
   "outputs": [
    {
     "data": {
      "image/png": "[encoded data removed]",
      "text/latex": [
       "$$4 y{\\left (x \\right )} - e^{2 x} - 4 \\frac{d}{d x} y{\\left (x \\right )} + \\frac{d^{2}}{d x^{2}} y{\\left (x \\right )}$$"
      ],
      "text/plain": [
       "                               2      \n",
       "          2⋅x     d           d       \n",
       "4⋅y(x) - ℯ    - 4⋅──(y(x)) + ───(y(x))\n",
       "                  dx           2      \n",
       "                             dx       "
      ]
     },
     "execution_count": 167,
     "metadata": {},
     "output_type": "execute_result"
    }
   ],
   "source": [
    "A=symbols(\"A\")\n",
    "ans=x**2*A*E**(2*x)\n",
    "#ans=x*A*E**(2*x)\n",
    "eq=d(d(y(x),x),x)-4*d(y(x),x)+4*y(x)-E**(2*x)\n",
    "eq"
   ]
  },
  {
   "cell_type": "code",
   "execution_count": 168,
   "metadata": {},
   "outputs": [
    {
     "data": {
      "image/png": "[encoded data removed]",
      "text/latex": [
       "$$4 A x^{2} e^{2 x} - e^{2 x} - 4 \\frac{\\partial}{\\partial x} A x^{2} e^{2 x} + \\frac{\\partial^{2}}{\\partial x^{2}} A x^{2} e^{2 x}$$"
      ],
      "text/plain": [
       "                                         2           \n",
       "     2  2⋅x    2⋅x     ∂ ⎛   2  2⋅x⎞    ∂ ⎛   2  2⋅x⎞\n",
       "4⋅A⋅x ⋅ℯ    - ℯ    - 4⋅──⎝A⋅x ⋅ℯ   ⎠ + ───⎝A⋅x ⋅ℯ   ⎠\n",
       "                       ∂x                2           \n",
       "                                       ∂x            "
      ]
     },
     "execution_count": 168,
     "metadata": {},
     "output_type": "execute_result"
    }
   ],
   "source": [
    "seq=eq.subs(y(x),ans)\n",
    "seq"
   ]
  },
  {
   "cell_type": "code",
   "execution_count": 169,
   "metadata": {},
   "outputs": [
    {
     "data": {
      "image/png": "[encoded data removed]",
      "text/latex": [
       "$$- 4 A x^{2} e^{2 x} - 8 A x e^{2 x} + 2 A \\left(2 x^{2} + 4 x + 1\\right) e^{2 x} - e^{2 x}$$"
      ],
      "text/plain": [
       "       2  2⋅x          2⋅x       ⎛   2          ⎞  2⋅x    2⋅x\n",
       "- 4⋅A⋅x ⋅ℯ    - 8⋅A⋅x⋅ℯ    + 2⋅A⋅⎝2⋅x  + 4⋅x + 1⎠⋅ℯ    - ℯ   "
      ]
     },
     "execution_count": 169,
     "metadata": {},
     "output_type": "execute_result"
    }
   ],
   "source": [
    "seq=seq.doit()\n",
    "seq"
   ]
  },
  {
   "cell_type": "code",
   "execution_count": 170,
   "metadata": {},
   "outputs": [
    {
     "data": {
      "image/png": "[encoded data removed]",
      "text/latex": [
       "$$\\left(2 A - 1\\right) e^{2 x}$$"
      ],
      "text/plain": [
       "           2⋅x\n",
       "(2⋅A - 1)⋅ℯ   "
      ]
     },
     "execution_count": 170,
     "metadata": {},
     "output_type": "execute_result"
    }
   ],
   "source": [
    "seq.simplify()"
   ]
  },
  {
   "cell_type": "code",
   "execution_count": 171,
   "metadata": {},
   "outputs": [
    {
     "data": {
      "image/png": "[encoded data removed]",
      "text/latex": [
       "$$\\left [ \\frac{1}{2}\\right ]$$"
      ],
      "text/plain": [
       "[1/2]"
      ]
     },
     "execution_count": 171,
     "metadata": {},
     "output_type": "execute_result"
    }
   ],
   "source": [
    "#solve(seq,A)[0].doit().simplify()\n",
    "solve(seq,A)"
   ]
  },
  {
   "cell_type": "markdown",
   "metadata": {},
   "source": [
    "$A=0.5 \\implies $"
   ]
  },
  {
   "cell_type": "code",
   "execution_count": 172,
   "metadata": {},
   "outputs": [
    {
     "data": {
      "image/png": "[encoded data removed]",
      "text/latex": [
       "$$0.5 x^{2} e^{2 x}$$"
      ],
      "text/plain": [
       "     2  2⋅x\n",
       "0.5⋅x ⋅ℯ   "
      ]
     },
     "execution_count": 172,
     "metadata": {},
     "output_type": "execute_result"
    }
   ],
   "source": [
    "ys=ans.subs(A,1/2)\n",
    "ys"
   ]
  },
  {
   "cell_type": "markdown",
   "metadata": {},
   "source": [
    "$y=y_h+y_s \\implies$"
   ]
  },
  {
   "cell_type": "code",
   "execution_count": 173,
   "metadata": {},
   "outputs": [
    {
     "data": {
      "image/png": "[encoded data removed]",
      "text/latex": [
       "$$c_{1} x e^{2 x} + c_{2} e^{2 x} + 0.5 x^{2} e^{2 x}$$"
      ],
      "text/plain": [
       "      2⋅x       2⋅x        2  2⋅x\n",
       "c₁⋅x⋅ℯ    + c₂⋅ℯ    + 0.5⋅x ⋅ℯ   "
      ]
     },
     "execution_count": 173,
     "metadata": {},
     "output_type": "execute_result"
    }
   ],
   "source": [
    "f=ys+allg\n",
    "f"
   ]
  },
  {
   "cell_type": "markdown",
   "metadata": {},
   "source": [
    "Überprüfung:"
   ]
  },
  {
   "cell_type": "code",
   "execution_count": 174,
   "metadata": {},
   "outputs": [
    {
     "data": {
      "image/png": "[encoded data removed]",
      "text/latex": [
       "$$y{\\left (x \\right )} = \\left(C_{1} + C_{2} x + \\frac{x^{2}}{2}\\right) e^{2 x}$$"
      ],
      "text/plain": [
       "       ⎛             2⎞     \n",
       "       ⎜            x ⎟  2⋅x\n",
       "y(x) = ⎜C₁ + C₂⋅x + ──⎟⋅ℯ   \n",
       "       ⎝            2 ⎠     "
      ]
     },
     "execution_count": 174,
     "metadata": {},
     "output_type": "execute_result"
    }
   ],
   "source": [
    "dsolve(eq)"
   ]
  },
  {
   "cell_type": "code",
   "execution_count": 175,
   "metadata": {},
   "outputs": [
    {
     "data": {
      "image/png": "[encoded data removed]",
      "text/latex": [
       "$$y{\\left (x \\right )} = \\left(c_{1} x + c_{2} + \\frac{x^{2}}{2}\\right) e^{2 x}$$"
      ],
      "text/plain": [
       "       ⎛             2⎞     \n",
       "       ⎜            x ⎟  2⋅x\n",
       "y(x) = ⎜c₁⋅x + c₂ + ──⎟⋅ℯ   \n",
       "       ⎝            2 ⎠     "
      ]
     },
     "execution_count": 175,
     "metadata": {},
     "output_type": "execute_result"
    }
   ],
   "source": [
    "C1,C2=symbols(\"C1 C2\")\n",
    "ff=Eq(y(x),f)\n",
    "res=dsolve(eq).subs(C2,c1).subs(C1,c2)\n",
    "res"
   ]
  },
  {
   "cell_type": "code",
   "execution_count": 176,
   "metadata": {},
   "outputs": [
    {
     "data": {
      "image/png": "[encoded data removed]",
      "text/latex": [
       "$$y{\\left (x \\right )} = \\left(c_{1} x + c_{2} + 0.5 x^{2}\\right) e^{2 x}$$"
      ],
      "text/plain": [
       "       ⎛                 2⎞  2⋅x\n",
       "y(x) = ⎝c₁⋅x + c₂ + 0.5⋅x ⎠⋅ℯ   "
      ]
     },
     "execution_count": 176,
     "metadata": {},
     "output_type": "execute_result"
    }
   ],
   "source": [
    "ff=ff.simplify()\n",
    "ff"
   ]
  },
  {
   "cell_type": "code",
   "execution_count": 177,
   "metadata": {},
   "outputs": [
    {
     "data": {
      "text/plain": [
       "True"
      ]
     },
     "execution_count": 177,
     "metadata": {},
     "output_type": "execute_result"
    }
   ],
   "source": [
    "ff==res"
   ]
  }
 ],
 "metadata": {
  "kernelspec": {
   "display_name": "Python 3",
   "language": "python",
   "name": "python3"
  },
  "language_info": {
   "codemirror_mode": {
    "name": "ipython",
    "version": 3
   },
   "file_extension": ".py",
   "mimetype": "text/x-python",
   "name": "python",
   "nbconvert_exporter": "python",
   "pygments_lexer": "ipython3",
   "version": "3.6.4"
  }
 },
 "nbformat": 4,
 "nbformat_minor": 2
}
