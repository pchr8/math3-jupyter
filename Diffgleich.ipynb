{
 "cells": [
  {
   "cell_type": "markdown",
   "metadata": {},
   "source": [
    "# 5. Differentialgleichungen 1. und 2. Ordnung"
   ]
  },
  {
   "cell_type": "code",
   "execution_count": 61,
   "metadata": {
    "collapsed": true
   },
   "outputs": [],
   "source": [
    "from sympy import *\n",
    "from sympy import Derivative as d\n",
    "init_printing()"
   ]
  },
  {
   "cell_type": "code",
   "execution_count": 62,
   "metadata": {
    "collapsed": true
   },
   "outputs": [],
   "source": [
    "y=Function('y')\n",
    "x=Symbol('x')\n",
    "z=Symbol('z')"
   ]
  },
  {
   "cell_type": "markdown",
   "metadata": {},
   "source": [
    "## 5.1 Gleichungen 1. Ordnung\n",
    "### 5.1.1 Trennung der Veranderlichen"
   ]
  },
  {
   "cell_type": "code",
   "execution_count": 63,
   "metadata": {
    "collapsed": true
   },
   "outputs": [],
   "source": [
    "from sympy import *\n",
    "from sympy import Derivative as d\n",
    "init_printing()"
   ]
  },
  {
   "cell_type": "code",
   "execution_count": 64,
   "metadata": {
    "collapsed": true
   },
   "outputs": [],
   "source": [
    "x=Symbol('x')\n",
    "y=Symbol('y')"
   ]
  },
  {
   "cell_type": "markdown",
   "metadata": {},
   "source": [
    "$$y''=7x^2e^{-y}$$"
   ]
  },
  {
   "cell_type": "code",
   "execution_count": 65,
   "metadata": {
    "collapsed": true
   },
   "outputs": [],
   "source": [
    "gleichung=Eq(d(y(x)),7*x**2/E**y(x))"
   ]
  },
  {
   "cell_type": "code",
   "execution_count": 66,
   "metadata": {},
   "outputs": [
    {
     "data": {
      "image/png": "[encoded data removed]",
      "text/latex": [
       "$$\\frac{d}{d x} y{\\left (x \\right )} = 7 x^{2} e^{- y{\\left (x \\right )}}$$"
      ],
      "text/plain": [
       "d             2  -y(x)\n",
       "──(y(x)) = 7⋅x ⋅ℯ     \n",
       "dx                    "
      ]
     },
     "execution_count": 66,
     "metadata": {},
     "output_type": "execute_result"
    }
   ],
   "source": [
    "gleichung"
   ]
  },
  {
   "cell_type": "markdown",
   "metadata": {},
   "source": [
    "Wir trennen die Veränderlichen:\n",
    "$$ \\frac{dx}{dy}=7x^2e^{-y(x)} $$\n",
    "$$ e^ydy=7x^2dx $$\n",
    "und integrieren beide Seiten:"
   ]
  },
  {
   "cell_type": "code",
   "execution_count": 67,
   "metadata": {},
   "outputs": [
    {
     "data": {
      "image/png": "[encoded data removed]",
      "text/latex": [
       "$$e^{y}$$"
      ],
      "text/plain": [
       " y\n",
       "ℯ "
      ]
     },
     "execution_count": 67,
     "metadata": {},
     "output_type": "execute_result"
    }
   ],
   "source": [
    "integrate(E**y,y)"
   ]
  },
  {
   "cell_type": "code",
   "execution_count": 68,
   "metadata": {},
   "outputs": [
    {
     "data": {
      "image/png": "[encoded data removed]",
      "text/latex": [
       "$$\\frac{7 x^{3}}{3}$$"
      ],
      "text/plain": [
       "   3\n",
       "7⋅x \n",
       "────\n",
       " 3  "
      ]
     },
     "execution_count": 68,
     "metadata": {},
     "output_type": "execute_result"
    }
   ],
   "source": [
    "r=integrate(7*x**2,x)\n",
    "r"
   ]
  },
  {
   "cell_type": "code",
   "execution_count": 69,
   "metadata": {},
   "outputs": [
    {
     "data": {
      "image/png": "[encoded data removed]",
      "text/latex": [
       "$$e^{y{\\left (x \\right )}} = c + \\frac{7 x^{3}}{3}$$"
      ],
      "text/plain": [
       "               3\n",
       " y(x)       7⋅x \n",
       "ℯ     = c + ────\n",
       "             3  "
      ]
     },
     "execution_count": 69,
     "metadata": {},
     "output_type": "execute_result"
    }
   ],
   "source": [
    "y=Function('y')\n",
    "c=Symbol('c')\n",
    "fin=Eq(E**y(x),r+c)\n",
    "fin"
   ]
  },
  {
   "cell_type": "code",
   "execution_count": 70,
   "metadata": {},
   "outputs": [
    {
     "data": {
      "image/png": "[encoded data removed]",
      "text/latex": [
       "$$\\left [ \\log{\\left (c + \\frac{7 x^{3}}{3} \\right )}\\right ]$$"
      ],
      "text/plain": [
       "⎡   ⎛       3⎞⎤\n",
       "⎢   ⎜    7⋅x ⎟⎥\n",
       "⎢log⎜c + ────⎟⎥\n",
       "⎣   ⎝     3  ⎠⎦"
      ]
     },
     "execution_count": 70,
     "metadata": {},
     "output_type": "execute_result"
    }
   ],
   "source": [
    "solve(fin,y(x))"
   ]
  },
  {
   "cell_type": "markdown",
   "metadata": {},
   "source": [
    "Überprüfung:"
   ]
  },
  {
   "cell_type": "code",
   "execution_count": 71,
   "metadata": {},
   "outputs": [
    {
     "data": {
      "image/png": "[encoded data removed]",
      "text/latex": [
       "$$y{\\left (x \\right )} = \\log{\\left (C_{1} + \\frac{7 x^{3}}{3} \\right )}$$"
      ],
      "text/plain": [
       "          ⎛        3⎞\n",
       "          ⎜     7⋅x ⎟\n",
       "y(x) = log⎜C₁ + ────⎟\n",
       "          ⎝      3  ⎠"
      ]
     },
     "execution_count": 71,
     "metadata": {},
     "output_type": "execute_result"
    }
   ],
   "source": [
    "dsolve(gleichung)"
   ]
  },
  {
   "cell_type": "markdown",
   "metadata": {},
   "source": [
    "### 5.1.2 Integrations Faktor"
   ]
  },
  {
   "cell_type": "code",
   "execution_count": 72,
   "metadata": {},
   "outputs": [
    {
     "data": {
      "image/png": "[encoded data removed]",
      "text/latex": [
       "$$\\frac{d}{d x} y{\\left (x \\right )} + \\frac{1}{x} y{\\left (x \\right )} = x^{2} + 9$$"
      ],
      "text/plain": [
       "d          y(x)    2    \n",
       "──(y(x)) + ──── = x  + 9\n",
       "dx          x           "
      ]
     },
     "execution_count": 72,
     "metadata": {},
     "output_type": "execute_result"
    }
   ],
   "source": [
    "y=Function('y')\n",
    "c=Symbol('c')\n",
    "x=Symbol('x')\n",
    "\n",
    "gl=Eq(d(y(x))+y(x)/x,x**2+9)\n",
    "gl"
   ]
  },
  {
   "cell_type": "markdown",
   "metadata": {},
   "source": [
    "Integrationsfaktor:"
   ]
  },
  {
   "cell_type": "code",
   "execution_count": 73,
   "metadata": {},
   "outputs": [
    {
     "data": {
      "image/png": "[encoded data removed]",
      "text/latex": [
       "$$x$$"
      ],
      "text/plain": [
       "x"
      ]
     },
     "execution_count": 73,
     "metadata": {},
     "output_type": "execute_result"
    }
   ],
   "source": [
    "ifa=E**(integrate(1/x,x))\n",
    "ifa"
   ]
  },
  {
   "cell_type": "markdown",
   "metadata": {},
   "source": [
    "Nach Transofrmierungen wir becommen:\n",
    "$$(xy)'=x*(x^2+9)$$\n",
    "$$(xy)'=(x^3+9x)$$\n",
    "Wir integrieren beide Seiten:\n",
    "$$\\int{(xy)'}=xy$$"
   ]
  },
  {
   "cell_type": "code",
   "execution_count": 74,
   "metadata": {},
   "outputs": [
    {
     "data": {
      "image/png": "[encoded data removed]",
      "text/latex": [
       "$$\\frac{x^{4}}{4} + \\frac{9 x^{2}}{2}$$"
      ],
      "text/plain": [
       " 4      2\n",
       "x    9⋅x \n",
       "── + ────\n",
       "4     2  "
      ]
     },
     "execution_count": 74,
     "metadata": {},
     "output_type": "execute_result"
    }
   ],
   "source": [
    "ii=integrate((x**3+9*x),x)\n",
    "ii"
   ]
  },
  {
   "cell_type": "code",
   "execution_count": 75,
   "metadata": {},
   "outputs": [
    {
     "data": {
      "image/png": "[encoded data removed]",
      "text/latex": [
       "$$x y{\\left (x \\right )} = c + \\frac{x^{4}}{4} + \\frac{9 x^{2}}{2}$$"
      ],
      "text/plain": [
       "              4      2\n",
       "             x    9⋅x \n",
       "x⋅y(x) = c + ── + ────\n",
       "             4     2  "
      ]
     },
     "execution_count": 75,
     "metadata": {},
     "output_type": "execute_result"
    }
   ],
   "source": [
    "ii=ii+c #integration\n",
    "\n",
    "iii=Eq(x*y(x),ii)\n",
    "iii"
   ]
  },
  {
   "cell_type": "markdown",
   "metadata": {},
   "source": [
    "Wir teilen beide Seiten nach x:"
   ]
  },
  {
   "cell_type": "code",
   "execution_count": 76,
   "metadata": {},
   "outputs": [
    {
     "data": {
      "image/png": "[encoded data removed]",
      "text/latex": [
       "$$y{\\left (x \\right )} = \\frac{1}{x} \\left(c + \\frac{x^{4}}{4} + \\frac{9 x^{2}}{2}\\right)$$"
      ],
      "text/plain": [
       "            4      2\n",
       "           x    9⋅x \n",
       "       c + ── + ────\n",
       "           4     2  \n",
       "y(x) = ─────────────\n",
       "             x      "
      ]
     },
     "execution_count": 76,
     "metadata": {},
     "output_type": "execute_result"
    }
   ],
   "source": [
    "ii=ii/x;\n",
    "iiii=Eq(y(x),ii)\n",
    "iiii"
   ]
  },
  {
   "cell_type": "code",
   "execution_count": 77,
   "metadata": {},
   "outputs": [
    {
     "data": {
      "image/png": "[encoded data removed]",
      "text/latex": [
       "$$y{\\left (x \\right )} = \\frac{c}{x} + \\frac{x^{3}}{4} + \\frac{9 x}{2}$$"
      ],
      "text/plain": [
       "            3      \n",
       "       c   x    9⋅x\n",
       "y(x) = ─ + ── + ───\n",
       "       x   4     2 "
      ]
     },
     "execution_count": 77,
     "metadata": {},
     "output_type": "execute_result"
    }
   ],
   "source": [
    "iiii=simplify(iiii)\n",
    "iiii"
   ]
  },
  {
   "cell_type": "markdown",
   "metadata": {},
   "source": [
    "Überprüfung:"
   ]
  },
  {
   "cell_type": "code",
   "execution_count": 78,
   "metadata": {},
   "outputs": [
    {
     "data": {
      "image/png": "[encoded data removed]",
      "text/latex": [
       "$$y{\\left (x \\right )} = \\frac{C_{1}}{x} + \\frac{x^{3}}{4} + \\frac{9 x}{2}$$"
      ],
      "text/plain": [
       "             3      \n",
       "       C₁   x    9⋅x\n",
       "y(x) = ── + ── + ───\n",
       "       x    4     2 "
      ]
     },
     "execution_count": 78,
     "metadata": {},
     "output_type": "execute_result"
    }
   ],
   "source": [
    "auto=dsolve(gl)\n",
    "auto"
   ]
  },
  {
   "cell_type": "markdown",
   "metadata": {},
   "source": [
    "## 5.2 Gleichungen 2. Ordnung\n",
    "###  Complexen Nullstellen der charakteristischen Gleichung\n",
    "\n",
    "$$y''+y=sin(5x) $$\n",
    "$$y(0)=1$$\n",
    "$$y'(0)=2$$\n",
    "\n",
    "#### 5.2.1 Allgemeine lösung"
   ]
  },
  {
   "cell_type": "markdown",
   "metadata": {},
   "source": [
    "\n",
    "Allgemeine Lösung: $$y''+y=0$$"
   ]
  },
  {
   "cell_type": "code",
   "execution_count": 79,
   "metadata": {},
   "outputs": [
    {
     "data": {
      "image/png": "[encoded data removed]",
      "text/latex": [
       "$$D^{2} + 1$$"
      ],
      "text/plain": [
       " 2    \n",
       "D  + 1"
      ]
     },
     "execution_count": 79,
     "metadata": {},
     "output_type": "execute_result"
    }
   ],
   "source": [
    "from sympy import *\n",
    "from sympy import Derivative as d\n",
    "init_printing()\n",
    "\n",
    "D=Symbol(\"D\")\n",
    "eq=D**2+1;\n",
    "eq\n"
   ]
  },
  {
   "cell_type": "code",
   "execution_count": 80,
   "metadata": {},
   "outputs": [
    {
     "data": {
      "image/png": "[encoded data removed]",
      "text/latex": [
       "$$\\left [ - i, \\quad i\\right ]$$"
      ],
      "text/plain": [
       "[-ⅈ, ⅈ]"
      ]
     },
     "execution_count": 80,
     "metadata": {},
     "output_type": "execute_result"
    }
   ],
   "source": [
    "roots=solve(eq)\n",
    "roots"
   ]
  },
  {
   "cell_type": "markdown",
   "metadata": {},
   "source": [
    "=> $$(D^2+1)y=0$$\n",
    "$$(D+i)(D-i)y=0$$\n",
    "\n",
    "Seit\n",
    "$$D-\\lambda_i=e^{\\lambda_ix}De^{-\\lambda_ix}$$\n",
    "$$y=c_1e^{\\lambda_1x}+c_2e^{\\lambda_2x}$$\n",
    "\n",
    "In unserem Fall,\n",
    "$$y_h=c_1e^{-ix}+c_2e^{ix}$$\n"
   ]
  },
  {
   "cell_type": "markdown",
   "metadata": {},
   "source": [
    "#### 5.2.2 Spezielle Lösung \n",
    "$$y''+y=sin(5x)$$"
   ]
  },
  {
   "cell_type": "markdown",
   "metadata": {},
   "source": [
    "Von der rechte Seite, wir wissen dass $y_s(x)$ die Form $Acos(5x)+Bsin(5x)$ hat"
   ]
  },
  {
   "cell_type": "code",
   "execution_count": 81,
   "metadata": {},
   "outputs": [
    {
     "data": {
      "image/png": "[encoded data removed]",
      "text/latex": [
       "$$y{\\left (x \\right )} + \\frac{d^{2}}{d x^{2}} y{\\left (x \\right )} = \\sin{\\left (5 x \\right )}$$"
      ],
      "text/plain": [
       "         2                 \n",
       "        d                  \n",
       "y(x) + ───(y(x)) = sin(5⋅x)\n",
       "         2                 \n",
       "       dx                  "
      ]
     },
     "execution_count": 81,
     "metadata": {},
     "output_type": "execute_result"
    }
   ],
   "source": [
    "gl=Eq(d(d(y(x)))+y(x),sin(5*x))\n",
    "gl"
   ]
  },
  {
   "cell_type": "code",
   "execution_count": 82,
   "metadata": {},
   "outputs": [
    {
     "data": {
      "image/png": "[encoded data removed]",
      "text/latex": [
       "$$A \\cos{\\left (5 x \\right )} + B \\sin{\\left (5 x \\right )}$$"
      ],
      "text/plain": [
       "A⋅cos(5⋅x) + B⋅sin(5⋅x)"
      ]
     },
     "execution_count": 82,
     "metadata": {},
     "output_type": "execute_result"
    }
   ],
   "source": [
    "A,B=symbols(\"A B\")\n",
    "form=A*cos(5*x)+B*sin(5*x)\n",
    "form"
   ]
  },
  {
   "cell_type": "code",
   "execution_count": 83,
   "metadata": {},
   "outputs": [
    {
     "data": {
      "image/png": "[encoded data removed]",
      "text/latex": [
       "$$A \\cos{\\left (5 x \\right )} + B \\sin{\\left (5 x \\right )} + \\frac{\\partial^{2}}{\\partial x^{2}} \\left(A \\cos{\\left (5 x \\right )} + B \\sin{\\left (5 x \\right )}\\right) = \\sin{\\left (5 x \\right )}$$"
      ],
      "text/plain": [
       "                            2                                    \n",
       "                           ∂                                     \n",
       "A⋅cos(5⋅x) + B⋅sin(5⋅x) + ───(A⋅cos(5⋅x) + B⋅sin(5⋅x)) = sin(5⋅x)\n",
       "                            2                                    \n",
       "                          ∂x                                     "
      ]
     },
     "execution_count": 83,
     "metadata": {},
     "output_type": "execute_result"
    }
   ],
   "source": [
    "ddform=gl.subs(y(x),form)\n",
    "ddform"
   ]
  },
  {
   "cell_type": "code",
   "execution_count": 84,
   "metadata": {},
   "outputs": [
    {
     "data": {
      "image/png": "[encoded data removed]",
      "text/latex": [
       "$$\\sin{\\left (5 x \\right )} = - 24 A \\cos{\\left (5 x \\right )} - 24 B \\sin{\\left (5 x \\right )}$$"
      ],
      "text/plain": [
       "sin(5⋅x) = -24⋅A⋅cos(5⋅x) - 24⋅B⋅sin(5⋅x)"
      ]
     },
     "execution_count": 84,
     "metadata": {},
     "output_type": "execute_result"
    }
   ],
   "source": [
    "ddform=ddform.doit()\n",
    "ddform=ddform.simplify()\n",
    "ddform"
   ]
  },
  {
   "cell_type": "markdown",
   "metadata": {},
   "source": [
    "Daher kriegen wir den Gleichung\n",
    "$$-24A=0;\\\\ -24B=1 \\\\\\implies$$"
   ]
  },
  {
   "cell_type": "code",
   "execution_count": 85,
   "metadata": {},
   "outputs": [
    {
     "data": {
      "image/png": "[encoded data removed]",
      "text/latex": [
       "$$\\left [ - \\frac{1}{24}\\right ]$$"
      ],
      "text/plain": [
       "[-1/24]"
      ]
     },
     "execution_count": 85,
     "metadata": {},
     "output_type": "execute_result"
    }
   ],
   "source": [
    "bb = solve(-24*B-1,B)\n",
    "bb"
   ]
  },
  {
   "cell_type": "markdown",
   "metadata": {},
   "source": [
    "$$A=0;B=-1/24$$\n",
    "$$\\implies$$\n",
    "$$y_s=-\\frac{1}{24}sin(5x)$$"
   ]
  },
  {
   "cell_type": "markdown",
   "metadata": {},
   "source": [
    "#### 5.2.3 Lösung"
   ]
  },
  {
   "cell_type": "markdown",
   "metadata": {
    "collapsed": true
   },
   "source": [
    "$$y=y_s+y_h $$\n",
    "$$y=-\\frac{1}{24}sin(5x)+c_1e^{-ix}+c_2e^{ix}$$"
   ]
  },
  {
   "cell_type": "markdown",
   "metadata": {},
   "source": [
    "Überprüfung:"
   ]
  },
  {
   "cell_type": "code",
   "execution_count": 86,
   "metadata": {},
   "outputs": [
    {
     "data": {
      "image/png": "[encoded data removed]",
      "text/latex": [
       "$$c_{1} e^{- i x} + c_{2} e^{i x} - \\frac{1}{24} \\sin{\\left (5 x \\right )}$$"
      ],
      "text/plain": [
       "    -ⅈ⋅x       ⅈ⋅x   sin(5⋅x)\n",
       "c₁⋅ℯ     + c₂⋅ℯ    - ────────\n",
       "                        24   "
      ]
     },
     "execution_count": 86,
     "metadata": {},
     "output_type": "execute_result"
    }
   ],
   "source": [
    "c1,c2=symbols(\"c1 c2\")\n",
    "full=bb[0]*sin(5*x)+c1*E**(-I*x)+c2*E**(I*x)\n",
    "full"
   ]
  },
  {
   "cell_type": "markdown",
   "metadata": {},
   "source": [
    "$$y''+y=sin(5x)$$"
   ]
  },
  {
   "cell_type": "code",
   "execution_count": 87,
   "metadata": {},
   "outputs": [
    {
     "data": {
      "image/png": "[encoded data removed]",
      "text/latex": [
       "$$\\sin{\\left (5 x \\right )}$$"
      ],
      "text/plain": [
       "sin(5⋅x)"
      ]
     },
     "execution_count": 87,
     "metadata": {},
     "output_type": "execute_result"
    }
   ],
   "source": [
    "d(d(full,x),x).doit()+full"
   ]
  },
  {
   "cell_type": "markdown",
   "metadata": {},
   "source": [
    "### Berechnung von $c_1,c_2$ \n",
    "$$y''+y=sin(5x)$$\n",
    "$$y(0)=1;\\\\y'(0)=2$$"
   ]
  },
  {
   "cell_type": "code",
   "execution_count": 88,
   "metadata": {},
   "outputs": [
    {
     "data": {
      "image/png": "[encoded data removed]",
      "text/latex": [
       "$$y{\\left (x \\right )} = c_{1} e^{- i x} + c_{2} e^{i x} - \\frac{1}{24} \\sin{\\left (5 x \\right )}$$"
      ],
      "text/plain": [
       "           -ⅈ⋅x       ⅈ⋅x   sin(5⋅x)\n",
       "y(x) = c₁⋅ℯ     + c₂⋅ℯ    - ────────\n",
       "                               24   "
      ]
     },
     "execution_count": 88,
     "metadata": {},
     "output_type": "execute_result"
    }
   ],
   "source": [
    "c1,c2=symbols(\"c1 c2\")\n",
    "full=bb[0]*sin(5*x)+c1*E**(-I*x)+c2*E**(I*x)\n",
    "\n",
    "e1=full\n",
    "Eq(y(x),e1)"
   ]
  },
  {
   "cell_type": "code",
   "execution_count": 89,
   "metadata": {},
   "outputs": [
    {
     "data": {
      "image/png": "[encoded data removed]",
      "text/latex": [
       "$$\\frac{d}{d x} y{\\left (x \\right )} = - i c_{1} e^{- i x} + i c_{2} e^{i x} - \\frac{5}{24} \\cos{\\left (5 x \\right )}$$"
      ],
      "text/plain": [
       "d                  -ⅈ⋅x         ⅈ⋅x   5⋅cos(5⋅x)\n",
       "──(y(x)) = - ⅈ⋅c₁⋅ℯ     + ⅈ⋅c₂⋅ℯ    - ──────────\n",
       "dx                                        24    "
      ]
     },
     "execution_count": 89,
     "metadata": {},
     "output_type": "execute_result"
    }
   ],
   "source": [
    "e2=d(e1,x).doit()\n",
    "Eq(d(y(x),x),e2)"
   ]
  },
  {
   "cell_type": "markdown",
   "metadata": {},
   "source": [
    "#### Teillösungen\n",
    "Wir haben zwei Gleichungen. In beidem,\n",
    "$$y(0)=1;\\\\y'(0)=2$$"
   ]
  },
  {
   "cell_type": "code",
   "execution_count": 90,
   "metadata": {},
   "outputs": [
    {
     "data": {
      "image/png": "[encoded data removed]",
      "text/latex": [
       "$$c_{1} + c_{2} = 1$$"
      ],
      "text/plain": [
       "c₁ + c₂ = 1"
      ]
     },
     "execution_count": 90,
     "metadata": {},
     "output_type": "execute_result"
    }
   ],
   "source": [
    "e1=e1.subs(x,0)\n",
    "eq1=Eq(e1,1)\n",
    "eq1"
   ]
  },
  {
   "cell_type": "code",
   "execution_count": 91,
   "metadata": {},
   "outputs": [
    {
     "data": {
      "image/png": "[encoded data removed]",
      "text/latex": [
       "$$- i c_{1} + i c_{2} - \\frac{5}{24} = 2$$"
      ],
      "text/plain": [
       "-ⅈ⋅c₁ + ⅈ⋅c₂ - 5/24 = 2"
      ]
     },
     "execution_count": 91,
     "metadata": {},
     "output_type": "execute_result"
    }
   ],
   "source": [
    "e2=e2.subs(x,0)\n",
    "eq2=Eq(e2,2)\n",
    "eq2\n"
   ]
  },
  {
   "cell_type": "markdown",
   "metadata": {},
   "source": [
    "Wir lösen den Gleichungssystem"
   ]
  },
  {
   "cell_type": "code",
   "execution_count": 92,
   "metadata": {
    "scrolled": true
   },
   "outputs": [
    {
     "data": {
      "image/png": "[encoded data removed]",
      "text/latex": [
       "$$\\left \\{ c_{1} : \\frac{1}{2} + \\frac{53 i}{48}, \\quad c_{2} : \\frac{1}{2} - \\frac{53 i}{48}\\right \\}$$"
      ],
      "text/plain": [
       "⎧    1   53⋅ⅈ      1   53⋅ⅈ⎫\n",
       "⎨c₁: ─ + ────, c₂: ─ - ────⎬\n",
       "⎩    2    48       2    48 ⎭"
      ]
     },
     "execution_count": 92,
     "metadata": {},
     "output_type": "execute_result"
    }
   ],
   "source": [
    "res=solve([eq1,eq2],[c1,c2])\n",
    "res"
   ]
  },
  {
   "cell_type": "markdown",
   "metadata": {},
   "source": [
    "Und für dem Fall \n",
    "$$y(0)=1;\\\\y'(0)=2$$\n",
    "wir bekommen die Folgende $y(x)$: "
   ]
  },
  {
   "cell_type": "code",
   "execution_count": 93,
   "metadata": {},
   "outputs": [
    {
     "data": {
      "image/png": "[encoded data removed]",
      "text/latex": [
       "$$c_{1} e^{- i x} + c_{2} e^{i x} - \\frac{1}{24} \\sin{\\left (5 x \\right )}$$"
      ],
      "text/plain": [
       "    -ⅈ⋅x       ⅈ⋅x   sin(5⋅x)\n",
       "c₁⋅ℯ     + c₂⋅ℯ    - ────────\n",
       "                        24   "
      ]
     },
     "execution_count": 93,
     "metadata": {},
     "output_type": "execute_result"
    }
   ],
   "source": [
    "full"
   ]
  },
  {
   "cell_type": "code",
   "execution_count": 94,
   "metadata": {},
   "outputs": [
    {
     "data": {
      "image/png": "[encoded data removed]",
      "text/latex": [
       "$$\\left(\\frac{1}{2} - \\frac{53 i}{48}\\right) e^{i x} - \\frac{1}{24} \\sin{\\left (5 x \\right )} + \\left(\\frac{1}{2} + \\frac{53 i}{48}\\right) e^{- i x}$$"
      ],
      "text/plain": [
       "⎛1   53⋅ⅈ⎞  ⅈ⋅x   sin(5⋅x)   ⎛1   53⋅ⅈ⎞  -ⅈ⋅x\n",
       "⎜─ - ────⎟⋅ℯ    - ──────── + ⎜─ + ────⎟⋅ℯ    \n",
       "⎝2    48 ⎠           24      ⎝2    48 ⎠      "
      ]
     },
     "execution_count": 94,
     "metadata": {},
     "output_type": "execute_result"
    }
   ],
   "source": [
    "full=full.subs(c1,res[c1])\n",
    "full=full.subs(c2,res[c2])\n",
    "full"
   ]
  },
  {
   "cell_type": "markdown",
   "metadata": {},
   "source": [
    "Überprüfung:"
   ]
  },
  {
   "cell_type": "code",
   "execution_count": 95,
   "metadata": {},
   "outputs": [
    {
     "data": {
      "image/png": "[encoded data removed]",
      "text/latex": [
       "$$1$$"
      ],
      "text/plain": [
       "1"
      ]
     },
     "execution_count": 95,
     "metadata": {},
     "output_type": "execute_result"
    }
   ],
   "source": [
    "full.subs(x,0).simplify()"
   ]
  },
  {
   "cell_type": "code",
   "execution_count": 96,
   "metadata": {},
   "outputs": [
    {
     "data": {
      "image/png": "[encoded data removed]",
      "text/latex": [
       "$$2$$"
      ],
      "text/plain": [
       "2"
      ]
     },
     "execution_count": 96,
     "metadata": {},
     "output_type": "execute_result"
    }
   ],
   "source": [
    "d(full,x).doit().subs(x,0).simplify()"
   ]
  },
  {
   "cell_type": "markdown",
   "metadata": {},
   "source": [
    "### 5.2.2 Die Gleichung $y''-4y'+4y=e^{2x}$\n",
    "#### 5.2.2.1 Allgemeine Lösung\n",
    "$y''-4y'+4y=0$"
   ]
  },
  {
   "cell_type": "code",
   "execution_count": 97,
   "metadata": {},
   "outputs": [
    {
     "data": {
      "image/png": "[encoded data removed]",
      "text/latex": [
       "$$4 y{\\left (x \\right )} - 4 \\frac{d}{d x} y{\\left (x \\right )} + \\frac{d^{2}}{d x^{2}} y{\\left (x \\right )}$$"
      ],
      "text/plain": [
       "                        2      \n",
       "           d           d       \n",
       "4⋅y(x) - 4⋅──(y(x)) + ───(y(x))\n",
       "           dx           2      \n",
       "                      dx       "
      ]
     },
     "execution_count": 97,
     "metadata": {},
     "output_type": "execute_result"
    }
   ],
   "source": [
    "eq=d(d(y(x),x),x)-4*d(y(x),x)+4*y(x);\n",
    "eq"
   ]
  },
  {
   "cell_type": "code",
   "execution_count": 98,
   "metadata": {},
   "outputs": [
    {
     "data": {
      "image/png": "[encoded data removed]",
      "text/latex": [
       "$$\\left [ 2\\right ]$$"
      ],
      "text/plain": [
       "[2]"
      ]
     },
     "execution_count": 98,
     "metadata": {},
     "output_type": "execute_result"
    }
   ],
   "source": [
    "l=Symbol(\"l\")\n",
    "r=l**2-4*l+4\n",
    "lamb=solve(r)\n",
    "lamb"
   ]
  },
  {
   "cell_type": "markdown",
   "metadata": {},
   "source": [
    "$\\implies \\lambda_{1,2}=2$"
   ]
  },
  {
   "cell_type": "code",
   "execution_count": 99,
   "metadata": {},
   "outputs": [
    {
     "data": {
      "image/png": "[encoded data removed]",
      "text/latex": [
       "$$y{\\left (x \\right )} = c_{1} x e^{2 x} + c_{2} e^{2 x}$$"
      ],
      "text/plain": [
       "             2⋅x       2⋅x\n",
       "y(x) = c₁⋅x⋅ℯ    + c₂⋅ℯ   "
      ]
     },
     "execution_count": 99,
     "metadata": {},
     "output_type": "execute_result"
    }
   ],
   "source": [
    "c1,c2=symbols(\"c1,c2\")\n",
    "allg=c1*x*E**(2*x)+c2*E**(2*x)\n",
    "allgs=Eq(y(x),c1*x*E**(2*x)+c2*E**(2*x))\n",
    "#a2=c1*x*E**(2*x)+c2*E**(2*x)\n",
    "allgs"
   ]
  },
  {
   "cell_type": "markdown",
   "metadata": {},
   "source": [
    "$y_h=c_1xe^{2x}+c_2e^{2x}$"
   ]
  },
  {
   "cell_type": "markdown",
   "metadata": {},
   "source": [
    "#### 5.2.2.2 Spezielle Lösung\n",
    "$y''-4y'+4y=e^{2x}$\n",
    "\n",
    "Ansatz $y(x)=x^2Ae^{2x}$"
   ]
  },
  {
   "cell_type": "code",
   "execution_count": 100,
   "metadata": {},
   "outputs": [
    {
     "data": {
      "image/png": "[encoded data removed]",
      "text/latex": [
       "$$4 y{\\left (x \\right )} - e^{2 x} - 4 \\frac{d}{d x} y{\\left (x \\right )} + \\frac{d^{2}}{d x^{2}} y{\\left (x \\right )}$$"
      ],
      "text/plain": [
       "                               2      \n",
       "          2⋅x     d           d       \n",
       "4⋅y(x) - ℯ    - 4⋅──(y(x)) + ───(y(x))\n",
       "                  dx           2      \n",
       "                             dx       "
      ]
     },
     "execution_count": 100,
     "metadata": {},
     "output_type": "execute_result"
    }
   ],
   "source": [
    "A=symbols(\"A\")\n",
    "ans=x**2*A*E**(2*x)\n",
    "#ans=x*A*E**(2*x)\n",
    "eq=d(d(y(x),x),x)-4*d(y(x),x)+4*y(x)-E**(2*x)\n",
    "eq"
   ]
  },
  {
   "cell_type": "code",
   "execution_count": 101,
   "metadata": {},
   "outputs": [
    {
     "data": {
      "image/png": "[encoded data removed]",
      "text/latex": [
       "$$4 A x^{2} e^{2 x} - e^{2 x} - 4 \\frac{\\partial}{\\partial x} A x^{2} e^{2 x} + \\frac{\\partial^{2}}{\\partial x^{2}} A x^{2} e^{2 x}$$"
      ],
      "text/plain": [
       "                                         2           \n",
       "     2  2⋅x    2⋅x     ∂ ⎛   2  2⋅x⎞    ∂ ⎛   2  2⋅x⎞\n",
       "4⋅A⋅x ⋅ℯ    - ℯ    - 4⋅──⎝A⋅x ⋅ℯ   ⎠ + ───⎝A⋅x ⋅ℯ   ⎠\n",
       "                       ∂x                2           \n",
       "                                       ∂x            "
      ]
     },
     "execution_count": 101,
     "metadata": {},
     "output_type": "execute_result"
    }
   ],
   "source": [
    "seq=eq.subs(y(x),ans)\n",
    "seq"
   ]
  },
  {
   "cell_type": "code",
   "execution_count": 102,
   "metadata": {},
   "outputs": [
    {
     "data": {
      "image/png": "[encoded data removed]",
      "text/latex": [
       "$$- 4 A x^{2} e^{2 x} - 8 A x e^{2 x} + 2 A \\left(2 x^{2} + 4 x + 1\\right) e^{2 x} - e^{2 x}$$"
      ],
      "text/plain": [
       "       2  2⋅x          2⋅x       ⎛   2          ⎞  2⋅x    2⋅x\n",
       "- 4⋅A⋅x ⋅ℯ    - 8⋅A⋅x⋅ℯ    + 2⋅A⋅⎝2⋅x  + 4⋅x + 1⎠⋅ℯ    - ℯ   "
      ]
     },
     "execution_count": 102,
     "metadata": {},
     "output_type": "execute_result"
    }
   ],
   "source": [
    "seq=seq.doit()\n",
    "seq"
   ]
  },
  {
   "cell_type": "code",
   "execution_count": 103,
   "metadata": {},
   "outputs": [
    {
     "data": {
      "image/png": "[encoded data removed]",
      "text/latex": [
       "$$\\left(2 A - 1\\right) e^{2 x}$$"
      ],
      "text/plain": [
       "           2⋅x\n",
       "(2⋅A - 1)⋅ℯ   "
      ]
     },
     "execution_count": 103,
     "metadata": {},
     "output_type": "execute_result"
    }
   ],
   "source": [
    "seq.simplify()"
   ]
  },
  {
   "cell_type": "code",
   "execution_count": 104,
   "metadata": {},
   "outputs": [
    {
     "data": {
      "image/png": "[encoded data removed]",
      "text/latex": [
       "$$\\left [ \\frac{1}{2}\\right ]$$"
      ],
      "text/plain": [
       "[1/2]"
      ]
     },
     "execution_count": 104,
     "metadata": {},
     "output_type": "execute_result"
    }
   ],
   "source": [
    "#solve(seq,A)[0].doit().simplify()\n",
    "solve(seq,A)"
   ]
  },
  {
   "cell_type": "markdown",
   "metadata": {},
   "source": [
    "$A=0.5 \\implies $"
   ]
  },
  {
   "cell_type": "code",
   "execution_count": 105,
   "metadata": {},
   "outputs": [
    {
     "data": {
      "image/png": "[encoded data removed]",
      "text/latex": [
       "$$0.5 x^{2} e^{2 x}$$"
      ],
      "text/plain": [
       "     2  2⋅x\n",
       "0.5⋅x ⋅ℯ   "
      ]
     },
     "execution_count": 105,
     "metadata": {},
     "output_type": "execute_result"
    }
   ],
   "source": [
    "ys=ans.subs(A,1/2)\n",
    "ys"
   ]
  },
  {
   "cell_type": "markdown",
   "metadata": {},
   "source": [
    "$y=y_h+y_s \\implies$"
   ]
  },
  {
   "cell_type": "code",
   "execution_count": 106,
   "metadata": {},
   "outputs": [
    {
     "data": {
      "image/png": "[encoded data removed]",
      "text/latex": [
       "$$c_{1} x e^{2 x} + c_{2} e^{2 x} + 0.5 x^{2} e^{2 x}$$"
      ],
      "text/plain": [
       "      2⋅x       2⋅x        2  2⋅x\n",
       "c₁⋅x⋅ℯ    + c₂⋅ℯ    + 0.5⋅x ⋅ℯ   "
      ]
     },
     "execution_count": 106,
     "metadata": {},
     "output_type": "execute_result"
    }
   ],
   "source": [
    "f=ys+allg\n",
    "f"
   ]
  },
  {
   "cell_type": "markdown",
   "metadata": {},
   "source": [
    "Überprüfung:"
   ]
  },
  {
   "cell_type": "code",
   "execution_count": 107,
   "metadata": {},
   "outputs": [
    {
     "data": {
      "image/png": "[encoded data removed]",
      "text/latex": [
       "$$y{\\left (x \\right )} = \\left(C_{1} + C_{2} x + \\frac{x^{2}}{2}\\right) e^{2 x}$$"
      ],
      "text/plain": [
       "       ⎛             2⎞     \n",
       "       ⎜            x ⎟  2⋅x\n",
       "y(x) = ⎜C₁ + C₂⋅x + ──⎟⋅ℯ   \n",
       "       ⎝            2 ⎠     "
      ]
     },
     "execution_count": 107,
     "metadata": {},
     "output_type": "execute_result"
    }
   ],
   "source": [
    "dsolve(eq)"
   ]
  },
  {
   "cell_type": "code",
   "execution_count": 108,
   "metadata": {},
   "outputs": [
    {
     "data": {
      "image/png": "[encoded data removed]",
      "text/latex": [
       "$$y{\\left (x \\right )} = \\left(c_{1} x + c_{2} + \\frac{x^{2}}{2}\\right) e^{2 x}$$"
      ],
      "text/plain": [
       "       ⎛             2⎞     \n",
       "       ⎜            x ⎟  2⋅x\n",
       "y(x) = ⎜c₁⋅x + c₂ + ──⎟⋅ℯ   \n",
       "       ⎝            2 ⎠     "
      ]
     },
     "execution_count": 108,
     "metadata": {},
     "output_type": "execute_result"
    }
   ],
   "source": [
    "C1,C2=symbols(\"C1 C2\")\n",
    "ff=Eq(y(x),f)\n",
    "res=dsolve(eq).subs(C2,c1).subs(C1,c2)\n",
    "res"
   ]
  },
  {
   "cell_type": "code",
   "execution_count": 109,
   "metadata": {},
   "outputs": [
    {
     "data": {
      "image/png": "[encoded data removed]",
      "text/latex": [
       "$$y{\\left (x \\right )} = \\left(c_{1} x + c_{2} + 0.5 x^{2}\\right) e^{2 x}$$"
      ],
      "text/plain": [
       "       ⎛                 2⎞  2⋅x\n",
       "y(x) = ⎝c₁⋅x + c₂ + 0.5⋅x ⎠⋅ℯ   "
      ]
     },
     "execution_count": 109,
     "metadata": {},
     "output_type": "execute_result"
    }
   ],
   "source": [
    "ff=ff.simplify()\n",
    "ff"
   ]
  },
  {
   "cell_type": "code",
   "execution_count": 110,
   "metadata": {},
   "outputs": [
    {
     "data": {
      "text/plain": [
       "True"
      ]
     },
     "execution_count": 110,
     "metadata": {},
     "output_type": "execute_result"
    }
   ],
   "source": [
    "ff==res"
   ]
  },
  {
   "cell_type": "code",
   "execution_count": null,
   "metadata": {
    "collapsed": true
   },
   "outputs": [],
   "source": []
  }
 ],
 "metadata": {
  "kernelspec": {
   "display_name": "Python 3",
   "language": "python",
   "name": "python3"
  },
  "language_info": {
   "codemirror_mode": {
    "name": "ipython",
    "version": 3
   },
   "file_extension": ".py",
   "mimetype": "text/x-python",
   "name": "python",
   "nbconvert_exporter": "python",
   "pygments_lexer": "ipython3",
   "version": "3.6.4"
  }
 },
 "nbformat": 4,
 "nbformat_minor": 2
}
