{
 "cells": [
  {
   "cell_type": "markdown",
   "metadata": {},
   "source": [
    "## 4. Differentialgleichungen 1. und 2. Ordnung"
   ]
  },
  {
   "cell_type": "code",
   "execution_count": 57,
   "metadata": {
    "collapsed": true
   },
   "outputs": [],
   "source": [
    "from sympy import *\n",
    "from sympy import Derivative as d\n",
    "init_printing()"
   ]
  },
  {
   "cell_type": "code",
   "execution_count": 58,
   "metadata": {
    "collapsed": true
   },
   "outputs": [],
   "source": [
    "y=Function('y')\n",
    "x=Symbol('x')\n",
    "z=Symbol('z')"
   ]
  },
  {
   "cell_type": "markdown",
   "metadata": {},
   "source": [
    "### 4.1 Gleichungen 1. Ordnung\n",
    "#### 4.1.1 Trennung der Veranderlichen"
   ]
  },
  {
   "cell_type": "code",
   "execution_count": 59,
   "metadata": {
    "collapsed": true
   },
   "outputs": [],
   "source": [
    "from sympy import *\n",
    "from sympy import Derivative as d\n",
    "init_printing()"
   ]
  },
  {
   "cell_type": "code",
   "execution_count": 60,
   "metadata": {
    "collapsed": true
   },
   "outputs": [],
   "source": [
    "x=Symbol('x')\n",
    "y=Symbol('y')"
   ]
  },
  {
   "cell_type": "markdown",
   "metadata": {},
   "source": [
    "$$y''=7x^2e^{-y}$$"
   ]
  },
  {
   "cell_type": "code",
   "execution_count": 61,
   "metadata": {
    "collapsed": true
   },
   "outputs": [],
   "source": [
    "gleichung=Eq(d(y(x)),7*x**2/E**y(x))"
   ]
  },
  {
   "cell_type": "code",
   "execution_count": 62,
   "metadata": {},
   "outputs": [
    {
     "data": {
      "image/png": "[encoded data removed]",
      "text/latex": [
       "$$\\frac{d}{d x} y{\\left (x \\right )} = 7 x^{2} e^{- y{\\left (x \\right )}}$$"
      ],
      "text/plain": [
       "d             2  -y(x)\n",
       "──(y(x)) = 7⋅x ⋅ℯ     \n",
       "dx                    "
      ]
     },
     "execution_count": 62,
     "metadata": {},
     "output_type": "execute_result"
    }
   ],
   "source": [
    "gleichung"
   ]
  },
  {
   "cell_type": "markdown",
   "metadata": {},
   "source": [
    "Wir trennen die Veränderlichen:\n",
    "$$ \\frac{dx}{dy}=7x^2e^{-y(x)} $$\n",
    "$$ e^ydy=7x^2dx $$\n",
    "und integrieren beide Seiten:"
   ]
  },
  {
   "cell_type": "code",
   "execution_count": 63,
   "metadata": {},
   "outputs": [
    {
     "data": {
      "image/png": "[encoded data removed]",
      "text/latex": [
       "$$e^{y}$$"
      ],
      "text/plain": [
       " y\n",
       "ℯ "
      ]
     },
     "execution_count": 63,
     "metadata": {},
     "output_type": "execute_result"
    }
   ],
   "source": [
    "integrate(E**y,y)"
   ]
  },
  {
   "cell_type": "code",
   "execution_count": 68,
   "metadata": {},
   "outputs": [
    {
     "data": {
      "image/png": "[encoded data removed]",
      "text/latex": [
       "$$\\frac{7 x^{3}}{3}$$"
      ],
      "text/plain": [
       "   3\n",
       "7⋅x \n",
       "────\n",
       " 3  "
      ]
     },
     "execution_count": 68,
     "metadata": {},
     "output_type": "execute_result"
    }
   ],
   "source": [
    "r=integrate(7*x**2,x)\n",
    "r"
   ]
  },
  {
   "cell_type": "code",
   "execution_count": 69,
   "metadata": {},
   "outputs": [
    {
     "data": {
      "image/png": "[encoded data removed]",
      "text/latex": [
       "$$e^{y{\\left (x \\right )}} = c + \\frac{7 x^{3}}{3}$$"
      ],
      "text/plain": [
       "               3\n",
       " y(x)       7⋅x \n",
       "ℯ     = c + ────\n",
       "             3  "
      ]
     },
     "execution_count": 69,
     "metadata": {},
     "output_type": "execute_result"
    }
   ],
   "source": [
    "y=Function('y')\n",
    "c=Symbol('c')\n",
    "fin=Eq(E**y(x),r+c)\n",
    "fin"
   ]
  },
  {
   "cell_type": "code",
   "execution_count": 70,
   "metadata": {},
   "outputs": [
    {
     "data": {
      "image/png": "[encoded data removed]",
      "text/latex": [
       "$$\\left [ \\log{\\left (c + \\frac{7 x^{3}}{3} \\right )}\\right ]$$"
      ],
      "text/plain": [
       "⎡   ⎛       3⎞⎤\n",
       "⎢   ⎜    7⋅x ⎟⎥\n",
       "⎢log⎜c + ────⎟⎥\n",
       "⎣   ⎝     3  ⎠⎦"
      ]
     },
     "execution_count": 70,
     "metadata": {},
     "output_type": "execute_result"
    }
   ],
   "source": [
    "solve(fin,y(x))"
   ]
  },
  {
   "cell_type": "markdown",
   "metadata": {},
   "source": [
    "Überprüfung:"
   ]
  },
  {
   "cell_type": "code",
   "execution_count": 71,
   "metadata": {},
   "outputs": [
    {
     "data": {
      "image/png": "[encoded data removed]",
      "text/latex": [
       "$$y{\\left (x \\right )} = \\log{\\left (C_{1} + \\frac{7 x^{3}}{3} \\right )}$$"
      ],
      "text/plain": [
       "          ⎛        3⎞\n",
       "          ⎜     7⋅x ⎟\n",
       "y(x) = log⎜C₁ + ────⎟\n",
       "          ⎝      3  ⎠"
      ]
     },
     "execution_count": 71,
     "metadata": {},
     "output_type": "execute_result"
    }
   ],
   "source": [
    "dsolve(gleichung)"
   ]
  },
  {
   "cell_type": "markdown",
   "metadata": {},
   "source": [
    "#### 4.1.2 Integrations Faktor\n"
   ]
  },
  {
   "cell_type": "code",
   "execution_count": 73,
   "metadata": {},
   "outputs": [
    {
     "data": {
      "image/png": "[encoded data removed]",
      "text/latex": [
       "$$\\frac{d}{d x} y{\\left (x \\right )} + \\frac{1}{x} y{\\left (x \\right )} = x^{2} + 9$$"
      ],
      "text/plain": [
       "d          y(x)    2    \n",
       "──(y(x)) + ──── = x  + 9\n",
       "dx          x           "
      ]
     },
     "execution_count": 73,
     "metadata": {},
     "output_type": "execute_result"
    }
   ],
   "source": [
    "y=Function('y')\n",
    "c=Symbol('c')\n",
    "x=Symbol('x')\n",
    "\n",
    "gl=Eq(d(y(x))+y(x)/x,x**2+9)\n",
    "gl"
   ]
  },
  {
   "cell_type": "markdown",
   "metadata": {},
   "source": [
    "Integrationsfaktor:"
   ]
  },
  {
   "cell_type": "code",
   "execution_count": 74,
   "metadata": {},
   "outputs": [
    {
     "data": {
      "image/png": "[encoded data removed]",
      "text/latex": [
       "$$x$$"
      ],
      "text/plain": [
       "x"
      ]
     },
     "execution_count": 74,
     "metadata": {},
     "output_type": "execute_result"
    }
   ],
   "source": [
    "ifa=E**(integrate(1/x,x))\n",
    "ifa"
   ]
  },
  {
   "cell_type": "markdown",
   "metadata": {},
   "source": [
    "Nach Transofrmierungen wir becommen:\n",
    "$$(xy)'=x*(x^2+9)$$\n",
    "$$(xy)'=(x^3+9x)$$\n",
    "Wir integrieren beide Seiten:\n",
    "$$\\int{(xy)'}=xy$$"
   ]
  },
  {
   "cell_type": "code",
   "execution_count": 75,
   "metadata": {},
   "outputs": [
    {
     "data": {
      "image/png": "[encoded data removed]",
      "text/latex": [
       "$$\\frac{x^{4}}{4} + \\frac{9 x^{2}}{2}$$"
      ],
      "text/plain": [
       " 4      2\n",
       "x    9⋅x \n",
       "── + ────\n",
       "4     2  "
      ]
     },
     "execution_count": 75,
     "metadata": {},
     "output_type": "execute_result"
    }
   ],
   "source": [
    "ii=integrate((x**3+9*x),x)\n",
    "ii"
   ]
  },
  {
   "cell_type": "code",
   "execution_count": 76,
   "metadata": {},
   "outputs": [
    {
     "data": {
      "image/png": "[encoded data removed]",
      "text/latex": [
       "$$x y{\\left (x \\right )} = c + \\frac{x^{4}}{4} + \\frac{9 x^{2}}{2}$$"
      ],
      "text/plain": [
       "              4      2\n",
       "             x    9⋅x \n",
       "x⋅y(x) = c + ── + ────\n",
       "             4     2  "
      ]
     },
     "execution_count": 76,
     "metadata": {},
     "output_type": "execute_result"
    }
   ],
   "source": [
    "ii=ii+c #integration\n",
    "\n",
    "iii=Eq(x*y(x),ii)\n",
    "iii"
   ]
  },
  {
   "cell_type": "markdown",
   "metadata": {},
   "source": [
    "Wir teilen beide Seiten nach x:"
   ]
  },
  {
   "cell_type": "code",
   "execution_count": 77,
   "metadata": {},
   "outputs": [
    {
     "data": {
      "image/png": "[encoded data removed]",
      "text/latex": [
       "$$y{\\left (x \\right )} = \\frac{1}{x} \\left(c + \\frac{x^{4}}{4} + \\frac{9 x^{2}}{2}\\right)$$"
      ],
      "text/plain": [
       "            4      2\n",
       "           x    9⋅x \n",
       "       c + ── + ────\n",
       "           4     2  \n",
       "y(x) = ─────────────\n",
       "             x      "
      ]
     },
     "execution_count": 77,
     "metadata": {},
     "output_type": "execute_result"
    }
   ],
   "source": [
    "ii=ii/x;\n",
    "iiii=Eq(y(x),ii)\n",
    "iiii"
   ]
  },
  {
   "cell_type": "code",
   "execution_count": 78,
   "metadata": {},
   "outputs": [
    {
     "data": {
      "image/png": "[encoded data removed]",
      "text/latex": [
       "$$y{\\left (x \\right )} = \\frac{c}{x} + \\frac{x^{3}}{4} + \\frac{9 x}{2}$$"
      ],
      "text/plain": [
       "            3      \n",
       "       c   x    9⋅x\n",
       "y(x) = ─ + ── + ───\n",
       "       x   4     2 "
      ]
     },
     "execution_count": 78,
     "metadata": {},
     "output_type": "execute_result"
    }
   ],
   "source": [
    "iiii=simplify(iiii)\n",
    "iiii"
   ]
  },
  {
   "cell_type": "markdown",
   "metadata": {},
   "source": [
    "Überprüfung:"
   ]
  },
  {
   "cell_type": "code",
   "execution_count": 81,
   "metadata": {},
   "outputs": [
    {
     "data": {
      "image/png": "[encoded data removed]",
      "text/latex": [
       "$$y{\\left (x \\right )} = \\frac{C_{1}}{x} + \\frac{x^{3}}{4} + \\frac{9 x}{2}$$"
      ],
      "text/plain": [
       "             3      \n",
       "       C₁   x    9⋅x\n",
       "y(x) = ── + ── + ───\n",
       "       x    4     2 "
      ]
     },
     "execution_count": 81,
     "metadata": {},
     "output_type": "execute_result"
    }
   ],
   "source": [
    "auto=dsolve(gl)\n",
    "auto"
   ]
  },
  {
   "cell_type": "markdown",
   "metadata": {},
   "source": [
    "### 4.2 Gleichungen 2. Ordnung\n",
    "#### 4.2.1 Complexen Nulltsellen der charakteristischen Gleichung"
   ]
  },
  {
   "cell_type": "markdown",
   "metadata": {},
   "source": [
    "$$y''+y=sin(3x) $$\n",
    "$$y(0)=2$$\n",
    "$$y(0)=5$$\n",
    "\n",
    "Allgemeine Lösung: $$y''+y=0$$"
   ]
  },
  {
   "cell_type": "code",
   "execution_count": 35,
   "metadata": {},
   "outputs": [
    {
     "data": {
      "image/png": "[encoded data removed]",
      "text/latex": [
       "$$D^{2} + 1$$"
      ],
      "text/plain": [
       " 2    \n",
       "D  + 1"
      ]
     },
     "execution_count": 35,
     "metadata": {},
     "output_type": "execute_result"
    }
   ],
   "source": [
    "from sympy import *\n",
    "from sympy import Derivative as d\n",
    "init_printing()\n",
    "\n",
    "D=Symbol(\"D\")\n",
    "eq=D**2+1;\n",
    "eq\n"
   ]
  },
  {
   "cell_type": "code",
   "execution_count": 36,
   "metadata": {},
   "outputs": [
    {
     "data": {
      "image/png": "[encoded data removed]",
      "text/latex": [
       "$$\\left [ - i, \\quad i\\right ]$$"
      ],
      "text/plain": [
       "[-ⅈ, ⅈ]"
      ]
     },
     "execution_count": 36,
     "metadata": {},
     "output_type": "execute_result"
    }
   ],
   "source": [
    "roots=solve(eq)\n",
    "roots"
   ]
  },
  {
   "cell_type": "markdown",
   "metadata": {},
   "source": [
    "=> $$(D^2+1)y=0$$\n",
    "$$(D+i)(D-i)y=0$$\n",
    "\n",
    "Seit\n",
    "$$D-\\lambda_i=e^{\\lambda_ix}De^{-\\lambda_ix}$$\n",
    "$$y=c_1e^{\\lambda_1x}+c_2e^{\\lambda_2x}$$\n",
    "\n",
    "In unserem Fall,\n",
    "$$y_h=c_1e^{-ix}+c_2e^{ix}$$\n"
   ]
  },
  {
   "cell_type": "markdown",
   "metadata": {},
   "source": [
    "#### Spezielle Lösung von \n",
    "$$y''+y=sin(3x)$$"
   ]
  },
  {
   "cell_type": "markdown",
   "metadata": {},
   "source": [
    "Von die rechte Seite, wir wissen dass $y_s(x)$ die Form $Acos(3x)+Bsin(3x)$ hat"
   ]
  },
  {
   "cell_type": "code",
   "execution_count": 37,
   "metadata": {},
   "outputs": [
    {
     "data": {
      "image/png": "[encoded data removed]",
      "text/latex": [
       "$$y{\\left (x \\right )} + \\frac{d^{2}}{d x^{2}} y{\\left (x \\right )} = \\sin{\\left (3 x \\right )}$$"
      ],
      "text/plain": [
       "         2                 \n",
       "        d                  \n",
       "y(x) + ───(y(x)) = sin(3⋅x)\n",
       "         2                 \n",
       "       dx                  "
      ]
     },
     "execution_count": 37,
     "metadata": {},
     "output_type": "execute_result"
    }
   ],
   "source": [
    "gl=Eq(d(d(y(x)))+y(x),sin(3*x))\n",
    "gl"
   ]
  },
  {
   "cell_type": "code",
   "execution_count": 38,
   "metadata": {},
   "outputs": [
    {
     "data": {
      "image/png": "[encoded data removed]",
      "text/latex": [
       "$$A \\cos{\\left (3 x \\right )} + B \\sin{\\left (3 x \\right )}$$"
      ],
      "text/plain": [
       "A⋅cos(3⋅x) + B⋅sin(3⋅x)"
      ]
     },
     "execution_count": 38,
     "metadata": {},
     "output_type": "execute_result"
    }
   ],
   "source": [
    "A,B=symbols(\"A B\")\n",
    "form=A*cos(3*x)+B*sin(3*x)\n",
    "form"
   ]
  },
  {
   "cell_type": "code",
   "execution_count": 39,
   "metadata": {},
   "outputs": [
    {
     "data": {
      "image/png": "[encoded data removed]",
      "text/latex": [
       "$$A \\cos{\\left (3 x \\right )} + B \\sin{\\left (3 x \\right )} + \\frac{\\partial^{2}}{\\partial x^{2}} \\left(A \\cos{\\left (3 x \\right )} + B \\sin{\\left (3 x \\right )}\\right) = \\sin{\\left (3 x \\right )}$$"
      ],
      "text/plain": [
       "                            2                                    \n",
       "                           ∂                                     \n",
       "A⋅cos(3⋅x) + B⋅sin(3⋅x) + ───(A⋅cos(3⋅x) + B⋅sin(3⋅x)) = sin(3⋅x)\n",
       "                            2                                    \n",
       "                          ∂x                                     "
      ]
     },
     "execution_count": 39,
     "metadata": {},
     "output_type": "execute_result"
    }
   ],
   "source": [
    "ddform=gl.subs(y(x),form)\n",
    "ddform"
   ]
  },
  {
   "cell_type": "code",
   "execution_count": 40,
   "metadata": {},
   "outputs": [
    {
     "data": {
      "image/png": "[encoded data removed]",
      "text/latex": [
       "$$\\sin{\\left (3 x \\right )} = - 8 A \\cos{\\left (3 x \\right )} - 8 B \\sin{\\left (3 x \\right )}$$"
      ],
      "text/plain": [
       "sin(3⋅x) = -8⋅A⋅cos(3⋅x) - 8⋅B⋅sin(3⋅x)"
      ]
     },
     "execution_count": 40,
     "metadata": {},
     "output_type": "execute_result"
    }
   ],
   "source": [
    "ddform=ddform.doit()\n",
    "ddform=ddform.simplify()\n",
    "ddform"
   ]
  },
  {
   "cell_type": "markdown",
   "metadata": {},
   "source": [
    "Daher kriegen wir den Gleichung\n",
    "$$-8A=0;\\\\ -8B=1 \\\\\\implies$$"
   ]
  },
  {
   "cell_type": "code",
   "execution_count": 41,
   "metadata": {},
   "outputs": [
    {
     "name": "stdout",
     "output_type": "stream",
     "text": [
      "[-1/8]\n"
     ]
    }
   ],
   "source": [
    "print(solve(-8*B-1,B));"
   ]
  },
  {
   "cell_type": "markdown",
   "metadata": {},
   "source": [
    "$$A=0;B=-1/8$$\n",
    "$$\\implies$$\n",
    "$$y_s=-\\frac{1}{8}sin(3x)$$"
   ]
  },
  {
   "cell_type": "markdown",
   "metadata": {},
   "source": [
    "#### Lösung"
   ]
  },
  {
   "cell_type": "markdown",
   "metadata": {
    "collapsed": true
   },
   "source": [
    "$$y=y_s+y_h $$\n",
    "$$y=-\\frac{1}{8}sin(3x)+c_1e^{-ix}+c_2e^{ix}$$"
   ]
  },
  {
   "cell_type": "code",
   "execution_count": 42,
   "metadata": {},
   "outputs": [
    {
     "data": {
      "image/png": "[encoded data removed]",
      "text/latex": [
       "$$c_{1} e^{- i x} + c_{2} e^{i x} - 0.125 \\sin{\\left (3 x \\right )}$$"
      ],
      "text/plain": [
       "    -ⅈ⋅x       ⅈ⋅x                 \n",
       "c₁⋅ℯ     + c₂⋅ℯ    - 0.125⋅sin(3⋅x)"
      ]
     },
     "execution_count": 42,
     "metadata": {},
     "output_type": "execute_result"
    }
   ],
   "source": [
    "c1,c2=symbols(\"c1 c2\")\n",
    "full=-(1/8)*sin(3*x)+c1*E**(-I*x)+c2*E**(I*x)\n",
    "e1=full\n",
    "e1"
   ]
  },
  {
   "cell_type": "code",
   "execution_count": 43,
   "metadata": {
    "collapsed": true
   },
   "outputs": [],
   "source": [
    "e2=d(e1,x).doit()"
   ]
  },
  {
   "cell_type": "code",
   "execution_count": 44,
   "metadata": {
    "scrolled": true
   },
   "outputs": [
    {
     "data": {
      "image/png": "[encoded data removed]",
      "text/latex": [
       "$$- i c_{1} e^{- i x} + i c_{2} e^{i x} - 0.375 \\cos{\\left (3 x \\right )}$$"
      ],
      "text/plain": [
       "        -ⅈ⋅x         ⅈ⋅x                 \n",
       "- ⅈ⋅c₁⋅ℯ     + ⅈ⋅c₂⋅ℯ    - 0.375⋅cos(3⋅x)"
      ]
     },
     "execution_count": 44,
     "metadata": {},
     "output_type": "execute_result"
    }
   ],
   "source": [
    "e2"
   ]
  },
  {
   "cell_type": "markdown",
   "metadata": {},
   "source": [
    "Teillösungen"
   ]
  },
  {
   "cell_type": "code",
   "execution_count": 45,
   "metadata": {},
   "outputs": [
    {
     "data": {
      "image/png": "[encoded data removed]",
      "text/latex": [
       "$$c_{1} + c_{2} = 2$$"
      ],
      "text/plain": [
       "c₁ + c₂ = 2"
      ]
     },
     "execution_count": 45,
     "metadata": {},
     "output_type": "execute_result"
    }
   ],
   "source": [
    "e1=e1.subs(x,0)\n",
    "eq1=Eq(e1,2)\n",
    "eq1"
   ]
  },
  {
   "cell_type": "code",
   "execution_count": 46,
   "metadata": {},
   "outputs": [
    {
     "data": {
      "image/png": "[encoded data removed]",
      "text/latex": [
       "$$- i c_{1} + i c_{2} - 0.375 = 5$$"
      ],
      "text/plain": [
       "-ⅈ⋅c₁ + ⅈ⋅c₂ - 0.375 = 5"
      ]
     },
     "execution_count": 46,
     "metadata": {},
     "output_type": "execute_result"
    }
   ],
   "source": [
    "e2=e2.subs(x,0)\n",
    "eq2=Eq(e2,5)\n",
    "eq2\n"
   ]
  },
  {
   "cell_type": "code",
   "execution_count": 47,
   "metadata": {},
   "outputs": [
    {
     "data": {
      "image/png": "[encoded data removed]",
      "text/latex": [
       "$$\\left \\{ c_{1} : 1.0 + 2.6875 i, \\quad c_{2} : 1.0 - 2.6875 i\\right \\}$$"
      ],
      "text/plain": [
       "{c₁: 1.0 + 2.6875⋅ⅈ, c₂: 1.0 - 2.6875⋅ⅈ}"
      ]
     },
     "execution_count": 47,
     "metadata": {},
     "output_type": "execute_result"
    }
   ],
   "source": [
    "res=solve([eq1,eq2],[c1,c2])\n",
    "res"
   ]
  },
  {
   "cell_type": "code",
   "execution_count": 48,
   "metadata": {},
   "outputs": [
    {
     "data": {
      "image/png": "[encoded data removed]",
      "text/latex": [
       "$$c_{1} + c_{2} = 2$$"
      ],
      "text/plain": [
       "c₁ + c₂ = 2"
      ]
     },
     "execution_count": 48,
     "metadata": {},
     "output_type": "execute_result"
    }
   ],
   "source": [
    "eq1"
   ]
  },
  {
   "cell_type": "code",
   "execution_count": 49,
   "metadata": {},
   "outputs": [
    {
     "data": {
      "image/png": "[encoded data removed]",
      "text/latex": [
       "$$c_{1} e^{- i x} + c_{2} e^{i x} - 0.125 \\sin{\\left (3 x \\right )}$$"
      ],
      "text/plain": [
       "    -ⅈ⋅x       ⅈ⋅x                 \n",
       "c₁⋅ℯ     + c₂⋅ℯ    - 0.125⋅sin(3⋅x)"
      ]
     },
     "execution_count": 49,
     "metadata": {},
     "output_type": "execute_result"
    }
   ],
   "source": [
    "ffull=full\n",
    "full"
   ]
  },
  {
   "cell_type": "code",
   "execution_count": 50,
   "metadata": {},
   "outputs": [
    {
     "data": {
      "image/png": "[encoded data removed]",
      "text/latex": [
       "$$\\left(1.0 - 2.6875 i\\right) e^{i x} - 0.125 \\sin{\\left (3 x \\right )} + \\left(1.0 + 2.6875 i\\right) e^{- i x}$$"
      ],
      "text/plain": [
       "                  ⅈ⋅x                                      -ⅈ⋅x\n",
       "(1.0 - 2.6875⋅ⅈ)⋅ℯ    - 0.125⋅sin(3⋅x) + (1.0 + 2.6875⋅ⅈ)⋅ℯ    "
      ]
     },
     "execution_count": 50,
     "metadata": {},
     "output_type": "execute_result"
    }
   ],
   "source": [
    "full=full.subs(c1,res[c1])\n",
    "full=full.subs(c2,res[c2])\n",
    "full"
   ]
  },
  {
   "cell_type": "markdown",
   "metadata": {},
   "source": [
    "Überprüfen wir das:"
   ]
  },
  {
   "cell_type": "code",
   "execution_count": 51,
   "metadata": {},
   "outputs": [
    {
     "data": {
      "image/png": "[encoded data removed]",
      "text/latex": [
       "$$y{\\left (x \\right )} = C_{1} \\sin{\\left (x \\right )} + C_{2} \\cos{\\left (x \\right )} - \\frac{1}{8} \\sin{\\left (3 x \\right )}$$"
      ],
      "text/plain": [
       "                               sin(3⋅x)\n",
       "y(x) = C₁⋅sin(x) + C₂⋅cos(x) - ────────\n",
       "                                  8    "
      ]
     },
     "execution_count": 51,
     "metadata": {},
     "output_type": "execute_result"
    }
   ],
   "source": [
    "dsolve(gl)"
   ]
  },
  {
   "cell_type": "code",
   "execution_count": 52,
   "metadata": {},
   "outputs": [
    {
     "data": {
      "image/png": "[encoded data removed]",
      "text/latex": [
       "$$i \\left(1.0 - 2.6875 i\\right) e^{i x} - 0.375 \\cos{\\left (3 x \\right )} - i \\left(1.0 + 2.6875 i\\right) e^{- i x}$$"
      ],
      "text/plain": [
       "                    ⅈ⋅x                                        -ⅈ⋅x\n",
       "ⅈ⋅(1.0 - 2.6875⋅ⅈ)⋅ℯ    - 0.375⋅cos(3⋅x) - ⅈ⋅(1.0 + 2.6875⋅ⅈ)⋅ℯ    "
      ]
     },
     "execution_count": 52,
     "metadata": {},
     "output_type": "execute_result"
    }
   ],
   "source": [
    "d(full,x).doit()"
   ]
  },
  {
   "cell_type": "code",
   "execution_count": 53,
   "metadata": {},
   "outputs": [
    {
     "data": {
      "image/png": "[encoded data removed]",
      "text/latex": [
       "$$i \\left(1.0 - 2.6875 i\\right) e^{i x} - \\left(1.0 - 2.6875 i\\right) e^{i x} + 1.125 \\sin{\\left (3 x \\right )} - 0.375 \\cos{\\left (3 x \\right )} - \\left(1.0 + 2.6875 i\\right) e^{- i x} - i \\left(1.0 + 2.6875 i\\right) e^{- i x}$$"
      ],
      "text/plain": [
       "                    ⅈ⋅x                     ⅈ⋅x                               \n",
       "ⅈ⋅(1.0 - 2.6875⋅ⅈ)⋅ℯ    - (1.0 - 2.6875⋅ⅈ)⋅ℯ    + 1.125⋅sin(3⋅x) - 0.375⋅cos(3\n",
       "\n",
       "                        -ⅈ⋅x                       -ⅈ⋅x\n",
       "⋅x) - (1.0 + 2.6875⋅ⅈ)⋅ℯ     - ⅈ⋅(1.0 + 2.6875⋅ⅈ)⋅ℯ    "
      ]
     },
     "execution_count": 53,
     "metadata": {},
     "output_type": "execute_result"
    }
   ],
   "source": [
    "ex=d(full,x).doit()+d(d(full,x),x).doit()\n",
    "ex"
   ]
  },
  {
   "cell_type": "code",
   "execution_count": 54,
   "metadata": {},
   "outputs": [
    {
     "data": {
      "image/png": "[encoded data removed]",
      "text/latex": [
       "$$3.0$$"
      ],
      "text/plain": [
       "3.00000000000000"
      ]
     },
     "execution_count": 54,
     "metadata": {},
     "output_type": "execute_result"
    }
   ],
   "source": [
    "ex=ex.subs(c1,res[c1])\n",
    "ex=ex.subs(c2,res[c2])\n",
    "ex=ex.subs(x,0)\n",
    "ex.simplify()"
   ]
  },
  {
   "cell_type": "code",
   "execution_count": null,
   "metadata": {
    "collapsed": true
   },
   "outputs": [],
   "source": []
  },
  {
   "cell_type": "code",
   "execution_count": null,
   "metadata": {
    "collapsed": true
   },
   "outputs": [],
   "source": []
  }
 ],
 "metadata": {
  "kernelspec": {
   "display_name": "Python 3",
   "language": "python",
   "name": "python3"
  },
  "language_info": {
   "codemirror_mode": {
    "name": "ipython",
    "version": 3
   },
   "file_extension": ".py",
   "mimetype": "text/x-python",
   "name": "python",
   "nbconvert_exporter": "python",
   "pygments_lexer": "ipython3",
   "version": "3.6.4"
  }
 },
 "nbformat": 4,
 "nbformat_minor": 2
}
