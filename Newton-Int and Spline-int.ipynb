{
 "cells": [
  {
   "cell_type": "markdown",
   "metadata": {},
   "source": [
    "## 3. Newton-Interpolation und Spline-Interpolation"
   ]
  },
  {
   "cell_type": "markdown",
   "metadata": {},
   "source": [
    "**Interpolation** is the process of fitting existing data points to a function, so that it's possible to estimate the ones that are not there.\n",
    "\n",
    "Polynomial interpolation -- aka Newton interpolation -- is the process by which the points are interpolated based on a polynomial.\n",
    "\n",
    "Spline-interpolation is based on splines -- polynomials on each of the intervals, that are separate but smooth."
   ]
  },
  {
   "cell_type": "markdown",
   "metadata": {},
   "source": [
    "### Polynomial interpolation"
   ]
  },
  {
   "cell_type": "code",
   "execution_count": 2,
   "metadata": {},
   "outputs": [],
   "source": [
    "#from sympy import interpolate,lambdify,init_printing,symbols\n",
    "from sympy import *\n",
    "init_printing()\n",
    "x,y=symbols(\"x y\")"
   ]
  },
  {
   "cell_type": "markdown",
   "metadata": {},
   "source": [
    "N.B. the \"import sympy as s\" above. Wildcard imports sometimes conflict when function names overlap, and this is what happens with plot() below. (See [here](https://stackoverflow.com/questions/44263889/cant-convert-expression-to-float))\n",
    "\n",
    "The function **interpolate()**, if the input matrix is 1D, interprets it as if there was a distance of 1. "
   ]
  },
  {
   "cell_type": "code",
   "execution_count": 3,
   "metadata": {},
   "outputs": [
    {
     "data": {
      "image/png": "[encoded data removed]",
      "text/latex": [
       "$$\\left [ \\left ( 1, \\quad 2\\right ), \\quad \\left ( 22, \\quad 9\\right ), \\quad \\left ( 23, \\quad 98\\right )\\right ]$$"
      ],
      "text/plain": [
       "[(1, 2), (22, 9), (23, 98)]"
      ]
     },
     "execution_count": 3,
     "metadata": {},
     "output_type": "execute_result"
    }
   ],
   "source": [
    "points=[(1,2),(22,9),(23,98)];\n",
    "pol = interpolate(points,x)\n",
    "points"
   ]
  },
  {
   "cell_type": "code",
   "execution_count": 4,
   "metadata": {},
   "outputs": [
    {
     "data": {
      "image/png": "[encoded data removed]",
      "text/latex": [
       "$$\\frac{133 x^{2}}{33} - \\frac{1016 x}{11} + \\frac{271}{3}$$"
      ],
      "text/plain": [
       "     2               \n",
       "133⋅x    1016⋅x   271\n",
       "────── - ────── + ───\n",
       "  33       11      3 "
      ]
     },
     "execution_count": 4,
     "metadata": {},
     "output_type": "execute_result"
    }
   ],
   "source": [
    "pol"
   ]
  },
  {
   "cell_type": "code",
   "execution_count": 5,
   "metadata": {},
   "outputs": [
    {
     "data": {
      "image/png": "[encoded data removed]",
      "text/plain": [
       "<matplotlib.figure.Figure at 0x7f5e33d675c0>"
      ]
     },
     "metadata": {},
     "output_type": "display_data"
    }
   ],
   "source": [
    "pl = plot(pol);"
   ]
  },
  {
   "cell_type": "markdown",
   "metadata": {},
   "source": [
    "### Spline interpolation"
   ]
  },
  {
   "cell_type": "code",
   "execution_count": 6,
   "metadata": {},
   "outputs": [],
   "source": [
    "DataPointsDomain = [1,2,3,4,4.5];\n",
    "DataPointsRange = [9,1,10,32,-23];\n",
    "s = interpolating_spline(2,x,DataPointsDomain,DataPointsRange);"
   ]
  },
  {
   "cell_type": "code",
   "execution_count": 8,
   "metadata": {},
   "outputs": [
    {
     "data": {
      "image/png": "[encoded data removed]",
      "text/latex": [
       "$$\\begin{cases} 5.97979797979798 x^{2} - 25.939393939394 x + 28.959595959596 & \\text{for}\\: x \\geq 1 \\wedge x \\leq \\frac{5}{2} \\\\26.1414141414141 x^{2} - 126.747474747475 x + 154.969696969697 & \\text{for}\\: x \\geq \\frac{5}{2} \\wedge x \\leq \\frac{7}{2} \\\\- 110.828282828283 x^{2} + 832.040404040404 x - 1522.90909090909 & \\text{for}\\: x \\geq \\frac{7}{2} \\wedge x \\leq 4.5 \\end{cases}$$"
      ],
      "text/plain": [
       "⎧                    2                                                        \n",
       "⎪  5.97979797979798⋅x  - 25.939393939394⋅x + 28.959595959596     for x ≥ 1 ∧ x\n",
       "⎪                                                                             \n",
       "⎪                   2                                                         \n",
       "⎨ 26.1414141414141⋅x  - 126.747474747475⋅x + 154.969696969697   for x ≥ 5/2 ∧ \n",
       "⎪                                                                             \n",
       "⎪                    2                                                        \n",
       "⎪- 110.828282828283⋅x  + 832.040404040404⋅x - 1522.90909090909  for x ≥ 7/2 ∧ \n",
       "⎩                                                                             \n",
       "\n",
       "       \n",
       " ≤ 5/2 \n",
       "       \n",
       "       \n",
       "x ≤ 7/2\n",
       "       \n",
       "       \n",
       "x ≤ 4.5\n",
       "       "
      ]
     },
     "execution_count": 8,
     "metadata": {},
     "output_type": "execute_result"
    }
   ],
   "source": [
    "s"
   ]
  },
  {
   "cell_type": "markdown",
   "metadata": {},
   "source": [
    "We lambdify the function to make it easier to calculate:"
   ]
  },
  {
   "cell_type": "code",
   "execution_count": 10,
   "metadata": {},
   "outputs": [],
   "source": [
    "laIp=lambdify(x,s);"
   ]
  },
  {
   "cell_type": "markdown",
   "metadata": {},
   "source": [
    "**pl = plot(s)** would fail, because it uses the undefined\n",
    "**float(ln(0))** which gives an error. \n",
    "\n",
    "So we have to use **numpy**"
   ]
  },
  {
   "cell_type": "code",
   "execution_count": 11,
   "metadata": {},
   "outputs": [],
   "source": [
    "import numpy as n\n",
    "from matplotlib import pyplot as p"
   ]
  },
  {
   "cell_type": "markdown",
   "metadata": {
    "collapsed": true
   },
   "source": [
    "We create a range of points:"
   ]
  },
  {
   "cell_type": "code",
   "execution_count": 21,
   "metadata": {},
   "outputs": [
    {
     "data": {
      "text/plain": [
       "[array(8.999999999999979),\n",
       " array(8.315959595959573),\n",
       " array(7.661818181818155),\n",
       " array(7.037575757575723),\n",
       " array(6.443232323232287),\n",
       " array(5.87878787878784),\n",
       " array(5.344242424242381),\n",
       " array(4.839595959595918),\n",
       " array(4.364848484848437),\n",
       " array(3.919999999999945),\n",
       " array(3.505050505050452),\n",
       " array(3.1199999999999406),\n",
       " array(2.7648484848484287),\n",
       " array(2.439595959595895),\n",
       " array(2.1442424242423535),\n",
       " array(1.8787878787878114),\n",
       " array(1.6432323232322474),\n",
       " array(1.4375757575756865),\n",
       " array(1.2618181818181036),\n",
       " array(1.115959595959513),\n",
       " array(0.9999999999999183),\n",
       " array(0.9139393939393088),\n",
       " array(0.8577777777776916),\n",
       " array(0.8315151515150561),\n",
       " array(0.8351515151514164),\n",
       " array(0.8686868686867797),\n",
       " array(0.932121212121114),\n",
       " array(1.0254545454544512),\n",
       " array(1.1486868686867666),\n",
       " array(1.3018181818180707),\n",
       " array(1.4848484848476744),\n",
       " array(1.7481818181809672),\n",
       " array(2.1422222222213065),\n",
       " array(2.6669696969687777),\n",
       " array(3.3224242424232955),\n",
       " array(4.108585858584917),\n",
       " array(5.025454545453556),\n",
       " array(6.073030303029327),\n",
       " array(7.251313131312088),\n",
       " array(8.560303030302038),\n",
       " array(9.999999999998948),\n",
       " array(11.570404040402934),\n",
       " array(13.27151515151408),\n",
       " array(15.103333333332216),\n",
       " array(17.065858585857484),\n",
       " array(19.15909090908974),\n",
       " array(21.38303030302916),\n",
       " array(23.737676767675623),\n",
       " array(26.223030303029134),\n",
       " array(28.83909090908969),\n",
       " array(31.585858585857522),\n",
       " array(34.12090909090807),\n",
       " array(36.10181818181695),\n",
       " array(37.52858585858439),\n",
       " array(38.40121212121062),\n",
       " array(38.719696969695406),\n",
       " array(38.484040404038524),\n",
       " array(37.69424242424088),\n",
       " array(36.35030303030135),\n",
       " array(34.4522222222206),\n",
       " array(31.99999999999818),\n",
       " array(28.993636363634096),\n",
       " array(25.433131313129024),\n",
       " array(21.318484848482512),\n",
       " array(16.649696969694332),\n",
       " array(11.426767676765621),\n",
       " array(5.64969696969456),\n",
       " array(-0.6815151515174875),\n",
       " array(-7.566868686871658),\n",
       " array(-15.006363636366586)]"
      ]
     },
     "execution_count": 21,
     "metadata": {},
     "output_type": "execute_result"
    }
   ],
   "source": [
    "xx = n.arange(1., 4.5, 0.05)\n",
    "y = []\n",
    "for i in range(len(xx)):\n",
    "   y.append(laIp(xx[i]));\n",
    "y"
   ]
  },
  {
   "cell_type": "markdown",
   "metadata": {},
   "source": [
    "Then we plot:"
   ]
  },
  {
   "cell_type": "code",
   "execution_count": 22,
   "metadata": {},
   "outputs": [
    {
     "data": {
      "image/png": "[encoded data removed]",
      "text/plain": [
       "<matplotlib.figure.Figure at 0x7f5e23127978>"
      ]
     },
     "metadata": {},
     "output_type": "display_data"
    }
   ],
   "source": [
    "p.plot(DataPointsDomain,DataPointsRange, ls='', ms=6, marker='.',color='red');\n",
    "p.plot(xx,y,c='grey', marker='.', ms=1)\n",
    "p.show()"
   ]
  },
  {
   "cell_type": "code",
   "execution_count": null,
   "metadata": {
    "collapsed": true
   },
   "outputs": [],
   "source": []
  },
  {
   "cell_type": "code",
   "execution_count": null,
   "metadata": {
    "collapsed": true
   },
   "outputs": [],
   "source": []
  }
 ],
 "metadata": {
  "kernelspec": {
   "display_name": "Python 3",
   "language": "python",
   "name": "python3"
  },
  "language_info": {
   "codemirror_mode": {
    "name": "ipython",
    "version": 3
   },
   "file_extension": ".py",
   "mimetype": "text/x-python",
   "name": "python",
   "nbconvert_exporter": "python",
   "pygments_lexer": "ipython3",
   "version": "3.6.4"
  }
 },
 "nbformat": 4,
 "nbformat_minor": 2
}
