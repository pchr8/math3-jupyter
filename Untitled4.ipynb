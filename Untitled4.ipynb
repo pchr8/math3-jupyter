{
 "cells": [
  {
   "cell_type": "code",
   "execution_count": 14,
   "metadata": {},
   "outputs": [
    {
     "data": {
      "text/html": [
       "<html><script type=\"math/tex; mode=display\">\\newcommand{\\Bold}[1]{\\mathbf{#1}}piecewise\\left(\\left(\\left(\\verb|(0,|\\phantom{\\verb!x!}\\verb|1)|, x^{3}\\right), \\left(\\verb|[-1,|\\phantom{\\verb!x!}\\verb|0]|, -x^{2}\\right)\\right), x\\right)</script></html>"
      ],
      "text/plain": [
       "piecewise(x|-->x^3 on (0, 1), x|-->-x^2 on [-1, 0]; x)"
      ]
     },
     "execution_count": 14,
     "metadata": {},
     "output_type": "execute_result"
    }
   ],
   "source": [
    "from sage import *\n",
    "t,s,u=var('t s u')\n",
    "\n",
    "%display latex\n",
    "\n",
    "f = piecewise([((0,1), x^3), ([-1,0], -x^2)]);  f"
   ]
  },
  {
   "cell_type": "markdown",
   "metadata": {},
   "source": [
    "# 6. Laplace Transformation"
   ]
  },
  {
   "cell_type": "code",
   "execution_count": 2,
   "metadata": {},
   "outputs": [],
   "source": [
    "from sage import *\n",
    "%display latex\n",
    "\n",
    "t,s,u=var('t s u')"
   ]
  },
  {
   "cell_type": "code",
   "execution_count": 15,
   "metadata": {
    "scrolled": true
   },
   "outputs": [
    {
     "data": {
      "text/html": [
       "<html><script type=\"math/tex; mode=display\">\\newcommand{\\Bold}[1]{\\mathbf{#1}}-x^{3} {\\left(\\frac{e^{\\left(-s\\right)}}{s} - \\frac{1}{s}\\right)} - x^{2} {\\left(\\frac{e^{s}}{s} - \\frac{1}{s}\\right)}</script></html>"
      ],
      "text/plain": [
       "-x^3*(e^(-s)/s - 1/s) - x^2*(e^s/s - 1/s)"
      ]
     },
     "execution_count": 15,
     "metadata": {},
     "output_type": "execute_result"
    }
   ],
   "source": [
    "f.laplace(t,s)"
   ]
  },
  {
   "cell_type": "code",
   "execution_count": 17,
   "metadata": {},
   "outputs": [
    {
     "data": {
      "text/html": [
       "<html><script type=\"math/tex; mode=display\">\\newcommand{\\Bold}[1]{\\mathbf{#1}}piecewise\\left(\\left(\\left(\\verb|(0,|\\phantom{\\verb!x!}\\verb|1)|, x^{3}\\right), \\left(\\verb|[-1,|\\phantom{\\verb!x!}\\verb|0]|, -x^{2}\\right)\\right), x\\right)</script></html>"
      ],
      "text/plain": [
       "piecewise(x|-->x^3 on (0, 1), x|-->-x^2 on [-1, 0]; x)"
      ]
     },
     "execution_count": 17,
     "metadata": {},
     "output_type": "execute_result"
    }
   ],
   "source": [
    "f = piecewise(\n",
    "    [\n",
    "        ((0,1), x^3), ([-1,0], -x^2)\n",
    "    ]\n",
    ");  f"
   ]
  },
  {
   "cell_type": "markdown",
   "metadata": {},
   "source": [
    "## 6.1 Transformation einer stückweise definiertes Funktion"
   ]
  },
  {
   "cell_type": "code",
   "execution_count": 3,
   "metadata": {},
   "outputs": [
    {
     "data": {
      "text/html": [
       "<html><script type=\"math/tex; mode=display\">\\newcommand{\\Bold}[1]{\\mathbf{#1}}piecewise\\left(\\left(\\left(\\verb|(-oo,|\\phantom{\\verb!x!}\\verb|5)|, 0\\right), \\left(\\verb|(5,|\\phantom{\\verb!x!}\\verb|+oo)|, t\\right)\\right), t\\right)</script></html>"
      ],
      "text/plain": [
       "piecewise(t|-->0 on (-oo, 5), t|-->t on (5, +oo); t)"
      ]
     },
     "execution_count": 3,
     "metadata": {},
     "output_type": "execute_result"
    }
   ],
   "source": [
    "ff=piecewise([\n",
    "    ((-oo,5), 0),\n",
    "    ((5,+oo), t),\n",
    "])\n",
    "ff"
   ]
  },
  {
   "cell_type": "code",
   "execution_count": 4,
   "metadata": {},
   "outputs": [
    {
     "data": {
      "text/html": [
       "<html><script type=\"math/tex; mode=display\">\\newcommand{\\Bold}[1]{\\mathbf{#1}}\\frac{{\\left(5 \\, s + 1\\right)} e^{\\left(-5 \\, s\\right)}}{s^{2}}</script></html>"
      ],
      "text/plain": [
       "(5*s + 1)*e^(-5*s)/s^2"
      ]
     },
     "execution_count": 4,
     "metadata": {},
     "output_type": "execute_result"
    }
   ],
   "source": [
    "ff.laplace(t,s)"
   ]
  },
  {
   "cell_type": "markdown",
   "metadata": {},
   "source": [
    "## 6.2 Partialbruchzerlegung und Inverse transformation\n",
    "## 6.2.1 Beispiel 1\n",
    "\"Finde die Funktion dessen Laplace Transform ist...\""
   ]
  },
  {
   "cell_type": "code",
   "execution_count": 37,
   "metadata": {
    "collapsed": true
   },
   "outputs": [],
   "source": [
    "import sympy as ss"
   ]
  },
  {
   "cell_type": "code",
   "execution_count": 91,
   "metadata": {},
   "outputs": [
    {
     "data": {
      "text/html": [
       "<html><script type=\"math/tex; mode=display\">\\newcommand{\\Bold}[1]{\\mathbf{#1}}\\frac{s^{2} - 2 \\, s}{{\\left(s^{2} - 16\\right)} s^{2}}</script></html>"
      ],
      "text/plain": [
       "(s^2 - 2*s)/((s^2 - 16)*s^2)"
      ]
     },
     "execution_count": 91,
     "metadata": {},
     "output_type": "execute_result"
    }
   ],
   "source": [
    "fpa=(s**2-2*s)/((s**2)*(s**2-16))\n",
    "fpa\n"
   ]
  },
  {
   "cell_type": "code",
   "execution_count": 98,
   "metadata": {},
   "outputs": [],
   "source": [
    "fpaa=(s**2-2*s)\n",
    "fpab=(s**2)*(s**2-16)"
   ]
  },
  {
   "cell_type": "code",
   "execution_count": 99,
   "metadata": {},
   "outputs": [
    {
     "data": {
      "text/html": [
       "<html><script type=\"math/tex; mode=display\">\\newcommand{\\Bold}[1]{\\mathbf{#1}}s^{4} - 16 \\, s^{2}</script></html>"
      ],
      "text/plain": [
       "s^4 - 16*s^2"
      ]
     },
     "execution_count": 99,
     "metadata": {},
     "output_type": "execute_result"
    }
   ],
   "source": [
    "fpab=fpab.expand()\n",
    "fpab"
   ]
  },
  {
   "cell_type": "code",
   "execution_count": 100,
   "metadata": {},
   "outputs": [
    {
     "data": {
      "text/html": [
       "<html><script type=\"math/tex; mode=display\">\\newcommand{\\Bold}[1]{\\mathbf{#1}}\\frac{s^{2} - 2 \\, s}{s^{4} - 16 \\, s^{2}}</script></html>"
      ],
      "text/plain": [
       "(s^2 - 2*s)/(s^4 - 16*s^2)"
      ]
     },
     "execution_count": 100,
     "metadata": {},
     "output_type": "execute_result"
    }
   ],
   "source": [
    "fpa=fpaa/fpab\n",
    "fpa"
   ]
  },
  {
   "cell_type": "markdown",
   "metadata": {},
   "source": [
    "#### Partialbruchzerlegung:"
   ]
  },
  {
   "cell_type": "code",
   "execution_count": 103,
   "metadata": {},
   "outputs": [
    {
     "name": "stdout",
     "output_type": "stream",
     "text": [
      "-3/16/(s + 4) + 1/16/(s - 4) + 1/8/s\n"
     ]
    }
   ],
   "source": [
    "print(fpa.partial_fraction(s))"
   ]
  },
  {
   "cell_type": "markdown",
   "metadata": {},
   "source": [
    "Von jedes Teil:"
   ]
  },
  {
   "cell_type": "code",
   "execution_count": 104,
   "metadata": {},
   "outputs": [],
   "source": [
    "fpa1=-3/16/(s + 4)\n",
    "fpa2= 1/16/(s - 4)\n",
    "fpa3= 1/8/s"
   ]
  },
  {
   "cell_type": "code",
   "execution_count": 105,
   "metadata": {},
   "outputs": [
    {
     "data": {
      "text/html": [
       "<html><script type=\"math/tex; mode=display\">\\newcommand{\\Bold}[1]{\\mathbf{#1}}-\\frac{3}{16} \\, e^{\\left(-4 \\, t\\right)}</script></html>"
      ],
      "text/plain": [
       "-3/16*e^(-4*t)"
      ]
     },
     "execution_count": 105,
     "metadata": {},
     "output_type": "execute_result"
    }
   ],
   "source": [
    "i1=inverse_laplace(fpa1,s,t);i1"
   ]
  },
  {
   "cell_type": "code",
   "execution_count": 106,
   "metadata": {},
   "outputs": [
    {
     "data": {
      "text/html": [
       "<html><script type=\"math/tex; mode=display\">\\newcommand{\\Bold}[1]{\\mathbf{#1}}\\frac{1}{16} \\, e^{\\left(4 \\, t\\right)}</script></html>"
      ],
      "text/plain": [
       "1/16*e^(4*t)"
      ]
     },
     "execution_count": 106,
     "metadata": {},
     "output_type": "execute_result"
    }
   ],
   "source": [
    "i2=inverse_laplace(fpa2,s,t);i2"
   ]
  },
  {
   "cell_type": "code",
   "execution_count": 107,
   "metadata": {},
   "outputs": [
    {
     "data": {
      "text/html": [
       "<html><script type=\"math/tex; mode=display\">\\newcommand{\\Bold}[1]{\\mathbf{#1}}\\frac{1}{8}</script></html>"
      ],
      "text/plain": [
       "1/8"
      ]
     },
     "execution_count": 107,
     "metadata": {},
     "output_type": "execute_result"
    }
   ],
   "source": [
    "i3=inverse_laplace(fpa3,s,t);i3"
   ]
  },
  {
   "cell_type": "code",
   "execution_count": 108,
   "metadata": {},
   "outputs": [
    {
     "data": {
      "text/html": [
       "<html><script type=\"math/tex; mode=display\">\\newcommand{\\Bold}[1]{\\mathbf{#1}}\\mathrm{True}</script></html>"
      ],
      "text/plain": [
       "True"
      ]
     },
     "execution_count": 108,
     "metadata": {},
     "output_type": "execute_result"
    }
   ],
   "source": [
    "bool(inverse_laplace(fpa,s,t)==i1+i2+i3)"
   ]
  },
  {
   "cell_type": "markdown",
   "metadata": {},
   "source": [
    "### 6.2.1 Beispiel 2"
   ]
  },
  {
   "cell_type": "code",
   "execution_count": 109,
   "metadata": {},
   "outputs": [
    {
     "data": {
      "text/html": [
       "<html><script type=\"math/tex; mode=display\">\\newcommand{\\Bold}[1]{\\mathbf{#1}}\\frac{2 \\, {\\left(s^{3} + 3 \\, s^{2} - 2 \\, s - 7\\right)}}{s^{4} + 2 \\, s^{3} - 2 \\, s^{2} - 6 \\, s + 5}</script></html>"
      ],
      "text/plain": [
       "2*(s^3 + 3*s^2 - 2*s - 7)/(s^4 + 2*s^3 - 2*s^2 - 6*s + 5)"
      ]
     },
     "execution_count": 109,
     "metadata": {},
     "output_type": "execute_result"
    }
   ],
   "source": [
    "fpal=(2*s**3+6*s**2-4*s-14)/(s**4+2*s**3-2*s**2-6*s+5); fpal"
   ]
  },
  {
   "cell_type": "code",
   "execution_count": null,
   "metadata": {},
   "outputs": [],
   "source": [
    "fpf=fpal.partial_fraction(s);fpf"
   ]
  },
  {
   "cell_type": "code",
   "execution_count": null,
   "metadata": {},
   "outputs": [],
   "source": [
    "fpf.operands()"
   ]
  },
  {
   "cell_type": "markdown",
   "metadata": {},
   "source": [
    "Jetzt versuchen wir jeder davon zu transformieren:"
   ]
  },
  {
   "cell_type": "code",
   "execution_count": null,
   "metadata": {},
   "outputs": [],
   "source": [
    "inverses=[]\n",
    "for op in fpf.operands():\n",
    "    op=inverse_laplace(op,s,t)\n",
    "    inverses.append(op)\n",
    "inverses\n",
    "    "
   ]
  },
  {
   "cell_type": "code",
   "execution_count": null,
   "metadata": {},
   "outputs": [],
   "source": [
    "fpfi=0;\n",
    "for op in inverses:\n",
    "    fpfi=fpfi+op;\n",
    "fpfi"
   ]
  },
  {
   "cell_type": "markdown",
   "metadata": {},
   "source": [
    "Das Inverse von die originelle Funktion:"
   ]
  },
  {
   "cell_type": "code",
   "execution_count": 74,
   "metadata": {},
   "outputs": [
    {
     "data": {
      "text/html": [
       "<html><script type=\"math/tex; mode=display\">\\newcommand{\\Bold}[1]{\\mathbf{#1}}-t e^{t} + e^{\\left(-2 \\, t\\right)} \\sin\\left(t\\right) + 2 \\, e^{t}</script></html>"
      ],
      "text/plain": [
       "-t*e^t + e^(-2*t)*sin(t) + 2*e^t"
      ]
     },
     "execution_count": 74,
     "metadata": {},
     "output_type": "execute_result"
    }
   ],
   "source": [
    "inverse_laplace(fpal,s,t)"
   ]
  },
  {
   "cell_type": "code",
   "execution_count": 76,
   "metadata": {},
   "outputs": [
    {
     "data": {
      "text/html": [
       "<html><script type=\"math/tex; mode=display\">\\newcommand{\\Bold}[1]{\\mathbf{#1}}\\mathrm{True}</script></html>"
      ],
      "text/plain": [
       "True"
      ]
     },
     "execution_count": 76,
     "metadata": {},
     "output_type": "execute_result"
    }
   ],
   "source": [
    "bool(inverse_laplace(fpal,s,t)==fpfi)"
   ]
  },
  {
   "cell_type": "markdown",
   "metadata": {},
   "source": []
  }
 ],
 "metadata": {
  "kernelspec": {
   "display_name": "SageMath 8.1",
   "language": "",
   "name": "sagemath"
  }
 },
 "nbformat": 4,
 "nbformat_minor": 2
}
