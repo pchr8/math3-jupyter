{
 "cells": [
  {
   "cell_type": "code",
   "execution_count": 3,
   "metadata": {},
   "outputs": [],
   "source": [
    "from sympy import *;\n",
    "init_printing()"
   ]
  },
  {
   "cell_type": "markdown",
   "metadata": {},
   "source": [
    "# 6. Laplace Transformations\n",
    "## 6.1 Beispiel Transformation einer stückweise definierten Funktion"
   ]
  },
  {
   "cell_type": "code",
   "execution_count": 15,
   "metadata": {},
   "outputs": [
    {
     "data": {
      "image/png": "[encoded data removed]",
      "text/latex": [
       "$$\\begin{cases} 0 & \\text{for}\\: t < 5 \\\\t & \\text{otherwise} \\end{cases}$$"
      ],
      "text/plain": [
       "⎧0  for t < 5\n",
       "⎨            \n",
       "⎩t  otherwise"
      ]
     },
     "execution_count": 15,
     "metadata": {},
     "output_type": "execute_result"
    }
   ],
   "source": [
    "t,s=symbols(\"t s\")\n",
    "\n",
    "exp=Piecewise((0,t<5),(t,t>=5))\n",
    "exp"
   ]
  },
  {
   "cell_type": "code",
   "execution_count": 16,
   "metadata": {},
   "outputs": [
    {
     "data": {
      "image/png": "[encoded data removed]",
      "text/plain": [
       "<matplotlib.figure.Figure at 0x7f1ca8aa8b70>"
      ]
     },
     "metadata": {},
     "output_type": "display_data"
    },
    {
     "data": {
      "text/plain": [
       "<sympy.plotting.plot.Plot at 0x7f1caae448d0>"
      ]
     },
     "execution_count": 16,
     "metadata": {},
     "output_type": "execute_result"
    }
   ],
   "source": [
    "plot(exp)"
   ]
  },
  {
   "cell_type": "code",
   "execution_count": 32,
   "metadata": {},
   "outputs": [
    {
     "data": {
      "image/png": "[encoded data removed]",
      "text/latex": [
       "$$\\int_{0}^{\\infty} \\begin{cases} 0 & \\text{for}\\: t < 5 \\\\t e^{- s t} & \\text{otherwise} \\end{cases}\\, dt$$"
      ],
      "text/plain": [
       "∞                       \n",
       "⌠                       \n",
       "⎮ ⎧   0     for t < 5   \n",
       "⎮ ⎪                     \n",
       "⎮ ⎨   -s⋅t            dt\n",
       "⎮ ⎪t⋅ℯ      otherwise   \n",
       "⎮ ⎩                     \n",
       "⌡                       \n",
       "0                       "
      ]
     },
     "execution_count": 32,
     "metadata": {},
     "output_type": "execute_result"
    }
   ],
   "source": [
    "laplace_transform(exp,t,s).rewrite(Integral).doit()"
   ]
  },
  {
   "cell_type": "markdown",
   "metadata": {},
   "source": [
    "## 6.2 Partialbrüchzerlegung und Inversetransformation"
   ]
  },
  {
   "cell_type": "code",
   "execution_count": 36,
   "metadata": {},
   "outputs": [
    {
     "data": {
      "image/png": "[encoded data removed]",
      "text/latex": [
       "$$\\frac{1}{s^{2} - 4}$$"
      ],
      "text/plain": [
       "  1   \n",
       "──────\n",
       " 2    \n",
       "s  - 4"
      ]
     },
     "execution_count": 36,
     "metadata": {},
     "output_type": "execute_result"
    }
   ],
   "source": [
    "s=symbols(\"s\")\n",
    "f2=(s-1)/((s-1)*(s**2-4))\n",
    "f2"
   ]
  },
  {
   "cell_type": "code",
   "execution_count": 37,
   "metadata": {},
   "outputs": [
    {
     "data": {
      "image/png": "[encoded data removed]",
      "text/latex": [
       "$$- \\frac{1}{4 \\left(s + 2\\right)} + \\frac{1}{4 \\left(s - 2\\right)}$$"
      ],
      "text/plain": [
       "      1           1    \n",
       "- ───────── + ─────────\n",
       "  4⋅(s + 2)   4⋅(s - 2)"
      ]
     },
     "execution_count": 37,
     "metadata": {},
     "output_type": "execute_result"
    }
   ],
   "source": [
    "apart(f2)"
   ]
  },
  {
   "cell_type": "code",
   "execution_count": 40,
   "metadata": {},
   "outputs": [
    {
     "data": {
      "image/png": "[encoded data removed]",
      "text/latex": [
       "$$- \\frac{1}{4 s - 8}$$"
      ],
      "text/plain": [
       "  -1   \n",
       "───────\n",
       "4⋅s - 8"
      ]
     },
     "execution_count": 40,
     "metadata": {},
     "output_type": "execute_result"
    }
   ],
   "source": [
    "f22=-1/(4*(s-2))\n",
    "f22"
   ]
  },
  {
   "cell_type": "code",
   "execution_count": 43,
   "metadata": {},
   "outputs": [
    {
     "data": {
      "image/png": "[encoded data removed]",
      "text/latex": [
       "$$\\frac{1}{4 s + 8}$$"
      ],
      "text/plain": [
       "   1   \n",
       "───────\n",
       "4⋅s + 8"
      ]
     },
     "execution_count": 43,
     "metadata": {},
     "output_type": "execute_result"
    }
   ],
   "source": [
    "f23=1/(4*(s+2))\n",
    "f23"
   ]
  },
  {
   "cell_type": "code",
   "execution_count": 42,
   "metadata": {},
   "outputs": [
    {
     "data": {
      "image/png": "[encoded data removed]",
      "text/latex": [
       "$$- \\frac{e^{2 t}}{4}$$"
      ],
      "text/plain": [
       "  2⋅t \n",
       "-ℯ    \n",
       "──────\n",
       "  4   "
      ]
     },
     "execution_count": 42,
     "metadata": {},
     "output_type": "execute_result"
    }
   ],
   "source": [
    "t=Symbol(\"t\",positive=True)\n",
    "inverse_laplace_transform(f22,s,t)"
   ]
  },
  {
   "cell_type": "code",
   "execution_count": 44,
   "metadata": {},
   "outputs": [
    {
     "data": {
      "image/png": "[encoded data removed]",
      "text/latex": [
       "$$\\frac{1}{4} e^{- 2 t}$$"
      ],
      "text/plain": [
       " -2⋅t\n",
       "ℯ    \n",
       "─────\n",
       "  4  "
      ]
     },
     "execution_count": 44,
     "metadata": {},
     "output_type": "execute_result"
    }
   ],
   "source": [
    "inverse_laplace_transform(f23,s,t)"
   ]
  },
  {
   "cell_type": "code",
   "execution_count": 51,
   "metadata": {},
   "outputs": [
    {
     "data": {
      "image/png": "[encoded data removed]",
      "text/latex": [
       "$$\\frac{e^{2 t}}{2} - \\frac{1}{4} e^{- 2 t}$$"
      ],
      "text/plain": [
       " 2⋅t    -2⋅t\n",
       "ℯ      ℯ    \n",
       "──── - ─────\n",
       " 2       4  "
      ]
     },
     "execution_count": 51,
     "metadata": {},
     "output_type": "execute_result"
    }
   ],
   "source": [
    "inverse_laplace_transform(f2,s,t).subs(sinh(2*t),E**(2*t)-E**(-2*t)/2)"
   ]
  },
  {
   "cell_type": "code",
   "execution_count": 65,
   "metadata": {},
   "outputs": [
    {
     "data": {
      "image/png": "[encoded data removed]",
      "text/latex": [
       "$$\\begin{cases} x + 1 & \\text{for}\\: x \\geq 1 \\\\- x + 1 & \\text{otherwise} \\end{cases}$$"
      ],
      "text/plain": [
       "⎧x + 1   for x ≥ 1\n",
       "⎨                 \n",
       "⎩-x + 1  otherwise"
      ]
     },
     "execution_count": 65,
     "metadata": {},
     "output_type": "execute_result"
    }
   ],
   "source": [
    "x=Symbol(\"x\")\n",
    "ff=Piecewise(\n",
    "    (x+1,1<=x),\n",
    "    (1-x,1>x)\n",
    ")\n",
    "ff"
   ]
  },
  {
   "cell_type": "code",
   "execution_count": 69,
   "metadata": {},
   "outputs": [
    {
     "data": {
      "image/png": "[encoded data removed]",
      "text/latex": [
       "$$\\int_{-\\infty}^{\\infty} \\begin{cases} \\left(x + 1\\right) e^{- 2 i \\pi s x} & \\text{for}\\: x \\geq 1 \\\\\\left(- x + 1\\right) e^{- 2 i \\pi s x} & \\text{otherwise} \\end{cases}\\, dx$$"
      ],
      "text/plain": [
       "∞                                     \n",
       "⌠                                     \n",
       "⎮  ⎧         -2⋅ⅈ⋅π⋅s⋅x               \n",
       "⎮  ⎪(x + 1)⋅ℯ             for x ≥ 1   \n",
       "⎮  ⎨                                dx\n",
       "⎮  ⎪          -2⋅ⅈ⋅π⋅s⋅x              \n",
       "⎮  ⎩(-x + 1)⋅ℯ            otherwise   \n",
       "⌡                                     \n",
       "-∞                                    "
      ]
     },
     "execution_count": 69,
     "metadata": {},
     "output_type": "execute_result"
    }
   ],
   "source": [
    "fourier_transform(ff,x,s).rewrite(Integral).doit()"
   ]
  },
  {
   "cell_type": "code",
   "execution_count": null,
   "metadata": {
    "collapsed": true
   },
   "outputs": [],
   "source": []
  }
 ],
 "metadata": {
  "kernelspec": {
   "display_name": "Python 3",
   "language": "python",
   "name": "python3"
  },
  "language_info": {
   "codemirror_mode": {
    "name": "ipython",
    "version": 3
   },
   "file_extension": ".py",
   "mimetype": "text/x-python",
   "name": "python",
   "nbconvert_exporter": "python",
   "pygments_lexer": "ipython3",
   "version": "3.6.4"
  }
 },
 "nbformat": 4,
 "nbformat_minor": 2
}
