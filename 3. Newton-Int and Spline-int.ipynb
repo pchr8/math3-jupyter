{
 "cells": [
  {
   "cell_type": "markdown",
   "metadata": {},
   "source": [
    "## 3. Newton-Interpolation und Spline-Interpolation"
   ]
  },
  {
   "cell_type": "markdown",
   "metadata": {},
   "source": [
    "**Interpolation** ist der Verfahren, das zu diskreten Daten eine Funktion findet, die diese Daten abbildet. Wird genützt, z.B., wenn nur einige Punkten eines Funktion bekannt sind, oder um ein Funktion zu finden, der irgendwelche physicalische Prozesse (die nur durch Messpunkten bekannt sind) darstellt.\n",
    "\n",
    "**Polynomial interpolation** ist ein Verfahren, wobei die Punkten werden mit einem Polynom interpoliert.\n",
    "\n",
    "**Spline interpolation** ist das gleiche, aber mit Hilfe von Splines (Polynome zwischen Knoten, die miteinander harmonisch verbunden sind)"
   ]
  },
  {
   "cell_type": "markdown",
   "metadata": {},
   "source": [
    "### Polynomial interpolation"
   ]
  },
  {
   "cell_type": "code",
   "execution_count": 1,
   "metadata": {
    "collapsed": true
   },
   "outputs": [],
   "source": [
    "from sympy import *\n",
    "init_printing()\n",
    "x,y=symbols(\"x y\")"
   ]
  },
  {
   "cell_type": "code",
   "execution_count": 2,
   "metadata": {},
   "outputs": [
    {
     "data": {
      "image/png": "[encoded data removed]",
      "text/latex": [
       "$$\\left [ \\left ( 1, \\quad 2\\right ), \\quad \\left ( 22, \\quad 9\\right ), \\quad \\left ( 23, \\quad 98\\right )\\right ]$$"
      ],
      "text/plain": [
       "[(1, 2), (22, 9), (23, 98)]"
      ]
     },
     "execution_count": 2,
     "metadata": {},
     "output_type": "execute_result"
    }
   ],
   "source": [
    "points=[(1,2),(22,9),(23,98)];\n",
    "points"
   ]
  },
  {
   "cell_type": "code",
   "execution_count": 3,
   "metadata": {},
   "outputs": [
    {
     "data": {
      "image/png": "[encoded data removed]",
      "text/latex": [
       "$$\\frac{133 x^{2}}{33} - \\frac{1016 x}{11} + \\frac{271}{3}$$"
      ],
      "text/plain": [
       "     2               \n",
       "133⋅x    1016⋅x   271\n",
       "────── - ────── + ───\n",
       "  33       11      3 "
      ]
     },
     "execution_count": 3,
     "metadata": {},
     "output_type": "execute_result"
    }
   ],
   "source": [
    "pol = interpolate(points,x)\n",
    "pol"
   ]
  },
  {
   "cell_type": "code",
   "execution_count": 4,
   "metadata": {},
   "outputs": [
    {
     "data": {
      "image/png": "[encoded data removed]",
      "text/plain": [
       "<matplotlib.figure.Figure at 0x7f8162687cc0>"
      ]
     },
     "metadata": {},
     "output_type": "display_data"
    }
   ],
   "source": [
    "import matplotlib.pyplot as p\n",
    "import numpy as n\n",
    "\n",
    "t1=n.arange(0.0,30.0,0.1)\n",
    "t2=[]\n",
    "for i in t1:\n",
    "    t2.append(pol.subs(x,i))\n",
    "\n",
    "p.plot(t1,t2)\n",
    "p.plot(*zip(*points),'ro')\n",
    "p.show()"
   ]
  },
  {
   "cell_type": "markdown",
   "metadata": {},
   "source": [
    "### Spline interpolation"
   ]
  },
  {
   "cell_type": "code",
   "execution_count": 45,
   "metadata": {
    "collapsed": true
   },
   "outputs": [],
   "source": [
    "DataPointsDomain = [0,1,2,3,4,5]\n",
    "DataPointsRange =  [3,6,5,7,9,1]\n",
    "x = symbols('x')\n",
    "s = interpolating_spline(3, x, DataPointsDomain, DataPointsRange)"
   ]
  },
  {
   "cell_type": "code",
   "execution_count": 46,
   "metadata": {},
   "outputs": [
    {
     "data": {
      "image/png": "[encoded data removed]",
      "text/latex": [
       "$$\\begin{cases} \\frac{23 x^{3}}{15} - \\frac{33 x^{2}}{5} + \\frac{121 x}{15} + 3 & \\text{for}\\: x \\geq 0 \\wedge x \\leq 2 \\\\- \\frac{2 x^{3}}{3} + \\frac{33 x^{2}}{5} - \\frac{55 x}{3} + \\frac{103}{5} & \\text{for}\\: x \\geq 2 \\wedge x \\leq 3 \\\\- \\frac{28 x^{3}}{15} + \\frac{87 x^{2}}{5} - \\frac{761 x}{15} + 53 & \\text{for}\\: x \\geq 3 \\wedge x \\leq 5 \\end{cases}$$"
      ],
      "text/plain": [
       "⎧     3       2                                 \n",
       "⎪ 23⋅x    33⋅x    121⋅x                         \n",
       "⎪ ───── - ───── + ───── + 3    for x ≥ 0 ∧ x ≤ 2\n",
       "⎪   15      5       15                          \n",
       "⎪                                               \n",
       "⎪     3       2                                 \n",
       "⎪  2⋅x    33⋅x    55⋅x   103                    \n",
       "⎨- ──── + ───── - ──── + ───   for x ≥ 2 ∧ x ≤ 3\n",
       "⎪   3       5      3      5                     \n",
       "⎪                                               \n",
       "⎪      3       2                                \n",
       "⎪  28⋅x    87⋅x    761⋅x                        \n",
       "⎪- ───── + ───── - ───── + 53  for x ≥ 3 ∧ x ≤ 5\n",
       "⎪    15      5       15                         \n",
       "⎩                                               "
      ]
     },
     "execution_count": 46,
     "metadata": {},
     "output_type": "execute_result"
    }
   ],
   "source": [
    "s"
   ]
  },
  {
   "cell_type": "code",
   "execution_count": 57,
   "metadata": {},
   "outputs": [
    {
     "data": {
      "image/png": "[encoded data removed]",
      "text/latex": [
       "$$2.56919999999997$$"
      ],
      "text/plain": [
       "2.56919999999997"
      ]
     },
     "execution_count": 57,
     "metadata": {},
     "output_type": "execute_result"
    }
   ],
   "source": [
    "laIp=lambdify(x,s);\n",
    "xx = n.arange(0., 5, 0.05)\n",
    "y = []\n",
    "for i in range(len(xx)):\n",
    "   y.append(laIp(xx[i]));\n",
    "s.subs(x,4.9)"
   ]
  },
  {
   "cell_type": "code",
   "execution_count": 58,
   "metadata": {},
   "outputs": [
    {
     "data": {
      "image/png": "[encoded data removed]",
      "text/plain": [
       "<matplotlib.figure.Figure at 0x7f8160564588>"
      ]
     },
     "metadata": {},
     "output_type": "display_data"
    }
   ],
   "source": [
    "p.plot(DataPointsDomain,DataPointsRange, 'ro');\n",
    "p.plot(xx,y,c='grey', marker='.', ms=1)\n",
    "p.show()"
   ]
  },
  {
   "cell_type": "code",
   "execution_count": null,
   "metadata": {
    "collapsed": true
   },
   "outputs": [],
   "source": []
  },
  {
   "cell_type": "code",
   "execution_count": null,
   "metadata": {
    "collapsed": true
   },
   "outputs": [],
   "source": []
  }
 ],
 "metadata": {
  "kernelspec": {
   "display_name": "Python 3",
   "language": "python",
   "name": "python3"
  },
  "language_info": {
   "codemirror_mode": {
    "name": "ipython",
    "version": 3
   },
   "file_extension": ".py",
   "mimetype": "text/x-python",
   "name": "python",
   "nbconvert_exporter": "python",
   "pygments_lexer": "ipython3",
   "version": "3.6.4"
  }
 },
 "nbformat": 4,
 "nbformat_minor": 2
}
