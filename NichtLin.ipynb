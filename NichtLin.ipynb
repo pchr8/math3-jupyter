{
 "cells": [
  {
   "cell_type": "markdown",
   "metadata": {},
   "source": [
    "## 2. Nichtlineare Gleichungssysteme mit Anwendungen\n",
    "\n",
    "### 2.1 Beispiel von der anwendung von <code>nonlinsolve()</code>"
   ]
  },
  {
   "cell_type": "code",
   "execution_count": 1,
   "metadata": {
    "collapsed": true
   },
   "outputs": [],
   "source": [
    "from sympy import *\n",
    "init_printing()\n",
    "x,y=symbols(\"x y\")"
   ]
  },
  {
   "cell_type": "code",
   "execution_count": 2,
   "metadata": {},
   "outputs": [
    {
     "data": {
      "image/png": "[encoded data removed]",
      "text/latex": [
       "$$\\left [ x y - 1, \\quad 4 x^{2} + y^{2} - 5\\right ]$$"
      ],
      "text/plain": [
       "⎡            2    2    ⎤\n",
       "⎣x⋅y - 1, 4⋅x  + y  - 5⎦"
      ]
     },
     "execution_count": 2,
     "metadata": {},
     "output_type": "execute_result"
    }
   ],
   "source": [
    "system=[x*y-1,4*x**2+y**2-5];\n",
    "ssymbols=[x,y]\n",
    "\n",
    "system"
   ]
  },
  {
   "cell_type": "code",
   "execution_count": 3,
   "metadata": {},
   "outputs": [
    {
     "data": {
      "image/png": "[encoded data removed]",
      "text/latex": [
       "$$\\left\\{\\left ( -1, \\quad -1\\right ), \\left ( - \\frac{1}{2}, \\quad -2\\right ), \\left ( \\frac{1}{2}, \\quad 2\\right ), \\left ( 1, \\quad 1\\right )\\right\\}$$"
      ],
      "text/plain": [
       "{(-1, -1), (-1/2, -2), (1/2, 2), (1, 1)}"
      ]
     },
     "execution_count": 3,
     "metadata": {},
     "output_type": "execute_result"
    }
   ],
   "source": [
    "r=nonlinsolve(system,ssymbols)\n",
    "r"
   ]
  },
  {
   "cell_type": "markdown",
   "metadata": {},
   "source": [
    "Überprüfung:"
   ]
  },
  {
   "cell_type": "code",
   "execution_count": 4,
   "metadata": {},
   "outputs": [
    {
     "data": {
      "text/plain": [
       "True"
      ]
     },
     "execution_count": 4,
     "metadata": {},
     "output_type": "execute_result"
    }
   ],
   "source": [
    "(system[1].subs(x,list(r)[0][0]).subs(y,list(r)[0][1])==0)&(system[0].subs(x,list(r)[0][0]).subs(y,list(r)[0][1])==0)"
   ]
  },
  {
   "cell_type": "markdown",
   "metadata": {
    "collapsed": true
   },
   "source": [
    "### 2.2 Rohrleitungssysteme"
   ]
  },
  {
   "cell_type": "markdown",
   "metadata": {},
   "source": [
    "<img src=\"2.png\">\n",
    "\n",
    "**Gegeben:**\n",
    "$$ \n",
    "l_1=250m;\n",
    "l_2=150m;\n",
    "l_3=200m;\\\\\n",
    "d=0.08m;\\lambda=0.022;\n",
    "$$\n",
    "**Gesucht:**\n",
    "$$Q_1,Q_2,Q_3$$"
   ]
  },
  {
   "cell_type": "code",
   "execution_count": 5,
   "metadata": {
    "collapsed": true
   },
   "outputs": [],
   "source": [
    "l1=250;l2=150;l3=200;\n",
    "dm=0.08;l=0.022;"
   ]
  },
  {
   "cell_type": "markdown",
   "metadata": {},
   "source": [
    "#### 2.2.1 Knotengleichungen\n",
    "Ohne Konversion zum Sekunden:\n",
    "\n",
    "$$\\sum_{\\textrm{i: hinein}}Q_i= \\sum_{\\textrm{i: aus}}Q_i \\implies$$\n",
    "\n",
    "I.$Q_1+Q_3=140 $\n",
    "\n",
    "II.$Q_1=40+Q_2 $\n",
    "\n",
    "III.$Q_2+Q_3=100 $\n",
    "\n",
    "#### 2.2.2 Machengleichung mit fixiertes Lambda:\n",
    "$\\lambda=0.022;$\n",
    "\n",
    "$a_1=\\lambda\\frac{l_1}{d^5}$\n",
    "$a_2=\\lambda\\frac{l_2}{d^5}$\n",
    "$a_3=\\lambda\\frac{l_3}{d^5}$\n",
    "\n",
    "$$\\sum \\Delta p_i=0\\implies \\sum \\pm a_iQ_i|Q_i|=0 \\implies\\\\\n",
    "a_1Q_1|Q_1|+a_2Q_2|Q_2|-a_3Q_3|Q_3|=0\n",
    "$$\n",
    "\n"
   ]
  },
  {
   "cell_type": "code",
   "execution_count": 6,
   "metadata": {
    "collapsed": true
   },
   "outputs": [],
   "source": [
    "a1=l*l1/dm**5;\n",
    "a2=l*l2/dm**5;\n",
    "a3=l*l3/dm**5;"
   ]
  },
  {
   "cell_type": "code",
   "execution_count": 7,
   "metadata": {},
   "outputs": [],
   "source": [
    "q1,q2,q3,la1,la2,la3=symbols(\"q1 q2 q3 la1 la2 la3\",real=True)\n",
    "ssymbols=[q1,q2,q3]"
   ]
  },
  {
   "cell_type": "code",
   "execution_count": 8,
   "metadata": {},
   "outputs": [],
   "source": [
    "ss=[q1+q3-140/3600,\n",
    "   q3+q2-100/3600,\n",
    "   a1*(q1)*Abs(q1)+a2*q2*Abs(q2)-a3*q3*Abs(q3)]"
   ]
  },
  {
   "cell_type": "code",
   "execution_count": 9,
   "metadata": {},
   "outputs": [
    {
     "data": {
      "image/png": "[encoded data removed]",
      "text/latex": [
       "$$\\left[\\begin{matrix}0.0179562477682583\\\\0.00684513665714717\\\\0.0209326411206306\\end{matrix}\\right]$$"
      ],
      "text/plain": [
       "⎡0.0179562477682583 ⎤\n",
       "⎢                   ⎥\n",
       "⎢0.00684513665714717⎥\n",
       "⎢                   ⎥\n",
       "⎣0.0209326411206306 ⎦"
      ]
     },
     "execution_count": 9,
     "metadata": {},
     "output_type": "execute_result"
    }
   ],
   "source": [
    "res=nsolve(ss,ssymbols,[1,1,1])\n",
    "res"
   ]
  },
  {
   "cell_type": "markdown",
   "metadata": {},
   "source": [
    "Überprüfen wir diese Werte:"
   ]
  },
  {
   "cell_type": "code",
   "execution_count": 10,
   "metadata": {},
   "outputs": [
    {
     "data": {
      "image/png": "[encoded data removed]",
      "text/latex": [
       "$$\\left [ 0, \\quad 0, \\quad -1.13686837721616 \\cdot 10^{-13}\\right ]$$"
      ],
      "text/plain": [
       "[0, 0, -1.13686837721616e-13]"
      ]
     },
     "execution_count": 10,
     "metadata": {},
     "output_type": "execute_result"
    }
   ],
   "source": [
    "check=[];\n",
    "for eq in ss:\n",
    "    eq=eq.subs(q1,res[0])\n",
    "    eq=eq.subs(q2,res[1])\n",
    "    eq=eq.subs(q3,res[2])\n",
    "    check.append(eq)\n",
    "check"
   ]
  },
  {
   "cell_type": "markdown",
   "metadata": {},
   "source": [
    "#### 2.2.3 Maschengleichungen mit impliziertes Lambda"
   ]
  },
  {
   "cell_type": "code",
   "execution_count": 11,
   "metadata": {
    "collapsed": true
   },
   "outputs": [],
   "source": [
    "from sympy import *\n",
    "q1,q2,q3,la1,la2,la3=symbols(\"q1 q2 q3 la1 la2 la3\",real=True)\n",
    "\n",
    "l1=250;l2=150;l3=200;\n",
    "dm=0.08;\n",
    "v=10**(-6);\n",
    "k=0.00005;\n",
    "\n",
    "a1=la1*l1/dm**5;\n",
    "a2=la2*l2/dm**5;\n",
    "a3=la3*l3/dm**5;\n",
    "\n",
    "k1=q1+q3-140/3600;\n",
    "k2=q3+q2-100/3600;\n",
    "m=a1*(q1)*Abs(q1)+a2*q2*Abs(q2)-a3*q3*Abs(q3);\n",
    "\n",
    "Re1=(4*Abs(q1))/(pi*dm*v);\n",
    "\n",
    "ins1=(\n",
    "    (2.51/\n",
    "     (Re1*sqrt(la1))\n",
    "    ) +\n",
    "    k/(3.71*dm)\n",
    ")\n",
    "    \n",
    "zg1 = (1/sqrt(la1))+2*log(ins1,10);\n",
    "\n",
    "zg2=zg1.subs(la1,la2);\n",
    "zg2=zg2.subs(q1,q2);\n",
    "\n",
    "zg3=zg1.subs(la1,la3);\n",
    "zg3=zg3.subs(q1,q3);"
   ]
  },
  {
   "cell_type": "code",
   "execution_count": 12,
   "metadata": {
    "collapsed": true
   },
   "outputs": [],
   "source": [
    "symbols=[q1,q2,q3,la1,la2,la3]\n",
    "eqs=[k1,k2,m,zg1,zg2,zg3]\n",
    "values=[0.01,0.001,0.01,0.022,0.022,0.022] # die wir haben oben geschätzt"
   ]
  },
  {
   "cell_type": "code",
   "execution_count": 13,
   "metadata": {},
   "outputs": [
    {
     "data": {
      "image/png": "[encoded data removed]",
      "text/latex": [
       "$$\\left[\\begin{matrix}0.0178804487556545\\\\0.00676933764454342\\\\0.0210084401332344\\\\0.0189364069611807\\\\0.0206358202870051\\\\0.0187534480558924\\end{matrix}\\right]$$"
      ],
      "text/plain": [
       "⎡0.0178804487556545 ⎤\n",
       "⎢                   ⎥\n",
       "⎢0.00676933764454342⎥\n",
       "⎢                   ⎥\n",
       "⎢0.0210084401332344 ⎥\n",
       "⎢                   ⎥\n",
       "⎢0.0189364069611807 ⎥\n",
       "⎢                   ⎥\n",
       "⎢0.0206358202870051 ⎥\n",
       "⎢                   ⎥\n",
       "⎣0.0187534480558924 ⎦"
      ]
     },
     "execution_count": 13,
     "metadata": {},
     "output_type": "execute_result"
    }
   ],
   "source": [
    "rn=nsolve(eqs,symbols,values)\n",
    "rn"
   ]
  },
  {
   "cell_type": "markdown",
   "metadata": {},
   "source": [
    "Überprüfung:"
   ]
  },
  {
   "cell_type": "code",
   "execution_count": 14,
   "metadata": {},
   "outputs": [
    {
     "data": {
      "image/png": "[encoded data removed]",
      "text/latex": [
       "$$\\left [ 0, \\quad 0, \\quad 1.70530256582424 \\cdot 10^{-13}, \\quad -4.12364821232593 \\cdot 10^{-16}, \\quad -1.79262091246633 \\cdot 10^{-16}, \\quad 2.89383561782627 \\cdot 10^{-16}\\right ]$$"
      ],
      "text/plain": [
       "[0, 0, 1.70530256582424e-13, -4.12364821232593e-16, -1.79262091246633e-16, 2.8\n",
       "9383561782627e-16]"
      ]
     },
     "execution_count": 14,
     "metadata": {},
     "output_type": "execute_result"
    }
   ],
   "source": [
    "ch=[]\n",
    "for eq in eqs:\n",
    "    eq=eq.subs(q1,rn[0])\n",
    "    eq=eq.subs(q2,rn[1])\n",
    "    eq=eq.subs(q3,rn[2])\n",
    "    eq=eq.subs(la1,rn[3])\n",
    "    eq=eq.subs(la2,rn[4])\n",
    "    eq=eq.subs(la3,rn[5])\n",
    "    eq=eq.evalf()\n",
    "    \n",
    "    ch.append(eq)\n",
    "ch\n"
   ]
  }
 ],
 "metadata": {
  "kernelspec": {
   "display_name": "Python 3",
   "language": "python",
   "name": "python3"
  },
  "language_info": {
   "codemirror_mode": {
    "name": "ipython",
    "version": 3
   },
   "file_extension": ".py",
   "mimetype": "text/x-python",
   "name": "python",
   "nbconvert_exporter": "python",
   "pygments_lexer": "ipython3",
   "version": "3.6.4"
  }
 },
 "nbformat": 4,
 "nbformat_minor": 2
}
