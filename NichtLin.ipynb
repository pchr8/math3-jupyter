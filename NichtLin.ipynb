{
 "cells": [
  {
   "cell_type": "markdown",
   "metadata": {},
   "source": [
    "### 2. Nichtlineare Gleichungssysteme mit Anwendungen\n",
    "\n",
    "#### 2.1 Beispiel von der anwendung von <code>nonlinsolve()</code>"
   ]
  },
  {
   "cell_type": "code",
   "execution_count": 3,
   "metadata": {
    "collapsed": true
   },
   "outputs": [],
   "source": [
    "from sympy import *\n",
    "init_printing()\n",
    "x,y=symbols(\"x y\")"
   ]
  },
  {
   "cell_type": "code",
   "execution_count": 11,
   "metadata": {},
   "outputs": [
    {
     "data": {
      "image/png": "[encoded data removed]",
      "text/latex": [
       "$$\\left [ x y - 1, \\quad 4 x^{2} + y^{2} - 5\\right ]$$"
      ],
      "text/plain": [
       "⎡            2    2    ⎤\n",
       "⎣x⋅y - 1, 4⋅x  + y  - 5⎦"
      ]
     },
     "execution_count": 11,
     "metadata": {},
     "output_type": "execute_result"
    }
   ],
   "source": [
    "system=[x*y-1,4*x**2+y**2-5];\n",
    "symbols=[x,y]\n",
    "\n",
    "system"
   ]
  },
  {
   "cell_type": "code",
   "execution_count": 20,
   "metadata": {},
   "outputs": [
    {
     "data": {
      "image/png": "[encoded data removed]",
      "text/latex": [
       "$$\\left\\{\\left ( -1, \\quad -1\\right ), \\left ( - \\frac{1}{2}, \\quad -2\\right ), \\left ( \\frac{1}{2}, \\quad 2\\right ), \\left ( 1, \\quad 1\\right )\\right\\}$$"
      ],
      "text/plain": [
       "{(-1, -1), (-1/2, -2), (1/2, 2), (1, 1)}"
      ]
     },
     "execution_count": 20,
     "metadata": {},
     "output_type": "execute_result"
    }
   ],
   "source": [
    "r=nonlinsolve(system,symbols)\n",
    "r"
   ]
  },
  {
   "cell_type": "markdown",
   "metadata": {},
   "source": [
    "Überprüfung:"
   ]
  },
  {
   "cell_type": "code",
   "execution_count": 35,
   "metadata": {},
   "outputs": [
    {
     "data": {
      "text/plain": [
       "True"
      ]
     },
     "execution_count": 35,
     "metadata": {},
     "output_type": "execute_result"
    }
   ],
   "source": [
    "(system[1].subs(x,list(r)[0][0]).subs(y,list(r)[0][1])==0)&(system[0].subs(x,list(r)[0][0]).subs(y,list(r)[0][1])==0)"
   ]
  },
  {
   "cell_type": "markdown",
   "metadata": {
    "collapsed": true
   },
   "source": [
    "#### 2.2 Rohrleitungssysteme"
   ]
  },
  {
   "cell_type": "code",
   "execution_count": null,
   "metadata": {
    "collapsed": true
   },
   "outputs": [],
   "source": []
  },
  {
   "cell_type": "code",
   "execution_count": 47,
   "metadata": {},
   "outputs": [
    {
     "data": {
      "image/png": "[encoded data removed]",
      "text/latex": [
       "$$\\left\\{\\left ( - 1.0 q_{3} + 0.0194444444444444, \\quad - 1.0 q_{3} + 0.0111111111111111, \\quad q_{3}\\right )\\right\\}$$"
      ],
      "text/plain": [
       "{(-1.0⋅q₃ + 0.0194444444444444, -1.0⋅q₃ + 0.0111111111111111, q₃)}"
      ]
     },
     "execution_count": 47,
     "metadata": {},
     "output_type": "execute_result"
    }
   ],
   "source": [
    "from sympy import *\n",
    "q1,q2,q3=symbols(\"q1 q2 q3\",real=True)\n",
    "s=[q1+q3-70/3600,\n",
    "   q3+q2-40/3600,\n",
    "   30/3600+q2-q1\n",
    "]\n",
    "symbols=[q1,q2,q3]\n",
    "nonlinsolve(s,symbols)"
   ]
  },
  {
   "cell_type": "code",
   "execution_count": null,
   "metadata": {
    "collapsed": true
   },
   "outputs": [],
   "source": []
  },
  {
   "cell_type": "code",
   "execution_count": 48,
   "metadata": {
    "collapsed": true
   },
   "outputs": [],
   "source": [
    "l1=250;l2=150;l3=200;\n",
    "dm=0.08;l=0.022;"
   ]
  },
  {
   "cell_type": "code",
   "execution_count": 49,
   "metadata": {
    "collapsed": true
   },
   "outputs": [],
   "source": [
    "a1=l*l1/dm**5;\n",
    "a2=l*l2/dm**5;\n",
    "a3=l*l3/dm**5;\n"
   ]
  },
  {
   "cell_type": "code",
   "execution_count": 50,
   "metadata": {
    "collapsed": true
   },
   "outputs": [],
   "source": [
    "ss=[q1+q3-70/3600,\n",
    "   q3+q2-40/3600,\n",
    "   a1*(-q1)*Abs(q1)+a2*q2*Abs(q2)+a3*q3*Abs(q3)]\n",
    "#30/3600+q2-q1,\n",
    "ssymbols=[q1,q2,q3]"
   ]
  },
  {
   "cell_type": "code",
   "execution_count": 51,
   "metadata": {},
   "outputs": [
    {
     "data": {
      "image/png": "[encoded data removed]",
      "text/latex": [
       "$$\\left[\\begin{matrix}0.00919317352510191\\\\0.000859840191768578\\\\0.0102512709193425\\end{matrix}\\right]$$"
      ],
      "text/plain": [
       "⎡0.00919317352510191 ⎤\n",
       "⎢                    ⎥\n",
       "⎢0.000859840191768578⎥\n",
       "⎢                    ⎥\n",
       "⎣ 0.0102512709193425 ⎦"
      ]
     },
     "execution_count": 51,
     "metadata": {},
     "output_type": "execute_result"
    }
   ],
   "source": [
    "res=nsolve(ss,ssymbols,[1,1,1])\n",
    "#solveset(ss,ssymbols)\n",
    "#nonlinsolve(ss,ssymbols)\n",
    "res"
   ]
  },
  {
   "cell_type": "code",
   "execution_count": 41,
   "metadata": {},
   "outputs": [
    {
     "data": {
      "image/png": "[encoded data removed]",
      "text/latex": [
       "$$2.8421709430404 \\cdot 10^{-14}$$"
      ],
      "text/plain": [
       "2.84217094304040e-14"
      ]
     },
     "execution_count": 41,
     "metadata": {},
     "output_type": "execute_result"
    }
   ],
   "source": [
    "#ss[2].evalf(subs={q1:res[0],q2:res[1],q3:[2]})\n",
    "#ss[1].evalf(subs={q2:res[1],q3:res[2]})\n",
    "res[0]+res[2]==70/3600\n",
    "#ss[0].evalf(subs={q1:res[0],q3:res[2]})\n",
    "#ss[0].evalf(subs={q1:0.00919317352510191, q3:0.0102512709193425})\n",
    "ex=ss[2].subs(q1,res[0])\n",
    "ex=ex.subs(q2,res[1])\n",
    "ex=ex.subs(q3,res[2])\n",
    "ex\n"
   ]
  },
  {
   "cell_type": "markdown",
   "metadata": {},
   "source": [
    "With implied lambda:"
   ]
  },
  {
   "cell_type": "code",
   "execution_count": 42,
   "metadata": {
    "collapsed": true
   },
   "outputs": [],
   "source": [
    "from sympy import *\n",
    "q1,q2,q3,la1,la2,la3=symbols(\"q1 q2 q3 la1 la2 la3\",real=True)\n",
    "\n",
    "l1=250;l2=150;l3=200;\n",
    "dm=0.08;\n",
    "v=10**(-6);\n",
    "k=0.00005;\n",
    "\n",
    "a1=la1*l1/dm**5;\n",
    "a2=la2*l2/dm**5;\n",
    "a3=la3*l3/dm**5;\n",
    "\n",
    "k1=q1+q3-70/3600;\n",
    "k2=q3+q2-40/3600;\n",
    "m=a1*(-q1)*Abs(q1)+a2*q2*Abs(q2)+a3*q3*Abs(q3);\n",
    "\n",
    "Re1=(4*Abs(q1))/(pi*dm*v);\n",
    "\n",
    "ins1=(\n",
    "    (2.51/\n",
    "     (Re1*sqrt(la1))\n",
    "    ) +\n",
    "    k/(3.71*dm)\n",
    ")\n",
    "    \n",
    "zg1 = (1/sqrt(la1))+2*log(ins1,10);\n",
    "\n",
    "zg2=zg1.subs(la1,la2);\n",
    "zg2=zg2.subs(q1,q2);\n",
    "\n",
    "zg3=zg1.subs(la1,la3);\n",
    "zg3=zg3.subs(q1,q3);\n",
    "\n"
   ]
  },
  {
   "cell_type": "code",
   "execution_count": 43,
   "metadata": {
    "collapsed": true
   },
   "outputs": [],
   "source": [
    "symbols=[q1,q2,q3,la1,la2,la3]\n",
    "eqs=[k1,k2,m,zg1,zg2,zg3]\n",
    "values=[0.01,0.001,0.01,0.022,0.022,0.022]"
   ]
  },
  {
   "cell_type": "code",
   "execution_count": 44,
   "metadata": {},
   "outputs": [
    {
     "data": {
      "image/png": "[encoded data removed]",
      "text/latex": [
       "$$\\left[\\begin{matrix}0.00917260643194989\\\\0.000839273098616552\\\\0.0102718380124946\\\\0.0199783944473821\\\\0.0297228669746845\\\\0.0197652387904721\\end{matrix}\\right]$$"
      ],
      "text/plain": [
       "⎡0.00917260643194989 ⎤\n",
       "⎢                    ⎥\n",
       "⎢0.000839273098616552⎥\n",
       "⎢                    ⎥\n",
       "⎢ 0.0102718380124946 ⎥\n",
       "⎢                    ⎥\n",
       "⎢ 0.0199783944473821 ⎥\n",
       "⎢                    ⎥\n",
       "⎢ 0.0297228669746845 ⎥\n",
       "⎢                    ⎥\n",
       "⎣ 0.0197652387904721 ⎦"
      ]
     },
     "execution_count": 44,
     "metadata": {},
     "output_type": "execute_result"
    }
   ],
   "source": [
    "rn=nsolve(eqs,symbols,values)\n",
    "rn"
   ]
  },
  {
   "cell_type": "code",
   "execution_count": 45,
   "metadata": {},
   "outputs": [
    {
     "data": {
      "image/png": "[encoded data removed]",
      "text/latex": [
       "$$2.97623571195545 \\cdot 10^{-16}$$"
      ],
      "text/plain": [
       "2.97623571195545e-16"
      ]
     },
     "execution_count": 45,
     "metadata": {},
     "output_type": "execute_result"
    }
   ],
   "source": [
    "zgg=zg3.subs(q3,rn[2])\n",
    "zgg=zgg.subs(la3,rn[5])\n",
    "zgg.evalf()"
   ]
  },
  {
   "cell_type": "markdown",
   "metadata": {},
   "source": [
    "#### Now a new exercise.\n",
    "##### Firstly, let's try the Ü a)  Calculate it explicitly.\n",
    "# Not working"
   ]
  },
  {
   "cell_type": "code",
   "execution_count": 143,
   "metadata": {
    "collapsed": true
   },
   "outputs": [],
   "source": [
    "from sympy import *\n",
    "q1,q2,q3,q4,q5=symbols(\"q1 q2 q3 q4 q5\",real=True)\n",
    "l1=100;l2=200;l3=250; l4=180;l5=150;\n",
    "dm=0.08;l=0.022;\n",
    "\n",
    "a1=l*l1/dm**5;\n",
    "a2=l*l2/dm**5;\n",
    "a3=l*l3/dm**5;\n",
    "a4=l*l4/dm**5;\n",
    "a5=l*l5/dm**5;\n"
   ]
  },
  {
   "cell_type": "code",
   "execution_count": 144,
   "metadata": {
    "collapsed": true
   },
   "outputs": [],
   "source": [
    "ss=[q2+q5-90/3600,\n",
    "    q2-20/3600-q1-q3,\n",
    "    q5+q3-q4-30/3600,\n",
    "    q1+q4-40/3600,\n",
    "    a2*q2*Abs(q2)+a3*q3*Abs(q3)-a5*q5*Abs(q5),\n",
    "    a4*q4*Abs(q4)+a3*q3*Abs(q3)-a1*q1*Abs(q1)\n",
    "   ]\n",
    "#30/3600+q2-q1,\n",
    "ssymbols=[q1,q2,q3,q4,q5]"
   ]
  },
  {
   "cell_type": "code",
   "execution_count": 147,
   "metadata": {},
   "outputs": [
    {
     "data": {
      "image/png": "[encoded data removed]",
      "text/latex": [
       "$$\\left[\\begin{matrix}0.00635812681203058\\\\0.0116052858777949\\\\-0.000308396489791247\\\\0.00475298429908054\\\\0.0133947141222051\\end{matrix}\\right]$$"
      ],
      "text/plain": [
       "⎡ 0.00635812681203058 ⎤\n",
       "⎢                     ⎥\n",
       "⎢ 0.0116052858777949  ⎥\n",
       "⎢                     ⎥\n",
       "⎢-0.000308396489791247⎥\n",
       "⎢                     ⎥\n",
       "⎢ 0.00475298429908054 ⎥\n",
       "⎢                     ⎥\n",
       "⎣ 0.0133947141222051  ⎦"
      ]
     },
     "execution_count": 147,
     "metadata": {},
     "output_type": "execute_result"
    }
   ],
   "source": [
    "#nsolve(ss,ssymbols,[0.1,0.1,0.1,0.1,0.1])\n",
    "#solveset(ss,ssymbols)\n",
    "#nonlinsolve(ss,ssymbols)\n",
    "\n",
    "res=nsolve(ss,ssymbols,[0.1,0.1,0.1,0.1,0.1])\n",
    "res"
   ]
  },
  {
   "cell_type": "code",
   "execution_count": 146,
   "metadata": {},
   "outputs": [
    {
     "data": {
      "image/png": "[encoded data removed]",
      "text/latex": [
       "$$-7.105427357601 \\cdot 10^{-15}$$"
      ],
      "text/plain": [
       "-7.10542735760100e-15"
      ]
     },
     "execution_count": 146,
     "metadata": {},
     "output_type": "execute_result"
    }
   ],
   "source": [
    "ex=ss[5];\n",
    "ex=ex.subs(q1,res[0])\n",
    "ex=ex.subs(q3,res[2])\n",
    "ex=ex.subs(q4,res[3])\n",
    "ex"
   ]
  },
  {
   "cell_type": "code",
   "execution_count": 162,
   "metadata": {
    "collapsed": true
   },
   "outputs": [],
   "source": [
    "from sympy import *\n",
    "q1,q2,q3,q4,q5,la1,la2,la3,la4,la5=symbols(\"q1 q2 q3 q4 q5 la1 la2 la3 la4 la5\",real=True)\n",
    "\n",
    "from sympy import *\n",
    "l1=100;l2=200;l3=250;l4=180;l5=150;\n",
    "dm=0.08;l=0.022;\n",
    "v=10**(-6);\n",
    "k=0.00005;\n",
    "\n",
    "a1=la1*l1/dm**5;\n",
    "a2=la2*l2/dm**5;\n",
    "a3=la3*l3/dm**5;\n",
    "a4=la4*l4/dm**5;\n",
    "a5=la5*l5/dm**5;\n",
    "\n",
    "Re1=(4*Abs(q1))/(pi*dm*v);\n",
    "\n",
    "ins1=(\n",
    "    (2.51/\n",
    "     (Re1*sqrt(la1))\n",
    "    ) +\n",
    "    k/(3.71*dm)\n",
    ")\n",
    "    \n",
    "zg1 = (1/sqrt(la1))+2*log(ins1,10);\n",
    "\n",
    "zg2=zg1.subs(la1,la2);\n",
    "zg2=zg2.subs(q1,q2);\n",
    "\n",
    "zg3=zg1.subs(la1,la3);\n",
    "zg3=zg3.subs(q1,q3);\n",
    "\n",
    "zg4=zg1.subs(la1,la4);\n",
    "zg4=zg4.subs(q1,q4);\n",
    "\n",
    "zg5=zg1.subs(la1,la5);\n",
    "zg5=zg5.subs(q1,q5);\n",
    "\n",
    "ss=[q2+q5-90/3600,\n",
    "    q2-20/3600-q1-q3,\n",
    "    q5+q3-q4-30/3600,\n",
    "    q1+q4-40/3600,\n",
    "    a2*q2*Abs(q2)+a3*q3*Abs(q3)-a5*q5*Abs(q5),\n",
    "    a4*q4*Abs(q4)+a3*q3*Abs(q3)-a1*q1*Abs(q1),\n",
    "    \n",
    "    zg1, zg2, zg3, zg4, zg5]"
   ]
  },
  {
   "cell_type": "code",
   "execution_count": 163,
   "metadata": {
    "collapsed": true
   },
   "outputs": [],
   "source": [
    "symbols=[q1,q2,q3,q4,q5,la1,la2,la3,la4,la5]\n",
    "eqs=ss;\n",
    "values=[0.01,0.01,0.01,0.01,0.01,\n",
    "        0.022,0.022,0.022,0.022,0.022]"
   ]
  },
  {
   "cell_type": "code",
   "execution_count": 164,
   "metadata": {},
   "outputs": [
    {
     "data": {
      "image/png": "[encoded data removed]",
      "text/latex": [
       "$$\\left[\\begin{matrix}0.00390497207339172\\\\0.0128490756345707\\\\0.00338854800562345\\\\0.00720613903771939\\\\0.0121509243654293\\\\0.0209111968975686\\\\0.0190425437706077\\\\0.0210190911591312\\\\0.0202214982678159\\\\0.019188405515527\\end{matrix}\\right]$$"
      ],
      "text/plain": [
       "⎡0.00390497207339172⎤\n",
       "⎢                   ⎥\n",
       "⎢0.0128490756345707 ⎥\n",
       "⎢                   ⎥\n",
       "⎢0.00338854800562345⎥\n",
       "⎢                   ⎥\n",
       "⎢0.00720613903771939⎥\n",
       "⎢                   ⎥\n",
       "⎢0.0121509243654293 ⎥\n",
       "⎢                   ⎥\n",
       "⎢0.0209111968975686 ⎥\n",
       "⎢                   ⎥\n",
       "⎢0.0190425437706077 ⎥\n",
       "⎢                   ⎥\n",
       "⎢0.0210190911591312 ⎥\n",
       "⎢                   ⎥\n",
       "⎢0.0202214982678159 ⎥\n",
       "⎢                   ⎥\n",
       "⎣ 0.019188405515527 ⎦"
      ]
     },
     "execution_count": 164,
     "metadata": {},
     "output_type": "execute_result"
    }
   ],
   "source": [
    "res = nsolve(eqs,symbols,values,tol=10000)\n",
    "res"
   ]
  },
  {
   "cell_type": "code",
   "execution_count": 165,
   "metadata": {},
   "outputs": [
    {
     "data": {
      "image/png": "[encoded data removed]",
      "text/latex": [
       "$$80.6140002157864$$"
      ],
      "text/plain": [
       "80.6140002157864"
      ]
     },
     "execution_count": 165,
     "metadata": {},
     "output_type": "execute_result"
    }
   ],
   "source": [
    "ex=ss[4];\n",
    "ex=ex.subs(q1,res[0])\n",
    "ex=ex.subs(q2,res[1])\n",
    "ex=ex.subs(q3,res[2])\n",
    "ex=ex.subs(q4,res[3])\n",
    "ex=ex.subs(q5,res[4])\n",
    "ex=ex.subs(la1,res[5])\n",
    "ex=ex.subs(la2,res[6])\n",
    "ex=ex.subs(la3,res[7])\n",
    "ex=ex.subs(la4,res[8])\n",
    "ex=ex.subs(la5,res[9])\n",
    "ex.evalf()"
   ]
  },
  {
   "cell_type": "code",
   "execution_count": 23,
   "metadata": {},
   "outputs": [
    {
     "data": {
      "image/png": "[encoded data removed]",
      "text/latex": [
       "$$x^{-0.5}$$"
      ],
      "text/plain": [
       " -0.5\n",
       "x    "
      ]
     },
     "execution_count": 23,
     "metadata": {},
     "output_type": "execute_result"
    }
   ],
   "source": [
    "x**(-1/2)"
   ]
  },
  {
   "cell_type": "code",
   "execution_count": 24,
   "metadata": {},
   "outputs": [
    {
     "data": {
      "text/plain": [
       "True"
      ]
     },
     "execution_count": 24,
     "metadata": {},
     "output_type": "execute_result"
    }
   ],
   "source": [
    "x**(-1/2)==1/x**(1/2)"
   ]
  },
  {
   "cell_type": "code",
   "execution_count": null,
   "metadata": {
    "collapsed": true
   },
   "outputs": [],
   "source": []
  }
 ],
 "metadata": {
  "kernelspec": {
   "display_name": "Python 3",
   "language": "python",
   "name": "python3"
  },
  "language_info": {
   "codemirror_mode": {
    "name": "ipython",
    "version": 3
   },
   "file_extension": ".py",
   "mimetype": "text/x-python",
   "name": "python",
   "nbconvert_exporter": "python",
   "pygments_lexer": "ipython3",
   "version": "3.6.4"
  }
 },
 "nbformat": 4,
 "nbformat_minor": 2
}
