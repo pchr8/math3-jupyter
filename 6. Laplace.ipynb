{
 "cells": [
  {
   "cell_type": "markdown",
   "metadata": {},
   "source": [
    "# 6. Laplace Transformation"
   ]
  },
  {
   "cell_type": "markdown",
   "metadata": {},
   "source": [
    "<small>Sympy scheint [Problemen](https://github.com/sympy/sympy/issues/10354) zu haben mit Laplace und Piecewise, deshalb mache ich das jetzt in Sage.</small>"
   ]
  },
  {
   "cell_type": "code",
   "execution_count": 1,
   "metadata": {},
   "outputs": [],
   "source": [
    "from sage import *\n",
    "%display latex\n",
    "\n",
    "t,s,u=var('t s u')"
   ]
  },
  {
   "cell_type": "markdown",
   "metadata": {},
   "source": [
    "## 6.1 Transformation einer stückweise definiertes Funktion"
   ]
  },
  {
   "cell_type": "code",
   "execution_count": 2,
   "metadata": {},
   "outputs": [
    {
     "data": {
      "text/html": [
       "<html><script type=\"math/tex; mode=display\">\\newcommand{\\Bold}[1]{\\mathbf{#1}}piecewise\\left(\\left(\\left(\\verb|(0,|\\phantom{\\verb!x!}\\verb|2)|, -t\\right), \\left(\\verb|(2,|\\phantom{\\verb!x!}\\verb|+oo)|, t\\right)\\right), t\\right)</script></html>"
      ],
      "text/plain": [
       "piecewise(t|-->-t on (0, 2), t|-->t on (2, +oo); t)"
      ]
     },
     "execution_count": 2,
     "metadata": {},
     "output_type": "execute_result"
    }
   ],
   "source": [
    "ff=piecewise([\n",
    "    ((0,2), -t),\n",
    "    ((2,+oo), t),\n",
    "])\n",
    "ff"
   ]
  },
  {
   "cell_type": "code",
   "execution_count": 3,
   "metadata": {},
   "outputs": [
    {
     "data": {
      "image/png": "[encoded data removed]",
      "text/plain": [
       "Graphics object consisting of 1 graphics primitive"
      ]
     },
     "execution_count": 3,
     "metadata": {},
     "output_type": "execute_result"
    }
   ],
   "source": [
    "plot(ff,0,4)"
   ]
  },
  {
   "cell_type": "code",
   "execution_count": 4,
   "metadata": {},
   "outputs": [
    {
     "data": {
      "text/html": [
       "<html><script type=\"math/tex; mode=display\">\\newcommand{\\Bold}[1]{\\mathbf{#1}}\\frac{2 \\, {\\left(2 \\, s + 1\\right)} e^{\\left(-2 \\, s\\right)}}{s^{2}} - \\frac{1}{s^{2}}</script></html>"
      ],
      "text/plain": [
       "2*(2*s + 1)*e^(-2*s)/s^2 - 1/s^2"
      ]
     },
     "execution_count": 4,
     "metadata": {},
     "output_type": "execute_result"
    }
   ],
   "source": [
    "ff.laplace(t,s)"
   ]
  },
  {
   "cell_type": "markdown",
   "metadata": {},
   "source": [
    "Von der Transformation, es ist möglich die funktion zu schätzen. Hier, zB, $t=0; t=2$ sind wichtig."
   ]
  },
  {
   "cell_type": "markdown",
   "metadata": {},
   "source": [
    "## 6.2 Partialbruchzerlegung und Inverse transformation\n",
    "### 6.2.1 Beispiel 1\n",
    "\"Finde die Funktion dessen Laplace Transform ist...\""
   ]
  },
  {
   "cell_type": "code",
   "execution_count": 5,
   "metadata": {
    "collapsed": true
   },
   "outputs": [],
   "source": [
    "import sympy as ss"
   ]
  },
  {
   "cell_type": "code",
   "execution_count": 6,
   "metadata": {},
   "outputs": [
    {
     "data": {
      "text/html": [
       "<html><script type=\"math/tex; mode=display\">\\newcommand{\\Bold}[1]{\\mathbf{#1}}\\frac{s^{2} - 2 \\, s}{{\\left(s^{2} - 16\\right)} s^{2}}</script></html>"
      ],
      "text/plain": [
       "(s^2 - 2*s)/((s^2 - 16)*s^2)"
      ]
     },
     "execution_count": 6,
     "metadata": {},
     "output_type": "execute_result"
    }
   ],
   "source": [
    "fpa=(s**2-2*s)/((s**2)*(s**2-16))\n",
    "fpa\n"
   ]
  },
  {
   "cell_type": "code",
   "execution_count": 7,
   "metadata": {},
   "outputs": [],
   "source": [
    "fpaa=(s**2-2*s)\n",
    "fpab=(s**2)*(s**2-16)"
   ]
  },
  {
   "cell_type": "code",
   "execution_count": 8,
   "metadata": {},
   "outputs": [
    {
     "data": {
      "text/html": [
       "<html><script type=\"math/tex; mode=display\">\\newcommand{\\Bold}[1]{\\mathbf{#1}}s^{4} - 16 \\, s^{2}</script></html>"
      ],
      "text/plain": [
       "s^4 - 16*s^2"
      ]
     },
     "execution_count": 8,
     "metadata": {},
     "output_type": "execute_result"
    }
   ],
   "source": [
    "fpab=fpab.expand()\n",
    "fpab"
   ]
  },
  {
   "cell_type": "code",
   "execution_count": 9,
   "metadata": {},
   "outputs": [
    {
     "data": {
      "text/html": [
       "<html><script type=\"math/tex; mode=display\">\\newcommand{\\Bold}[1]{\\mathbf{#1}}\\frac{s^{2} - 2 \\, s}{s^{4} - 16 \\, s^{2}}</script></html>"
      ],
      "text/plain": [
       "(s^2 - 2*s)/(s^4 - 16*s^2)"
      ]
     },
     "execution_count": 9,
     "metadata": {},
     "output_type": "execute_result"
    }
   ],
   "source": [
    "fpa=fpaa/fpab\n",
    "fpa"
   ]
  },
  {
   "cell_type": "markdown",
   "metadata": {},
   "source": [
    "#### Partialbruchzerlegung:"
   ]
  },
  {
   "cell_type": "code",
   "execution_count": 10,
   "metadata": {},
   "outputs": [
    {
     "name": "stdout",
     "output_type": "stream",
     "text": [
      "-3/16/(s + 4) + 1/16/(s - 4) + 1/8/s\n"
     ]
    }
   ],
   "source": [
    "print(fpa.partial_fraction(s))"
   ]
  },
  {
   "cell_type": "markdown",
   "metadata": {},
   "source": [
    "Von jedes Teil:"
   ]
  },
  {
   "cell_type": "code",
   "execution_count": 11,
   "metadata": {},
   "outputs": [],
   "source": [
    "fpa1=-3/16/(s + 4)\n",
    "fpa2= 1/16/(s - 4)\n",
    "fpa3= 1/8/s"
   ]
  },
  {
   "cell_type": "code",
   "execution_count": 12,
   "metadata": {},
   "outputs": [
    {
     "data": {
      "text/html": [
       "<html><script type=\"math/tex; mode=display\">\\newcommand{\\Bold}[1]{\\mathbf{#1}}-\\frac{3}{16} \\, e^{\\left(-4 \\, t\\right)}</script></html>"
      ],
      "text/plain": [
       "-3/16*e^(-4*t)"
      ]
     },
     "execution_count": 12,
     "metadata": {},
     "output_type": "execute_result"
    }
   ],
   "source": [
    "i1=inverse_laplace(fpa1,s,t);i1"
   ]
  },
  {
   "cell_type": "code",
   "execution_count": 13,
   "metadata": {},
   "outputs": [
    {
     "data": {
      "text/html": [
       "<html><script type=\"math/tex; mode=display\">\\newcommand{\\Bold}[1]{\\mathbf{#1}}\\frac{1}{16} \\, e^{\\left(4 \\, t\\right)}</script></html>"
      ],
      "text/plain": [
       "1/16*e^(4*t)"
      ]
     },
     "execution_count": 13,
     "metadata": {},
     "output_type": "execute_result"
    }
   ],
   "source": [
    "i2=inverse_laplace(fpa2,s,t);i2"
   ]
  },
  {
   "cell_type": "code",
   "execution_count": 14,
   "metadata": {},
   "outputs": [
    {
     "data": {
      "text/html": [
       "<html><script type=\"math/tex; mode=display\">\\newcommand{\\Bold}[1]{\\mathbf{#1}}\\frac{1}{8}</script></html>"
      ],
      "text/plain": [
       "1/8"
      ]
     },
     "execution_count": 14,
     "metadata": {},
     "output_type": "execute_result"
    }
   ],
   "source": [
    "i3=inverse_laplace(fpa3,s,t);i3"
   ]
  },
  {
   "cell_type": "code",
   "execution_count": 15,
   "metadata": {},
   "outputs": [
    {
     "data": {
      "text/html": [
       "<html><script type=\"math/tex; mode=display\">\\newcommand{\\Bold}[1]{\\mathbf{#1}}\\mathrm{True}</script></html>"
      ],
      "text/plain": [
       "True"
      ]
     },
     "execution_count": 15,
     "metadata": {},
     "output_type": "execute_result"
    }
   ],
   "source": [
    "bool(inverse_laplace(fpa,s,t)==i1+i2+i3)"
   ]
  },
  {
   "cell_type": "markdown",
   "metadata": {},
   "source": [
    "### 6.2.2 Beispiel 2"
   ]
  },
  {
   "cell_type": "code",
   "execution_count": 16,
   "metadata": {},
   "outputs": [
    {
     "data": {
      "text/html": [
       "<html><script type=\"math/tex; mode=display\">\\newcommand{\\Bold}[1]{\\mathbf{#1}}\\frac{2 \\, {\\left(s^{3} + 3 \\, s^{2} - 2 \\, s - 7\\right)}}{s^{4} + 2 \\, s^{3} - 2 \\, s^{2} - 6 \\, s + 5}</script></html>"
      ],
      "text/plain": [
       "2*(s^3 + 3*s^2 - 2*s - 7)/(s^4 + 2*s^3 - 2*s^2 - 6*s + 5)"
      ]
     },
     "execution_count": 16,
     "metadata": {},
     "output_type": "execute_result"
    }
   ],
   "source": [
    "fpal=(2*s**3+6*s**2-4*s-14)/(s**4+2*s**3-2*s**2-6*s+5); fpal"
   ]
  },
  {
   "cell_type": "code",
   "execution_count": 17,
   "metadata": {},
   "outputs": [
    {
     "data": {
      "text/html": [
       "<html><script type=\"math/tex; mode=display\">\\newcommand{\\Bold}[1]{\\mathbf{#1}}\\frac{1}{s^{2} + 4 \\, s + 5} + \\frac{2}{s - 1} - \\frac{1}{{\\left(s - 1\\right)}^{2}}</script></html>"
      ],
      "text/plain": [
       "1/(s^2 + 4*s + 5) + 2/(s - 1) - 1/(s - 1)^2"
      ]
     },
     "execution_count": 17,
     "metadata": {},
     "output_type": "execute_result"
    }
   ],
   "source": [
    "fpf=fpal.partial_fraction(s);fpf"
   ]
  },
  {
   "cell_type": "code",
   "execution_count": 18,
   "metadata": {},
   "outputs": [
    {
     "data": {
      "text/html": [
       "<html><script type=\"math/tex; mode=display\">\\newcommand{\\Bold}[1]{\\mathbf{#1}}\\left[\\frac{1}{s^{2} + 4 \\, s + 5}, \\frac{2}{s - 1}, -\\frac{1}{{\\left(s - 1\\right)}^{2}}\\right]</script></html>"
      ],
      "text/plain": [
       "[1/(s^2 + 4*s + 5), 2/(s - 1), -1/(s - 1)^2]"
      ]
     },
     "execution_count": 18,
     "metadata": {},
     "output_type": "execute_result"
    }
   ],
   "source": [
    "fpf.operands()"
   ]
  },
  {
   "cell_type": "markdown",
   "metadata": {},
   "source": [
    "Jetzt versuchen wir jeder davon zu transformieren:"
   ]
  },
  {
   "cell_type": "code",
   "execution_count": 19,
   "metadata": {},
   "outputs": [
    {
     "data": {
      "text/html": [
       "<html><script type=\"math/tex; mode=display\">\\newcommand{\\Bold}[1]{\\mathbf{#1}}\\left[e^{\\left(-2 \\, t\\right)} \\sin\\left(t\\right), 2 \\, e^{t}, -t e^{t}\\right]</script></html>"
      ],
      "text/plain": [
       "[e^(-2*t)*sin(t), 2*e^t, -t*e^t]"
      ]
     },
     "execution_count": 19,
     "metadata": {},
     "output_type": "execute_result"
    }
   ],
   "source": [
    "inverses=[]\n",
    "for op in fpf.operands():\n",
    "    op=inverse_laplace(op,s,t)\n",
    "    inverses.append(op)\n",
    "inverses\n",
    "    "
   ]
  },
  {
   "cell_type": "code",
   "execution_count": 20,
   "metadata": {},
   "outputs": [
    {
     "data": {
      "text/html": [
       "<html><script type=\"math/tex; mode=display\">\\newcommand{\\Bold}[1]{\\mathbf{#1}}-t e^{t} + e^{\\left(-2 \\, t\\right)} \\sin\\left(t\\right) + 2 \\, e^{t}</script></html>"
      ],
      "text/plain": [
       "-t*e^t + e^(-2*t)*sin(t) + 2*e^t"
      ]
     },
     "execution_count": 20,
     "metadata": {},
     "output_type": "execute_result"
    }
   ],
   "source": [
    "fpfi=0;\n",
    "for op in inverses:\n",
    "    fpfi=fpfi+op;\n",
    "fpfi"
   ]
  },
  {
   "cell_type": "markdown",
   "metadata": {},
   "source": [
    "Das Inverse von die originelle Funktion:"
   ]
  },
  {
   "cell_type": "code",
   "execution_count": 21,
   "metadata": {},
   "outputs": [
    {
     "data": {
      "text/html": [
       "<html><script type=\"math/tex; mode=display\">\\newcommand{\\Bold}[1]{\\mathbf{#1}}-t e^{t} + e^{\\left(-2 \\, t\\right)} \\sin\\left(t\\right) + 2 \\, e^{t}</script></html>"
      ],
      "text/plain": [
       "-t*e^t + e^(-2*t)*sin(t) + 2*e^t"
      ]
     },
     "execution_count": 21,
     "metadata": {},
     "output_type": "execute_result"
    }
   ],
   "source": [
    "inverse_laplace(fpal,s,t)"
   ]
  },
  {
   "cell_type": "code",
   "execution_count": 22,
   "metadata": {},
   "outputs": [
    {
     "data": {
      "text/html": [
       "<html><script type=\"math/tex; mode=display\">\\newcommand{\\Bold}[1]{\\mathbf{#1}}\\mathrm{True}</script></html>"
      ],
      "text/plain": [
       "True"
      ]
     },
     "execution_count": 22,
     "metadata": {},
     "output_type": "execute_result"
    }
   ],
   "source": [
    "bool(inverse_laplace(fpal,s,t)==fpfi)"
   ]
  },
  {
   "cell_type": "markdown",
   "metadata": {},
   "source": [
    "## 6.3 2. Ordung Anfangswertproblem "
   ]
  },
  {
   "cell_type": "markdown",
   "metadata": {},
   "source": [
    "$$\n",
    "4y''-4y'+5y=8e^{-t}\\\\\n",
    "y(0)=13\\\\\n",
    "y'(0)-2\n",
    "$$"
   ]
  },
  {
   "cell_type": "code",
   "execution_count": 23,
   "metadata": {
    "collapsed": true
   },
   "outputs": [],
   "source": [
    "x=var('x')\n",
    "t=var('t')\n",
    "y=function('y')(t)"
   ]
  },
  {
   "cell_type": "code",
   "execution_count": 24,
   "metadata": {},
   "outputs": [
    {
     "data": {
      "text/html": [
       "<html><script type=\"math/tex; mode=display\">\\newcommand{\\Bold}[1]{\\mathbf{#1}}-8 \\, e^{\\left(-t\\right)} + 5 \\, y\\left(t\\right) - 4 \\, \\frac{\\partial}{\\partial t}y\\left(t\\right) + 4 \\, \\frac{\\partial^{2}}{(\\partial t)^{2}}y\\left(t\\right)</script></html>"
      ],
      "text/plain": [
       "-8*e^(-t) + 5*y(t) - 4*diff(y(t), t) + 4*diff(y(t), t, t)"
      ]
     },
     "execution_count": 24,
     "metadata": {},
     "output_type": "execute_result"
    }
   ],
   "source": [
    "de = 4*diff(diff(y,t),t) -4*diff(y,t)+5*y-8*e**(-t)\n",
    "de"
   ]
  },
  {
   "cell_type": "code",
   "execution_count": 25,
   "metadata": {},
   "outputs": [
    {
     "data": {
      "text/html": [
       "<html><script type=\"math/tex; mode=display\">\\newcommand{\\Bold}[1]{\\mathbf{#1}}4 \\, s^{2} \\mathcal{L}\\left(y\\left(t\\right), t, s\\right) - 4 \\, s \\mathcal{L}\\left(y\\left(t\\right), t, s\\right) - 4 \\, s y\\left(0\\right) - \\frac{8}{s + 1} + 5 \\, \\mathcal{L}\\left(y\\left(t\\right), t, s\\right) + 4 \\, y\\left(0\\right) - 4 \\, \\mathrm{D}_{0}\\left(y\\right)\\left(0\\right)</script></html>"
      ],
      "text/plain": [
       "4*s^2*laplace(y(t), t, s) - 4*s*laplace(y(t), t, s) - 4*s*y(0) - 8/(s + 1) + 5*laplace(y(t), t, s) + 4*y(0) - 4*D[0](y)(0)"
      ]
     },
     "execution_count": 25,
     "metadata": {},
     "output_type": "execute_result"
    }
   ],
   "source": [
    "dl=laplace(de,t,s);\n",
    "pdl=dl;\n",
    "pdl"
   ]
  },
  {
   "cell_type": "markdown",
   "metadata": {},
   "source": [
    "Wir kennen dass\n",
    "$$\n",
    "y(0)=13\\\\\n",
    "y'(0)-2\n",
    "$$"
   ]
  },
  {
   "cell_type": "code",
   "execution_count": 26,
   "metadata": {},
   "outputs": [
    {
     "name": "stderr",
     "output_type": "stream",
     "text": [
      "/usr/lib/python2.7/site-packages/IPython/core/interactiveshell.py:2882: DeprecationWarning: Substitution using function-call syntax and unnamed arguments is deprecated and will be removed from a future release of Sage; you can use named arguments instead, like EXPR(x=..., y=...)\n",
      "See http://trac.sagemath.org/5930 for details.\n",
      "  exec(code_obj, self.user_global_ns, self.user_ns)\n"
     ]
    },
    {
     "data": {
      "text/html": [
       "<html><script type=\"math/tex; mode=display\">\\newcommand{\\Bold}[1]{\\mathbf{#1}}4 \\, s^{2} \\mathcal{L}\\left(y\\left(t\\right), t, s\\right) - 4 \\, s \\mathcal{L}\\left(y\\left(t\\right), t, s\\right) - 52 \\, s - \\frac{8}{s + 1} + 5 \\, \\mathcal{L}\\left(y\\left(t\\right), t, s\\right) - 4 \\, \\mathrm{D}_{0}\\left(y\\right)\\left(0\\right) + 52</script></html>"
      ],
      "text/plain": [
       "4*s^2*laplace(y(t), t, s) - 4*s*laplace(y(t), t, s) - 52*s - 8/(s + 1) + 5*laplace(y(t), t, s) - 4*D[0](y)(0) + 52"
      ]
     },
     "execution_count": 26,
     "metadata": {},
     "output_type": "execute_result"
    }
   ],
   "source": [
    "pdl=pdl.substitute(y(0)==13);\n",
    "pdl\n",
    "#print(pdl)"
   ]
  },
  {
   "cell_type": "code",
   "execution_count": 27,
   "metadata": {},
   "outputs": [
    {
     "data": {
      "text/html": [
       "<html><script type=\"math/tex; mode=display\">\\newcommand{\\Bold}[1]{\\mathbf{#1}}4 \\, s^{2} \\mathcal{L}\\left(y\\left(t\\right), t, s\\right) - 4 \\, s \\mathcal{L}\\left(y\\left(t\\right), t, s\\right) - 52 \\, s - \\frac{8}{s + 1} + 5 \\, \\mathcal{L}\\left(y\\left(t\\right), t, s\\right) + 60</script></html>"
      ],
      "text/plain": [
       "4*s^2*laplace(y(t), t, s) - 4*s*laplace(y(t), t, s) - 52*s - 8/(s + 1) + 5*laplace(y(t), t, s) + 60"
      ]
     },
     "execution_count": 27,
     "metadata": {},
     "output_type": "execute_result"
    }
   ],
   "source": [
    "pdl=4*s^2*laplace(y(t), t, s) - 4*s*laplace(y(t), t, s) - 52*s - 8/(s + 1) + 5*laplace(y(t), t, s) - 4*(-2) + 52 \n",
    "pdl"
   ]
  },
  {
   "cell_type": "markdown",
   "metadata": {},
   "source": [
    "Lösen mit $\\mathcal{L}(y)$ als Unbekannte:"
   ]
  },
  {
   "cell_type": "code",
   "execution_count": 28,
   "metadata": {},
   "outputs": [
    {
     "data": {
      "text/html": [
       "<html><script type=\"math/tex; mode=display\">\\newcommand{\\Bold}[1]{\\mathbf{#1}}\\mathcal{L}\\left(y\\left(t\\right), t, s\\right) = \\frac{4 \\, {\\left(13 \\, s^{2} - 2 \\, s - 13\\right)}}{4 \\, s^{3} + s + 5}</script></html>"
      ],
      "text/plain": [
       "laplace(y(t), t, s) == 4*(13*s^2 - 2*s - 13)/(4*s^3 + s + 5)"
      ]
     },
     "execution_count": 28,
     "metadata": {},
     "output_type": "execute_result"
    }
   ],
   "source": [
    "sdl=solve(pdl,laplace(y(t),t,s));\n",
    "(sdl[0])"
   ]
  },
  {
   "cell_type": "code",
   "execution_count": 29,
   "metadata": {},
   "outputs": [
    {
     "data": {
      "text/html": [
       "<html><script type=\"math/tex; mode=display\">\\newcommand{\\Bold}[1]{\\mathbf{#1}}\\frac{4 \\, {\\left(161 \\, s - 179\\right)}}{13 \\, {\\left(4 \\, s^{2} - 4 \\, s + 5\\right)}} + \\frac{8}{13 \\, {\\left(s + 1\\right)}}</script></html>"
      ],
      "text/plain": [
       "4/13*(161*s - 179)/(4*s^2 - 4*s + 5) + 8/13/(s + 1)"
      ]
     },
     "execution_count": 29,
     "metadata": {},
     "output_type": "execute_result"
    }
   ],
   "source": [
    "psdl=sdl[0].right().partial_fraction(s)\n",
    "psdl"
   ]
  },
  {
   "cell_type": "code",
   "execution_count": 30,
   "metadata": {},
   "outputs": [
    {
     "data": {
      "text/html": [
       "<html><script type=\"math/tex; mode=display\">\\newcommand{\\Bold}[1]{\\mathbf{#1}}\\left[\\frac{1}{26} \\, {\\left(322 \\, \\cos\\left(t\\right) - 197 \\, \\sin\\left(t\\right)\\right)} e^{\\left(\\frac{1}{2} \\, t\\right)}, \\frac{8}{13} \\, e^{\\left(-t\\right)}\\right]</script></html>"
      ],
      "text/plain": [
       "[1/26*(322*cos(t) - 197*sin(t))*e^(1/2*t), 8/13*e^(-t)]"
      ]
     },
     "execution_count": 30,
     "metadata": {},
     "output_type": "execute_result"
    }
   ],
   "source": [
    "il=[]\n",
    "for o in psdl.operands():\n",
    "    il.append(inverse_laplace(o,s,t))\n",
    "il    \n",
    "#inverse_laplace(sdl[0],s,t)"
   ]
  },
  {
   "cell_type": "code",
   "execution_count": 31,
   "metadata": {
    "scrolled": true
   },
   "outputs": [
    {
     "data": {
      "text/html": [
       "<html><script type=\"math/tex; mode=display\">\\newcommand{\\Bold}[1]{\\mathbf{#1}}\\frac{1}{26} \\, {\\left(322 \\, \\cos\\left(t\\right) - 197 \\, \\sin\\left(t\\right)\\right)} e^{\\left(\\frac{1}{2} \\, t\\right)} + \\frac{8}{13} \\, e^{\\left(-t\\right)}</script></html>"
      ],
      "text/plain": [
       "1/26*(322*cos(t) - 197*sin(t))*e^(1/2*t) + 8/13*e^(-t)"
      ]
     },
     "execution_count": 31,
     "metadata": {},
     "output_type": "execute_result"
    }
   ],
   "source": [
    "ill=0;\n",
    "for i in il:\n",
    "    ill+=i\n",
    "ill"
   ]
  },
  {
   "cell_type": "markdown",
   "metadata": {},
   "source": [
    "Überprüfung:"
   ]
  },
  {
   "cell_type": "code",
   "execution_count": 32,
   "metadata": {
    "scrolled": true
   },
   "outputs": [
    {
     "data": {
      "text/html": [
       "<html><script type=\"math/tex; mode=display\">\\newcommand{\\Bold}[1]{\\mathbf{#1}}{\\left(K_{2} \\cos\\left(t\\right) + K_{1} \\sin\\left(t\\right)\\right)} e^{\\left(\\frac{1}{2} \\, t\\right)} + \\frac{8}{13} \\, e^{\\left(-t\\right)}</script></html>"
      ],
      "text/plain": [
       "(_K2*cos(t) + _K1*sin(t))*e^(1/2*t) + 8/13*e^(-t)"
      ]
     },
     "execution_count": 32,
     "metadata": {},
     "output_type": "execute_result"
    }
   ],
   "source": [
    "desolve(de,[y,t])"
   ]
  },
  {
   "cell_type": "markdown",
   "metadata": {},
   "source": [
    "We substitute our result inside the function manually, with t=0"
   ]
  },
  {
   "cell_type": "code",
   "execution_count": 33,
   "metadata": {},
   "outputs": [
    {
     "data": {
      "text/html": [
       "<html><script type=\"math/tex; mode=display\">\\newcommand{\\Bold}[1]{\\mathbf{#1}}-2</script></html>"
      ],
      "text/plain": [
       "-2"
      ]
     },
     "execution_count": 33,
     "metadata": {},
     "output_type": "execute_result"
    }
   ],
   "source": [
    "diff(ill,t).subs(t==0)"
   ]
  },
  {
   "cell_type": "code",
   "execution_count": 34,
   "metadata": {},
   "outputs": [
    {
     "data": {
      "text/html": [
       "<html><script type=\"math/tex; mode=display\">\\newcommand{\\Bold}[1]{\\mathbf{#1}}13</script></html>"
      ],
      "text/plain": [
       "13"
      ]
     },
     "execution_count": 34,
     "metadata": {},
     "output_type": "execute_result"
    }
   ],
   "source": [
    "ill.subs(t==0)"
   ]
  },
  {
   "cell_type": "code",
   "execution_count": 35,
   "metadata": {},
   "outputs": [
    {
     "data": {
      "text/html": [
       "<html><script type=\"math/tex; mode=display\">\\newcommand{\\Bold}[1]{\\mathbf{#1}}8 \\, e^{\\left(-t\\right)} - 8 \\, e^{t}</script></html>"
      ],
      "text/plain": [
       "8*e^(-t) - 8*e^t"
      ]
     },
     "execution_count": 35,
     "metadata": {},
     "output_type": "execute_result"
    }
   ],
   "source": [
    "u=(4*diff(diff(ill,t),t)-4*diff(ill,t)+5*ill-8*e**t)\n",
    "u"
   ]
  },
  {
   "cell_type": "code",
   "execution_count": 36,
   "metadata": {
    "scrolled": true
   },
   "outputs": [
    {
     "data": {
      "text/html": [
       "<html><script type=\"math/tex; mode=display\">\\newcommand{\\Bold}[1]{\\mathbf{#1}}0</script></html>"
      ],
      "text/plain": [
       "0"
      ]
     },
     "execution_count": 36,
     "metadata": {},
     "output_type": "execute_result"
    }
   ],
   "source": [
    "u.subs(t==0)"
   ]
  }
 ],
 "metadata": {
  "kernelspec": {
   "display_name": "SageMath 8.1",
   "language": "",
   "name": "sagemath"
  },
  "language_info": {
   "codemirror_mode": {
    "name": "ipython",
    "version": 2
   },
   "file_extension": ".py",
   "mimetype": "text/x-python",
   "name": "python",
   "nbconvert_exporter": "python",
   "pygments_lexer": "ipython2",
   "version": "2.7.14"
  }
 },
 "nbformat": 4,
 "nbformat_minor": 2
}
