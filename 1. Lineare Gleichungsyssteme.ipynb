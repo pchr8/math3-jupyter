{
 "cells": [
  {
   "cell_type": "markdown",
   "metadata": {},
   "source": [
    "## Lineargleichungssysteme\n",
    "My main source is: http://docs.sympy.org/latest/modules/solvers/solveset.html#sympy.solvers.solveset.linsolve \n",
    "\n",
    "Kurzskript: http://www.iks.hs-merseburg.de/~eliebsch/lehre/Vlm3infs.pdf\n",
    "\n",
    "Liebscher's Übungen: http://www.iks.hs-merseburg.de/~eliebsch/lehre/Vlm3infa1.pdf"
   ]
  },
  {
   "cell_type": "markdown",
   "metadata": {},
   "source": [
    "We import Sympy and initialize nice Latex printing:"
   ]
  },
  {
   "cell_type": "code",
   "execution_count": 4,
   "metadata": {
    "collapsed": true
   },
   "outputs": [],
   "source": [
    "from sympy import *\n",
    "init_printing()"
   ]
  },
  {
   "cell_type": "markdown",
   "metadata": {},
   "source": [
    "**Übung 1:**\n",
    "We initialize the symbols and declare the two matrices:"
   ]
  },
  {
   "cell_type": "code",
   "execution_count": 12,
   "metadata": {
    "collapsed": true
   },
   "outputs": [],
   "source": [
    "x, y, z = symbols(\"x, y, z\");\n",
    "\n",
    "A = Matrix([[5, -1, -3], [3, -2, 2], [2, 1, -4]]);\n",
    "b = Matrix([10, 15, -3]);"
   ]
  },
  {
   "cell_type": "markdown",
   "metadata": {},
   "source": [
    "We output the two matices:"
   ]
  },
  {
   "cell_type": "code",
   "execution_count": 10,
   "metadata": {},
   "outputs": [
    {
     "data": {
      "image/png": "[encoded data removed]",
      "text/latex": [
       "$$\\left[\\begin{matrix}5 & -1 & -3\\\\3 & -2 & 2\\\\2 & 1 & -4\\end{matrix}\\right]$$"
      ],
      "text/plain": [
       "⎡5  -1  -3⎤\n",
       "⎢         ⎥\n",
       "⎢3  -2  2 ⎥\n",
       "⎢         ⎥\n",
       "⎣2  1   -4⎦"
      ]
     },
     "execution_count": 10,
     "metadata": {},
     "output_type": "execute_result"
    }
   ],
   "source": [
    "A"
   ]
  },
  {
   "cell_type": "markdown",
   "metadata": {},
   "source": [
    "Interestingly, B wird horizontal gezeigt wenn es gibt noch eine set von []s. Auf jeden Falls,"
   ]
  },
  {
   "cell_type": "code",
   "execution_count": 13,
   "metadata": {},
   "outputs": [
    {
     "data": {
      "image/png": "[encoded data removed]",
      "text/latex": [
       "$$\\left[\\begin{matrix}10\\\\15\\\\-3\\end{matrix}\\right]$$"
      ],
      "text/plain": [
       "⎡10⎤\n",
       "⎢  ⎥\n",
       "⎢15⎥\n",
       "⎢  ⎥\n",
       "⎣-3⎦"
      ]
     },
     "execution_count": 13,
     "metadata": {},
     "output_type": "execute_result"
    }
   ],
   "source": [
    "b"
   ]
  },
  {
   "cell_type": "markdown",
   "metadata": {},
   "source": [
    "Die Definizion eines Lineare Gleichungssysteme:\n",
    "$$A\\vec{x}=\\vec{b}$$"
   ]
  },
  {
   "cell_type": "code",
   "execution_count": 14,
   "metadata": {},
   "outputs": [
    {
     "data": {
      "image/png": "[encoded data removed]",
      "text/latex": [
       "$$\\left\\{\\left ( 3, \\quad -1, \\quad 2\\right )\\right\\}$$"
      ],
      "text/plain": [
       "{(3, -1, 2)}"
      ]
     },
     "execution_count": 14,
     "metadata": {},
     "output_type": "execute_result"
    }
   ],
   "source": [
    "linsolve((A,b), [x, y, z])"
   ]
  },
  {
   "cell_type": "markdown",
   "metadata": {},
   "source": [
    "Let's try to check the first Gleichung.\n",
    "$$5x-1y-3z=10$$"
   ]
  },
  {
   "cell_type": "code",
   "execution_count": 15,
   "metadata": {},
   "outputs": [
    {
     "data": {
      "image/png": "[encoded data removed]",
      "text/latex": [
       "$$10$$"
      ],
      "text/plain": [
       "10"
      ]
     },
     "execution_count": 15,
     "metadata": {},
     "output_type": "execute_result"
    }
   ],
   "source": [
    "5*3+1-3*2"
   ]
  },
  {
   "cell_type": "markdown",
   "metadata": {},
   "source": [
    "**TODO:**\n",
    "Das alles in Bezug zum Schaltungen.\n",
    "> Wählen Sie eine Schaltung aus und rechnen dazu die Stromstärken bei angelegter Gleichspannung mit Mathematica aus.\n",
    "\n",
    "For now, let's try the things that Denysenko did."
   ]
  },
  {
   "cell_type": "code",
   "execution_count": 17,
   "metadata": {
    "collapsed": true
   },
   "outputs": [],
   "source": [
    "i1, i2, i3, i4, i5, i6, ii=symbols(\"i1, i2, i3, i4, i5, i6, ii\");"
   ]
  },
  {
   "cell_type": "code",
   "execution_count": 21,
   "metadata": {
    "collapsed": true
   },
   "outputs": [],
   "source": [
    "r1=100; r2=140; r3 = 150; r4 = 80; r5 = 70; u=20;"
   ]
  },
  {
   "cell_type": "code",
   "execution_count": 25,
   "metadata": {},
   "outputs": [],
   "source": [
    "A = Matrix([[1,-1, 0, 0, 0, 0,-1], \n",
    "            [0, 0,-1,-1,-1, 0, 1],\n",
    "            [0, 0,-1,-1,-1, 0, 1],\n",
    "            [0, 0,-1, 0, 0,-1, 1],\n",
    "            [1,-1, 0, 0, 0, 0, -1],\n",
    "            [0, 0, 0,-r3,r4,0,0],\n",
    "            [0, 0,-r2,r3, 0,r5, 0],\n",
    "            [0,-r1,r2,0, 0, 0, 0],\n",
    "            [0, r1, 0, 0, 0, 0, 0]\n",
    "           ]);\n",
    "b = Matrix([0, 0, 0, 0, 0, 0, 0, 0, u]);"
   ]
  },
  {
   "cell_type": "code",
   "execution_count": 69,
   "metadata": {
    "scrolled": true
   },
   "outputs": [
    {
     "data": {
      "image/png": "[encoded data removed]",
      "text/latex": [
       "$$\\left[\\begin{matrix}1 & -1 & 0 & 0 & 0 & 0 & -1\\\\0 & 0 & -1 & -1 & -1 & 0 & 1\\\\0 & 0 & -1 & -1 & -1 & 0 & 1\\\\0 & 0 & -1 & 0 & 0 & -1 & 1\\\\1 & -1 & 0 & 0 & 0 & 0 & -1\\\\0 & 0 & 0 & -150 & 80 & 0 & 0\\\\0 & 0 & -140 & 150 & 0 & 70 & 0\\\\0 & -100 & 140 & 0 & 0 & 0 & 0\\\\0 & 100 & 0 & 0 & 0 & 0 & 0\\end{matrix}\\right]$$"
      ],
      "text/plain": [
       "⎡1   -1    0     0    0   0   -1⎤\n",
       "⎢                               ⎥\n",
       "⎢0   0     -1    -1   -1  0   1 ⎥\n",
       "⎢                               ⎥\n",
       "⎢0   0     -1    -1   -1  0   1 ⎥\n",
       "⎢                               ⎥\n",
       "⎢0   0     -1    0    0   -1  1 ⎥\n",
       "⎢                               ⎥\n",
       "⎢1   -1    0     0    0   0   -1⎥\n",
       "⎢                               ⎥\n",
       "⎢0   0     0    -150  80  0   0 ⎥\n",
       "⎢                               ⎥\n",
       "⎢0   0    -140  150   0   70  0 ⎥\n",
       "⎢                               ⎥\n",
       "⎢0  -100  140    0    0   0   0 ⎥\n",
       "⎢                               ⎥\n",
       "⎣0  100    0     0    0   0   0 ⎦"
      ]
     },
     "execution_count": 69,
     "metadata": {},
     "output_type": "execute_result"
    }
   ],
   "source": [
    "A\n"
   ]
  },
  {
   "cell_type": "code",
   "execution_count": 70,
   "metadata": {},
   "outputs": [
    {
     "data": {
      "image/png": "[encoded data removed]",
      "text/latex": [
       "$$\\left[\\begin{matrix}0\\\\0\\\\0\\\\0\\\\0\\\\0\\\\0\\\\0\\\\20\\end{matrix}\\right]$$"
      ],
      "text/plain": [
       "⎡0 ⎤\n",
       "⎢  ⎥\n",
       "⎢0 ⎥\n",
       "⎢  ⎥\n",
       "⎢0 ⎥\n",
       "⎢  ⎥\n",
       "⎢0 ⎥\n",
       "⎢  ⎥\n",
       "⎢0 ⎥\n",
       "⎢  ⎥\n",
       "⎢0 ⎥\n",
       "⎢  ⎥\n",
       "⎢0 ⎥\n",
       "⎢  ⎥\n",
       "⎢0 ⎥\n",
       "⎢  ⎥\n",
       "⎣20⎦"
      ]
     },
     "execution_count": 70,
     "metadata": {},
     "output_type": "execute_result"
    }
   ],
   "source": [
    "b"
   ]
  },
  {
   "cell_type": "code",
   "execution_count": 51,
   "metadata": {},
   "outputs": [],
   "source": [
    "r = linsolve((A,b), [ii,i1,i2,i3,i4,i5,i6])"
   ]
  },
  {
   "cell_type": "markdown",
   "metadata": {},
   "source": [
    "We transform the set into a Matrix, and then transpose it:"
   ]
  },
  {
   "cell_type": "code",
   "execution_count": 73,
   "metadata": {},
   "outputs": [
    {
     "name": "stdout",
     "output_type": "stream",
     "text": [
      "(4982/9835, 1/5, 1/7, 16/281, 30/281, 46/281, 603/1967)\n",
      "[(4982/9835, 1/5, 1/7, 16/281, 30/281, 46/281, 603/1967)]\n"
     ]
    },
    {
     "data": {
      "image/png": "[encoded data removed]",
      "text/latex": [
       "$$\\left[\\begin{matrix}\\frac{4982}{9835}\\\\\\frac{1}{5}\\\\\\frac{1}{7}\\\\\\frac{16}{281}\\\\\\frac{30}{281}\\\\\\frac{46}{281}\\\\\\frac{603}{1967}\\end{matrix}\\right]$$"
      ],
      "text/plain": [
       "⎡4982⎤\n",
       "⎢────⎥\n",
       "⎢9835⎥\n",
       "⎢    ⎥\n",
       "⎢1/5 ⎥\n",
       "⎢    ⎥\n",
       "⎢1/7 ⎥\n",
       "⎢    ⎥\n",
       "⎢ 16 ⎥\n",
       "⎢─── ⎥\n",
       "⎢281 ⎥\n",
       "⎢    ⎥\n",
       "⎢ 30 ⎥\n",
       "⎢─── ⎥\n",
       "⎢281 ⎥\n",
       "⎢    ⎥\n",
       "⎢ 46 ⎥\n",
       "⎢─── ⎥\n",
       "⎢281 ⎥\n",
       "⎢    ⎥\n",
       "⎢603 ⎥\n",
       "⎢────⎥\n",
       "⎣1967⎦"
      ]
     },
     "execution_count": 73,
     "metadata": {},
     "output_type": "execute_result"
    }
   ],
   "source": [
    "res=[];\n",
    "for i in r:\n",
    "    print(i);\n",
    "    res.append(i);\n",
    "print(res);\n",
    "resu=Matrix(res);\n",
    "resu.T\n",
    "\n"
   ]
  },
  {
   "cell_type": "markdown",
   "metadata": {},
   "source": [
    "Let's check! The following should hold:\n",
    "$$A\\vec{r}=b$$"
   ]
  },
  {
   "cell_type": "code",
   "execution_count": 74,
   "metadata": {},
   "outputs": [
    {
     "data": {
      "image/png": "[encoded data removed]",
      "text/latex": [
       "$$\\left[\\begin{matrix}0\\\\0\\\\0\\\\0\\\\0\\\\0\\\\0\\\\0\\\\20\\end{matrix}\\right]$$"
      ],
      "text/plain": [
       "⎡0 ⎤\n",
       "⎢  ⎥\n",
       "⎢0 ⎥\n",
       "⎢  ⎥\n",
       "⎢0 ⎥\n",
       "⎢  ⎥\n",
       "⎢0 ⎥\n",
       "⎢  ⎥\n",
       "⎢0 ⎥\n",
       "⎢  ⎥\n",
       "⎢0 ⎥\n",
       "⎢  ⎥\n",
       "⎢0 ⎥\n",
       "⎢  ⎥\n",
       "⎢0 ⎥\n",
       "⎢  ⎥\n",
       "⎣20⎦"
      ]
     },
     "execution_count": 74,
     "metadata": {},
     "output_type": "execute_result"
    }
   ],
   "source": [
    "A*resu.T"
   ]
  },
  {
   "cell_type": "code",
   "execution_count": 75,
   "metadata": {},
   "outputs": [
    {
     "data": {
      "text/plain": [
       "True"
      ]
     },
     "execution_count": 75,
     "metadata": {},
     "output_type": "execute_result"
    }
   ],
   "source": [
    "A*resu.T==b"
   ]
  },
  {
   "cell_type": "code",
   "execution_count": null,
   "metadata": {
    "collapsed": true
   },
   "outputs": [],
   "source": []
  }
 ],
 "metadata": {
  "kernelspec": {
   "display_name": "Python 3",
   "language": "python",
   "name": "python3"
  },
  "language_info": {
   "codemirror_mode": {
    "name": "ipython",
    "version": 3
   },
   "file_extension": ".py",
   "mimetype": "text/x-python",
   "name": "python",
   "nbconvert_exporter": "python",
   "pygments_lexer": "ipython3",
   "version": "3.6.4"
  }
 },
 "nbformat": 4,
 "nbformat_minor": 2
}
