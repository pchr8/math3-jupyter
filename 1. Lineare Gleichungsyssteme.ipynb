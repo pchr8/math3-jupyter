{
 "cells": [
  {
   "cell_type": "markdown",
   "metadata": {},
   "source": [
    "# 1. Lineare Gleichungssysteme\n",
    "\n",
    "Sympy: http://docs.sympy.org/latest/modules/solvers/solveset.html#sympy.solvers.solveset.linsolve "
   ]
  },
  {
   "cell_type": "markdown",
   "metadata": {},
   "source": [
    "Die Definition von eines Lineare Gleichungsyssteme ist:\n",
    "$$ A\\vec{x}=\\vec{b} $$\n",
    "$A$ ist der Koeffizientenmatrix, $\\vec{x}$ ist der Vektor der Unbekannte $x_1 ... x_n$, und $\\vec{b}$ ist der Lösungsvektor.\n",
    "$\\vec{x}$ ist gesucht."
   ]
  },
  {
   "cell_type": "code",
   "execution_count": 1,
   "metadata": {
    "collapsed": true
   },
   "outputs": [],
   "source": [
    "from sympy import *\n",
    "init_printing()\n",
    "r,x,y,z=symbols(\"r x y z\")"
   ]
  },
  {
   "cell_type": "markdown",
   "metadata": {},
   "source": [
    "### 1.1 Lineare Glechungssysteme mit Parameter"
   ]
  },
  {
   "cell_type": "code",
   "execution_count": 2,
   "metadata": {
    "collapsed": true
   },
   "outputs": [],
   "source": [
    "A = Matrix([[5, -1, -3], [3, -2, 2], [2, 1, -4]]);\n",
    "b = Matrix([10, 15, -3]);"
   ]
  },
  {
   "cell_type": "code",
   "execution_count": 3,
   "metadata": {},
   "outputs": [
    {
     "data": {
      "image/png": "[encoded data removed]",
      "text/latex": [
       "$$\\left[\\begin{matrix}5 & -1 & -3\\\\3 & -2 & 2\\\\2 & 1 & -4\\end{matrix}\\right]$$"
      ],
      "text/plain": [
       "⎡5  -1  -3⎤\n",
       "⎢         ⎥\n",
       "⎢3  -2  2 ⎥\n",
       "⎢         ⎥\n",
       "⎣2  1   -4⎦"
      ]
     },
     "execution_count": 3,
     "metadata": {},
     "output_type": "execute_result"
    }
   ],
   "source": [
    "A"
   ]
  },
  {
   "cell_type": "code",
   "execution_count": 4,
   "metadata": {},
   "outputs": [
    {
     "data": {
      "image/png": "[encoded data removed]",
      "text/latex": [
       "$$\\left[\\begin{matrix}10\\\\15\\\\-3\\end{matrix}\\right]$$"
      ],
      "text/plain": [
       "⎡10⎤\n",
       "⎢  ⎥\n",
       "⎢15⎥\n",
       "⎢  ⎥\n",
       "⎣-3⎦"
      ]
     },
     "execution_count": 4,
     "metadata": {},
     "output_type": "execute_result"
    }
   ],
   "source": [
    "b"
   ]
  },
  {
   "cell_type": "code",
   "execution_count": 5,
   "metadata": {},
   "outputs": [
    {
     "data": {
      "image/png": "[encoded data removed]",
      "text/latex": [
       "$$\\left\\{\\left ( 3, \\quad -1, \\quad 2\\right )\\right\\}$$"
      ],
      "text/plain": [
       "{(3, -1, 2)}"
      ]
     },
     "execution_count": 5,
     "metadata": {},
     "output_type": "execute_result"
    }
   ],
   "source": [
    "r = linsolve((A,b))\n",
    "r"
   ]
  },
  {
   "cell_type": "markdown",
   "metadata": {},
   "source": [
    "Überprüfen wir den Gleichung:"
   ]
  },
  {
   "cell_type": "code",
   "execution_count": 6,
   "metadata": {},
   "outputs": [
    {
     "data": {
      "image/png": "[encoded data removed]",
      "text/latex": [
       "$$\\left[\\begin{matrix}10\\\\15\\\\-3\\end{matrix}\\right]$$"
      ],
      "text/plain": [
       "⎡10⎤\n",
       "⎢  ⎥\n",
       "⎢15⎥\n",
       "⎢  ⎥\n",
       "⎣-3⎦"
      ]
     },
     "execution_count": 6,
     "metadata": {},
     "output_type": "execute_result"
    }
   ],
   "source": [
    "rr=Matrix(list(r)[0])\n",
    "A*rr"
   ]
  },
  {
   "cell_type": "code",
   "execution_count": 7,
   "metadata": {},
   "outputs": [
    {
     "data": {
      "text/plain": [
       "True"
      ]
     },
     "execution_count": 7,
     "metadata": {},
     "output_type": "execute_result"
    }
   ],
   "source": [
    "A*rr==b"
   ]
  },
  {
   "cell_type": "markdown",
   "metadata": {},
   "source": [
    "### 1.2 Stromstärken berechnung"
   ]
  },
  {
   "cell_type": "markdown",
   "metadata": {},
   "source": [
    "Kirchhoffische Regeln:\n",
    "\n",
    "#### I. Knotenregel\n",
    "> In einem Knotenpunkt eines elektrischen Netzwerkes ist die Summe der zufließenden Ströme gleich der Summe der abfließenden Ströme. \n",
    "$$\\sum^n_{k=1}I_k=0$$\n",
    "\n",
    "#### II. Der Maschenregel\n",
    "> Maschenregel: In jedem geschlossenem Stromkreis ist die Summe der Quellenspannungen gleich der Summe aller Spannungsabfälle oder die Summe aller Spannungen ist Null.\n",
    "$$\\sum^n_{k=1}U_k=0$$"
   ]
  },
  {
   "cell_type": "markdown",
   "metadata": {},
   "source": [
    "<img src=\"ss.png\" width=\"400\" alt=\"Quellв\">\n",
    "<small>(Quelle: http://electroandi.ru)</small>\n",
    "\n",
    "**Gegeben**:\n",
    "$$\n",
    "R_1=130\\Omega; \n",
    "R_2=100\\Omega;\n",
    "R_3=150\\Omega;\n",
    "R_4=200\\Omega;\n",
    "R_5=80\\Omega; \\\\\n",
    "E_1=30V;\n",
    "E_2=60V;\n",
    "E_3=80V;\\\\\n",
    "E_4=100V;\n",
    "$$\n",
    "**Gesucht**:\n",
    "$$\n",
    "I_1,I_2,I_3,I_4,I_5;\n",
    "$$\n",
    "\n"
   ]
  },
  {
   "cell_type": "markdown",
   "metadata": {},
   "source": [
    "#### 1. Knoten\n",
    "Drei Knoten insgesamt, deshalb $n-1=2$ Gleichungen; Abfließende Ströme als negativ, zufließende als positiv.\n",
    "\n",
    "$ I_3-I_1-I_4=0;$\n",
    "\n",
    "$ I_5+I_1-I_2=0;$\n",
    "\n",
    "#### 2. Maschen\n",
    "\n",
    "I. $ R_1I_1+R_3I_3-R_5I_5=E_1+E_2;$\n",
    "\n",
    "II. $ R_2I_2+R_5I_5=E_2$\n",
    "\n",
    "III. $ R_3I_3+R_4I_4=E_3+E_4;$"
   ]
  },
  {
   "cell_type": "code",
   "execution_count": 8,
   "metadata": {},
   "outputs": [],
   "source": [
    "i1, i2, i3, i4, i5=symbols(\"i1, i2, i3, i4, i5\");\n",
    "\n",
    "r1=130; r2=100; r3 = 150; r4 = 200; r5 = 80;\n",
    "e1=30; e2=60; e3=80;  e4=100;\n",
    "\n",
    "#i5=0.206"
   ]
  },
  {
   "cell_type": "code",
   "execution_count": 9,
   "metadata": {},
   "outputs": [],
   "source": [
    "A = Matrix([[-1,0,1,-1,0], \n",
    "            [1,-1,0,0,1],\n",
    "            [r1,0,r3,0,-r5],\n",
    "            [0,r2,0,0,r5],\n",
    "            [0,0,r3,r4,0]\n",
    "           ]);\n",
    "b = Matrix([0,0,e1+e3,e2,e3+e4]);"
   ]
  },
  {
   "cell_type": "code",
   "execution_count": 10,
   "metadata": {},
   "outputs": [
    {
     "data": {
      "image/png": "[encoded data removed]",
      "text/latex": [
       "$$\\left[\\begin{matrix}-1 & 0 & 1 & -1 & 0\\\\1 & -1 & 0 & 0 & 1\\\\130 & 0 & 150 & 0 & -80\\\\0 & 100 & 0 & 0 & 80\\\\0 & 0 & 150 & 200 & 0\\end{matrix}\\right]$$"
      ],
      "text/plain": [
       "⎡-1    0    1   -1    0 ⎤\n",
       "⎢                       ⎥\n",
       "⎢ 1   -1    0    0    1 ⎥\n",
       "⎢                       ⎥\n",
       "⎢130   0   150   0   -80⎥\n",
       "⎢                       ⎥\n",
       "⎢ 0   100   0    0   80 ⎥\n",
       "⎢                       ⎥\n",
       "⎣ 0    0   150  200   0 ⎦"
      ]
     },
     "execution_count": 10,
     "metadata": {},
     "output_type": "execute_result"
    }
   ],
   "source": [
    "A"
   ]
  },
  {
   "cell_type": "code",
   "execution_count": 11,
   "metadata": {},
   "outputs": [
    {
     "data": {
      "image/png": "[encoded data removed]",
      "text/latex": [
       "$$\\left[\\begin{matrix}0\\\\0\\\\110\\\\60\\\\180\\end{matrix}\\right]$$"
      ],
      "text/plain": [
       "⎡ 0 ⎤\n",
       "⎢   ⎥\n",
       "⎢ 0 ⎥\n",
       "⎢   ⎥\n",
       "⎢110⎥\n",
       "⎢   ⎥\n",
       "⎢60 ⎥\n",
       "⎢   ⎥\n",
       "⎣180⎦"
      ]
     },
     "execution_count": 11,
     "metadata": {},
     "output_type": "execute_result"
    }
   ],
   "source": [
    "b"
   ]
  },
  {
   "cell_type": "code",
   "execution_count": 12,
   "metadata": {},
   "outputs": [
    {
     "data": {
      "image/png": "[encoded data removed]",
      "text/latex": [
       "$$\\left\\{\\left ( \\frac{375}{1639}, \\quad \\frac{713}{1639}, \\quad \\frac{5286}{8195}, \\quad \\frac{3411}{8195}, \\quad \\frac{338}{1639}\\right )\\right\\}$$"
      ],
      "text/plain": [
       "⎧⎛375   713   5286  3411  338 ⎞⎫\n",
       "⎨⎜────, ────, ────, ────, ────⎟⎬\n",
       "⎩⎝1639  1639  8195  8195  1639⎠⎭"
      ]
     },
     "execution_count": 12,
     "metadata": {},
     "output_type": "execute_result"
    }
   ],
   "source": [
    "res=linsolve((A,b),i1,i2,i3,i4,e4)\n",
    "res\n"
   ]
  },
  {
   "cell_type": "markdown",
   "metadata": {},
   "source": [
    "Überprüfung:"
   ]
  },
  {
   "cell_type": "code",
   "execution_count": 13,
   "metadata": {},
   "outputs": [
    {
     "data": {
      "text/plain": [
       "True"
      ]
     },
     "execution_count": 13,
     "metadata": {},
     "output_type": "execute_result"
    }
   ],
   "source": [
    "A*Matrix(list(res)[0])==b"
   ]
  }
 ],
 "metadata": {
  "kernelspec": {
   "display_name": "Python 3",
   "language": "python",
   "name": "python3"
  },
  "language_info": {
   "codemirror_mode": {
    "name": "ipython",
    "version": 3
   },
   "file_extension": ".py",
   "mimetype": "text/x-python",
   "name": "python",
   "nbconvert_exporter": "python",
   "pygments_lexer": "ipython3",
   "version": "3.6.4"
  }
 },
 "nbformat": 4,
 "nbformat_minor": 2
}
